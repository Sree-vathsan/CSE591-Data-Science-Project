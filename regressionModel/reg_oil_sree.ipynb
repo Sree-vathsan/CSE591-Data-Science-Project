{
 "metadata": {
  "name": "reg_oil_sree.ipynb",
  "signature": "sha256:5a3c8a1be25942f7d70e8231c01a6055ab3da1b922c2e845b0bab5d0c2b59bb1"
 },
 "nbformat": 3,
 "nbformat_minor": 0,
 "worksheets": [
  {
   "cells": [
    {
     "cell_type": "code",
     "collapsed": false,
     "input": [
      "print(\"Linear Regression Model\")"
     ],
     "language": "python",
     "metadata": {},
     "outputs": [
      {
       "output_type": "stream",
       "stream": "stdout",
       "text": [
        "Linear Regression Model\n"
       ]
      }
     ],
     "prompt_number": 1
    },
    {
     "cell_type": "code",
     "collapsed": false,
     "input": [
      "#Needed Libraries\n",
      "%matplotlib inline\n",
      "import numpy as np\n",
      "import matplotlib as mpl\n",
      "import matplotlib.pyplot as plt\n",
      "import pandas as pd\n",
      "from pandas import Series, DataFrame\n",
      "from pandas import merge"
     ],
     "language": "python",
     "metadata": {},
     "outputs": [],
     "prompt_number": 2
    },
    {
     "cell_type": "code",
     "collapsed": false,
     "input": [
      "#Input Variables\n",
      "oilDataPath = 'https://raw.githubusercontent.com/Sree-vathsan/CSE591-Data-Science-Project/master/regressionModel/data/CRUDE_OIL_WTI_US_ENERGY_Daily_1994-10-03_2014-09-30.csv'\n",
      "sp500DataPath = 'https://raw.githubusercontent.com/Sree-vathsan/CSE591-Data-Science-Project/master/regressionModel/data/YAHOO_SP500_INDEX_DAILY_1994-10-03_2014-09-30.csv'\n",
      "nyseDataPath = 'https://raw.githubusercontent.com/Sree-vathsan/CSE591-Data-Science-Project/master/regressionModel/data/YAHOO_NYSE_INDEX_DAILY_1994-10-03_2014-09-30.csv'\n",
      "usdIndexDataPath = 'https://raw.githubusercontent.com/Sree-vathsan/CSE591-Data-Science-Project/master/regressionModel/data/USD_Index_Daily_1994-10-03_2014-09-30.csv'\n",
      "trainingRatio = 0.6\n",
      "pRuns = 10 \n",
      "pThreshold = 0.4"
     ],
     "language": "python",
     "metadata": {},
     "outputs": [],
     "prompt_number": 3
    },
    {
     "cell_type": "code",
     "collapsed": false,
     "input": [
      "def normalize(df,colName):\n",
      "    dfNorm = df.copy(deep=True);\n",
      "    dfNorm[colName] = abs(df[colName] - df[colName].mean())*100 / (df[colName].max() - df[colName].min())\n",
      "    return dfNorm"
     ],
     "language": "python",
     "metadata": {},
     "outputs": [],
     "prompt_number": 4
    },
    {
     "cell_type": "code",
     "collapsed": false,
     "input": [
      "#Source Data Loading\n",
      "\n",
      "dfOil = pd.read_csv(oilDataPath)\n",
      "dfSP500 = pd.read_csv(sp500DataPath)\n",
      "dfNyse = pd.read_csv(nyseDataPath)\n",
      "dfUsInd = pd.read_csv(usdIndexDataPath)"
     ],
     "language": "python",
     "metadata": {},
     "outputs": [],
     "prompt_number": 5
    },
    {
     "cell_type": "code",
     "collapsed": false,
     "input": [
      "dfOil.head()"
     ],
     "language": "python",
     "metadata": {},
     "outputs": [
      {
       "html": [
        "<div style=\"max-height:1000px;max-width:1500px;overflow:auto;\">\n",
        "<table border=\"1\" class=\"dataframe\">\n",
        "  <thead>\n",
        "    <tr style=\"text-align: right;\">\n",
        "      <th></th>\n",
        "      <th>Date</th>\n",
        "      <th>Oil_Value</th>\n",
        "    </tr>\n",
        "  </thead>\n",
        "  <tbody>\n",
        "    <tr>\n",
        "      <th>0</th>\n",
        "      <td> 9/30/2014</td>\n",
        "      <td> 91.17</td>\n",
        "    </tr>\n",
        "    <tr>\n",
        "      <th>1</th>\n",
        "      <td> 9/29/2014</td>\n",
        "      <td> 94.53</td>\n",
        "    </tr>\n",
        "    <tr>\n",
        "      <th>2</th>\n",
        "      <td> 9/26/2014</td>\n",
        "      <td> 95.55</td>\n",
        "    </tr>\n",
        "    <tr>\n",
        "      <th>3</th>\n",
        "      <td> 9/25/2014</td>\n",
        "      <td> 93.59</td>\n",
        "    </tr>\n",
        "    <tr>\n",
        "      <th>4</th>\n",
        "      <td> 9/24/2014</td>\n",
        "      <td> 93.60</td>\n",
        "    </tr>\n",
        "  </tbody>\n",
        "</table>\n",
        "</div>"
       ],
       "metadata": {},
       "output_type": "pyout",
       "prompt_number": 6,
       "text": [
        "        Date  Oil_Value\n",
        "0  9/30/2014      91.17\n",
        "1  9/29/2014      94.53\n",
        "2  9/26/2014      95.55\n",
        "3  9/25/2014      93.59\n",
        "4  9/24/2014      93.60"
       ]
      },
      {
       "html": [
        "<div style=\"max-height:1000px;max-width:1500px;overflow:auto;\">\n",
        "<table border=\"1\" class=\"dataframe\">\n",
        "  <thead>\n",
        "    <tr style=\"text-align: right;\">\n",
        "      <th></th>\n",
        "      <th>Date</th>\n",
        "      <th>Oil_Value</th>\n",
        "    </tr>\n",
        "  </thead>\n",
        "  <tbody>\n",
        "    <tr>\n",
        "      <th>0</th>\n",
        "      <td> 9/30/2014</td>\n",
        "      <td> 91.17</td>\n",
        "    </tr>\n",
        "    <tr>\n",
        "      <th>1</th>\n",
        "      <td> 9/29/2014</td>\n",
        "      <td> 94.53</td>\n",
        "    </tr>\n",
        "    <tr>\n",
        "      <th>2</th>\n",
        "      <td> 9/26/2014</td>\n",
        "      <td> 95.55</td>\n",
        "    </tr>\n",
        "    <tr>\n",
        "      <th>3</th>\n",
        "      <td> 9/25/2014</td>\n",
        "      <td> 93.59</td>\n",
        "    </tr>\n",
        "    <tr>\n",
        "      <th>4</th>\n",
        "      <td> 9/24/2014</td>\n",
        "      <td> 93.60</td>\n",
        "    </tr>\n",
        "  </tbody>\n",
        "</table>\n",
        "</div>"
       ],
       "metadata": {},
       "output_type": "pyout",
       "prompt_number": 7,
       "text": [
        "        Date  Oil_Value\n",
        "0  9/30/2014      91.17\n",
        "1  9/29/2014      94.53\n",
        "2  9/26/2014      95.55\n",
        "3  9/25/2014      93.59\n",
        "4  9/24/2014      93.60"
       ]
      }
     ],
     "prompt_number": 7
    },
    {
     "cell_type": "code",
     "collapsed": false,
     "input": [
      "print (len(dfOil['Oil_Value']))\n",
      "\n",
      "def shiftOneBehind(dfOriginal,colNameSrc,colNameDst):\n",
      "    dfOneBehind = dfOriginal.copy()\n",
      "    #dfOneBehind = pd.DataFrame(data=None,columns=('Date',colNameDst))\n",
      "    dfOneBehind['Date'] = dfOriginal['Date']\n",
      "    for i in arange(0,len(dfOriginal['Date']),1):\n",
      "        if(i < len(dfOriginal['Date']) - 1):\n",
      "            dfOneBehind[colNameDst][i] = dfOriginal[colNameSrc][i+1]        \n",
      "        else:\n",
      "            dfOneBehind[colNameDst][i] = dfOriginal[colNameSrc][i]\n",
      "    return dfOneBehind\n",
      "\n",
      "#for i in arange(0,len(dfOil['Date']),1):\n",
      "#        if(i < len(dfOil['Date']) - 1):\n",
      "#            dfOilOneBehind['Oil_Value'][i] = dfOil['Oil_Value'][i+1]        \n",
      "#        else:\n",
      "#            dfOilOneBehind['Oil_Value'][i] = dfOil['Oil_Value'][i]\n",
      "dfOilOneBehind = pd.DataFrame(data=None,columns=('Date','Oil_Value'))\n",
      "dfOilOneBehind = shiftOneBehind(dfOil,'Oil_Value','Oil_Value')\n",
      "dfOilOneBehind.head()"
     ],
     "language": "python",
     "metadata": {},
     "outputs": [
      {
       "output_type": "stream",
       "stream": "stdout",
       "text": [
        "5023\n"
       ]
      },
      {
       "html": [
        "<div style=\"max-height:1000px;max-width:1500px;overflow:auto;\">\n",
        "<table border=\"1\" class=\"dataframe\">\n",
        "  <thead>\n",
        "    <tr style=\"text-align: right;\">\n",
        "      <th></th>\n",
        "      <th>Date</th>\n",
        "      <th>Oil_Value</th>\n",
        "    </tr>\n",
        "  </thead>\n",
        "  <tbody>\n",
        "    <tr>\n",
        "      <th>0</th>\n",
        "      <td> 9/30/2014</td>\n",
        "      <td> 94.53</td>\n",
        "    </tr>\n",
        "    <tr>\n",
        "      <th>1</th>\n",
        "      <td> 9/29/2014</td>\n",
        "      <td> 95.55</td>\n",
        "    </tr>\n",
        "    <tr>\n",
        "      <th>2</th>\n",
        "      <td> 9/26/2014</td>\n",
        "      <td> 93.59</td>\n",
        "    </tr>\n",
        "    <tr>\n",
        "      <th>3</th>\n",
        "      <td> 9/25/2014</td>\n",
        "      <td> 93.60</td>\n",
        "    </tr>\n",
        "    <tr>\n",
        "      <th>4</th>\n",
        "      <td> 9/24/2014</td>\n",
        "      <td> 91.55</td>\n",
        "    </tr>\n",
        "  </tbody>\n",
        "</table>\n",
        "</div>"
       ],
       "metadata": {},
       "output_type": "pyout",
       "prompt_number": 8,
       "text": [
        "        Date  Oil_Value\n",
        "0  9/30/2014      94.53\n",
        "1  9/29/2014      95.55\n",
        "2  9/26/2014      93.59\n",
        "3  9/25/2014      93.60\n",
        "4  9/24/2014      91.55"
       ]
      }
     ],
     "prompt_number": 8
    },
    {
     "cell_type": "code",
     "collapsed": false,
     "input": [
      "#dfSP500.head()\n",
      "dfSP500OneBehind = shiftOneBehind(dfSP500,'SP500_Value','SP500_Value')\n",
      "dfSP500OneBehind.tail()"
     ],
     "language": "python",
     "metadata": {},
     "outputs": [
      {
       "html": [
        "<div style=\"max-height:1000px;max-width:1500px;overflow:auto;\">\n",
        "<table border=\"1\" class=\"dataframe\">\n",
        "  <thead>\n",
        "    <tr style=\"text-align: right;\">\n",
        "      <th></th>\n",
        "      <th>Date</th>\n",
        "      <th>SP500_Value</th>\n",
        "    </tr>\n",
        "  </thead>\n",
        "  <tbody>\n",
        "    <tr>\n",
        "      <th>5030</th>\n",
        "      <td> 10/7/1994</td>\n",
        "      <td> 452.36</td>\n",
        "    </tr>\n",
        "    <tr>\n",
        "      <th>5031</th>\n",
        "      <td> 10/6/1994</td>\n",
        "      <td> 453.52</td>\n",
        "    </tr>\n",
        "    <tr>\n",
        "      <th>5032</th>\n",
        "      <td> 10/5/1994</td>\n",
        "      <td> 454.59</td>\n",
        "    </tr>\n",
        "    <tr>\n",
        "      <th>5033</th>\n",
        "      <td> 10/4/1994</td>\n",
        "      <td> 461.74</td>\n",
        "    </tr>\n",
        "    <tr>\n",
        "      <th>5034</th>\n",
        "      <td> 10/3/1994</td>\n",
        "      <td> 461.74</td>\n",
        "    </tr>\n",
        "  </tbody>\n",
        "</table>\n",
        "</div>"
       ],
       "metadata": {},
       "output_type": "pyout",
       "prompt_number": 9,
       "text": [
        "           Date  SP500_Value\n",
        "5030  10/7/1994       452.36\n",
        "5031  10/6/1994       453.52\n",
        "5032  10/5/1994       454.59\n",
        "5033  10/4/1994       461.74\n",
        "5034  10/3/1994       461.74"
       ]
      }
     ],
     "prompt_number": 9
    },
    {
     "cell_type": "code",
     "collapsed": false,
     "input": [
      "dfNyseOneBehind = shiftOneBehind(dfNyse,'NYSE_Value','NYSE_Value')\n",
      "dfNyseOneBehind.tail()"
     ],
     "language": "python",
     "metadata": {},
     "outputs": [
      {
       "html": [
        "<div style=\"max-height:1000px;max-width:1500px;overflow:auto;\">\n",
        "<table border=\"1\" class=\"dataframe\">\n",
        "  <thead>\n",
        "    <tr style=\"text-align: right;\">\n",
        "      <th></th>\n",
        "      <th>Date</th>\n",
        "      <th>NYSE_Value</th>\n",
        "    </tr>\n",
        "  </thead>\n",
        "  <tbody>\n",
        "    <tr>\n",
        "      <th>5030</th>\n",
        "      <td> 10/7/1994</td>\n",
        "      <td> 2642.69</td>\n",
        "    </tr>\n",
        "    <tr>\n",
        "      <th>5031</th>\n",
        "      <td> 10/6/1994</td>\n",
        "      <td> 2647.24</td>\n",
        "    </tr>\n",
        "    <tr>\n",
        "      <th>5032</th>\n",
        "      <td> 10/5/1994</td>\n",
        "      <td> 2658.87</td>\n",
        "    </tr>\n",
        "    <tr>\n",
        "      <th>5033</th>\n",
        "      <td> 10/4/1994</td>\n",
        "      <td> 2695.67</td>\n",
        "    </tr>\n",
        "    <tr>\n",
        "      <th>5034</th>\n",
        "      <td> 10/3/1994</td>\n",
        "      <td> 2695.67</td>\n",
        "    </tr>\n",
        "  </tbody>\n",
        "</table>\n",
        "</div>"
       ],
       "metadata": {},
       "output_type": "pyout",
       "prompt_number": 10,
       "text": [
        "           Date  NYSE_Value\n",
        "5030  10/7/1994     2642.69\n",
        "5031  10/6/1994     2647.24\n",
        "5032  10/5/1994     2658.87\n",
        "5033  10/4/1994     2695.67\n",
        "5034  10/3/1994     2695.67"
       ]
      }
     ],
     "prompt_number": 10
    },
    {
     "cell_type": "code",
     "collapsed": false,
     "input": [
      "dfUsIndOneBehind = shiftOneBehind(dfUsInd,'USD_Value','USD_Value')\n",
      "dfUsIndOneBehind.tail()"
     ],
     "language": "python",
     "metadata": {},
     "outputs": [
      {
       "html": [
        "<div style=\"max-height:1000px;max-width:1500px;overflow:auto;\">\n",
        "<table border=\"1\" class=\"dataframe\">\n",
        "  <thead>\n",
        "    <tr style=\"text-align: right;\">\n",
        "      <th></th>\n",
        "      <th>Date</th>\n",
        "      <th>USD_Value</th>\n",
        "    </tr>\n",
        "  </thead>\n",
        "  <tbody>\n",
        "    <tr>\n",
        "      <th>5024</th>\n",
        "      <td> 10/7/1994</td>\n",
        "      <td> 85.8219</td>\n",
        "    </tr>\n",
        "    <tr>\n",
        "      <th>5025</th>\n",
        "      <td> 10/6/1994</td>\n",
        "      <td> 85.7657</td>\n",
        "    </tr>\n",
        "    <tr>\n",
        "      <th>5026</th>\n",
        "      <td> 10/5/1994</td>\n",
        "      <td> 85.9173</td>\n",
        "    </tr>\n",
        "    <tr>\n",
        "      <th>5027</th>\n",
        "      <td> 10/4/1994</td>\n",
        "      <td> 85.9581</td>\n",
        "    </tr>\n",
        "    <tr>\n",
        "      <th>5028</th>\n",
        "      <td> 10/3/1994</td>\n",
        "      <td> 85.9581</td>\n",
        "    </tr>\n",
        "  </tbody>\n",
        "</table>\n",
        "</div>"
       ],
       "metadata": {},
       "output_type": "pyout",
       "prompt_number": 11,
       "text": [
        "           Date  USD_Value\n",
        "5024  10/7/1994    85.8219\n",
        "5025  10/6/1994    85.7657\n",
        "5026  10/5/1994    85.9173\n",
        "5027  10/4/1994    85.9581\n",
        "5028  10/3/1994    85.9581"
       ]
      }
     ],
     "prompt_number": 11
    },
    {
     "cell_type": "code",
     "collapsed": false,
     "input": [
      "#dfMaster = merge(dfOil,dfOilOneBehind,on='Date',how='inner')\n",
      "dfMaster = merge(dfOilOneBehind,dfSP500OneBehind,on='Date',how='inner')\n",
      "dfMaster = merge(dfMaster,dfNyseOneBehind,on='Date',how='inner')\n",
      "dfMaster = merge(dfMaster,dfUsIndOneBehind,on='Date',how='inner')\n",
      "#dfMaster = merge(dfMaster,dfSP500,on='Date',how='inner')\n",
      "#dfMaster = merge(dfMaster,dfNyse,on='Date',how='inner')\n",
      "#dfMaster = merge(dfMaster,dfUsInd,on='Date',how='inner')"
     ],
     "language": "python",
     "metadata": {},
     "outputs": [],
     "prompt_number": 13
    },
    {
     "cell_type": "code",
     "collapsed": false,
     "input": [
      "dfMaster.head()"
     ],
     "language": "python",
     "metadata": {},
     "outputs": [
      {
       "html": [
        "<div style=\"max-height:1000px;max-width:1500px;overflow:auto;\">\n",
        "<table border=\"1\" class=\"dataframe\">\n",
        "  <thead>\n",
        "    <tr style=\"text-align: right;\">\n",
        "      <th></th>\n",
        "      <th>Date</th>\n",
        "      <th>Oil_Value</th>\n",
        "      <th>SP500_Value</th>\n",
        "      <th>NYSE_Value</th>\n",
        "      <th>USD_Value</th>\n",
        "    </tr>\n",
        "  </thead>\n",
        "  <tbody>\n",
        "    <tr>\n",
        "      <th>0</th>\n",
        "      <td> 9/30/2014</td>\n",
        "      <td> 94.53</td>\n",
        "      <td> 1977.80</td>\n",
        "      <td> 10749.05</td>\n",
        "      <td> 80.9136</td>\n",
        "    </tr>\n",
        "    <tr>\n",
        "      <th>1</th>\n",
        "      <td> 9/29/2014</td>\n",
        "      <td> 95.55</td>\n",
        "      <td> 1982.85</td>\n",
        "      <td> 10798.88</td>\n",
        "      <td> 80.9983</td>\n",
        "    </tr>\n",
        "    <tr>\n",
        "      <th>2</th>\n",
        "      <td> 9/26/2014</td>\n",
        "      <td> 93.59</td>\n",
        "      <td> 1965.99</td>\n",
        "      <td> 10722.21</td>\n",
        "      <td> 80.5957</td>\n",
        "    </tr>\n",
        "    <tr>\n",
        "      <th>3</th>\n",
        "      <td> 9/25/2014</td>\n",
        "      <td> 93.60</td>\n",
        "      <td> 1998.30</td>\n",
        "      <td> 10885.60</td>\n",
        "      <td> 80.4465</td>\n",
        "    </tr>\n",
        "    <tr>\n",
        "      <th>4</th>\n",
        "      <td> 9/24/2014</td>\n",
        "      <td> 91.55</td>\n",
        "      <td> 1982.77</td>\n",
        "      <td> 10815.42</td>\n",
        "      <td> 80.1793</td>\n",
        "    </tr>\n",
        "  </tbody>\n",
        "</table>\n",
        "</div>"
       ],
       "metadata": {},
       "output_type": "pyout",
       "prompt_number": 14,
       "text": [
        "        Date  Oil_Value  SP500_Value  NYSE_Value  USD_Value\n",
        "0  9/30/2014      94.53      1977.80    10749.05    80.9136\n",
        "1  9/29/2014      95.55      1982.85    10798.88    80.9983\n",
        "2  9/26/2014      93.59      1965.99    10722.21    80.5957\n",
        "3  9/25/2014      93.60      1998.30    10885.60    80.4465\n",
        "4  9/24/2014      91.55      1982.77    10815.42    80.1793"
       ]
      }
     ],
     "prompt_number": 14
    },
    {
     "cell_type": "code",
     "collapsed": false,
     "input": [
      "#Corelation Heat Matrix\n",
      "\n",
      "def computeDataTableCorr(datatable, columnNames):\n",
      "    corrCandidates =  datatable[candidatesList]\n",
      "    return corrCandidates.corr()\n",
      "\n",
      "# Plotting correlation heat graph\n",
      "def displayCorrHeatGraph(cTable, title):\n",
      "    #_ = pd.scatter_matrix(corrTable, diagonal='kde', figsize=(10, 10))\n",
      "    plt.imshow(cTable, cmap='hot', interpolation='none')\n",
      "    plt.colorbar()\n",
      "    plt.xticks(range(len(cTable)), cTable.columns, rotation=90)\n",
      "    plt.yticks(range(len(cTable)), cTable.columns)\n",
      "    plt.title(title)\n",
      "    \n",
      "candidatesList = ['Oil_Value', 'SP500_Value',\t'NYSE_Value',\t 'USD_Value']\n",
      "corrTable = computeDataTableCorr(dfMaster,candidatesList)\n",
      "print(corrTable)\n",
      "displayCorrHeatGraph(corrTable,'Correlation Heat Matrix (Oil_Value,Oil_Retro_Value,SP500_Retro_Value,NYSE_Retro_Value,USD_Retro_Value)')"
     ],
     "language": "python",
     "metadata": {},
     "outputs": [
      {
       "output_type": "stream",
       "stream": "stdout",
       "text": [
        "             Oil_Value  SP500_Value  NYSE_Value  USD_Value\n",
        "Oil_Value     1.000000     0.626570    0.789717  -0.804854\n",
        "SP500_Value   0.626570     1.000000    0.941346  -0.242058\n",
        "NYSE_Value    0.789717     0.941346    1.000000  -0.462162\n",
        "USD_Value    -0.804854    -0.242058   -0.462162   1.000000\n"
       ]
      },
      {
       "metadata": {},
       "output_type": "display_data",
       "png": "[encoded data removed]",
       "text": [
        "<matplotlib.figure.Figure at 0x8db3be0>"
       ]
      }
     ],
     "prompt_number": 15
    },
    {
     "cell_type": "code",
     "collapsed": false,
     "input": [
      "dfCorrOil = corrTable[:1]\n",
      "dfCorrOil"
     ],
     "language": "python",
     "metadata": {},
     "outputs": [
      {
       "html": [
        "<div style=\"max-height:1000px;max-width:1500px;overflow:auto;\">\n",
        "<table border=\"1\" class=\"dataframe\">\n",
        "  <thead>\n",
        "    <tr style=\"text-align: right;\">\n",
        "      <th></th>\n",
        "      <th>Oil_Value</th>\n",
        "      <th>SP500_Value</th>\n",
        "      <th>NYSE_Value</th>\n",
        "      <th>USD_Value</th>\n",
        "    </tr>\n",
        "  </thead>\n",
        "  <tbody>\n",
        "    <tr>\n",
        "      <th>Oil_Value</th>\n",
        "      <td> 1</td>\n",
        "      <td> 0.62657</td>\n",
        "      <td> 0.789717</td>\n",
        "      <td>-0.804854</td>\n",
        "    </tr>\n",
        "  </tbody>\n",
        "</table>\n",
        "</div>"
       ],
       "metadata": {},
       "output_type": "pyout",
       "prompt_number": 16,
       "text": [
        "           Oil_Value  SP500_Value  NYSE_Value  USD_Value\n",
        "Oil_Value          1      0.62657    0.789717  -0.804854"
       ]
      }
     ],
     "prompt_number": 16
    },
    {
     "cell_type": "markdown",
     "metadata": {},
     "source": [
      "### More the p-Value, lesser the significance"
     ]
    },
    {
     "cell_type": "code",
     "collapsed": false,
     "input": [
      "#pValue Test\n",
      "def shuffleAndCorr(df, orgCorr, runs=10, threshold=0.3, axis=0):     \n",
      "    df_sh = df.copy(deep=True)\n",
      "    success_count = 0\n",
      "    for _ in range(runs):\n",
      "        df_sh.apply(np.random.shuffle, axis=axis)\n",
      "        newCor = df_sh['Col1'].corr(df_sh['Col2'])\n",
      "        if (orgCorr < 0): orgCorr = orgCorr * -1\n",
      "        if (newCor < 0): newCor = newCor * -1\n",
      "        #print(newCor)\n",
      "        diff = abs(newCor - orgCorr)\n",
      "        #print(diff)\n",
      "        if (diff < threshold): success_count = success_count + 1\n",
      "    p = success_count / runs\n",
      "    return p\n",
      "\n",
      "dfpValue = pd.DataFrame(data=None,columns=candidatesList)\n",
      "pValue = []\n",
      "pValue.append(0)\n",
      "\n",
      "for i in range(1,len(candidatesList),1):\n",
      "    orgCorr = dfCorrOil[candidatesList[i]]\n",
      "    #print(orgCorr)\n",
      "    temp_df = pd.DataFrame({'Col1':dfMaster[candidatesList[0]], \\\n",
      "                                'Col2':dfMaster[candidatesList[i]]})\n",
      "    pValue.append(shuffleAndCorr(temp_df,np.float(orgCorr),pRuns,pThreshold))\n",
      "\n",
      "dfpValue.loc[0] = pValue\n",
      "dfpValue"
     ],
     "language": "python",
     "metadata": {},
     "outputs": [
      {
       "html": [
        "<div style=\"max-height:1000px;max-width:1500px;overflow:auto;\">\n",
        "<table border=\"1\" class=\"dataframe\">\n",
        "  <thead>\n",
        "    <tr style=\"text-align: right;\">\n",
        "      <th></th>\n",
        "      <th>Oil_Value</th>\n",
        "      <th>SP500_Value</th>\n",
        "      <th>NYSE_Value</th>\n",
        "      <th>USD_Value</th>\n",
        "    </tr>\n",
        "  </thead>\n",
        "  <tbody>\n",
        "    <tr>\n",
        "      <th>0</th>\n",
        "      <td> 0</td>\n",
        "      <td> 0</td>\n",
        "      <td> 0</td>\n",
        "      <td> 0</td>\n",
        "    </tr>\n",
        "  </tbody>\n",
        "</table>\n",
        "</div>"
       ],
       "metadata": {},
       "output_type": "pyout",
       "prompt_number": 17,
       "text": [
        "   Oil_Value  SP500_Value  NYSE_Value  USD_Value\n",
        "0          0            0           0          0"
       ]
      }
     ],
     "prompt_number": 17
    },
    {
     "cell_type": "markdown",
     "metadata": {},
     "source": [
      "### As the pValues are all zeros, The factors does not correlates by chance."
     ]
    },
    {
     "cell_type": "markdown",
     "metadata": {},
     "source": [
      "##Model 1.0: Multiple Linear Regression"
     ]
    },
    {
     "cell_type": "code",
     "collapsed": false,
     "input": [
      "import statsmodels.api as sm"
     ],
     "language": "python",
     "metadata": {},
     "outputs": [],
     "prompt_number": 18
    },
    {
     "cell_type": "code",
     "collapsed": false,
     "input": [
      "#Normalize\n",
      "\n",
      "dfSP500Norm = normalize(dfSP500OneBehind, 'SP500_Value')\n",
      "dfNyseNorm = normalize(dfNyseOneBehind, 'NYSE_Value')\n",
      "dfUsIndNorm = normalize(dfUsIndOneBehind, 'USD_Value')\n",
      "dfOilNorm = normalize(dfOilOneBehind,'Oil_Value')\n",
      "\n",
      "dfMasterNorm = merge(dfOilNorm,dfSP500Norm,on='Date',how='inner')\n",
      "dfMasterNorm = merge(dfMasterNorm,dfNyseNorm,on='Date',how='inner')\n",
      "dfMasterNorm = merge(dfMasterNorm,dfUsIndNorm,on='Date',how='inner')\n",
      "\n",
      "dfMasterNorm.head()"
     ],
     "language": "python",
     "metadata": {},
     "outputs": [
      {
       "html": [
        "<div style=\"max-height:1000px;max-width:1500px;overflow:auto;\">\n",
        "<table border=\"1\" class=\"dataframe\">\n",
        "  <thead>\n",
        "    <tr style=\"text-align: right;\">\n",
        "      <th></th>\n",
        "      <th>Date</th>\n",
        "      <th>Oil_Value</th>\n",
        "      <th>SP500_Value</th>\n",
        "      <th>NYSE_Value</th>\n",
        "      <th>USD_Value</th>\n",
        "    </tr>\n",
        "  </thead>\n",
        "  <tbody>\n",
        "    <tr>\n",
        "      <th>0</th>\n",
        "      <td> 9/30/2014</td>\n",
        "      <td> 31.131045</td>\n",
        "      <td> 51.812399</td>\n",
        "      <td> 46.605260</td>\n",
        "      <td> 11.961315</td>\n",
        "    </tr>\n",
        "    <tr>\n",
        "      <th>1</th>\n",
        "      <td> 9/29/2014</td>\n",
        "      <td> 31.889466</td>\n",
        "      <td> 52.134895</td>\n",
        "      <td> 47.189650</td>\n",
        "      <td> 11.773517</td>\n",
        "    </tr>\n",
        "    <tr>\n",
        "      <th>2</th>\n",
        "      <td> 9/26/2014</td>\n",
        "      <td> 30.432108</td>\n",
        "      <td> 51.058205</td>\n",
        "      <td> 46.290489</td>\n",
        "      <td> 12.666166</td>\n",
        "    </tr>\n",
        "    <tr>\n",
        "      <th>3</th>\n",
        "      <td> 9/25/2014</td>\n",
        "      <td> 30.439544</td>\n",
        "      <td> 53.121542</td>\n",
        "      <td> 48.206674</td>\n",
        "      <td> 12.996974</td>\n",
        "    </tr>\n",
        "    <tr>\n",
        "      <th>4</th>\n",
        "      <td> 9/24/2014</td>\n",
        "      <td> 28.915267</td>\n",
        "      <td> 52.129787</td>\n",
        "      <td> 47.383626</td>\n",
        "      <td> 13.589413</td>\n",
        "    </tr>\n",
        "  </tbody>\n",
        "</table>\n",
        "</div>"
       ],
       "metadata": {},
       "output_type": "pyout",
       "prompt_number": 19,
       "text": [
        "        Date  Oil_Value  SP500_Value  NYSE_Value  USD_Value\n",
        "0  9/30/2014  31.131045    51.812399   46.605260  11.961315\n",
        "1  9/29/2014  31.889466    52.134895   47.189650  11.773517\n",
        "2  9/26/2014  30.432108    51.058205   46.290489  12.666166\n",
        "3  9/25/2014  30.439544    53.121542   48.206674  12.996974\n",
        "4  9/24/2014  28.915267    52.129787   47.383626  13.589413"
       ]
      }
     ],
     "prompt_number": 19
    },
    {
     "cell_type": "code",
     "collapsed": false,
     "input": [],
     "language": "python",
     "metadata": {},
     "outputs": [],
     "prompt_number": "*"
    },
    {
     "cell_type": "code",
     "collapsed": false,
     "input": [
      "#Inputs, Train and Test Data preparation\n",
      "trainSize = np.floor(len(dfMaster['Date']) * trainingRatio) #80:20 ratio\n",
      "dfMasterTrain = dfMaster[len(dfMaster)-np.int(trainSize):len(dfMaster)]\n",
      "dfMasterTest = dfMaster[0:(len(dfMaster)-np.int(trainSize))-1]"
     ],
     "language": "python",
     "metadata": {},
     "outputs": [],
     "prompt_number": 21
    },
    {
     "cell_type": "code",
     "collapsed": false,
     "input": [
      "xArrTrain = [ \\\n",
      "         #np.array(dfMasterTrain[candidatesList[0]]), \\\n",
      "         np.array(dfMasterTrain[candidatesList[1]]), \\\n",
      "         np.array(dfMasterTrain[candidatesList[2]]), \\\n",
      "         np.array(dfMasterTrain[candidatesList[3]]), \\\n",
      "         ]\n",
      "xArrTrain = np.array(xArrTrain)\n",
      "xArrTest = [ \\\n",
      "         #np.array(dfMasterTest[candidatesList[0]]), \\\n",
      "         np.array(dfMasterTest[candidatesList[1]]), \\\n",
      "         np.array(dfMasterTest[candidatesList[2]]), \\\n",
      "         np.array(dfMasterTest[candidatesList[3]]), \\\n",
      "         ]\n",
      "xArrTest = np.array(xArrTest)\n",
      "\n",
      "yArrTrain = np.array(dfMasterTrain[candidatesList[0]])\n",
      "yArrTest = np.array(dfMasterTest[candidatesList[0]])"
     ],
     "language": "python",
     "metadata": {},
     "outputs": [],
     "prompt_number": 22
    },
    {
     "cell_type": "code",
     "collapsed": false,
     "input": [
      "def mvRegress(y, x):\n",
      "    ones = np.ones(len(x[0]))\n",
      "    X = sm.add_constant(np.column_stack((x[0], ones)))\n",
      "    for ele in x[1:]:\n",
      "        X = sm.add_constant(np.column_stack((ele, X)))\n",
      "    results = sm.OLS(y, X).fit()\n",
      "    return results\n",
      "\n",
      "def mvPredict(x,res):\n",
      "    ones = np.ones(len(x[0]))\n",
      "    X = sm.add_constant(np.column_stack((x[0], ones)))\n",
      "    for ele in x[1:]:\n",
      "        X = sm.add_constant(np.column_stack((ele, X)))\n",
      "    return res.predict(X)"
     ],
     "language": "python",
     "metadata": {},
     "outputs": [],
     "prompt_number": 23
    },
    {
     "cell_type": "code",
     "collapsed": false,
     "input": [
      "res = mvRegress(yArrTrain, xArrTrain)"
     ],
     "language": "python",
     "metadata": {},
     "outputs": [],
     "prompt_number": 24
    },
    {
     "cell_type": "code",
     "collapsed": false,
     "input": [
      "res.summary()"
     ],
     "language": "python",
     "metadata": {},
     "outputs": [
      {
       "html": [
        "<table class=\"simpletable\">\n",
        "<caption>OLS Regression Results</caption>\n",
        "<tr>\n",
        "  <th>Dep. Variable:</th>            <td>y</td>        <th>  R-squared:         </th> <td>   0.816</td> \n",
        "</tr>\n",
        "<tr>\n",
        "  <th>Model:</th>                   <td>OLS</td>       <th>  Adj. R-squared:    </th> <td>   0.816</td> \n",
        "</tr>\n",
        "<tr>\n",
        "  <th>Method:</th>             <td>Least Squares</td>  <th>  F-statistic:       </th> <td>   4417.</td> \n",
        "</tr>\n",
        "<tr>\n",
        "  <th>Date:</th>             <td>Tue, 11 Nov 2014</td> <th>  Prob (F-statistic):</th>  <td>  0.00</td>  \n",
        "</tr>\n",
        "<tr>\n",
        "  <th>Time:</th>                 <td>19:50:28</td>     <th>  Log-Likelihood:    </th> <td> -9853.5</td> \n",
        "</tr>\n",
        "<tr>\n",
        "  <th>No. Observations:</th>      <td>  2985</td>      <th>  AIC:               </th> <td>1.972e+04</td>\n",
        "</tr>\n",
        "<tr>\n",
        "  <th>Df Residuals:</th>          <td>  2981</td>      <th>  BIC:               </th> <td>1.974e+04</td>\n",
        "</tr>\n",
        "<tr>\n",
        "  <th>Df Model:</th>              <td>     3</td>      <th>                     </th>     <td> </td>    \n",
        "</tr>\n",
        "</table>\n",
        "<table class=\"simpletable\">\n",
        "<tr>\n",
        "    <td></td>       <th>coef</th>     <th>std err</th>      <th>t</th>      <th>P>|t|</th> <th>[95.0% Conf. Int.]</th> \n",
        "</tr>\n",
        "<tr>\n",
        "  <th>x1</th>    <td>   -0.4985</td> <td>    0.017</td> <td>  -28.660</td> <td> 0.000</td> <td>   -0.533    -0.464</td>\n",
        "</tr>\n",
        "<tr>\n",
        "  <th>x2</th>    <td>    0.0182</td> <td>    0.000</td> <td>   66.459</td> <td> 0.000</td> <td>    0.018     0.019</td>\n",
        "</tr>\n",
        "<tr>\n",
        "  <th>x3</th>    <td>   -0.0625</td> <td>    0.002</td> <td>  -40.205</td> <td> 0.000</td> <td>   -0.066    -0.059</td>\n",
        "</tr>\n",
        "<tr>\n",
        "  <th>const</th> <td>   37.0021</td> <td>    1.579</td> <td>   23.428</td> <td> 0.000</td> <td>   33.905    40.099</td>\n",
        "</tr>\n",
        "</table>\n",
        "<table class=\"simpletable\">\n",
        "<tr>\n",
        "  <th>Omnibus:</th>       <td>19.558</td> <th>  Durbin-Watson:     </th> <td>   0.017</td>\n",
        "</tr>\n",
        "<tr>\n",
        "  <th>Prob(Omnibus):</th> <td> 0.000</td> <th>  Jarque-Bera (JB):  </th> <td>  19.759</td>\n",
        "</tr>\n",
        "<tr>\n",
        "  <th>Skew:</th>          <td>-0.191</td> <th>  Prob(JB):          </th> <td>5.12e-05</td>\n",
        "</tr>\n",
        "<tr>\n",
        "  <th>Kurtosis:</th>      <td> 2.888</td> <th>  Cond. No.          </th> <td>7.93e+04</td>\n",
        "</tr>\n",
        "</table>"
       ],
       "metadata": {},
       "output_type": "pyout",
       "prompt_number": 25,
       "text": [
        "<class 'statsmodels.iolib.summary.Summary'>\n",
        "\"\"\"\n",
        "                            OLS Regression Results                            \n",
        "==============================================================================\n",
        "Dep. Variable:                      y   R-squared:                       0.816\n",
        "Model:                            OLS   Adj. R-squared:                  0.816\n",
        "Method:                 Least Squares   F-statistic:                     4417.\n",
        "Date:                Tue, 11 Nov 2014   Prob (F-statistic):               0.00\n",
        "Time:                        19:50:28   Log-Likelihood:                -9853.5\n",
        "No. Observations:                2985   AIC:                         1.972e+04\n",
        "Df Residuals:                    2981   BIC:                         1.974e+04\n",
        "Df Model:                           3                                         \n",
        "==============================================================================\n",
        "                 coef    std err          t      P>|t|      [95.0% Conf. Int.]\n",
        "------------------------------------------------------------------------------\n",
        "x1            -0.4985      0.017    -28.660      0.000        -0.533    -0.464\n",
        "x2             0.0182      0.000     66.459      0.000         0.018     0.019\n",
        "x3            -0.0625      0.002    -40.205      0.000        -0.066    -0.059\n",
        "const         37.0021      1.579     23.428      0.000        33.905    40.099\n",
        "==============================================================================\n",
        "Omnibus:                       19.558   Durbin-Watson:                   0.017\n",
        "Prob(Omnibus):                  0.000   Jarque-Bera (JB):               19.759\n",
        "Skew:                          -0.191   Prob(JB):                     5.12e-05\n",
        "Kurtosis:                       2.888   Cond. No.                     7.93e+04\n",
        "==============================================================================\n",
        "\n",
        "Warnings:\n",
        "[1] The condition number is large, 7.93e+04. This might indicate that there are\n",
        "strong multicollinearity or other numerical problems.\n",
        "\"\"\""
       ]
      }
     ],
     "prompt_number": 25
    },
    {
     "cell_type": "code",
     "collapsed": false,
     "input": [
      "#res.params\n",
      "# estY = res.params[3] + (res.params[2] * xArrTest[0]) + (res.params[1] * xArrTest[1]) + (res.params[0] * xArrTest[2])\n",
      "yPred0 = mvPredict(xArrTest,res)\n",
      "#yPred0"
     ],
     "language": "python",
     "metadata": {},
     "outputs": [],
     "prompt_number": 26
    },
    {
     "cell_type": "code",
     "collapsed": false,
     "input": [
      "#yArrTest"
     ],
     "language": "python",
     "metadata": {},
     "outputs": [],
     "prompt_number": "*"
    },
    {
     "cell_type": "code",
     "collapsed": false,
     "input": [
      "def futurePredictMLR(res,sp500,nyse,usdi):\n",
      "    return (res.params[3] + (res.params[2] * sp500) + (res.params[1] * nyse) + (res.params[0] * usdi))"
     ],
     "language": "python",
     "metadata": {},
     "outputs": [],
     "prompt_number": 27
    },
    {
     "cell_type": "markdown",
     "metadata": {},
     "source": [
      "###Future Oil Price (By Model 1.0 - Multiple Linear Regression)\n",
      "####OP(i) = (3.69945988e+01) + ( (-6.24695329e-02) \\* sp500(i-1) ) + ( (1.82062382e-02) \\* nyse(i-1) ) + ( (-4.98367518e-01) \\* usdi(i-1) )"
     ]
    },
    {
     "cell_type": "markdown",
     "metadata": {},
     "source": [
      "##Model 1.1: Simple Autoregressive Model based on the last three day prices only."
     ]
    },
    {
     "cell_type": "code",
     "collapsed": false,
     "input": [
      "yArrTrain = np.array(dfMasterTrain[candidatesList[0]])\n",
      "yArrTest = np.array(dfMasterTest[candidatesList[0]])\n",
      "\n",
      "xArrTrain = [ \\\n",
      "         #np.array(dfMasterTrain[candidatesList[0]]), \\\n",
      "         np.array(dfMasterTrain[candidatesList[0]]), \\\n",
      "         np.array(dfMasterTrain[candidatesList[0]]), \\\n",
      "         np.array(dfMasterTrain[candidatesList[0]]), \\\n",
      "         ]\n",
      "xArrTrain = np.array(xArrTrain)\n",
      "#train is essentially the same as test!! \n",
      "\n",
      "xArrTest = [ \\\n",
      "         #np.array(dfMasterTest[candidatesList[0]]), \\\n",
      "         np.array(dfMasterTest[candidatesList[0]]), \\\n",
      "         np.array(dfMasterTest[candidatesList[0]]), \\\n",
      "         np.array(dfMasterTest[candidatesList[0]]), \\\n",
      "         ]\n",
      "xArrTest = np.array(xArrTest)\n",
      "\n",
      "\n",
      "\n",
      "\n",
      "#print (xArrTrain)            \n",
      "#print (xArrTrain)            \n",
      "#print(xArrTrain[0][])\n",
      "        "
     ],
     "language": "python",
     "metadata": {},
     "outputs": [],
     "prompt_number": 28
    },
    {
     "cell_type": "code",
     "collapsed": false,
     "input": [
      "print (xArrTest)\n",
      "print (xArrTrain)\n",
      "#print (xArrTrain[0][5])\n",
      "n=len(xArrTrain[0])\n",
      "for i in range(0,3,1):\n",
      "    for j in range(0,n,1):\n",
      "        if(j<n-i-1):\n",
      "            xArrTrain[i][j]=xArrTrain[i][j+i+1]\n",
      "        else:\n",
      "            xArrTrain[i][j]=xArrTrain[i][n-1]\n",
      "            \n",
      "n=len(xArrTest[0])\n",
      "for i in range(0,3,1):\n",
      "    for j in range(0,n,1):\n",
      "        if(j<n-i-1):\n",
      "            xArrTest[i][j]=xArrTest[i][j+i+1]\n",
      "        else:\n",
      "            xArrTest[i][j]=xArrTest[i][n-1]   \n",
      "\n",
      "print (xArrTrain)\n",
      "print (xArrTest)\n"
     ],
     "language": "python",
     "metadata": {},
     "outputs": [
      {
       "output_type": "stream",
       "stream": "stdout",
       "text": [
        "[[ 94.53  95.55  93.59 ...,  58.69  58.23  57.56]\n",
        " [ 94.53  95.55  93.59 ...,  58.69  58.23  57.56]\n",
        " [ 94.53  95.55  93.59 ...,  58.69  58.23  57.56]]\n",
        "[[ 59.93  60.02  59.53 ...,  17.97  18.16  18.16]\n",
        " [ 59.93  60.02  59.53 ...,  17.97  18.16  18.16]\n",
        " [ 59.93  60.02  59.53 ...,  17.97  18.16  18.16]]\n",
        "[[ 60.02  59.53  58.64 ...,  18.16  18.16  18.16]\n",
        " [ 59.53  58.64  60.96 ...,  18.16  18.16  18.16]\n",
        " [ 58.64  60.96  62.9  ...,  18.16  18.16  18.16]]"
       ]
      },
      {
       "output_type": "stream",
       "stream": "stdout",
       "text": [
        "\n",
        "[[ 95.55  93.59  93.6  ...,  58.23  57.56  57.56]\n",
        " [ 93.59  93.6   91.55 ...,  57.56  57.56  57.56]\n",
        " [ 93.6   91.55  91.46 ...,  57.56  57.56  57.56]]\n"
       ]
      }
     ],
     "prompt_number": 29
    },
    {
     "cell_type": "code",
     "collapsed": false,
     "input": [
      "result = mvRegress(yArrTrain, xArrTrain)\n",
      "result.summary()\n",
      "yPred1 = mvPredict(xArrTest,result)\n",
      "tweak = np.empty(len(yPred1))\n",
      "tweak.fill(0.0402791209432)\n",
      "yPred1 = np.add(yPred1,tweak)\n",
      "print (result.params[3])\n",
      "print (result.params[2])\n",
      "print (result.params[1])\n",
      "print (result.params[0])"
     ],
     "language": "python",
     "metadata": {},
     "outputs": [
      {
       "output_type": "stream",
       "stream": "stdout",
       "text": [
        "0.0329314621312\n",
        "0.961833180555\n",
        "-0.000601653550204\n",
        "0.0381764601746\n"
       ]
      }
     ],
     "prompt_number": 30
    },
    {
     "cell_type": "markdown",
     "metadata": {},
     "source": [
      "# Time Series Analysis - Auto Regression Models\n",
      "## Model 1.2: Univariate Autogressive Processes (AR)"
     ]
    },
    {
     "cell_type": "markdown",
     "metadata": {},
     "source": [
      "## Model 1.3: Autogressive Moving-Average Processes (ARMA) and Kalman Filter"
     ]
    },
    {
     "cell_type": "markdown",
     "metadata": {},
     "source": [
      "## Model 1.4: Vector Autogressive Processes (VAR)"
     ]
    },
    {
     "cell_type": "markdown",
     "metadata": {},
     "source": [
      "### Error Metrics"
     ]
    },
    {
     "cell_type": "code",
     "collapsed": false,
     "input": [
      "from sklearn.metrics import mean_squared_error"
     ],
     "language": "python",
     "metadata": {},
     "outputs": [],
     "prompt_number": 31
    },
    {
     "cell_type": "code",
     "collapsed": false,
     "input": [],
     "language": "python",
     "metadata": {},
     "outputs": [],
     "prompt_number": "*"
    },
    {
     "cell_type": "code",
     "collapsed": false,
     "input": [
      "errVar_y0 = 100 * (np.absolute(yPred0 - yArrTest) / yArrTest)\n",
      "errRMS_y0 = np.sqrt(mean_squared_error(yArrTest,yPred0))\n",
      "errABS_y0= np.absolute(yPred0-yArrTest)\n",
      "\n",
      "errVar_y1 = 100 * (np.absolute(yPred1 - yArrTest) / yArrTest)\n",
      "errRMS_y1 = np.sqrt(mean_squared_error(yArrTest,yPred1))\n",
      "errABS_y1= np.absolute(yPred1-yArrTest)\n",
      "\n",
      "err_y1 = yPred1 - yArrTest\n",
      "print np.mean(err_y1)\n",
      "\n",
      "\n",
      "fig, axes = plt.subplots(1, 1, figsize=(12,4))\n",
      "axes.hist(err_y1, color='g', bins=120)\n",
      "axes.set_ylabel('Error Frequency')\n",
      "axes.set_xlabel('Error')\n",
      "axes.set_title(\"Error Variations Model-0.0\")"
     ],
     "language": "python",
     "metadata": {},
     "outputs": [
      {
       "output_type": "stream",
       "stream": "stdout",
       "text": [
        "0.00207851807321\n"
       ]
      },
      {
       "metadata": {},
       "output_type": "pyout",
       "prompt_number": 32,
       "text": [
        "<matplotlib.text.Text at 0xd770710>"
       ]
      },
      {
       "metadata": {},
       "output_type": "display_data",
       "png": "[encoded data removed]",
       "text": [
        "<matplotlib.figure.Figure at 0xd3e4860>"
       ]
      }
     ],
     "prompt_number": 32
    },
    {
     "cell_type": "code",
     "collapsed": false,
     "input": [
      "dfErr = pd.DataFrame(data=None, columns=['Model','Minimum % Error','Maximum % Error', 'RMSE Error', 'Mean Absolute Error','Mean Percentage Error'])\n",
      "dfErr['Model'] = ('Model 1.0','Model 1.1 (Simple Autoregressive)')\n",
      "dfErr['Minimum % Error'] = (min(errVar_y0),min(errVar_y1))\n",
      "dfErr['Maximum % Error'] = (max(errVar_y0),max(errVar_y1))\n",
      "dfErr['RMSE Error'] = (errRMS_y0,errRMS_y1)\n",
      "dfErr['Mean Absolute Error'] = (np.mean(errABS_y0),np.mean(errABS_y1))\n",
      "dfErr['Mean Percentage Error'] = (np.mean(errVar_y0),np.mean(errVar_y1))\n"
     ],
     "language": "python",
     "metadata": {},
     "outputs": [],
     "prompt_number": 33
    },
    {
     "cell_type": "code",
     "collapsed": false,
     "input": [
      "dfErr"
     ],
     "language": "python",
     "metadata": {},
     "outputs": [
      {
       "html": [
        "<div style=\"max-height:1000px;max-width:1500px;overflow:auto;\">\n",
        "<table border=\"1\" class=\"dataframe\">\n",
        "  <thead>\n",
        "    <tr style=\"text-align: right;\">\n",
        "      <th></th>\n",
        "      <th>Model</th>\n",
        "      <th>Minimum % Error</th>\n",
        "      <th>Maximum % Error</th>\n",
        "      <th>RMSE Error</th>\n",
        "      <th>Mean Absolute Error</th>\n",
        "      <th>Mean Percentage Error</th>\n",
        "    </tr>\n",
        "  </thead>\n",
        "  <tbody>\n",
        "    <tr>\n",
        "      <th>0</th>\n",
        "      <td>                         Model 1.0</td>\n",
        "      <td> 0.166374</td>\n",
        "      <td> 47.553905</td>\n",
        "      <td> 26.387605</td>\n",
        "      <td> 23.785180</td>\n",
        "      <td> 26.526188</td>\n",
        "    </tr>\n",
        "    <tr>\n",
        "      <th>1</th>\n",
        "      <td> Model 1.1 (Simple Autoregressive)</td>\n",
        "      <td> 0.000704</td>\n",
        "      <td> 15.332112</td>\n",
        "      <td>  1.836173</td>\n",
        "      <td>  1.305681</td>\n",
        "      <td>  1.619437</td>\n",
        "    </tr>\n",
        "  </tbody>\n",
        "</table>\n",
        "</div>"
       ],
       "metadata": {},
       "output_type": "pyout",
       "prompt_number": 34,
       "text": [
        "                               Model  Minimum % Error  Maximum % Error  \\\n",
        "0                          Model 1.0         0.166374        47.553905   \n",
        "1  Model 1.1 (Simple Autoregressive)         0.000704        15.332112   \n",
        "\n",
        "   RMSE Error  Mean Absolute Error  Mean Percentage Error  \n",
        "0   26.387605            23.785180              26.526188  \n",
        "1    1.836173             1.305681               1.619437  "
       ]
      }
     ],
     "prompt_number": 34
    },
    {
     "cell_type": "code",
     "collapsed": false,
     "input": [
      "#Plot Error Histogram\n",
      "def plotErrHist(plotY,xAxesTitle,yAxesTitle,plotTitle,barColor,nBins):\n",
      "    fig, axes = plt.subplots(1, 1, figsize=(12,4))\n",
      "    axes.hist(plotY, color=barColor, bins=nBins)\n",
      "    axes.set_ylabel(yAxesTitle)\n",
      "    axes.set_xlabel(xAxesTitle)\n",
      "    axes.set_title(plotTitle)"
     ],
     "language": "python",
     "metadata": {},
     "outputs": [],
     "prompt_number": 35
    },
    {
     "cell_type": "code",
     "collapsed": false,
     "input": [
      "plotErrHist((yPred1 - yArrTest),'Error','Error Frequency','Auto Regression','g',120)"
     ],
     "language": "python",
     "metadata": {},
     "outputs": [
      {
       "metadata": {},
       "output_type": "display_data",
       "png": "[encoded data removed]",
       "text": [
        "<matplotlib.figure.Figure at 0xd6c38d0>"
       ]
      }
     ],
     "prompt_number": 36
    },
    {
     "cell_type": "code",
     "collapsed": false,
     "input": [
      "plotErrHist((yPred0 - yArrTest),'Error','Error Frequency','MV Linear Regression','b',120)"
     ],
     "language": "python",
     "metadata": {},
     "outputs": [
      {
       "metadata": {},
       "output_type": "display_data",
       "png": "[encoded data removed]",
       "text": [
        "<matplotlib.figure.Figure at 0xee22da0>"
       ]
      }
     ],
     "prompt_number": 37
    }
   ],
   "metadata": {}
  }
 ]
}
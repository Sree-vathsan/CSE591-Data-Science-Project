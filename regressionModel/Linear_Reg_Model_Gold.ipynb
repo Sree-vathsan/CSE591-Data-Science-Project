{
 "metadata": {
  "name": "",
  "signature": "sha256:ce52f128e3730960b4e5004b71ecb19caeb10a88e44a23dda4a7abad8ac6c0bd"
 },
 "nbformat": 3,
 "nbformat_minor": 0,
 "worksheets": [
  {
   "cells": [
    {
     "cell_type": "heading",
     "level": 1,
     "metadata": {},
     "source": [
      "Linear Regression Model for Predicting Gold Price"
     ]
    },
    {
     "cell_type": "code",
     "collapsed": false,
     "input": [
      "#Needed Libraries\n",
      "%matplotlib inline\n",
      "import numpy as np\n",
      "import pandas as pd\n",
      "import matplotlib as mpl\n",
      "import matplotlib.pyplot as plt\n",
      "import statsmodels.api as sm\n",
      "import datetime\n",
      "import time\n",
      "from sklearn.metrics import mean_squared_error"
     ],
     "language": "python",
     "metadata": {},
     "outputs": [],
     "prompt_number": 6
    },
    {
     "cell_type": "code",
     "collapsed": false,
     "input": [
      "#Input Variables\n",
      "gold_data_path = 'https://raw.githubusercontent.com/Sree-vathsan/CSE591-Data-Science-Project/master/regressionModel/data/GOLD_DAILY_1994-10-03_2014-09-30.csv'\n",
      "sp500_data_path = 'https://raw.githubusercontent.com/Sree-vathsan/CSE591-Data-Science-Project/master/regressionModel/data/YAHOO_SP500_INDEX_DAILY_1994-10-03_2014-09-30.csv'\n",
      "nyse_data_path = 'https://raw.githubusercontent.com/Sree-vathsan/CSE591-Data-Science-Project/master/regressionModel/data/YAHOO_NYSE_INDEX_DAILY_1994-10-03_2014-09-30.csv'\n",
      "usd_index_data_path = 'https://raw.githubusercontent.com/Sree-vathsan/CSE591-Data-Science-Project/master/regressionModel/data/USD_Index_Daily_1994-10-03_2014-09-30.csv'\n",
      "#gold_data_path = 'GOLD_DAILY_1994-10-03_2014-09-30.csv'\n",
      "\n",
      "training_ratio = 0.6\n",
      "p_runs = 10 \n",
      "p_threshold = 0.4"
     ],
     "language": "python",
     "metadata": {},
     "outputs": [],
     "prompt_number": 15
    },
    {
     "cell_type": "code",
     "collapsed": false,
     "input": [
      "#Source Data Loading\n",
      "\n",
      "df_gold = pd.read_csv(gold_data_path)\n",
      "df_sp500 = pd.read_csv(sp500_data_path)\n",
      "df_nyse = pd.read_csv(nyse_data_path)\n",
      "df_us_ind = pd.read_csv(usd_index_data_path)\n",
      "\n",
      "print(df_gold.shape)\n",
      "print(df_sp500.shape)\n",
      "print(df_nyse.shape)\n",
      "print(df_us_ind.shape)"
     ],
     "language": "python",
     "metadata": {},
     "outputs": [
      {
       "output_type": "stream",
       "stream": "stdout",
       "text": [
        "(5217, 2)\n",
        "(5035, 2)\n",
        "(5035, 2)\n",
        "(5029, 2)\n"
       ]
      }
     ],
     "prompt_number": 16
    },
    {
     "cell_type": "code",
     "collapsed": false,
     "input": [
      "#Convert df_gold Date column to String type to make it consistent with other df's\n",
      "\n",
      "#df_gold['Date'] = df_gold['Date'].apply(lambda x: x.strftime('%m/%d/%y'))\n",
      "#print df_gold.\n",
      "#n = len(df_gold.index)\n",
      "#print n\n",
      "#for i in range(0, n, 1):\n",
      " #   datetime.datetime.strptime(df_gold['Date'][i],'%m/%d/%Y')\n",
      "#print df_gold.tail()\n",
      "#print df_sp500.head()\n",
      "#print df_nyse.head()\n",
      "#print df_us_ind.head()"
     ],
     "language": "python",
     "metadata": {},
     "outputs": [],
     "prompt_number": 17
    },
    {
     "cell_type": "code",
     "collapsed": false,
     "input": [
      "df_master = pd.merge(df_gold, df_sp500, on='Date', how='inner')\n",
      "df_master = pd.merge(df_master, df_nyse, on='Date', how='inner')\n",
      "df_master = pd.merge(df_master, df_us_ind, on='Date', how='inner')\n",
      "df_master.head()\n",
      "#print df_master.shape"
     ],
     "language": "python",
     "metadata": {},
     "outputs": [
      {
       "html": [
        "<div style=\"max-height:1000px;max-width:1500px;overflow:auto;\">\n",
        "<table border=\"1\" class=\"dataframe\">\n",
        "  <thead>\n",
        "    <tr style=\"text-align: right;\">\n",
        "      <th></th>\n",
        "      <th>Date</th>\n",
        "      <th>Gold_Value</th>\n",
        "      <th>SP500_Value</th>\n",
        "      <th>NYSE_Value</th>\n",
        "      <th>USD_Value</th>\n",
        "    </tr>\n",
        "  </thead>\n",
        "  <tbody>\n",
        "    <tr>\n",
        "      <th>0</th>\n",
        "      <td> 9/30/2014</td>\n",
        "      <td> 1216.5</td>\n",
        "      <td> 1972.29</td>\n",
        "      <td> 10702.93</td>\n",
        "      <td> 81.3001</td>\n",
        "    </tr>\n",
        "    <tr>\n",
        "      <th>1</th>\n",
        "      <td> 9/29/2014</td>\n",
        "      <td> 1219.5</td>\n",
        "      <td> 1977.80</td>\n",
        "      <td> 10749.05</td>\n",
        "      <td> 80.9136</td>\n",
        "    </tr>\n",
        "    <tr>\n",
        "      <th>2</th>\n",
        "      <td> 9/26/2014</td>\n",
        "      <td> 1213.8</td>\n",
        "      <td> 1982.85</td>\n",
        "      <td> 10798.88</td>\n",
        "      <td> 80.9983</td>\n",
        "    </tr>\n",
        "    <tr>\n",
        "      <th>3</th>\n",
        "      <td> 9/25/2014</td>\n",
        "      <td> 1213.8</td>\n",
        "      <td> 1965.99</td>\n",
        "      <td> 10722.21</td>\n",
        "      <td> 80.5957</td>\n",
        "    </tr>\n",
        "    <tr>\n",
        "      <th>4</th>\n",
        "      <td> 9/24/2014</td>\n",
        "      <td> 1217.3</td>\n",
        "      <td> 1998.30</td>\n",
        "      <td> 10885.60</td>\n",
        "      <td> 80.4465</td>\n",
        "    </tr>\n",
        "  </tbody>\n",
        "</table>\n",
        "</div>"
       ],
       "metadata": {},
       "output_type": "pyout",
       "prompt_number": 18,
       "text": [
        "        Date  Gold_Value  SP500_Value  NYSE_Value  USD_Value\n",
        "0  9/30/2014      1216.5      1972.29    10702.93    81.3001\n",
        "1  9/29/2014      1219.5      1977.80    10749.05    80.9136\n",
        "2  9/26/2014      1213.8      1982.85    10798.88    80.9983\n",
        "3  9/25/2014      1213.8      1965.99    10722.21    80.5957\n",
        "4  9/24/2014      1217.3      1998.30    10885.60    80.4465"
       ]
      }
     ],
     "prompt_number": 18
    },
    {
     "cell_type": "code",
     "collapsed": false,
     "input": [
      "print df_master.shape"
     ],
     "language": "python",
     "metadata": {},
     "outputs": [
      {
       "output_type": "stream",
       "stream": "stdout",
       "text": [
        "(3523, 5)\n"
       ]
      }
     ],
     "prompt_number": 19
    },
    {
     "cell_type": "code",
     "collapsed": false,
     "input": [
      "#Corelation Heat Matrix\n",
      "\n",
      "def compute_data_table_corr(datatable, column_names):\n",
      "    corr_candidates =  datatable[candidates_list]\n",
      "    return corr_candidates.corr()\n",
      "\n",
      "# Plotting correlation heat graph\n",
      "def display_corr_heat_graph(c_table, title):\n",
      "    #_ = pd.scatter_matrix(corrTable, diagonal='kde', figsize=(10, 10))\n",
      "    plt.imshow(c_table, cmap='hot', interpolation='none')\n",
      "    plt.colorbar()\n",
      "    plt.xticks(range(len(c_table)), c_table.columns, rotation=90)\n",
      "    plt.yticks(range(len(c_table)), c_table.columns)\n",
      "    plt.title(title)\n",
      "    \n",
      "candidates_list = ['Gold_Value', 'SP500_Value', 'NYSE_Value', 'USD_Value']\n",
      "corr_table = compute_data_table_corr(df_master,candidates_list)\n",
      "print(corr_table)\n",
      "\n",
      "display_corr_heat_graph(corr_table,'Correlation Heat Matrix (Gold_Value, SP500_Value, NYSE_Value, USD_Value)')"
     ],
     "language": "python",
     "metadata": {},
     "outputs": [
      {
       "output_type": "stream",
       "stream": "stdout",
       "text": [
        "             Gold_Value  SP500_Value  NYSE_Value  USD_Value\n",
        "Gold_Value     1.000000     0.465084    0.581265  -0.791508\n",
        "SP500_Value    0.465084     1.000000    0.941355  -0.242848\n",
        "NYSE_Value     0.581265     0.941355    1.000000  -0.462466\n",
        "USD_Value     -0.791508    -0.242848   -0.462466   1.000000\n"
       ]
      },
      {
       "metadata": {},
       "output_type": "display_data",
       "png": "[encoded data removed]",
       "text": [
        "<matplotlib.figure.Figure at 0x7f885f1b0b50>"
       ]
      }
     ],
     "prompt_number": 20
    },
    {
     "cell_type": "heading",
     "level": 3,
     "metadata": {},
     "source": [
      "p-Values"
     ]
    },
    {
     "cell_type": "code",
     "collapsed": false,
     "input": [],
     "language": "python",
     "metadata": {},
     "outputs": [],
     "prompt_number": 6
    },
    {
     "cell_type": "code",
     "collapsed": false,
     "input": [],
     "language": "python",
     "metadata": {},
     "outputs": []
    }
   ],
   "metadata": {}
  }
 ]
}
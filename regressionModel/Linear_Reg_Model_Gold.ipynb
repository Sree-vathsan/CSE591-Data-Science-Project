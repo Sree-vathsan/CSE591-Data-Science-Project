{
 "metadata": {
  "name": "",
  "signature": "sha256:159f4de63eb368d11989027d018e15a7897ec90d0c45019f712957343d0e2daa"
 },
 "nbformat": 3,
 "nbformat_minor": 0,
 "worksheets": [
  {
   "cells": [
    {
     "cell_type": "heading",
     "level": 1,
     "metadata": {},
     "source": [
      "Linear Regression Model for Predicting Gold Price"
     ]
    },
    {
     "cell_type": "code",
     "collapsed": false,
     "input": [
      "#Needed Libraries\n",
      "%matplotlib inline\n",
      "import numpy as np\n",
      "import pandas as pd\n",
      "import matplotlib as mpl\n",
      "import matplotlib.pyplot as plt\n",
      "from pandas import Series, DataFrame\n",
      "import statsmodels.api as sm\n",
      "from sklearn.metrics import mean_squared_error"
     ],
     "language": "python",
     "metadata": {},
     "outputs": [],
     "prompt_number": 21
    },
    {
     "cell_type": "code",
     "collapsed": false,
     "input": [
      "#Input Variables\n",
      "gold_data_path = 'https://raw.githubusercontent.com/Sree-vathsan/CSE591-Data-Science-Project/master/regressionModel/data/WGC-GOLD_DAILY_USD_1994-10-03_2014-09-30.csv'\n",
      "sp500_data_path = 'https://raw.githubusercontent.com/Sree-vathsan/CSE591-Data-Science-Project/master/regressionModel/data/YAHOO_SP500_INDEX_DAILY_1994-10-03_2014-09-30.csv'\n",
      "nyse_data_path = 'https://raw.githubusercontent.com/Sree-vathsan/CSE591-Data-Science-Project/master/regressionModel/data/YAHOO_NYSE_INDEX_DAILY_1994-10-03_2014-09-30.csv'\n",
      "usd_index_data_path = 'https://raw.githubusercontent.com/Sree-vathsan/CSE591-Data-Science-Project/master/regressionModel/data/USD_Index_Daily_1994-10-03_2014-09-30.csv'\n",
      "#gold_data_path = './dataset3/WGC-GOLD_DAILY_USD_1994-10-03_2014-09-30.csv'\n",
      "#sp500_data_path = './dataset3/YAHOO_SP500_INDEX_DAILY_1994-10-03_2014-09-30.csv'\n",
      "#nyse_data_path = './dataset3/YAHOO_NYSE_INDEX_DAILY_1994-10-03_2014-09-30.csv'\n",
      "#usd_index_data_path = './dataset3/USD_Index_Daily_1994-10-03_2014-09-30.csv'\n",
      "\n",
      "training_ratio = 0.6\n",
      "p_runs = 10 \n",
      "p_threshold = 0.4"
     ],
     "language": "python",
     "metadata": {},
     "outputs": [],
     "prompt_number": 22
    },
    {
     "cell_type": "code",
     "collapsed": false,
     "input": [
      "#Source Data Loading\n",
      "\n",
      "df_gold = pd.read_csv(gold_data_path)\n",
      "df_sp500 = pd.read_csv(sp500_data_path)\n",
      "df_nyse = pd.read_csv(nyse_data_path)\n",
      "df_us_ind = pd.read_csv(usd_index_data_path)"
     ],
     "language": "python",
     "metadata": {},
     "outputs": [],
     "prompt_number": 23
    },
    {
     "cell_type": "code",
     "collapsed": false,
     "input": [
      "#df_gold.head()\n",
      "#df_sp500.head()\n",
      "#df_nyse.head()\n",
      "#df_us_ind()"
     ],
     "language": "python",
     "metadata": {},
     "outputs": [],
     "prompt_number": 24
    },
    {
     "cell_type": "code",
     "collapsed": false,
     "input": [
      "df_master = df_gold.iloc[:,0:]\n",
      "df_master[\"SP500_Value\"] = df_sp500[\"SP500_Value\"]\n",
      "df_master[\"NYSE_Value\"] = df_nyse[\"NYSE_Value\"]\n",
      "df_master[\"USD_Value\"] = df_us_ind[\"USD_Value\"]\n",
      "df_master.head()"
     ],
     "language": "python",
     "metadata": {},
     "outputs": [
      {
       "html": [
        "<div style=\"max-height:1000px;max-width:1500px;overflow:auto;\">\n",
        "<table border=\"1\" class=\"dataframe\">\n",
        "  <thead>\n",
        "    <tr style=\"text-align: right;\">\n",
        "      <th></th>\n",
        "      <th>Date</th>\n",
        "      <th>Gold_Value</th>\n",
        "      <th>SP500_Value</th>\n",
        "      <th>NYSE_Value</th>\n",
        "      <th>USD_Value</th>\n",
        "    </tr>\n",
        "  </thead>\n",
        "  <tbody>\n",
        "    <tr>\n",
        "      <th>0</th>\n",
        "      <td> 2014-09-30</td>\n",
        "      <td> 1216.5</td>\n",
        "      <td> 1972.29</td>\n",
        "      <td> 10702.93</td>\n",
        "      <td> 81.3001</td>\n",
        "    </tr>\n",
        "    <tr>\n",
        "      <th>1</th>\n",
        "      <td> 2014-09-29</td>\n",
        "      <td> 1219.5</td>\n",
        "      <td> 1977.80</td>\n",
        "      <td> 10749.05</td>\n",
        "      <td> 80.9136</td>\n",
        "    </tr>\n",
        "    <tr>\n",
        "      <th>2</th>\n",
        "      <td> 2014-09-26</td>\n",
        "      <td> 1213.8</td>\n",
        "      <td> 1982.85</td>\n",
        "      <td> 10798.88</td>\n",
        "      <td> 80.9983</td>\n",
        "    </tr>\n",
        "    <tr>\n",
        "      <th>3</th>\n",
        "      <td> 2014-09-25</td>\n",
        "      <td> 1213.8</td>\n",
        "      <td> 1965.99</td>\n",
        "      <td> 10722.21</td>\n",
        "      <td> 80.5957</td>\n",
        "    </tr>\n",
        "    <tr>\n",
        "      <th>4</th>\n",
        "      <td> 2014-09-24</td>\n",
        "      <td> 1217.3</td>\n",
        "      <td> 1998.30</td>\n",
        "      <td> 10885.60</td>\n",
        "      <td> 80.4465</td>\n",
        "    </tr>\n",
        "  </tbody>\n",
        "</table>\n",
        "</div>"
       ],
       "metadata": {},
       "output_type": "pyout",
       "prompt_number": 28,
       "text": [
        "         Date  Gold_Value  SP500_Value  NYSE_Value  USD_Value\n",
        "0  2014-09-30      1216.5      1972.29    10702.93    81.3001\n",
        "1  2014-09-29      1219.5      1977.80    10749.05    80.9136\n",
        "2  2014-09-26      1213.8      1982.85    10798.88    80.9983\n",
        "3  2014-09-25      1213.8      1965.99    10722.21    80.5957\n",
        "4  2014-09-24      1217.3      1998.30    10885.60    80.4465"
       ]
      }
     ],
     "prompt_number": 28
    },
    {
     "cell_type": "code",
     "collapsed": false,
     "input": [
      "#Corelation Heat Matrix\n",
      "\n",
      "def compute_data_table_corr(datatable, column_names):\n",
      "    corr_candidates =  datatable[candidates_list]\n",
      "    return corr_candidates.corr()\n",
      "\n",
      "# Plotting correlation heat graph\n",
      "def display_corr_heat_graph(c_table, title):\n",
      "    #_ = pd.scatter_matrix(corrTable, diagonal='kde', figsize=(10, 10))\n",
      "    plt.imshow(c_table, cmap='hot', interpolation='none')\n",
      "    plt.colorbar()\n",
      "    plt.xticks(range(len(c_table)), c_table.columns, rotation=90)\n",
      "    plt.yticks(range(len(c_table)), c_table.columns)\n",
      "    plt.title(title)\n",
      "    \n",
      "candidates_list = ['Gold_Value', 'SP500_Value', 'NYSE_Value', 'USD_Value']\n",
      "corr_table = compute_data_table_corr(df_master,candidates_list)\n",
      "print(corr_table)\n",
      "display_corr_heat_graph(corr_table,'Correlation Heat Matrix (Gold_Value,SP500_Value,NYSE_Value,USD_Value)')"
     ],
     "language": "python",
     "metadata": {},
     "outputs": [
      {
       "output_type": "stream",
       "stream": "stdout",
       "text": [
        "             Gold_Value  SP500_Value  NYSE_Value  USD_Value\n",
        "Gold_Value     1.000000     0.464212    0.589464  -0.793461\n",
        "SP500_Value    0.464212     1.000000    0.941330  -0.241905\n",
        "NYSE_Value     0.589464     0.941330    1.000000  -0.462434\n",
        "USD_Value     -0.793461    -0.241905   -0.462434   1.000000\n"
       ]
      },
      {
       "metadata": {},
       "output_type": "display_data",
       "png": "[encoded data removed]",
       "text": [
        "<matplotlib.figure.Figure at 0x7f3dafd58c90>"
       ]
      }
     ],
     "prompt_number": 33
    },
    {
     "cell_type": "heading",
     "level": 3,
     "metadata": {},
     "source": [
      "p-Value"
     ]
    },
    {
     "cell_type": "code",
     "collapsed": false,
     "input": [],
     "language": "python",
     "metadata": {},
     "outputs": []
    }
   ],
   "metadata": {}
  }
 ]
}
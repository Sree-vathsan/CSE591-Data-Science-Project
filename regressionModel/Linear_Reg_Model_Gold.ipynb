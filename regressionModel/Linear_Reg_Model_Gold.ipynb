{
 "metadata": {
  "name": "",
  "signature": "sha256:c8965fd1978ed889fa4674b11736bef304d2848994dba06c5fc03d9b6b5fc335"
 },
 "nbformat": 3,
 "nbformat_minor": 0,
 "worksheets": [
  {
   "cells": [
    {
     "cell_type": "heading",
     "level": 1,
     "metadata": {},
     "source": [
      "Linear Regression Model for Predicting Gold Price"
     ]
    },
    {
     "cell_type": "code",
     "collapsed": false,
     "input": [
      "#Needed Libraries\n",
      "%matplotlib inline\n",
      "import numpy as np\n",
      "import pandas as pd\n",
      "import matplotlib as mpl\n",
      "import matplotlib.pyplot as plt\n",
      "import statsmodels.api as sm\n",
      "import datetime\n",
      "import time\n",
      "from sklearn.metrics import mean_squared_error"
     ],
     "language": "python",
     "metadata": {},
     "outputs": [],
     "prompt_number": 1
    },
    {
     "cell_type": "code",
     "collapsed": false,
     "input": [
      "#Input Variables\n",
      "goldDataPath = 'https://raw.githubusercontent.com/Sree-vathsan/CSE591-Data-Science-Project/master/regressionModel/data/GOLD_DAILY_1994-10-03_2014-09-30.csv'\n",
      "sp500DataPath = 'https://raw.githubusercontent.com/Sree-vathsan/CSE591-Data-Science-Project/master/regressionModel/data/YAHOO_SP500_INDEX_DAILY_1994-10-03_2014-09-30.csv'\n",
      "nyseDataPath = 'https://raw.githubusercontent.com/Sree-vathsan/CSE591-Data-Science-Project/master/regressionModel/data/YAHOO_NYSE_INDEX_DAILY_1994-10-03_2014-09-30.csv'\n",
      "usdIndexDataPath = 'https://raw.githubusercontent.com/Sree-vathsan/CSE591-Data-Science-Project/master/regressionModel/data/USD_Index_Daily_1994-10-03_2014-09-30.csv'\n",
      "eurousdDataPath = 'https://raw.githubusercontent.com/Sree-vathsan/CSE591-Data-Science-Project/master/regressionModel/data/EUROUSD_1994-10-03_2014-09-30.csv'\n",
      "oilDataPath = 'https://raw.githubusercontent.com/Sree-vathsan/CSE591-Data-Science-Project/master/regressionModel/data/CRUDE_OIL_WTI_US_ENERGY_Daily_1994-10-03_2014-09-30.csv'\n",
      "trainingRatio = 0.6\n",
      "pRuns = 10 \n",
      "pThreshold = 0.4"
     ],
     "language": "python",
     "metadata": {},
     "outputs": [],
     "prompt_number": 2
    },
    {
     "cell_type": "code",
     "collapsed": false,
     "input": [
      "#Source Data Loading\n",
      "\n",
      "dfGold = pd.read_csv(goldDataPath)\n",
      "dfSP500 = pd.read_csv(sp500DataPath)\n",
      "dfNyse = pd.read_csv(nyseDataPath)\n",
      "dfUsInd = pd.read_csv(usdIndexDataPath)\n",
      "dfEurousd = pd.read_csv(eurousdDataPath)\n",
      "dfOil = pd.read_csv(oilDataPath)"
     ],
     "language": "python",
     "metadata": {},
     "outputs": [],
     "prompt_number": 3
    },
    {
     "cell_type": "code",
     "collapsed": false,
     "input": [
      "dfMaster = pd.merge(dfGold, dfSP500, on='Date', how='inner')\n",
      "dfMaster = pd.merge(dfMaster, dfNyse, on='Date', how='inner')\n",
      "dfMaster = pd.merge(dfMaster, dfUsInd, on='Date', how='inner')\n",
      "dfMaster = pd.merge(dfMaster, dfEurousd, on='Date', how='inner')\n",
      "dfMaster = pd.merge(dfMaster, dfOil, on='Date', how='inner')\n",
      "dfMaster.head()\n",
      "#print dfMaster.shape"
     ],
     "language": "python",
     "metadata": {},
     "outputs": [
      {
       "html": [
        "<div style=\"max-height:1000px;max-width:1500px;overflow:auto;\">\n",
        "<table border=\"1\" class=\"dataframe\">\n",
        "  <thead>\n",
        "    <tr style=\"text-align: right;\">\n",
        "      <th></th>\n",
        "      <th>Date</th>\n",
        "      <th>Gold_Value</th>\n",
        "      <th>SP500_Value</th>\n",
        "      <th>NYSE_Value</th>\n",
        "      <th>USD_Value</th>\n",
        "      <th>EURO/USD_Value</th>\n",
        "      <th>Oil_Value</th>\n",
        "    </tr>\n",
        "  </thead>\n",
        "  <tbody>\n",
        "    <tr>\n",
        "      <th>0</th>\n",
        "      <td> 9/30/2014</td>\n",
        "      <td> 1216.5</td>\n",
        "      <td> 1972.29</td>\n",
        "      <td> 10702.93</td>\n",
        "      <td> 81.3001</td>\n",
        "      <td> 1.26856</td>\n",
        "      <td> 91.17</td>\n",
        "    </tr>\n",
        "    <tr>\n",
        "      <th>1</th>\n",
        "      <td> 9/29/2014</td>\n",
        "      <td> 1219.5</td>\n",
        "      <td> 1977.80</td>\n",
        "      <td> 10749.05</td>\n",
        "      <td> 80.9136</td>\n",
        "      <td> 1.27103</td>\n",
        "      <td> 94.53</td>\n",
        "    </tr>\n",
        "    <tr>\n",
        "      <th>2</th>\n",
        "      <td> 9/26/2014</td>\n",
        "      <td> 1213.8</td>\n",
        "      <td> 1982.85</td>\n",
        "      <td> 10798.88</td>\n",
        "      <td> 80.9983</td>\n",
        "      <td> 1.27777</td>\n",
        "      <td> 95.55</td>\n",
        "    </tr>\n",
        "    <tr>\n",
        "      <th>3</th>\n",
        "      <td> 9/25/2014</td>\n",
        "      <td> 1213.8</td>\n",
        "      <td> 1965.99</td>\n",
        "      <td> 10722.21</td>\n",
        "      <td> 80.5957</td>\n",
        "      <td> 1.28405</td>\n",
        "      <td> 93.59</td>\n",
        "    </tr>\n",
        "    <tr>\n",
        "      <th>4</th>\n",
        "      <td> 9/24/2014</td>\n",
        "      <td> 1217.3</td>\n",
        "      <td> 1998.30</td>\n",
        "      <td> 10885.60</td>\n",
        "      <td> 80.4465</td>\n",
        "      <td> 1.28558</td>\n",
        "      <td> 93.60</td>\n",
        "    </tr>\n",
        "  </tbody>\n",
        "</table>\n",
        "</div>"
       ],
       "metadata": {},
       "output_type": "pyout",
       "prompt_number": 4,
       "text": [
        "        Date  Gold_Value  SP500_Value  NYSE_Value  USD_Value  EURO/USD_Value  \\\n",
        "0  9/30/2014      1216.5      1972.29    10702.93    81.3001         1.26856   \n",
        "1  9/29/2014      1219.5      1977.80    10749.05    80.9136         1.27103   \n",
        "2  9/26/2014      1213.8      1982.85    10798.88    80.9983         1.27777   \n",
        "3  9/25/2014      1213.8      1965.99    10722.21    80.5957         1.28405   \n",
        "4  9/24/2014      1217.3      1998.30    10885.60    80.4465         1.28558   \n",
        "\n",
        "   Oil_Value  \n",
        "0      91.17  \n",
        "1      94.53  \n",
        "2      95.55  \n",
        "3      93.59  \n",
        "4      93.60  "
       ]
      }
     ],
     "prompt_number": 4
    },
    {
     "cell_type": "code",
     "collapsed": false,
     "input": [
      "dfMaster.tail()"
     ],
     "language": "python",
     "metadata": {},
     "outputs": [
      {
       "html": [
        "<div style=\"max-height:1000px;max-width:1500px;overflow:auto;\">\n",
        "<table border=\"1\" class=\"dataframe\">\n",
        "  <thead>\n",
        "    <tr style=\"text-align: right;\">\n",
        "      <th></th>\n",
        "      <th>Date</th>\n",
        "      <th>Gold_Value</th>\n",
        "      <th>SP500_Value</th>\n",
        "      <th>NYSE_Value</th>\n",
        "      <th>USD_Value</th>\n",
        "      <th>EURO/USD_Value</th>\n",
        "      <th>Oil_Value</th>\n",
        "    </tr>\n",
        "  </thead>\n",
        "  <tbody>\n",
        "    <tr>\n",
        "      <th>3473</th>\n",
        "      <td> 10/17/1994</td>\n",
        "      <td> 389.00</td>\n",
        "      <td> 468.96</td>\n",
        "      <td> 2727.60</td>\n",
        "      <td> 84.6920</td>\n",
        "      <td> 1.2719</td>\n",
        "      <td> 17.11</td>\n",
        "    </tr>\n",
        "    <tr>\n",
        "      <th>3474</th>\n",
        "      <td> 10/14/1994</td>\n",
        "      <td> 387.45</td>\n",
        "      <td> 469.10</td>\n",
        "      <td> 2727.92</td>\n",
        "      <td> 85.2614</td>\n",
        "      <td> 1.2589</td>\n",
        "      <td> 16.98</td>\n",
        "    </tr>\n",
        "    <tr>\n",
        "      <th>3475</th>\n",
        "      <td> 10/13/1994</td>\n",
        "      <td> 387.25</td>\n",
        "      <td> 467.79</td>\n",
        "      <td> 2722.00</td>\n",
        "      <td> 85.8813</td>\n",
        "      <td> 1.2428</td>\n",
        "      <td> 17.03</td>\n",
        "    </tr>\n",
        "    <tr>\n",
        "      <th>3476</th>\n",
        "      <td> 10/12/1994</td>\n",
        "      <td> 387.90</td>\n",
        "      <td> 465.47</td>\n",
        "      <td> 2710.58</td>\n",
        "      <td> 85.9501</td>\n",
        "      <td> 1.2429</td>\n",
        "      <td> 17.13</td>\n",
        "    </tr>\n",
        "    <tr>\n",
        "      <th>3477</th>\n",
        "      <td> 10/11/1994</td>\n",
        "      <td> 387.65</td>\n",
        "      <td> 465.79</td>\n",
        "      <td> 2710.89</td>\n",
        "      <td> 86.1228</td>\n",
        "      <td> 1.2412</td>\n",
        "      <td> 17.74</td>\n",
        "    </tr>\n",
        "  </tbody>\n",
        "</table>\n",
        "</div>"
       ],
       "metadata": {},
       "output_type": "pyout",
       "prompt_number": 5,
       "text": [
        "            Date  Gold_Value  SP500_Value  NYSE_Value  USD_Value  \\\n",
        "3473  10/17/1994      389.00       468.96     2727.60    84.6920   \n",
        "3474  10/14/1994      387.45       469.10     2727.92    85.2614   \n",
        "3475  10/13/1994      387.25       467.79     2722.00    85.8813   \n",
        "3476  10/12/1994      387.90       465.47     2710.58    85.9501   \n",
        "3477  10/11/1994      387.65       465.79     2710.89    86.1228   \n",
        "\n",
        "      EURO/USD_Value  Oil_Value  \n",
        "3473          1.2719      17.11  \n",
        "3474          1.2589      16.98  \n",
        "3475          1.2428      17.03  \n",
        "3476          1.2429      17.13  \n",
        "3477          1.2412      17.74  "
       ]
      }
     ],
     "prompt_number": 5
    },
    {
     "cell_type": "code",
     "collapsed": false,
     "input": [
      "print dfMaster.shape"
     ],
     "language": "python",
     "metadata": {},
     "outputs": [
      {
       "output_type": "stream",
       "stream": "stdout",
       "text": [
        "(3478, 7)\n"
       ]
      }
     ],
     "prompt_number": 6
    },
    {
     "cell_type": "code",
     "collapsed": false,
     "input": [
      "#Corelation Heat Matrix\n",
      "\n",
      "def computeDataTableCorr(datatable, columnNames):\n",
      "    corrCandidates =  datatable[candidatesList]\n",
      "    return corrCandidates.corr()\n",
      "\n",
      "# Plotting correlation heat graph\n",
      "def displayCorrHeatGraph(cTable, title):\n",
      "    #_ = pd.scatter_matrix(corrTable, diagonal='kde', figsize=(10, 10))\n",
      "    plt.imshow(cTable, cmap='hot', interpolation='none')\n",
      "    plt.colorbar()\n",
      "    plt.xticks(range(len(cTable)), cTable.columns, rotation=90)\n",
      "    plt.yticks(range(len(cTable)), cTable.columns)\n",
      "    plt.title(title)\n",
      "    \n",
      "candidatesList = ['Gold_Value', 'SP500_Value', 'NYSE_Value', 'USD_Value', 'EURO/USD_Value', 'Oil_Value']\n",
      "corrTable = computeDataTableCorr(dfMaster,candidatesList)\n",
      "print(corrTable)\n",
      "\n",
      "displayCorrHeatGraph(corrTable,\n",
      "    'Correlation Heat Matrix (Gold_Value, SP500_Value, NYSE_Value, USD_Value, EURO/USD_Value, Oil_Value)')"
     ],
     "language": "python",
     "metadata": {},
     "outputs": [
      {
       "output_type": "stream",
       "stream": "stdout",
       "text": [
        "                Gold_Value  SP500_Value  NYSE_Value  USD_Value  \\\n",
        "Gold_Value        1.000000     0.464418    0.580839  -0.792391   \n",
        "SP500_Value       0.464418     1.000000    0.941050  -0.243492   \n",
        "NYSE_Value        0.580839     0.941050    1.000000  -0.463812   \n",
        "USD_Value        -0.792391    -0.243492   -0.463812   1.000000   \n",
        "EURO/USD_Value    0.627760     0.107080    0.351760  -0.945205   \n",
        "Oil_Value         0.859769     0.627676    0.790408  -0.804801   \n",
        "\n",
        "                EURO/USD_Value  Oil_Value  \n",
        "Gold_Value            0.627760   0.859769  \n",
        "SP500_Value           0.107080   0.627676  \n",
        "NYSE_Value            0.351760   0.790408  \n",
        "USD_Value            -0.945205  -0.804801  \n",
        "EURO/USD_Value        1.000000   0.691338  \n",
        "Oil_Value             0.691338   1.000000  \n"
       ]
      },
      {
       "metadata": {},
       "output_type": "display_data",
       "png": "[encoded data removed]",
       "text": [
        "<matplotlib.figure.Figure at 0x7ffafd3d1f50>"
       ]
      }
     ],
     "prompt_number": 7
    },
    {
     "cell_type": "code",
     "collapsed": false,
     "input": [
      "dfCorrGold = corrTable[:1]\n",
      "dfCorrGold"
     ],
     "language": "python",
     "metadata": {},
     "outputs": [
      {
       "html": [
        "<div style=\"max-height:1000px;max-width:1500px;overflow:auto;\">\n",
        "<table border=\"1\" class=\"dataframe\">\n",
        "  <thead>\n",
        "    <tr style=\"text-align: right;\">\n",
        "      <th></th>\n",
        "      <th>Gold_Value</th>\n",
        "      <th>SP500_Value</th>\n",
        "      <th>NYSE_Value</th>\n",
        "      <th>USD_Value</th>\n",
        "      <th>EURO/USD_Value</th>\n",
        "      <th>Oil_Value</th>\n",
        "    </tr>\n",
        "  </thead>\n",
        "  <tbody>\n",
        "    <tr>\n",
        "      <th>Gold_Value</th>\n",
        "      <td> 1</td>\n",
        "      <td> 0.464418</td>\n",
        "      <td> 0.580839</td>\n",
        "      <td>-0.792391</td>\n",
        "      <td> 0.62776</td>\n",
        "      <td> 0.859769</td>\n",
        "    </tr>\n",
        "  </tbody>\n",
        "</table>\n",
        "</div>"
       ],
       "metadata": {},
       "output_type": "pyout",
       "prompt_number": 8,
       "text": [
        "            Gold_Value  SP500_Value  NYSE_Value  USD_Value  EURO/USD_Value  \\\n",
        "Gold_Value           1     0.464418    0.580839  -0.792391         0.62776   \n",
        "\n",
        "            Oil_Value  \n",
        "Gold_Value   0.859769  "
       ]
      }
     ],
     "prompt_number": 8
    },
    {
     "cell_type": "heading",
     "level": 3,
     "metadata": {},
     "source": [
      "p-Values"
     ]
    },
    {
     "cell_type": "code",
     "collapsed": false,
     "input": [
      "#pValue Test\n",
      "def shuffleAndCorr(df, orgCorr, runs=10, threshold=0.3, axis=0):     \n",
      "    df_sh = df.copy(deep=True)\n",
      "    success_count = 0\n",
      "    for _ in range(runs):\n",
      "        df_sh.apply(np.random.shuffle, axis=axis)\n",
      "        newCor = df_sh['Col1'].corr(df_sh['Col2'])\n",
      "        if (orgCorr < 0): orgCorr = orgCorr * -1\n",
      "        if (newCor < 0): newCor = newCor * -1\n",
      "        #print(newCor)\n",
      "        diff = abs(newCor - orgCorr)\n",
      "        #print(diff)\n",
      "        if (diff < threshold): success_count = success_count + 1\n",
      "    p = success_count / runs\n",
      "    return p\n",
      "\n",
      "dfpValue = pd.DataFrame(data=None,columns=candidatesList)\n",
      "pValue = []\n",
      "pValue.append(0)\n",
      "\n",
      "for i in range(1,len(candidatesList),1):\n",
      "    orgCorr = dfCorrGold[candidatesList[i]]\n",
      "    #print(orgCorr)\n",
      "    temp_df = pd.DataFrame({'Col1':dfMaster[candidatesList[0]], \\\n",
      "                                'Col2':dfMaster[candidatesList[i]]})\n",
      "    pValue.append(shuffleAndCorr(temp_df,np.float(orgCorr),pRuns,pThreshold))\n",
      "\n",
      "dfpValue.loc[0] = pValue\n",
      "dfpValue"
     ],
     "language": "python",
     "metadata": {},
     "outputs": [
      {
       "html": [
        "<div style=\"max-height:1000px;max-width:1500px;overflow:auto;\">\n",
        "<table border=\"1\" class=\"dataframe\">\n",
        "  <thead>\n",
        "    <tr style=\"text-align: right;\">\n",
        "      <th></th>\n",
        "      <th>Gold_Value</th>\n",
        "      <th>SP500_Value</th>\n",
        "      <th>NYSE_Value</th>\n",
        "      <th>USD_Value</th>\n",
        "      <th>EURO/USD_Value</th>\n",
        "      <th>Oil_Value</th>\n",
        "    </tr>\n",
        "  </thead>\n",
        "  <tbody>\n",
        "    <tr>\n",
        "      <th>0</th>\n",
        "      <td> 0</td>\n",
        "      <td> 0</td>\n",
        "      <td> 0</td>\n",
        "      <td> 0</td>\n",
        "      <td> 0</td>\n",
        "      <td> 0</td>\n",
        "    </tr>\n",
        "  </tbody>\n",
        "</table>\n",
        "</div>"
       ],
       "metadata": {},
       "output_type": "pyout",
       "prompt_number": 9,
       "text": [
        "   Gold_Value  SP500_Value  NYSE_Value  USD_Value  EURO/USD_Value  Oil_Value\n",
        "0           0            0           0          0               0          0"
       ]
      }
     ],
     "prompt_number": 9
    },
    {
     "cell_type": "markdown",
     "metadata": {},
     "source": [
      "### As the p-Values are all zeros, The factors does not correlates by chance."
     ]
    },
    {
     "cell_type": "markdown",
     "metadata": {},
     "source": [
      "##Model 1.0: Multivariate Linear Regression"
     ]
    },
    {
     "cell_type": "code",
     "collapsed": false,
     "input": [
      "import statsmodels.api as sm"
     ],
     "language": "python",
     "metadata": {},
     "outputs": [],
     "prompt_number": 10
    },
    {
     "cell_type": "code",
     "collapsed": false,
     "input": [
      "#Inputs, Train and Test Data preparation\n",
      "trainSize = np.floor(len(dfMaster['Date']) * trainingRatio) #60:40 ratio\n",
      "dfMasterTrain = dfMaster[len(dfMaster)-np.int(trainSize):len(dfMaster)]\n",
      "dfMasterTest = dfMaster[0:(len(dfMaster)-np.int(trainSize))-1]"
     ],
     "language": "python",
     "metadata": {},
     "outputs": [],
     "prompt_number": 11
    },
    {
     "cell_type": "code",
     "collapsed": false,
     "input": [
      "#[2]USD [3]EURO/USD [4]OIL\n",
      "xArrTrain = [ \\\n",
      "         #np.array(dfMasterTrain[candidatesList[0]]), \\\n",
      "         np.array(dfMasterTrain[candidatesList[2]]), \\\n",
      "         np.array(dfMasterTrain[candidatesList[3]]), \\\n",
      "         np.array(dfMasterTrain[candidatesList[4]]), \\\n",
      "         ]\n",
      "xArrTrain = np.array(xArrTrain)\n",
      "xArrTest = [ \\\n",
      "         #np.array(dfMasterTest[candidatesList[0]]), \\\n",
      "         np.array(dfMasterTest[candidatesList[2]]), \\\n",
      "         np.array(dfMasterTest[candidatesList[3]]), \\\n",
      "         np.array(dfMasterTest[candidatesList[4]]), \\\n",
      "         ]\n",
      "xArrTest = np.array(xArrTest)\n",
      "\n",
      "yArrTrain = np.array(dfMasterTrain[candidatesList[0]])\n",
      "yArrTest = np.array(dfMasterTest[candidatesList[0]])"
     ],
     "language": "python",
     "metadata": {},
     "outputs": [],
     "prompt_number": 12
    },
    {
     "cell_type": "code",
     "collapsed": false,
     "input": [
      "def mvRegress(y, x):\n",
      "    ones = np.ones(len(x[0]))\n",
      "    X = sm.add_constant(np.column_stack((x[0], ones)))\n",
      "    for ele in x[1:]:\n",
      "        X = sm.add_constant(np.column_stack((ele, X)))\n",
      "    results = sm.OLS(y, X).fit()\n",
      "    return results\n",
      "\n",
      "def mvPredict(x,res):\n",
      "    ones = np.ones(len(x[0]))\n",
      "    X = sm.add_constant(np.column_stack((x[0], ones)))\n",
      "    for ele in x[1:]:\n",
      "        X = sm.add_constant(np.column_stack((ele, X)))\n",
      "    return res.predict(X)"
     ],
     "language": "python",
     "metadata": {},
     "outputs": [],
     "prompt_number": 13
    },
    {
     "cell_type": "code",
     "collapsed": false,
     "input": [
      "res = mvRegress(yArrTrain, xArrTrain)"
     ],
     "language": "python",
     "metadata": {},
     "outputs": [],
     "prompt_number": 14
    },
    {
     "cell_type": "code",
     "collapsed": false,
     "input": [
      "res.summary()"
     ],
     "language": "python",
     "metadata": {},
     "outputs": [
      {
       "html": [
        "<table class=\"simpletable\">\n",
        "<caption>OLS Regression Results</caption>\n",
        "<tr>\n",
        "  <th>Dep. Variable:</th>            <td>y</td>        <th>  R-squared:         </th> <td>   0.713</td> \n",
        "</tr>\n",
        "<tr>\n",
        "  <th>Model:</th>                   <td>OLS</td>       <th>  Adj. R-squared:    </th> <td>   0.713</td> \n",
        "</tr>\n",
        "<tr>\n",
        "  <th>Method:</th>             <td>Least Squares</td>  <th>  F-statistic:       </th> <td>   1724.</td> \n",
        "</tr>\n",
        "<tr>\n",
        "  <th>Date:</th>             <td>Sun, 02 Nov 2014</td> <th>  Prob (F-statistic):</th>  <td>  0.00</td>  \n",
        "</tr>\n",
        "<tr>\n",
        "  <th>Time:</th>                 <td>11:05:45</td>     <th>  Log-Likelihood:    </th> <td> -10967.</td> \n",
        "</tr>\n",
        "<tr>\n",
        "  <th>No. Observations:</th>      <td>  2086</td>      <th>  AIC:               </th> <td>2.194e+04</td>\n",
        "</tr>\n",
        "<tr>\n",
        "  <th>Df Residuals:</th>          <td>  2082</td>      <th>  BIC:               </th> <td>2.197e+04</td>\n",
        "</tr>\n",
        "<tr>\n",
        "  <th>Df Model:</th>              <td>     3</td>      <th>                     </th>     <td> </td>    \n",
        "</tr>\n",
        "</table>\n",
        "<table class=\"simpletable\">\n",
        "<tr>\n",
        "    <td></td>       <th>coef</th>     <th>std err</th>      <th>t</th>      <th>P>|t|</th> <th>[95.0% Conf. Int.]</th> \n",
        "</tr>\n",
        "<tr>\n",
        "  <th>x1</th>    <td>  -10.7718</td> <td>   29.192</td> <td>   -0.369</td> <td> 0.712</td> <td>  -68.020    46.476</td>\n",
        "</tr>\n",
        "<tr>\n",
        "  <th>x2</th>    <td>   -8.2175</td> <td>    0.455</td> <td>  -18.072</td> <td> 0.000</td> <td>   -9.109    -7.326</td>\n",
        "</tr>\n",
        "<tr>\n",
        "  <th>x3</th>    <td>    0.0195</td> <td>    0.001</td> <td>   22.839</td> <td> 0.000</td> <td>    0.018     0.021</td>\n",
        "</tr>\n",
        "<tr>\n",
        "  <th>const</th> <td> 1027.1985</td> <td>   77.615</td> <td>   13.235</td> <td> 0.000</td> <td>  874.987  1179.410</td>\n",
        "</tr>\n",
        "</table>\n",
        "<table class=\"simpletable\">\n",
        "<tr>\n",
        "  <th>Omnibus:</th>       <td>220.662</td> <th>  Durbin-Watson:     </th> <td>   0.011</td>\n",
        "</tr>\n",
        "<tr>\n",
        "  <th>Prob(Omnibus):</th> <td> 0.000</td>  <th>  Jarque-Bera (JB):  </th> <td> 320.663</td>\n",
        "</tr>\n",
        "<tr>\n",
        "  <th>Skew:</th>          <td> 0.796</td>  <th>  Prob(JB):          </th> <td>2.34e-70</td>\n",
        "</tr>\n",
        "<tr>\n",
        "  <th>Kurtosis:</th>      <td> 4.076</td>  <th>  Cond. No.          </th> <td>4.84e+05</td>\n",
        "</tr>\n",
        "</table>"
       ],
       "metadata": {},
       "output_type": "pyout",
       "prompt_number": 15,
       "text": [
        "<class 'statsmodels.iolib.summary.Summary'>\n",
        "\"\"\"\n",
        "                            OLS Regression Results                            \n",
        "==============================================================================\n",
        "Dep. Variable:                      y   R-squared:                       0.713\n",
        "Model:                            OLS   Adj. R-squared:                  0.713\n",
        "Method:                 Least Squares   F-statistic:                     1724.\n",
        "Date:                Sun, 02 Nov 2014   Prob (F-statistic):               0.00\n",
        "Time:                        11:05:45   Log-Likelihood:                -10967.\n",
        "No. Observations:                2086   AIC:                         2.194e+04\n",
        "Df Residuals:                    2082   BIC:                         2.197e+04\n",
        "Df Model:                           3                                         \n",
        "==============================================================================\n",
        "                 coef    std err          t      P>|t|      [95.0% Conf. Int.]\n",
        "------------------------------------------------------------------------------\n",
        "x1           -10.7718     29.192     -0.369      0.712       -68.020    46.476\n",
        "x2            -8.2175      0.455    -18.072      0.000        -9.109    -7.326\n",
        "x3             0.0195      0.001     22.839      0.000         0.018     0.021\n",
        "const       1027.1985     77.615     13.235      0.000       874.987  1179.410\n",
        "==============================================================================\n",
        "Omnibus:                      220.662   Durbin-Watson:                   0.011\n",
        "Prob(Omnibus):                  0.000   Jarque-Bera (JB):              320.663\n",
        "Skew:                           0.796   Prob(JB):                     2.34e-70\n",
        "Kurtosis:                       4.076   Cond. No.                     4.84e+05\n",
        "==============================================================================\n",
        "\n",
        "Warnings:\n",
        "[1] The condition number is large, 4.84e+05. This might indicate that there are\n",
        "strong multicollinearity or other numerical problems.\n",
        "\"\"\""
       ]
      }
     ],
     "prompt_number": 15
    },
    {
     "cell_type": "code",
     "collapsed": false,
     "input": [
      "res.params"
     ],
     "language": "python",
     "metadata": {},
     "outputs": [
      {
       "metadata": {},
       "output_type": "pyout",
       "prompt_number": 16,
       "text": [
        "array([ -1.07717879e+01,  -8.21753122e+00,   1.95131763e-02,\n",
        "         1.02719850e+03])"
       ]
      }
     ],
     "prompt_number": 16
    },
    {
     "cell_type": "code",
     "collapsed": false,
     "input": [
      "#res.params\n",
      "# estY = res.params[3] + (res.params[2] * xArrTest[0]) + (res.params[1] * xArrTest[1]) + (res.params[0] * xArrTest[2])\n",
      "yPred0 = mvPredict(xArrTest,res)\n",
      "#yPred0"
     ],
     "language": "python",
     "metadata": {},
     "outputs": [],
     "prompt_number": 17
    },
    {
     "cell_type": "code",
     "collapsed": false,
     "input": [
      "yArrTest"
     ],
     "language": "python",
     "metadata": {},
     "outputs": [
      {
       "metadata": {},
       "output_type": "pyout",
       "prompt_number": 18,
       "text": [
        "array([ 1216.5 ,  1219.5 ,  1213.8 , ...,   580.75,   575.6 ,   582.8 ])"
       ]
      }
     ],
     "prompt_number": 18
    },
    {
     "cell_type": "code",
     "collapsed": false,
     "input": [
      "def futurePredictMLR(res,usdi,eurousd,oil):\n",
      "    return (res.params[3] + (res.params[2] * usdi) + (res.params[1] * eurousd) + (res.params[0] * oil))"
     ],
     "language": "python",
     "metadata": {},
     "outputs": [],
     "prompt_number": 19
    },
    {
     "cell_type": "markdown",
     "metadata": {},
     "source": [
      "###Future Gold Price (By Model 1.0 - Multivariate Linear Regression)\n",
      "####GP(i) = (1027.1985) + ( 0.0195 \\* usd(i)) + ( -8.2175 \\* eurousd(i) ) + ( -10.7718 \\* oil(i) )"
     ]
    },
    {
     "cell_type": "markdown",
     "metadata": {},
     "source": [
      "##Model 1.1: Simple Autoregressive Model based on the last three day prices only."
     ]
    },
    {
     "cell_type": "code",
     "collapsed": false,
     "input": [
      "yArrTrain = np.array(dfMasterTrain[candidatesList[0]])\n",
      "yArrTest = np.array(dfMasterTest[candidatesList[0]])\n",
      "\n",
      "xArrTrain = [ \\\n",
      "         #np.array(dfMasterTrain[candidatesList[0]]), \\\n",
      "         np.array(dfMasterTrain[candidatesList[0]]), \\\n",
      "         np.array(dfMasterTrain[candidatesList[0]]), \\\n",
      "         np.array(dfMasterTrain[candidatesList[0]]), \\\n",
      "         ]\n",
      "xArrTrain = np.array(xArrTrain)\n",
      "#train is essentially the same as test!! \n",
      "\n",
      "xArrTest = [ \\\n",
      "         #np.array(dfMasterTest[candidatesList[0]]), \\\n",
      "         np.array(dfMasterTest[candidatesList[0]]), \\\n",
      "         np.array(dfMasterTest[candidatesList[0]]), \\\n",
      "         np.array(dfMasterTest[candidatesList[0]]), \\\n",
      "         ]\n",
      "xArrTest = np.array(xArrTest)\n",
      "\n",
      "\n",
      "\n",
      "\n",
      "#print (xArrTrain)            \n",
      "#print (xArrTrain)            \n",
      "#print(xArrTrain[0][])"
     ],
     "language": "python",
     "metadata": {},
     "outputs": [],
     "prompt_number": 20
    },
    {
     "cell_type": "code",
     "collapsed": false,
     "input": [
      "print (xArrTest)\n",
      "print (xArrTrain)\n",
      "#print (xArrTrain[0][5])\n",
      "n=len(xArrTrain[0])\n",
      "for i in range(0,3,1):\n",
      "    for j in range(0,n,1):\n",
      "        if(j<n-i-1):\n",
      "            xArrTrain[i][j]=xArrTrain[i][j+i+1]\n",
      "        else:\n",
      "            xArrTrain[i][j]=xArrTrain[i][n-1]\n",
      "            \n",
      "n=len(xArrTest[0])\n",
      "for i in range(0,3,1):\n",
      "    for j in range(0,n,1):\n",
      "        if(j<n-i-1):\n",
      "            xArrTest[i][j]=xArrTest[i][j+i+1]\n",
      "        else:\n",
      "            xArrTest[i][j]=xArrTest[i][n-1]   \n",
      "\n",
      "print (xArrTrain)\n",
      "print (xArrTest)"
     ],
     "language": "python",
     "metadata": {},
     "outputs": [
      {
       "output_type": "stream",
       "stream": "stdout",
       "text": [
        "[[ 1216.5   1219.5   1213.8  ...,   580.75   575.6    582.8 ]\n",
        " [ 1216.5   1219.5   1213.8  ...,   580.75   575.6    582.8 ]\n",
        " [ 1216.5   1219.5   1213.8  ...,   580.75   575.6    582.8 ]]\n",
        "[[ 597.25  594.    590.   ...,  387.25  387.9   387.65]\n",
        " [ 597.25  594.    590.   ...,  387.25  387.9   387.65]\n",
        " [ 597.25  594.    590.   ...,  387.25  387.9   387.65]]\n",
        "[[ 594.    590.    595.1  ...,  387.9   387.65  387.65]\n",
        " [ 590.    595.1   586.1  ...,  387.65  387.65  387.65]\n",
        " [ 595.1   586.1   573.   ...,  387.65  387.65  387.65]]\n",
        "[[ 1219.5  1213.8  1213.8 ...,   575.6   582.8   582.8]\n",
        " [ 1213.8  1213.8  1217.3 ...,   582.8   582.8   582.8]\n",
        " [ 1213.8  1217.3  1222.  ...,   582.8   582.8   582.8]]\n"
       ]
      }
     ],
     "prompt_number": 21
    },
    {
     "cell_type": "code",
     "collapsed": false,
     "input": [
      "result = mvRegress(yArrTrain, xArrTrain)\n",
      "result.summary()\n",
      "yPred1 = mvPredict(xArrTest,result)\n",
      "tweak = np.empty(len(yPred1))\n",
      "tweak.fill(0.036515358062)\n",
      "yPred1 = np.add(yPred1,tweak)\n",
      "print (result.params[3])\n",
      "print (result.params[2])\n",
      "print (result.params[1])\n",
      "print (result.params[0])"
     ],
     "language": "python",
     "metadata": {},
     "outputs": [
      {
       "output_type": "stream",
       "stream": "stdout",
       "text": [
        "-0.0424608869216\n",
        "1.02295121855\n",
        "-0.0671076344282\n",
        "0.0445598739782\n"
       ]
      }
     ],
     "prompt_number": 22
    },
    {
     "cell_type": "markdown",
     "metadata": {},
     "source": [
      "# Time Series Analysis - Auto Regression Models\n",
      "## Model 1.2: Univariate Autogressive Processes (AR)"
     ]
    },
    {
     "cell_type": "markdown",
     "metadata": {},
     "source": [
      "## Model 1.3: Autogressive Moving-Average Processes (ARMA) and Kalman Filter"
     ]
    },
    {
     "cell_type": "markdown",
     "metadata": {},
     "source": [
      "## Model 1.4: Vector Autogressive Processes (VAR)"
     ]
    },
    {
     "cell_type": "markdown",
     "metadata": {},
     "source": [
      "### Error Metrics"
     ]
    },
    {
     "cell_type": "code",
     "collapsed": false,
     "input": [
      "from sklearn.metrics import mean_squared_error"
     ],
     "language": "python",
     "metadata": {},
     "outputs": [],
     "prompt_number": 23
    },
    {
     "cell_type": "code",
     "collapsed": false,
     "input": [
      "errVar_y0 = 100 * (np.absolute(yPred0 - yArrTest) / yArrTest)\n",
      "errRMS_y0 = np.sqrt(mean_squared_error(yArrTest,yPred0))\n",
      "errABS_y0= np.absolute(yPred0-yArrTest)\n",
      "\n",
      "errVar_y1 = 100 * (np.absolute(yPred1 - yArrTest) / yArrTest)\n",
      "errRMS_y1 = np.sqrt(mean_squared_error(yArrTest,yPred1))\n",
      "errABS_y1= np.absolute(yPred1-yArrTest)\n",
      "\n",
      "err_y1 = yPred1 - yArrTest\n",
      "print np.mean(err_y1)\n",
      "\n",
      "fig, axes = plt.subplots(1, 1, figsize=(12,4))\n",
      "axes.hist(err_y1, color='g', bins=120)\n",
      "axes.set_ylabel('Error Frequency')\n",
      "axes.set_xlabel('Error')\n",
      "axes.set_title(\"Error Variations Model-1.1\")"
     ],
     "language": "python",
     "metadata": {},
     "outputs": [
      {
       "output_type": "stream",
       "stream": "stdout",
       "text": [
        "0.0108054499457\n"
       ]
      },
      {
       "metadata": {},
       "output_type": "pyout",
       "prompt_number": 24,
       "text": [
        "<matplotlib.text.Text at 0x7ffafb2f9f90>"
       ]
      },
      {
       "metadata": {},
       "output_type": "display_data",
       "png": "[encoded data removed]",
       "text": [
        "<matplotlib.figure.Figure at 0x7ffb256baf10>"
       ]
      }
     ],
     "prompt_number": 24
    },
    {
     "cell_type": "code",
     "collapsed": false,
     "input": [
      "dfErr = pd.DataFrame(data=None, columns=['Model','Minimum % Error','Maximum % Error', 'RMSE Error', 'Mean Absolute Error','Mean Percentage Error'])\n",
      "dfErr['Model'] = ('Model 1.0','Model 1.1 (Simple Autoregressive)')\n",
      "dfErr['Minimum % Error'] = (min(errVar_y0),min(errVar_y1))\n",
      "dfErr['Maximum % Error'] = (max(errVar_y0),max(errVar_y1))\n",
      "dfErr['RMSE Error'] = (errRMS_y0,errRMS_y1)\n",
      "dfErr['Mean Absolute Error'] = (np.mean(errABS_y0),np.mean(errABS_y1))\n",
      "dfErr['Mean Percentage Error'] = (np.mean(errVar_y0),np.mean(errVar_y1))"
     ],
     "language": "python",
     "metadata": {},
     "outputs": [],
     "prompt_number": 25
    },
    {
     "cell_type": "code",
     "collapsed": false,
     "input": [
      "dfErr"
     ],
     "language": "python",
     "metadata": {},
     "outputs": [
      {
       "html": [
        "<div style=\"max-height:1000px;max-width:1500px;overflow:auto;\">\n",
        "<table border=\"1\" class=\"dataframe\">\n",
        "  <thead>\n",
        "    <tr style=\"text-align: right;\">\n",
        "      <th></th>\n",
        "      <th>Model</th>\n",
        "      <th>Minimum % Error</th>\n",
        "      <th>Maximum % Error</th>\n",
        "      <th>RMSE Error</th>\n",
        "      <th>Mean Absolute Error</th>\n",
        "      <th>Mean Percentage Error</th>\n",
        "    </tr>\n",
        "  </thead>\n",
        "  <tbody>\n",
        "    <tr>\n",
        "      <th>0</th>\n",
        "      <td>                         Model 1.0</td>\n",
        "      <td> 12.250610</td>\n",
        "      <td> 69.227569</td>\n",
        "      <td> 721.981051</td>\n",
        "      <td> 641.083587</td>\n",
        "      <td> 49.435098</td>\n",
        "    </tr>\n",
        "    <tr>\n",
        "      <th>1</th>\n",
        "      <td> Model 1.1 (Simple Autoregressive)</td>\n",
        "      <td>  0.001656</td>\n",
        "      <td> 10.099929</td>\n",
        "      <td>  17.924119</td>\n",
        "      <td>  11.670018</td>\n",
        "      <td>  1.000046</td>\n",
        "    </tr>\n",
        "  </tbody>\n",
        "</table>\n",
        "</div>"
       ],
       "metadata": {},
       "output_type": "pyout",
       "prompt_number": 26,
       "text": [
        "                               Model  Minimum % Error  Maximum % Error  \\\n",
        "0                          Model 1.0        12.250610        69.227569   \n",
        "1  Model 1.1 (Simple Autoregressive)         0.001656        10.099929   \n",
        "\n",
        "   RMSE Error  Mean Absolute Error  Mean Percentage Error  \n",
        "0  721.981051           641.083587              49.435098  \n",
        "1   17.924119            11.670018               1.000046  "
       ]
      }
     ],
     "prompt_number": 26
    },
    {
     "cell_type": "code",
     "collapsed": false,
     "input": [],
     "language": "python",
     "metadata": {},
     "outputs": [],
     "prompt_number": 26
    }
   ],
   "metadata": {}
  }
 ]
}
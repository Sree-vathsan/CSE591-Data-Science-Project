{
 "metadata": {
  "name": "",
  "signature": "sha256:b3efad7d4099ea8ad0498b6788076e972db744c796aa972adeda542a8eeb95be"
 },
 "nbformat": 3,
 "nbformat_minor": 0,
 "worksheets": [
  {
   "cells": [
    {
     "cell_type": "heading",
     "level": 1,
     "metadata": {},
     "source": [
      "Linear Regression Model for Predicting Gold Price"
     ]
    },
    {
     "cell_type": "code",
     "collapsed": false,
     "input": [
      "#Needed Libraries\n",
      "%matplotlib inline\n",
      "import numpy as np\n",
      "import pandas as pd\n",
      "import matplotlib as mpl\n",
      "import matplotlib.pyplot as plt\n",
      "import statsmodels.api as sm\n",
      "import datetime\n",
      "import time\n",
      "from sklearn.metrics import mean_squared_error"
     ],
     "language": "python",
     "metadata": {},
     "outputs": [],
     "prompt_number": 1
    },
    {
     "cell_type": "code",
     "collapsed": false,
     "input": [
      "#Input Variables\n",
      "goldDataPath = 'https://raw.githubusercontent.com/Sree-vathsan/CSE591-Data-Science-Project/master/regressionModel/data/GOLD_DAILY_1994-10-03_2014-09-30.csv'\n",
      "sp500DataPath = 'https://raw.githubusercontent.com/Sree-vathsan/CSE591-Data-Science-Project/master/regressionModel/data/YAHOO_SP500_INDEX_DAILY_1994-10-03_2014-09-30.csv'\n",
      "nyseDataPath = 'https://raw.githubusercontent.com/Sree-vathsan/CSE591-Data-Science-Project/master/regressionModel/data/YAHOO_NYSE_INDEX_DAILY_1994-10-03_2014-09-30.csv'\n",
      "usdIndexDataPath = 'https://raw.githubusercontent.com/Sree-vathsan/CSE591-Data-Science-Project/master/regressionModel/data/USD_Index_Daily_1994-10-03_2014-09-30.csv'\n",
      "eurousdDataPath = 'https://raw.githubusercontent.com/Sree-vathsan/CSE591-Data-Science-Project/master/regressionModel/data/EUROUSD_1994-10-03_2014-09-30.csv'\n",
      "oilDataPath = 'https://raw.githubusercontent.com/Sree-vathsan/CSE591-Data-Science-Project/master/regressionModel/data/CRUDE_OIL_WTI_US_ENERGY_Daily_1994-10-03_2014-09-30.csv'\n",
      "trainingRatio = 0.6\n",
      "pRuns = 10 \n",
      "pThreshold = 0.4"
     ],
     "language": "python",
     "metadata": {},
     "outputs": [],
     "prompt_number": 2
    },
    {
     "cell_type": "code",
     "collapsed": false,
     "input": [
      "#Source Data Loading\n",
      "\n",
      "dfGold = pd.read_csv(goldDataPath)\n",
      "dfSP500 = pd.read_csv(sp500DataPath)\n",
      "dfNyse = pd.read_csv(nyseDataPath)\n",
      "dfUsInd = pd.read_csv(usdIndexDataPath)\n",
      "dfEurousd = pd.read_csv(eurousdDataPath)\n",
      "dfOil = pd.read_csv(oilDataPath)"
     ],
     "language": "python",
     "metadata": {},
     "outputs": [],
     "prompt_number": 3
    },
    {
     "cell_type": "code",
     "collapsed": false,
     "input": [
      "print (len(dfGold['Gold_Value']))\n",
      "\n",
      "def shiftOneBehind(dfOriginal,colNameSrc,colNameDst):\n",
      "    dfOneBehind = dfOriginal.copy()\n",
      "    #dfOneBehind = pd.DataFrame(data=None,columns=('Date',colNameDst))\n",
      "    dfOneBehind['Date'] = dfOriginal['Date']\n",
      "    for i in range(0,len(dfOriginal['Date']),1):\n",
      "        if(i < len(dfOriginal['Date']) - 1):\n",
      "            dfOneBehind[colNameDst][i] = dfOriginal[colNameSrc][i+1]        \n",
      "        else:\n",
      "            dfOneBehind[colNameDst][i] = dfOriginal[colNameSrc][i]\n",
      "    return dfOneBehind\n",
      "\n",
      "\n",
      "dfGoldOneBehind = pd.DataFrame(data=None,columns=('Date','Gold_Value'))\n",
      "dfGoldOneBehind = shiftOneBehind(dfGold,'Gold_Value','Gold_Value')\n",
      "dfGoldOneBehind.tail()"
     ],
     "language": "python",
     "metadata": {},
     "outputs": [
      {
       "output_type": "stream",
       "stream": "stdout",
       "text": [
        "5217\n"
       ]
      },
      {
       "html": [
        "<div style=\"max-height:1000px;max-width:1500px;overflow:auto;\">\n",
        "<table border=\"1\" class=\"dataframe\">\n",
        "  <thead>\n",
        "    <tr style=\"text-align: right;\">\n",
        "      <th></th>\n",
        "      <th>Date</th>\n",
        "      <th>Gold_Value</th>\n",
        "    </tr>\n",
        "  </thead>\n",
        "  <tbody>\n",
        "    <tr>\n",
        "      <th>5212</th>\n",
        "      <td> 10/7/1994</td>\n",
        "      <td> 392.00</td>\n",
        "    </tr>\n",
        "    <tr>\n",
        "      <th>5213</th>\n",
        "      <td> 10/6/1994</td>\n",
        "      <td> 393.70</td>\n",
        "    </tr>\n",
        "    <tr>\n",
        "      <th>5214</th>\n",
        "      <td> 10/5/1994</td>\n",
        "      <td> 392.45</td>\n",
        "    </tr>\n",
        "    <tr>\n",
        "      <th>5215</th>\n",
        "      <td> 10/4/1994</td>\n",
        "      <td> 393.20</td>\n",
        "    </tr>\n",
        "    <tr>\n",
        "      <th>5216</th>\n",
        "      <td> 10/3/1994</td>\n",
        "      <td> 393.20</td>\n",
        "    </tr>\n",
        "  </tbody>\n",
        "</table>\n",
        "</div>"
       ],
       "metadata": {},
       "output_type": "pyout",
       "prompt_number": 4,
       "text": [
        "           Date  Gold_Value\n",
        "5212  10/7/1994      392.00\n",
        "5213  10/6/1994      393.70\n",
        "5214  10/5/1994      392.45\n",
        "5215  10/4/1994      393.20\n",
        "5216  10/3/1994      393.20"
       ]
      }
     ],
     "prompt_number": 4
    },
    {
     "cell_type": "code",
     "collapsed": false,
     "input": [
      "#Shift SP500, NYSE, USIND, EUROUSD, OIL one day behind\n",
      "dfSP500OneBehind = shiftOneBehind(dfSP500,'SP500_Value','SP500_Value')\n",
      "dfNyseOneBehind = shiftOneBehind(dfNyse,'NYSE_Value','NYSE_Value')\n",
      "dfUsIndOneBehind = shiftOneBehind(dfUsInd,'USD_Value','USD_Value')\n",
      "dfEurousdOneBehind = shiftOneBehind(dfEurousd, 'EURO/USD_Value', 'EURO/USD_Value')\n",
      "dfOilOneBehind = shiftOneBehind(dfOil,'Oil_Value','Oil_Value')\n",
      "#Verify\n",
      "print dfSP500OneBehind.tail()\n",
      "print dfNyseOneBehind.tail()\n",
      "print dfUsIndOneBehind.tail()\n",
      "print dfEurousdOneBehind.tail()\n",
      "print dfOilOneBehind.tail()"
     ],
     "language": "python",
     "metadata": {},
     "outputs": [
      {
       "output_type": "stream",
       "stream": "stdout",
       "text": [
        "           Date  SP500_Value\n",
        "5030  10/7/1994       452.36\n",
        "5031  10/6/1994       453.52\n",
        "5032  10/5/1994       454.59\n",
        "5033  10/4/1994       461.74\n",
        "5034  10/3/1994       461.74\n",
        "           Date  NYSE_Value\n",
        "5030  10/7/1994     2642.69\n",
        "5031  10/6/1994     2647.24\n",
        "5032  10/5/1994     2658.87\n",
        "5033  10/4/1994     2695.67\n",
        "5034  10/3/1994     2695.67\n",
        "           Date  USD_Value\n",
        "5024  10/7/1994    85.8219\n",
        "5025  10/6/1994    85.7657\n",
        "5026  10/5/1994    85.9173\n",
        "5027  10/4/1994    85.9581\n",
        "5028  10/3/1994    85.9581\n",
        "           Date  EURO/USD_Value\n",
        "5104  10/7/1994          1.2424\n",
        "5105  10/6/1994          1.2432\n",
        "5106  10/5/1994          1.2382\n",
        "5107  10/4/1994          1.2328\n",
        "5108  10/3/1994          1.2328\n",
        "           Date  Oil_Value\n",
        "5018  10/7/1994      18.24\n",
        "5019  10/6/1994      18.01\n",
        "5020  10/5/1994      17.97\n",
        "5021  10/4/1994      18.16\n",
        "5022  10/3/1994      18.16\n"
       ]
      }
     ],
     "prompt_number": 5
    },
    {
     "cell_type": "code",
     "collapsed": false,
     "input": [
      "dfMaster = pd.merge(dfGoldOneBehind, dfSP500OneBehind, on='Date', how='inner')\n",
      "dfMaster = pd.merge(dfMaster, dfNyseOneBehind, on='Date', how='inner')\n",
      "dfMaster = pd.merge(dfMaster, dfUsIndOneBehind, on='Date', how='inner')\n",
      "dfMaster = pd.merge(dfMaster, dfEurousdOneBehind, on='Date', how='inner')\n",
      "dfMaster = pd.merge(dfMaster, dfOilOneBehind, on='Date', how='inner')\n",
      "dfMaster.head()\n",
      "#print dfMaster.shape"
     ],
     "language": "python",
     "metadata": {},
     "outputs": [
      {
       "html": [
        "<div style=\"max-height:1000px;max-width:1500px;overflow:auto;\">\n",
        "<table border=\"1\" class=\"dataframe\">\n",
        "  <thead>\n",
        "    <tr style=\"text-align: right;\">\n",
        "      <th></th>\n",
        "      <th>Date</th>\n",
        "      <th>Gold_Value</th>\n",
        "      <th>SP500_Value</th>\n",
        "      <th>NYSE_Value</th>\n",
        "      <th>USD_Value</th>\n",
        "      <th>EURO/USD_Value</th>\n",
        "      <th>Oil_Value</th>\n",
        "    </tr>\n",
        "  </thead>\n",
        "  <tbody>\n",
        "    <tr>\n",
        "      <th>0</th>\n",
        "      <td> 9/30/2014</td>\n",
        "      <td> 1219.5</td>\n",
        "      <td> 1977.80</td>\n",
        "      <td> 10749.05</td>\n",
        "      <td> 80.9136</td>\n",
        "      <td> 1.27103</td>\n",
        "      <td> 94.53</td>\n",
        "    </tr>\n",
        "    <tr>\n",
        "      <th>1</th>\n",
        "      <td> 9/29/2014</td>\n",
        "      <td> 1213.8</td>\n",
        "      <td> 1982.85</td>\n",
        "      <td> 10798.88</td>\n",
        "      <td> 80.9983</td>\n",
        "      <td> 1.27777</td>\n",
        "      <td> 95.55</td>\n",
        "    </tr>\n",
        "    <tr>\n",
        "      <th>2</th>\n",
        "      <td> 9/26/2014</td>\n",
        "      <td> 1213.8</td>\n",
        "      <td> 1965.99</td>\n",
        "      <td> 10722.21</td>\n",
        "      <td> 80.5957</td>\n",
        "      <td> 1.28405</td>\n",
        "      <td> 93.59</td>\n",
        "    </tr>\n",
        "    <tr>\n",
        "      <th>3</th>\n",
        "      <td> 9/25/2014</td>\n",
        "      <td> 1217.3</td>\n",
        "      <td> 1998.30</td>\n",
        "      <td> 10885.60</td>\n",
        "      <td> 80.4465</td>\n",
        "      <td> 1.28558</td>\n",
        "      <td> 93.60</td>\n",
        "    </tr>\n",
        "    <tr>\n",
        "      <th>4</th>\n",
        "      <td> 9/24/2014</td>\n",
        "      <td> 1222.0</td>\n",
        "      <td> 1982.77</td>\n",
        "      <td> 10815.42</td>\n",
        "      <td> 80.1793</td>\n",
        "      <td> 1.28396</td>\n",
        "      <td> 91.55</td>\n",
        "    </tr>\n",
        "  </tbody>\n",
        "</table>\n",
        "</div>"
       ],
       "metadata": {},
       "output_type": "pyout",
       "prompt_number": 6,
       "text": [
        "        Date  Gold_Value  SP500_Value  NYSE_Value  USD_Value  EURO/USD_Value  \\\n",
        "0  9/30/2014      1219.5      1977.80    10749.05    80.9136         1.27103   \n",
        "1  9/29/2014      1213.8      1982.85    10798.88    80.9983         1.27777   \n",
        "2  9/26/2014      1213.8      1965.99    10722.21    80.5957         1.28405   \n",
        "3  9/25/2014      1217.3      1998.30    10885.60    80.4465         1.28558   \n",
        "4  9/24/2014      1222.0      1982.77    10815.42    80.1793         1.28396   \n",
        "\n",
        "   Oil_Value  \n",
        "0      94.53  \n",
        "1      95.55  \n",
        "2      93.59  \n",
        "3      93.60  \n",
        "4      91.55  "
       ]
      }
     ],
     "prompt_number": 6
    },
    {
     "cell_type": "code",
     "collapsed": false,
     "input": [
      "dfMaster.tail()"
     ],
     "language": "python",
     "metadata": {},
     "outputs": [
      {
       "html": [
        "<div style=\"max-height:1000px;max-width:1500px;overflow:auto;\">\n",
        "<table border=\"1\" class=\"dataframe\">\n",
        "  <thead>\n",
        "    <tr style=\"text-align: right;\">\n",
        "      <th></th>\n",
        "      <th>Date</th>\n",
        "      <th>Gold_Value</th>\n",
        "      <th>SP500_Value</th>\n",
        "      <th>NYSE_Value</th>\n",
        "      <th>USD_Value</th>\n",
        "      <th>EURO/USD_Value</th>\n",
        "      <th>Oil_Value</th>\n",
        "    </tr>\n",
        "  </thead>\n",
        "  <tbody>\n",
        "    <tr>\n",
        "      <th>4916</th>\n",
        "      <td> 10/7/1994</td>\n",
        "      <td> 392.00</td>\n",
        "      <td> 452.36</td>\n",
        "      <td> 2642.69</td>\n",
        "      <td> 85.8219</td>\n",
        "      <td> 1.2424</td>\n",
        "      <td> 18.24</td>\n",
        "    </tr>\n",
        "    <tr>\n",
        "      <th>4917</th>\n",
        "      <td> 10/6/1994</td>\n",
        "      <td> 393.70</td>\n",
        "      <td> 453.52</td>\n",
        "      <td> 2647.24</td>\n",
        "      <td> 85.7657</td>\n",
        "      <td> 1.2432</td>\n",
        "      <td> 18.01</td>\n",
        "    </tr>\n",
        "    <tr>\n",
        "      <th>4918</th>\n",
        "      <td> 10/5/1994</td>\n",
        "      <td> 392.45</td>\n",
        "      <td> 454.59</td>\n",
        "      <td> 2658.87</td>\n",
        "      <td> 85.9173</td>\n",
        "      <td> 1.2382</td>\n",
        "      <td> 17.97</td>\n",
        "    </tr>\n",
        "    <tr>\n",
        "      <th>4919</th>\n",
        "      <td> 10/4/1994</td>\n",
        "      <td> 393.20</td>\n",
        "      <td> 461.74</td>\n",
        "      <td> 2695.67</td>\n",
        "      <td> 85.9581</td>\n",
        "      <td> 1.2328</td>\n",
        "      <td> 18.16</td>\n",
        "    </tr>\n",
        "    <tr>\n",
        "      <th>4920</th>\n",
        "      <td> 10/3/1994</td>\n",
        "      <td> 393.20</td>\n",
        "      <td> 461.74</td>\n",
        "      <td> 2695.67</td>\n",
        "      <td> 85.9581</td>\n",
        "      <td> 1.2328</td>\n",
        "      <td> 18.16</td>\n",
        "    </tr>\n",
        "  </tbody>\n",
        "</table>\n",
        "</div>"
       ],
       "metadata": {},
       "output_type": "pyout",
       "prompt_number": 7,
       "text": [
        "           Date  Gold_Value  SP500_Value  NYSE_Value  USD_Value  \\\n",
        "4916  10/7/1994      392.00       452.36     2642.69    85.8219   \n",
        "4917  10/6/1994      393.70       453.52     2647.24    85.7657   \n",
        "4918  10/5/1994      392.45       454.59     2658.87    85.9173   \n",
        "4919  10/4/1994      393.20       461.74     2695.67    85.9581   \n",
        "4920  10/3/1994      393.20       461.74     2695.67    85.9581   \n",
        "\n",
        "      EURO/USD_Value  Oil_Value  \n",
        "4916          1.2424      18.24  \n",
        "4917          1.2432      18.01  \n",
        "4918          1.2382      17.97  \n",
        "4919          1.2328      18.16  \n",
        "4920          1.2328      18.16  "
       ]
      }
     ],
     "prompt_number": 7
    },
    {
     "cell_type": "code",
     "collapsed": false,
     "input": [
      "print dfMaster.shape"
     ],
     "language": "python",
     "metadata": {},
     "outputs": [
      {
       "output_type": "stream",
       "stream": "stdout",
       "text": [
        "(4921, 7)\n"
       ]
      }
     ],
     "prompt_number": 8
    },
    {
     "cell_type": "code",
     "collapsed": false,
     "input": [
      "#Corelation Heat Matrix\n",
      "\n",
      "def computeDataTableCorr(datatable, columnNames):\n",
      "    corrCandidates =  datatable[candidatesList]\n",
      "    return corrCandidates.corr()\n",
      "\n",
      "# Plotting correlation heat graph\n",
      "def displayCorrHeatGraph(cTable, title):\n",
      "    #_ = pd.scatter_matrix(corrTable, diagonal='kde', figsize=(10, 10))\n",
      "    plt.imshow(cTable, cmap='hot', interpolation='none')\n",
      "    plt.colorbar()\n",
      "    plt.xticks(range(len(cTable)), cTable.columns, rotation=90)\n",
      "    plt.yticks(range(len(cTable)), cTable.columns)\n",
      "    plt.title(title)\n",
      "    \n",
      "candidatesList = ['Gold_Value', 'SP500_Value', 'NYSE_Value', 'USD_Value', 'EURO/USD_Value', 'Oil_Value']\n",
      "corrTable = computeDataTableCorr(dfMaster,candidatesList)\n",
      "print(corrTable)\n",
      "\n",
      "displayCorrHeatGraph(corrTable,\n",
      "    'Correlation Heat Matrix (Gold_Value, SP500_Value, NYSE_Value, USD_Value, EURO/USD_Value, Oil_Value)')"
     ],
     "language": "python",
     "metadata": {},
     "outputs": [
      {
       "output_type": "stream",
       "stream": "stdout",
       "text": [
        "                Gold_Value  SP500_Value  NYSE_Value  USD_Value  \\\n",
        "Gold_Value        1.000000     0.461485    0.578967  -0.792106   \n",
        "SP500_Value       0.461485     1.000000    0.940998  -0.241948   \n",
        "NYSE_Value        0.578967     0.940998    1.000000  -0.462967   \n",
        "USD_Value        -0.792106    -0.241948   -0.462967   1.000000   \n",
        "EURO/USD_Value    0.628074     0.105645    0.350845  -0.945491   \n",
        "Oil_Value         0.860482     0.625074    0.789134  -0.805489   \n",
        "\n",
        "                EURO/USD_Value  Oil_Value  \n",
        "Gold_Value            0.628074   0.860482  \n",
        "SP500_Value           0.105645   0.625074  \n",
        "NYSE_Value            0.350845   0.789134  \n",
        "USD_Value            -0.945491  -0.805489  \n",
        "EURO/USD_Value        1.000000   0.692399  \n",
        "Oil_Value             0.692399   1.000000  \n"
       ]
      },
      {
       "metadata": {},
       "output_type": "display_data",
       "png": "[encoded data removed]",
       "text": [
        "<matplotlib.figure.Figure at 0x7f42a5d5d950>"
       ]
      }
     ],
     "prompt_number": 9
    },
    {
     "cell_type": "code",
     "collapsed": false,
     "input": [
      "dfCorrGold = corrTable[:1]\n",
      "dfCorrGold"
     ],
     "language": "python",
     "metadata": {},
     "outputs": [
      {
       "html": [
        "<div style=\"max-height:1000px;max-width:1500px;overflow:auto;\">\n",
        "<table border=\"1\" class=\"dataframe\">\n",
        "  <thead>\n",
        "    <tr style=\"text-align: right;\">\n",
        "      <th></th>\n",
        "      <th>Gold_Value</th>\n",
        "      <th>SP500_Value</th>\n",
        "      <th>NYSE_Value</th>\n",
        "      <th>USD_Value</th>\n",
        "      <th>EURO/USD_Value</th>\n",
        "      <th>Oil_Value</th>\n",
        "    </tr>\n",
        "  </thead>\n",
        "  <tbody>\n",
        "    <tr>\n",
        "      <th>Gold_Value</th>\n",
        "      <td> 1</td>\n",
        "      <td> 0.461485</td>\n",
        "      <td> 0.578967</td>\n",
        "      <td>-0.792106</td>\n",
        "      <td> 0.628074</td>\n",
        "      <td> 0.860482</td>\n",
        "    </tr>\n",
        "  </tbody>\n",
        "</table>\n",
        "</div>"
       ],
       "metadata": {},
       "output_type": "pyout",
       "prompt_number": 10,
       "text": [
        "            Gold_Value  SP500_Value  NYSE_Value  USD_Value  EURO/USD_Value  \\\n",
        "Gold_Value           1     0.461485    0.578967  -0.792106        0.628074   \n",
        "\n",
        "            Oil_Value  \n",
        "Gold_Value   0.860482  "
       ]
      }
     ],
     "prompt_number": 10
    },
    {
     "cell_type": "heading",
     "level": 3,
     "metadata": {},
     "source": [
      "p-Values"
     ]
    },
    {
     "cell_type": "code",
     "collapsed": false,
     "input": [
      "#pValue Test\n",
      "def shuffleAndCorr(df, orgCorr, runs=10, threshold=0.3, axis=0):     \n",
      "    df_sh = df.copy(deep=True)\n",
      "    success_count = 0\n",
      "    for _ in range(runs):\n",
      "        df_sh.apply(np.random.shuffle, axis=axis)\n",
      "        newCor = df_sh['Col1'].corr(df_sh['Col2'])\n",
      "        if (orgCorr < 0): orgCorr = orgCorr * -1\n",
      "        if (newCor < 0): newCor = newCor * -1\n",
      "        #print(newCor)\n",
      "        diff = abs(newCor - orgCorr)\n",
      "        #print(diff)\n",
      "        if (diff < threshold): success_count = success_count + 1\n",
      "    p = success_count / runs\n",
      "    return p\n",
      "\n",
      "dfpValue = pd.DataFrame(data=None,columns=candidatesList)\n",
      "pValue = []\n",
      "pValue.append(0)\n",
      "\n",
      "for i in range(1,len(candidatesList),1):\n",
      "    orgCorr = dfCorrGold[candidatesList[i]]\n",
      "    #print(orgCorr)\n",
      "    temp_df = pd.DataFrame({'Col1':dfMaster[candidatesList[0]], \\\n",
      "                                'Col2':dfMaster[candidatesList[i]]})\n",
      "    pValue.append(shuffleAndCorr(temp_df,np.float(orgCorr),pRuns,pThreshold))\n",
      "\n",
      "dfpValue.loc[0] = pValue\n",
      "dfpValue"
     ],
     "language": "python",
     "metadata": {},
     "outputs": [
      {
       "html": [
        "<div style=\"max-height:1000px;max-width:1500px;overflow:auto;\">\n",
        "<table border=\"1\" class=\"dataframe\">\n",
        "  <thead>\n",
        "    <tr style=\"text-align: right;\">\n",
        "      <th></th>\n",
        "      <th>Gold_Value</th>\n",
        "      <th>SP500_Value</th>\n",
        "      <th>NYSE_Value</th>\n",
        "      <th>USD_Value</th>\n",
        "      <th>EURO/USD_Value</th>\n",
        "      <th>Oil_Value</th>\n",
        "    </tr>\n",
        "  </thead>\n",
        "  <tbody>\n",
        "    <tr>\n",
        "      <th>0</th>\n",
        "      <td> 0</td>\n",
        "      <td> 0</td>\n",
        "      <td> 0</td>\n",
        "      <td> 0</td>\n",
        "      <td> 0</td>\n",
        "      <td> 0</td>\n",
        "    </tr>\n",
        "  </tbody>\n",
        "</table>\n",
        "</div>"
       ],
       "metadata": {},
       "output_type": "pyout",
       "prompt_number": 11,
       "text": [
        "   Gold_Value  SP500_Value  NYSE_Value  USD_Value  EURO/USD_Value  Oil_Value\n",
        "0           0            0           0          0               0          0"
       ]
      }
     ],
     "prompt_number": 11
    },
    {
     "cell_type": "markdown",
     "metadata": {},
     "source": [
      "### As the p-Values are all zeros, The factors does not correlates by chance."
     ]
    },
    {
     "cell_type": "markdown",
     "metadata": {},
     "source": [
      "##Model 1.0: Multivariate Linear Regression"
     ]
    },
    {
     "cell_type": "code",
     "collapsed": false,
     "input": [
      "import statsmodels.api as sm"
     ],
     "language": "python",
     "metadata": {},
     "outputs": [],
     "prompt_number": 12
    },
    {
     "cell_type": "code",
     "collapsed": false,
     "input": [
      "#Inputs, Train and Test Data preparation\n",
      "trainSize = np.floor(len(dfMaster['Date']) * trainingRatio) #60:40 ratio\n",
      "dfMasterTrain = dfMaster[len(dfMaster)-np.int(trainSize):len(dfMaster)]\n",
      "dfMasterTest = dfMaster[0:(len(dfMaster)-np.int(trainSize))-1]"
     ],
     "language": "python",
     "metadata": {},
     "outputs": [],
     "prompt_number": 13
    },
    {
     "cell_type": "code",
     "collapsed": false,
     "input": [
      "#[2]USD [3]EURO/USD [4]OIL\n",
      "xArrTrain = [ \\\n",
      "         #np.array(dfMasterTrain[candidatesList[0]]), \\\n",
      "         np.array(dfMasterTrain[candidatesList[2]]), \\\n",
      "         np.array(dfMasterTrain[candidatesList[3]]), \\\n",
      "         np.array(dfMasterTrain[candidatesList[4]]), \\\n",
      "         ]\n",
      "xArrTrain = np.array(xArrTrain)\n",
      "xArrTest = [ \\\n",
      "         #np.array(dfMasterTest[candidatesList[0]]), \\\n",
      "         np.array(dfMasterTest[candidatesList[2]]), \\\n",
      "         np.array(dfMasterTest[candidatesList[3]]), \\\n",
      "         np.array(dfMasterTest[candidatesList[4]]), \\\n",
      "         ]\n",
      "xArrTest = np.array(xArrTest)\n",
      "\n",
      "yArrTrain = np.array(dfMasterTrain[candidatesList[0]])\n",
      "yArrTest = np.array(dfMasterTest[candidatesList[0]])"
     ],
     "language": "python",
     "metadata": {},
     "outputs": [],
     "prompt_number": 14
    },
    {
     "cell_type": "code",
     "collapsed": false,
     "input": [
      "def mvRegress(y, x):\n",
      "    ones = np.ones(len(x[0]))\n",
      "    X = sm.add_constant(np.column_stack((x[0], ones)))\n",
      "    for ele in x[1:]:\n",
      "        X = sm.add_constant(np.column_stack((ele, X)))\n",
      "    results = sm.OLS(y, X).fit()\n",
      "    return results\n",
      "\n",
      "def mvPredict(x,res):\n",
      "    ones = np.ones(len(x[0]))\n",
      "    X = sm.add_constant(np.column_stack((x[0], ones)))\n",
      "    for ele in x[1:]:\n",
      "        X = sm.add_constant(np.column_stack((ele, X)))\n",
      "    return res.predict(X)"
     ],
     "language": "python",
     "metadata": {},
     "outputs": [],
     "prompt_number": 15
    },
    {
     "cell_type": "code",
     "collapsed": false,
     "input": [
      "res = mvRegress(yArrTrain, xArrTrain)"
     ],
     "language": "python",
     "metadata": {},
     "outputs": [],
     "prompt_number": 16
    },
    {
     "cell_type": "code",
     "collapsed": false,
     "input": [
      "res.summary()"
     ],
     "language": "python",
     "metadata": {},
     "outputs": [
      {
       "html": [
        "<table class=\"simpletable\">\n",
        "<caption>OLS Regression Results</caption>\n",
        "<tr>\n",
        "  <th>Dep. Variable:</th>            <td>y</td>        <th>  R-squared:         </th> <td>   0.709</td> \n",
        "</tr>\n",
        "<tr>\n",
        "  <th>Model:</th>                   <td>OLS</td>       <th>  Adj. R-squared:    </th> <td>   0.708</td> \n",
        "</tr>\n",
        "<tr>\n",
        "  <th>Method:</th>             <td>Least Squares</td>  <th>  F-statistic:       </th> <td>   2390.</td> \n",
        "</tr>\n",
        "<tr>\n",
        "  <th>Date:</th>             <td>Sun, 02 Nov 2014</td> <th>  Prob (F-statistic):</th>  <td>  0.00</td>  \n",
        "</tr>\n",
        "<tr>\n",
        "  <th>Time:</th>                 <td>18:31:32</td>     <th>  Log-Likelihood:    </th> <td> -15527.</td> \n",
        "</tr>\n",
        "<tr>\n",
        "  <th>No. Observations:</th>      <td>  2952</td>      <th>  AIC:               </th> <td>3.106e+04</td>\n",
        "</tr>\n",
        "<tr>\n",
        "  <th>Df Residuals:</th>          <td>  2948</td>      <th>  BIC:               </th> <td>3.109e+04</td>\n",
        "</tr>\n",
        "<tr>\n",
        "  <th>Df Model:</th>              <td>     3</td>      <th>                     </th>     <td> </td>    \n",
        "</tr>\n",
        "</table>\n",
        "<table class=\"simpletable\">\n",
        "<tr>\n",
        "    <td></td>       <th>coef</th>     <th>std err</th>      <th>t</th>      <th>P>|t|</th> <th>[95.0% Conf. Int.]</th> \n",
        "</tr>\n",
        "<tr>\n",
        "  <th>x1</th>    <td>  -19.4471</td> <td>   24.616</td> <td>   -0.790</td> <td> 0.430</td> <td>  -67.713    28.819</td>\n",
        "</tr>\n",
        "<tr>\n",
        "  <th>x2</th>    <td>   -8.3081</td> <td>    0.383</td> <td>  -21.684</td> <td> 0.000</td> <td>   -9.059    -7.557</td>\n",
        "</tr>\n",
        "<tr>\n",
        "  <th>x3</th>    <td>    0.0189</td> <td>    0.001</td> <td>   26.340</td> <td> 0.000</td> <td>    0.018     0.020</td>\n",
        "</tr>\n",
        "<tr>\n",
        "  <th>const</th> <td> 1048.1661</td> <td>   65.417</td> <td>   16.023</td> <td> 0.000</td> <td>  919.899  1176.434</td>\n",
        "</tr>\n",
        "</table>\n",
        "<table class=\"simpletable\">\n",
        "<tr>\n",
        "  <th>Omnibus:</th>       <td>342.707</td> <th>  Durbin-Watson:     </th> <td>   0.008</td> \n",
        "</tr>\n",
        "<tr>\n",
        "  <th>Prob(Omnibus):</th> <td> 0.000</td>  <th>  Jarque-Bera (JB):  </th> <td> 514.982</td> \n",
        "</tr>\n",
        "<tr>\n",
        "  <th>Skew:</th>          <td> 0.847</td>  <th>  Prob(JB):          </th> <td>1.49e-112</td>\n",
        "</tr>\n",
        "<tr>\n",
        "  <th>Kurtosis:</th>      <td> 4.148</td>  <th>  Cond. No.          </th> <td>4.85e+05</td> \n",
        "</tr>\n",
        "</table>"
       ],
       "metadata": {},
       "output_type": "pyout",
       "prompt_number": 17,
       "text": [
        "<class 'statsmodels.iolib.summary.Summary'>\n",
        "\"\"\"\n",
        "                            OLS Regression Results                            \n",
        "==============================================================================\n",
        "Dep. Variable:                      y   R-squared:                       0.709\n",
        "Model:                            OLS   Adj. R-squared:                  0.708\n",
        "Method:                 Least Squares   F-statistic:                     2390.\n",
        "Date:                Sun, 02 Nov 2014   Prob (F-statistic):               0.00\n",
        "Time:                        18:31:32   Log-Likelihood:                -15527.\n",
        "No. Observations:                2952   AIC:                         3.106e+04\n",
        "Df Residuals:                    2948   BIC:                         3.109e+04\n",
        "Df Model:                           3                                         \n",
        "==============================================================================\n",
        "                 coef    std err          t      P>|t|      [95.0% Conf. Int.]\n",
        "------------------------------------------------------------------------------\n",
        "x1           -19.4471     24.616     -0.790      0.430       -67.713    28.819\n",
        "x2            -8.3081      0.383    -21.684      0.000        -9.059    -7.557\n",
        "x3             0.0189      0.001     26.340      0.000         0.018     0.020\n",
        "const       1048.1661     65.417     16.023      0.000       919.899  1176.434\n",
        "==============================================================================\n",
        "Omnibus:                      342.707   Durbin-Watson:                   0.008\n",
        "Prob(Omnibus):                  0.000   Jarque-Bera (JB):              514.982\n",
        "Skew:                           0.847   Prob(JB):                    1.49e-112\n",
        "Kurtosis:                       4.148   Cond. No.                     4.85e+05\n",
        "==============================================================================\n",
        "\n",
        "Warnings:\n",
        "[1] The condition number is large, 4.85e+05. This might indicate that there are\n",
        "strong multicollinearity or other numerical problems.\n",
        "\"\"\""
       ]
      }
     ],
     "prompt_number": 17
    },
    {
     "cell_type": "code",
     "collapsed": false,
     "input": [
      "res.params"
     ],
     "language": "python",
     "metadata": {},
     "outputs": [
      {
       "metadata": {},
       "output_type": "pyout",
       "prompt_number": 18,
       "text": [
        "array([ -1.94470574e+01,  -8.30814665e+00,   1.89479629e-02,\n",
        "         1.04816608e+03])"
       ]
      }
     ],
     "prompt_number": 18
    },
    {
     "cell_type": "code",
     "collapsed": false,
     "input": [
      "#res.params\n",
      "# estY = res.params[3] + (res.params[2] * xArrTest[0]) + (res.params[1] * xArrTest[1]) + (res.params[0] * xArrTest[2])\n",
      "yPred0 = mvPredict(xArrTest,res)\n",
      "#yPred0"
     ],
     "language": "python",
     "metadata": {},
     "outputs": [],
     "prompt_number": 19
    },
    {
     "cell_type": "code",
     "collapsed": false,
     "input": [
      "yArrTest"
     ],
     "language": "python",
     "metadata": {},
     "outputs": [
      {
       "metadata": {},
       "output_type": "pyout",
       "prompt_number": 20,
       "text": [
        "array([ 1219.5,  1213.8,  1213.8, ...,   594. ,   590. ,   595.1])"
       ]
      }
     ],
     "prompt_number": 20
    },
    {
     "cell_type": "code",
     "collapsed": false,
     "input": [
      "def futurePredictMLR(res,usdi,eurousd,oil):\n",
      "    return (res.params[3] + (res.params[2] * usdi) + (res.params[1] * eurousd) + (res.params[0] * oil))"
     ],
     "language": "python",
     "metadata": {},
     "outputs": [],
     "prompt_number": 21
    },
    {
     "cell_type": "markdown",
     "metadata": {},
     "source": [
      "###Future Gold Price (By Model 1.0 - Multivariate Linear Regression)\n",
      "####GP(i) = (1048.1661) + ( 0.0189 \\* usd(i)) + ( -8.3081 \\* eurousd(i) ) + ( -19.4471 \\* oil(i) )"
     ]
    },
    {
     "cell_type": "markdown",
     "metadata": {},
     "source": [
      "##Model 1.1: Simple Autoregressive Model based on the last three day prices only."
     ]
    },
    {
     "cell_type": "code",
     "collapsed": false,
     "input": [
      "yArrTrain = np.array(dfMasterTrain[candidatesList[0]])\n",
      "yArrTest = np.array(dfMasterTest[candidatesList[0]])\n",
      "\n",
      "xArrTrain = [ \\\n",
      "         #np.array(dfMasterTrain[candidatesList[0]]), \\\n",
      "         np.array(dfMasterTrain[candidatesList[0]]), \\\n",
      "         np.array(dfMasterTrain[candidatesList[0]]), \\\n",
      "         np.array(dfMasterTrain[candidatesList[0]]), \\\n",
      "         ]\n",
      "xArrTrain = np.array(xArrTrain)\n",
      "#train is essentially the same as test!! \n",
      "\n",
      "xArrTest = [ \\\n",
      "         #np.array(dfMasterTest[candidatesList[0]]), \\\n",
      "         np.array(dfMasterTest[candidatesList[0]]), \\\n",
      "         np.array(dfMasterTest[candidatesList[0]]), \\\n",
      "         np.array(dfMasterTest[candidatesList[0]]), \\\n",
      "         ]\n",
      "xArrTest = np.array(xArrTest)\n",
      "\n",
      "\n",
      "\n",
      "\n",
      "#print (xArrTrain)            \n",
      "#print (xArrTrain)            \n",
      "#print(xArrTrain[0][])"
     ],
     "language": "python",
     "metadata": {},
     "outputs": [],
     "prompt_number": 22
    },
    {
     "cell_type": "code",
     "collapsed": false,
     "input": [
      "print (xArrTest)\n",
      "print (xArrTrain)\n",
      "#print (xArrTrain[0][5])\n",
      "n=len(xArrTrain[0])\n",
      "for i in range(0,3,1):\n",
      "    for j in range(0,n,1):\n",
      "        if(j<n-i-1):\n",
      "            xArrTrain[i][j]=xArrTrain[i][j+i+1]\n",
      "        else:\n",
      "            xArrTrain[i][j]=xArrTrain[i][n-1]\n",
      "            \n",
      "n=len(xArrTest[0])\n",
      "for i in range(0,3,1):\n",
      "    for j in range(0,n,1):\n",
      "        if(j<n-i-1):\n",
      "            xArrTest[i][j]=xArrTest[i][j+i+1]\n",
      "        else:\n",
      "            xArrTest[i][j]=xArrTest[i][n-1]   \n",
      "\n",
      "print (xArrTrain)\n",
      "print (xArrTest)"
     ],
     "language": "python",
     "metadata": {},
     "outputs": [
      {
       "output_type": "stream",
       "stream": "stdout",
       "text": [
        "[[ 1219.5  1213.8  1213.8 ...,   594.    590.    595.1]\n",
        " [ 1219.5  1213.8  1213.8 ...,   594.    590.    595.1]\n",
        " [ 1219.5  1213.8  1213.8 ...,   594.    590.    595.1]]\n",
        "[[ 573.    574.1   571.4  ...,  392.45  393.2   393.2 ]\n",
        " [ 573.    574.1   571.4  ...,  392.45  393.2   393.2 ]\n",
        " [ 573.    574.1   571.4  ...,  392.45  393.2   393.2 ]]\n",
        "[[ 574.1  571.4  575.3 ...,  393.2  393.2  393.2]\n",
        " [ 571.4  575.3  573.3 ...,  393.2  393.2  393.2]\n",
        " [ 575.3  573.3  573.6 ...,  393.2  393.2  393.2]]\n",
        "[[ 1213.8  1213.8  1217.3 ...,   590.    595.1   595.1]\n",
        " [ 1213.8  1217.3  1222.  ...,   595.1   595.1   595.1]\n",
        " [ 1217.3  1222.   1213.5 ...,   595.1   595.1   595.1]]\n"
       ]
      }
     ],
     "prompt_number": 23
    },
    {
     "cell_type": "code",
     "collapsed": false,
     "input": [
      "result = mvRegress(yArrTrain, xArrTrain)\n",
      "result.summary()\n",
      "yPred1 = mvPredict(xArrTest,result)\n",
      "tweak = np.empty(len(yPred1))\n",
      "tweak.fill(0.036515358062)\n",
      "yPred1 = np.add(yPred1,tweak)\n",
      "print (result.params[3])\n",
      "print (result.params[2])\n",
      "print (result.params[1])\n",
      "print (result.params[0])"
     ],
     "language": "python",
     "metadata": {},
     "outputs": [
      {
       "output_type": "stream",
       "stream": "stdout",
       "text": [
        "0.00705306597369\n",
        "1.01014590019\n",
        "-0.0574113039927\n",
        "0.0474216676995\n"
       ]
      }
     ],
     "prompt_number": 24
    },
    {
     "cell_type": "markdown",
     "metadata": {},
     "source": [
      "# Time Series Analysis - Auto Regression Models\n",
      "## Model 1.2: Univariate Autogressive Processes (AR)"
     ]
    },
    {
     "cell_type": "markdown",
     "metadata": {},
     "source": [
      "## Model 1.3: Autogressive Moving-Average Processes (ARMA) and Kalman Filter"
     ]
    },
    {
     "cell_type": "markdown",
     "metadata": {},
     "source": [
      "## Model 1.4: Vector Autogressive Processes (VAR)"
     ]
    },
    {
     "cell_type": "markdown",
     "metadata": {},
     "source": [
      "### Error Metrics"
     ]
    },
    {
     "cell_type": "code",
     "collapsed": false,
     "input": [
      "from sklearn.metrics import mean_squared_error"
     ],
     "language": "python",
     "metadata": {},
     "outputs": [],
     "prompt_number": 25
    },
    {
     "cell_type": "code",
     "collapsed": false,
     "input": [
      "errVar_y0 = 100 * (np.absolute(yPred0 - yArrTest) / yArrTest)\n",
      "errRMS_y0 = np.sqrt(mean_squared_error(yArrTest,yPred0))\n",
      "errABS_y0= np.absolute(yPred0-yArrTest)\n",
      "\n",
      "errVar_y1 = 100 * (np.absolute(yPred1 - yArrTest) / yArrTest)\n",
      "errRMS_y1 = np.sqrt(mean_squared_error(yArrTest,yPred1))\n",
      "errABS_y1= np.absolute(yPred1-yArrTest)\n",
      "\n",
      "err_y1 = yPred1 - yArrTest\n",
      "print np.mean(err_y1)\n",
      "\n",
      "fig, axes = plt.subplots(1, 1, figsize=(12,4))\n",
      "axes.hist(err_y1, color='g', bins=120)\n",
      "axes.set_ylabel('Error Frequency')\n",
      "axes.set_xlabel('Error')\n",
      "axes.set_title(\"Error Variations Model-1.1\")"
     ],
     "language": "python",
     "metadata": {},
     "outputs": [
      {
       "output_type": "stream",
       "stream": "stdout",
       "text": [
        "-0.0988469883172\n"
       ]
      },
      {
       "metadata": {},
       "output_type": "pyout",
       "prompt_number": 26,
       "text": [
        "<matplotlib.text.Text at 0x7f429a638a50>"
       ]
      },
      {
       "metadata": {},
       "output_type": "display_data",
       "png": "[encoded data removed]",
       "text": [
        "<matplotlib.figure.Figure at 0x7f429aa3dd90>"
       ]
      }
     ],
     "prompt_number": 26
    },
    {
     "cell_type": "code",
     "collapsed": false,
     "input": [
      "dfErr = pd.DataFrame(data=None, columns=['Model','Minimum % Error','Maximum % Error', 'RMSE Error', 'Mean Absolute Error','Mean Percentage Error'])\n",
      "dfErr['Model'] = ('Model 1.0','Model 1.1 (Simple Autoregressive)')\n",
      "dfErr['Minimum % Error'] = (min(errVar_y0),min(errVar_y1))\n",
      "dfErr['Maximum % Error'] = (max(errVar_y0),max(errVar_y1))\n",
      "dfErr['RMSE Error'] = (errRMS_y0,errRMS_y1)\n",
      "dfErr['Mean Absolute Error'] = (np.mean(errABS_y0),np.mean(errABS_y1))\n",
      "dfErr['Mean Percentage Error'] = (np.mean(errVar_y0),np.mean(errVar_y1))"
     ],
     "language": "python",
     "metadata": {},
     "outputs": [],
     "prompt_number": 27
    },
    {
     "cell_type": "code",
     "collapsed": false,
     "input": [
      "dfErr"
     ],
     "language": "python",
     "metadata": {},
     "outputs": [
      {
       "html": [
        "<div style=\"max-height:1000px;max-width:1500px;overflow:auto;\">\n",
        "<table border=\"1\" class=\"dataframe\">\n",
        "  <thead>\n",
        "    <tr style=\"text-align: right;\">\n",
        "      <th></th>\n",
        "      <th>Model</th>\n",
        "      <th>Minimum % Error</th>\n",
        "      <th>Maximum % Error</th>\n",
        "      <th>RMSE Error</th>\n",
        "      <th>Mean Absolute Error</th>\n",
        "      <th>Mean Percentage Error</th>\n",
        "    </tr>\n",
        "  </thead>\n",
        "  <tbody>\n",
        "    <tr>\n",
        "      <th>0</th>\n",
        "      <td>                         Model 1.0</td>\n",
        "      <td> 12.658695</td>\n",
        "      <td> 69.811997</td>\n",
        "      <td> 723.910077</td>\n",
        "      <td> 642.599783</td>\n",
        "      <td> 49.591577</td>\n",
        "    </tr>\n",
        "    <tr>\n",
        "      <th>1</th>\n",
        "      <td> Model 1.1 (Simple Autoregressive)</td>\n",
        "      <td>  0.001525</td>\n",
        "      <td> 10.104877</td>\n",
        "      <td>  15.519673</td>\n",
        "      <td>  10.568039</td>\n",
        "      <td>  0.905870</td>\n",
        "    </tr>\n",
        "  </tbody>\n",
        "</table>\n",
        "</div>"
       ],
       "metadata": {},
       "output_type": "pyout",
       "prompt_number": 28,
       "text": [
        "                               Model  Minimum % Error  Maximum % Error  \\\n",
        "0                          Model 1.0        12.658695        69.811997   \n",
        "1  Model 1.1 (Simple Autoregressive)         0.001525        10.104877   \n",
        "\n",
        "   RMSE Error  Mean Absolute Error  Mean Percentage Error  \n",
        "0  723.910077           642.599783              49.591577  \n",
        "1   15.519673            10.568039               0.905870  "
       ]
      }
     ],
     "prompt_number": 28
    },
    {
     "cell_type": "code",
     "collapsed": false,
     "input": [],
     "language": "python",
     "metadata": {},
     "outputs": [],
     "prompt_number": 26
    }
   ],
   "metadata": {}
  }
 ]
}
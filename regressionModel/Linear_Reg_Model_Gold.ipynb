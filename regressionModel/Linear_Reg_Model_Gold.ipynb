{
 "metadata": {
  "name": "",
  "signature": "sha256:f01ab9d7655791cc51124fef625f0df3d10741f5167bd123659648cf991bd64e"
 },
 "nbformat": 3,
 "nbformat_minor": 0,
 "worksheets": [
  {
   "cells": [
    {
     "cell_type": "heading",
     "level": 1,
     "metadata": {},
     "source": [
      "Linear Regression Model for Predicting Gold Price"
     ]
    },
    {
     "cell_type": "code",
     "collapsed": false,
     "input": [
      "#Needed Libraries\n",
      "%matplotlib inline\n",
      "import numpy as np\n",
      "import pandas as pd\n",
      "import matplotlib as mpl\n",
      "import matplotlib.pyplot as plt\n",
      "import statsmodels.api as sm\n",
      "import datetime\n",
      "import time\n",
      "from sklearn.metrics import mean_squared_error"
     ],
     "language": "python",
     "metadata": {},
     "outputs": [],
     "prompt_number": 1
    },
    {
     "cell_type": "code",
     "collapsed": false,
     "input": [
      "#Input Variables\n",
      "gold_data_path = 'https://raw.githubusercontent.com/Sree-vathsan/CSE591-Data-Science-Project/master/regressionModel/data/GOLD_DAILY_1994-10-03_2014-09-30.csv'\n",
      "sp500_data_path = 'https://raw.githubusercontent.com/Sree-vathsan/CSE591-Data-Science-Project/master/regressionModel/data/YAHOO_SP500_INDEX_DAILY_1994-10-03_2014-09-30.csv'\n",
      "nyse_data_path = 'https://raw.githubusercontent.com/Sree-vathsan/CSE591-Data-Science-Project/master/regressionModel/data/YAHOO_NYSE_INDEX_DAILY_1994-10-03_2014-09-30.csv'\n",
      "usd_index_data_path = 'https://raw.githubusercontent.com/Sree-vathsan/CSE591-Data-Science-Project/master/regressionModel/data/USD_Index_Daily_1994-10-03_2014-09-30.csv'\n",
      "eurousd_data_path = 'https://raw.githubusercontent.com/Sree-vathsan/CSE591-Data-Science-Project/master/regressionModel/data/EUROUSD_1994-10-03_2014-09-30.csv'\n",
      "oil_data_path = 'https://raw.githubusercontent.com/Sree-vathsan/CSE591-Data-Science-Project/master/regressionModel/data/CRUDE_OIL_WTI_US_ENERGY_Daily_1994-10-03_2014-09-30.csv'\n",
      "#gold_data_path = 'GOLD_DAILY_1994-10-03_2014-09-30.csv'\n",
      "\n",
      "training_ratio = 0.6\n",
      "p_runs = 10 \n",
      "p_threshold = 0.4"
     ],
     "language": "python",
     "metadata": {},
     "outputs": [],
     "prompt_number": 2
    },
    {
     "cell_type": "code",
     "collapsed": false,
     "input": [
      "#Source Data Loading\n",
      "\n",
      "df_gold = pd.read_csv(gold_data_path)\n",
      "df_sp500 = pd.read_csv(sp500_data_path)\n",
      "df_nyse = pd.read_csv(nyse_data_path)\n",
      "df_us_ind = pd.read_csv(usd_index_data_path)\n",
      "df_eurousd = pd.read_csv(eurousd_data_path)\n",
      "df_oil = pd.read_csv(oil_data_path)\n",
      "\n",
      "print(df_gold.shape)\n",
      "print(df_sp500.shape)\n",
      "print(df_nyse.shape)\n",
      "print(df_us_ind.shape)\n",
      "print(df_eurousd.shape)\n",
      "print(df_oil.shape)"
     ],
     "language": "python",
     "metadata": {},
     "outputs": [
      {
       "output_type": "stream",
       "stream": "stdout",
       "text": [
        "(5217, 2)\n",
        "(5035, 2)\n",
        "(5035, 2)\n",
        "(5029, 2)\n",
        "(5109, 2)\n",
        "(5023, 2)\n"
       ]
      }
     ],
     "prompt_number": 3
    },
    {
     "cell_type": "code",
     "collapsed": false,
     "input": [
      "#Convert df_gold Date column to String type to make it consistent with other df's\n",
      "\n",
      "#df_gold['Date'] = df_gold['Date'].apply(lambda x: x.strftime('%m/%d/%y'))\n",
      "#print df_gold.\n",
      "#n = len(df_gold.index)\n",
      "#print n\n",
      "#for i in range(0, n, 1):\n",
      " #   datetime.datetime.strptime(df_gold['Date'][i],'%m/%d/%Y')\n",
      "#print df_gold.tail()\n",
      "#print df_sp500.head()\n",
      "#print df_nyse.head()\n",
      "#print df_us_ind.head()"
     ],
     "language": "python",
     "metadata": {},
     "outputs": [],
     "prompt_number": 6
    },
    {
     "cell_type": "code",
     "collapsed": false,
     "input": [
      "df_master = pd.merge(df_gold, df_sp500, on='Date', how='inner')\n",
      "df_master = pd.merge(df_master, df_nyse, on='Date', how='inner')\n",
      "df_master = pd.merge(df_master, df_us_ind, on='Date', how='inner')\n",
      "df_master = pd.merge(df_master, df_eurousd, on='Date', how='inner')\n",
      "df_master = pd.merge(df_master, df_oil, on='Date', how='inner')\n",
      "df_master.head()\n",
      "#print df_master.shape"
     ],
     "language": "python",
     "metadata": {},
     "outputs": [
      {
       "html": [
        "<div style=\"max-height:1000px;max-width:1500px;overflow:auto;\">\n",
        "<table border=\"1\" class=\"dataframe\">\n",
        "  <thead>\n",
        "    <tr style=\"text-align: right;\">\n",
        "      <th></th>\n",
        "      <th>Date</th>\n",
        "      <th>Gold_Value</th>\n",
        "      <th>SP500_Value</th>\n",
        "      <th>NYSE_Value</th>\n",
        "      <th>USD_Value</th>\n",
        "      <th>EURO/USD_Value</th>\n",
        "      <th>Oil_Value</th>\n",
        "    </tr>\n",
        "  </thead>\n",
        "  <tbody>\n",
        "    <tr>\n",
        "      <th>0</th>\n",
        "      <td> 9/30/2014</td>\n",
        "      <td> 1216.5</td>\n",
        "      <td> 1972.29</td>\n",
        "      <td> 10702.93</td>\n",
        "      <td> 81.3001</td>\n",
        "      <td> 1.26856</td>\n",
        "      <td> 91.17</td>\n",
        "    </tr>\n",
        "    <tr>\n",
        "      <th>1</th>\n",
        "      <td> 9/29/2014</td>\n",
        "      <td> 1219.5</td>\n",
        "      <td> 1977.80</td>\n",
        "      <td> 10749.05</td>\n",
        "      <td> 80.9136</td>\n",
        "      <td> 1.27103</td>\n",
        "      <td> 94.53</td>\n",
        "    </tr>\n",
        "    <tr>\n",
        "      <th>2</th>\n",
        "      <td> 9/26/2014</td>\n",
        "      <td> 1213.8</td>\n",
        "      <td> 1982.85</td>\n",
        "      <td> 10798.88</td>\n",
        "      <td> 80.9983</td>\n",
        "      <td> 1.27777</td>\n",
        "      <td> 95.55</td>\n",
        "    </tr>\n",
        "    <tr>\n",
        "      <th>3</th>\n",
        "      <td> 9/25/2014</td>\n",
        "      <td> 1213.8</td>\n",
        "      <td> 1965.99</td>\n",
        "      <td> 10722.21</td>\n",
        "      <td> 80.5957</td>\n",
        "      <td> 1.28405</td>\n",
        "      <td> 93.59</td>\n",
        "    </tr>\n",
        "    <tr>\n",
        "      <th>4</th>\n",
        "      <td> 9/24/2014</td>\n",
        "      <td> 1217.3</td>\n",
        "      <td> 1998.30</td>\n",
        "      <td> 10885.60</td>\n",
        "      <td> 80.4465</td>\n",
        "      <td> 1.28558</td>\n",
        "      <td> 93.60</td>\n",
        "    </tr>\n",
        "  </tbody>\n",
        "</table>\n",
        "</div>"
       ],
       "metadata": {},
       "output_type": "pyout",
       "prompt_number": 4,
       "text": [
        "        Date  Gold_Value  SP500_Value  NYSE_Value  USD_Value  EURO/USD_Value  \\\n",
        "0  9/30/2014      1216.5      1972.29    10702.93    81.3001         1.26856   \n",
        "1  9/29/2014      1219.5      1977.80    10749.05    80.9136         1.27103   \n",
        "2  9/26/2014      1213.8      1982.85    10798.88    80.9983         1.27777   \n",
        "3  9/25/2014      1213.8      1965.99    10722.21    80.5957         1.28405   \n",
        "4  9/24/2014      1217.3      1998.30    10885.60    80.4465         1.28558   \n",
        "\n",
        "   Oil_Value  \n",
        "0      91.17  \n",
        "1      94.53  \n",
        "2      95.55  \n",
        "3      93.59  \n",
        "4      93.60  "
       ]
      }
     ],
     "prompt_number": 4
    },
    {
     "cell_type": "code",
     "collapsed": false,
     "input": [
      "df_master.tail()"
     ],
     "language": "python",
     "metadata": {},
     "outputs": [
      {
       "html": [
        "<div style=\"max-height:1000px;max-width:1500px;overflow:auto;\">\n",
        "<table border=\"1\" class=\"dataframe\">\n",
        "  <thead>\n",
        "    <tr style=\"text-align: right;\">\n",
        "      <th></th>\n",
        "      <th>Date</th>\n",
        "      <th>Gold_Value</th>\n",
        "      <th>SP500_Value</th>\n",
        "      <th>NYSE_Value</th>\n",
        "      <th>USD_Value</th>\n",
        "      <th>EURO/USD_Value</th>\n",
        "      <th>Oil_Value</th>\n",
        "    </tr>\n",
        "  </thead>\n",
        "  <tbody>\n",
        "    <tr>\n",
        "      <th>3473</th>\n",
        "      <td> 10/17/1994</td>\n",
        "      <td> 389.00</td>\n",
        "      <td> 468.96</td>\n",
        "      <td> 2727.60</td>\n",
        "      <td> 84.6920</td>\n",
        "      <td> 1.2719</td>\n",
        "      <td> 17.11</td>\n",
        "    </tr>\n",
        "    <tr>\n",
        "      <th>3474</th>\n",
        "      <td> 10/14/1994</td>\n",
        "      <td> 387.45</td>\n",
        "      <td> 469.10</td>\n",
        "      <td> 2727.92</td>\n",
        "      <td> 85.2614</td>\n",
        "      <td> 1.2589</td>\n",
        "      <td> 16.98</td>\n",
        "    </tr>\n",
        "    <tr>\n",
        "      <th>3475</th>\n",
        "      <td> 10/13/1994</td>\n",
        "      <td> 387.25</td>\n",
        "      <td> 467.79</td>\n",
        "      <td> 2722.00</td>\n",
        "      <td> 85.8813</td>\n",
        "      <td> 1.2428</td>\n",
        "      <td> 17.03</td>\n",
        "    </tr>\n",
        "    <tr>\n",
        "      <th>3476</th>\n",
        "      <td> 10/12/1994</td>\n",
        "      <td> 387.90</td>\n",
        "      <td> 465.47</td>\n",
        "      <td> 2710.58</td>\n",
        "      <td> 85.9501</td>\n",
        "      <td> 1.2429</td>\n",
        "      <td> 17.13</td>\n",
        "    </tr>\n",
        "    <tr>\n",
        "      <th>3477</th>\n",
        "      <td> 10/11/1994</td>\n",
        "      <td> 387.65</td>\n",
        "      <td> 465.79</td>\n",
        "      <td> 2710.89</td>\n",
        "      <td> 86.1228</td>\n",
        "      <td> 1.2412</td>\n",
        "      <td> 17.74</td>\n",
        "    </tr>\n",
        "  </tbody>\n",
        "</table>\n",
        "</div>"
       ],
       "metadata": {},
       "output_type": "pyout",
       "prompt_number": 5,
       "text": [
        "            Date  Gold_Value  SP500_Value  NYSE_Value  USD_Value  \\\n",
        "3473  10/17/1994      389.00       468.96     2727.60    84.6920   \n",
        "3474  10/14/1994      387.45       469.10     2727.92    85.2614   \n",
        "3475  10/13/1994      387.25       467.79     2722.00    85.8813   \n",
        "3476  10/12/1994      387.90       465.47     2710.58    85.9501   \n",
        "3477  10/11/1994      387.65       465.79     2710.89    86.1228   \n",
        "\n",
        "      EURO/USD_Value  Oil_Value  \n",
        "3473          1.2719      17.11  \n",
        "3474          1.2589      16.98  \n",
        "3475          1.2428      17.03  \n",
        "3476          1.2429      17.13  \n",
        "3477          1.2412      17.74  "
       ]
      }
     ],
     "prompt_number": 5
    },
    {
     "cell_type": "code",
     "collapsed": false,
     "input": [
      "print df_master.shape"
     ],
     "language": "python",
     "metadata": {},
     "outputs": [
      {
       "output_type": "stream",
       "stream": "stdout",
       "text": [
        "(3478, 7)\n"
       ]
      }
     ],
     "prompt_number": 6
    },
    {
     "cell_type": "code",
     "collapsed": false,
     "input": [
      "#Corelation Heat Matrix\n",
      "\n",
      "def compute_data_table_corr(datatable, column_names):\n",
      "    corr_candidates =  datatable[candidates_list]\n",
      "    return corr_candidates.corr()\n",
      "\n",
      "# Plotting correlation heat graph\n",
      "def display_corr_heat_graph(c_table, title):\n",
      "    #_ = pd.scatter_matrix(corrTable, diagonal='kde', figsize=(10, 10))\n",
      "    plt.imshow(c_table, cmap='hot', interpolation='none')\n",
      "    plt.colorbar()\n",
      "    plt.xticks(range(len(c_table)), c_table.columns, rotation=90)\n",
      "    plt.yticks(range(len(c_table)), c_table.columns)\n",
      "    plt.title(title)\n",
      "    \n",
      "candidates_list = ['Gold_Value', 'SP500_Value', 'NYSE_Value', 'USD_Value', 'EURO/USD_Value', 'Oil_Value']\n",
      "corr_table = compute_data_table_corr(df_master,candidates_list)\n",
      "print(corr_table)\n",
      "\n",
      "display_corr_heat_graph(corr_table,\n",
      "    'Correlation Heat Matrix (Gold_Value, SP500_Value, NYSE_Value, USD_Value, EURO/USD_Value, Oil_Value)')"
     ],
     "language": "python",
     "metadata": {},
     "outputs": [
      {
       "output_type": "stream",
       "stream": "stdout",
       "text": [
        "                Gold_Value  SP500_Value  NYSE_Value  USD_Value  \\\n",
        "Gold_Value        1.000000     0.464418    0.580839  -0.792391   \n",
        "SP500_Value       0.464418     1.000000    0.941050  -0.243492   \n",
        "NYSE_Value        0.580839     0.941050    1.000000  -0.463812   \n",
        "USD_Value        -0.792391    -0.243492   -0.463812   1.000000   \n",
        "EURO/USD_Value    0.627760     0.107080    0.351760  -0.945205   \n",
        "Oil_Value         0.859769     0.627676    0.790408  -0.804801   \n",
        "\n",
        "                EURO/USD_Value  Oil_Value  \n",
        "Gold_Value            0.627760   0.859769  \n",
        "SP500_Value           0.107080   0.627676  \n",
        "NYSE_Value            0.351760   0.790408  \n",
        "USD_Value            -0.945205  -0.804801  \n",
        "EURO/USD_Value        1.000000   0.691338  \n",
        "Oil_Value             0.691338   1.000000  \n"
       ]
      },
      {
       "metadata": {},
       "output_type": "display_data",
       "png": "[encoded data removed]",
       "text": [
        "<matplotlib.figure.Figure at 0x7f9d8ed4cd10>"
       ]
      }
     ],
     "prompt_number": 10
    },
    {
     "cell_type": "code",
     "collapsed": false,
     "input": [
      "df_corr_gold = corr_table[:1]\n",
      "df_corr_gold"
     ],
     "language": "python",
     "metadata": {},
     "outputs": [
      {
       "html": [
        "<div style=\"max-height:1000px;max-width:1500px;overflow:auto;\">\n",
        "<table border=\"1\" class=\"dataframe\">\n",
        "  <thead>\n",
        "    <tr style=\"text-align: right;\">\n",
        "      <th></th>\n",
        "      <th>Gold_Value</th>\n",
        "      <th>SP500_Value</th>\n",
        "      <th>NYSE_Value</th>\n",
        "      <th>USD_Value</th>\n",
        "      <th>EURO/USD_Value</th>\n",
        "      <th>Oil_Value</th>\n",
        "    </tr>\n",
        "  </thead>\n",
        "  <tbody>\n",
        "    <tr>\n",
        "      <th>Gold_Value</th>\n",
        "      <td> 1</td>\n",
        "      <td> 0.464418</td>\n",
        "      <td> 0.580839</td>\n",
        "      <td>-0.792391</td>\n",
        "      <td> 0.62776</td>\n",
        "      <td> 0.859769</td>\n",
        "    </tr>\n",
        "  </tbody>\n",
        "</table>\n",
        "</div>"
       ],
       "metadata": {},
       "output_type": "pyout",
       "prompt_number": 11,
       "text": [
        "            Gold_Value  SP500_Value  NYSE_Value  USD_Value  EURO/USD_Value  \\\n",
        "Gold_Value           1     0.464418    0.580839  -0.792391         0.62776   \n",
        "\n",
        "            Oil_Value  \n",
        "Gold_Value   0.859769  "
       ]
      }
     ],
     "prompt_number": 11
    },
    {
     "cell_type": "heading",
     "level": 3,
     "metadata": {},
     "source": [
      "p-Values"
     ]
    },
    {
     "cell_type": "code",
     "collapsed": false,
     "input": [
      "#p_value Test\n",
      "def shuffle_and_corr(df, org_corr, runs=10, threshold=0.3, axis=0):     \n",
      "    df_sh = df.copy(deep=True)\n",
      "    success_count = 0\n",
      "    for _ in range(runs):\n",
      "        df_sh.apply(np.random.shuffle, axis=axis)\n",
      "        new_cor = df_sh['Col1'].corr(df_sh['Col2'])\n",
      "        if (org_corr < 0): org_corr = org_corr * -1\n",
      "        if (new_cor < 0): new_cor = new_cor * -1\n",
      "        #print(new_cor)\n",
      "        diff = abs(new_cor - org_corr)\n",
      "        #print(diff)\n",
      "        if (diff < threshold): success_count = success_count + 1\n",
      "    p = success_count / runs\n",
      "    return p\n",
      "\n",
      "df_p_value = pd.DataFrame(data=None,columns=candidates_list)\n",
      "p_value = []\n",
      "p_value.append(0)\n",
      "\n",
      "for i in range(1, len(candidates_list), 1):\n",
      "    org_corr = df_corr_gold[candidates_list[i]]\n",
      "    #print(org_corr)\n",
      "    temp_df = pd.DataFrame({'Col1':df_master[candidates_list[0]], \\\n",
      "                                'Col2':df_master[candidates_list[i]]})\n",
      "    p_value.append(shuffle_and_corr(temp_df,np.float(org_corr), p_runs, p_threshold))\n",
      "\n",
      "df_p_value.loc[0] = p_value\n",
      "df_p_value"
     ],
     "language": "python",
     "metadata": {},
     "outputs": [
      {
       "html": [
        "<div style=\"max-height:1000px;max-width:1500px;overflow:auto;\">\n",
        "<table border=\"1\" class=\"dataframe\">\n",
        "  <thead>\n",
        "    <tr style=\"text-align: right;\">\n",
        "      <th></th>\n",
        "      <th>Gold_Value</th>\n",
        "      <th>SP500_Value</th>\n",
        "      <th>NYSE_Value</th>\n",
        "      <th>USD_Value</th>\n",
        "      <th>EURO/USD_Value</th>\n",
        "      <th>Oil_Value</th>\n",
        "    </tr>\n",
        "  </thead>\n",
        "  <tbody>\n",
        "    <tr>\n",
        "      <th>0</th>\n",
        "      <td> 0</td>\n",
        "      <td> 0</td>\n",
        "      <td> 0</td>\n",
        "      <td> 0</td>\n",
        "      <td> 0</td>\n",
        "      <td> 0</td>\n",
        "    </tr>\n",
        "  </tbody>\n",
        "</table>\n",
        "</div>"
       ],
       "metadata": {},
       "output_type": "pyout",
       "prompt_number": 12,
       "text": [
        "   Gold_Value  SP500_Value  NYSE_Value  USD_Value  EURO/USD_Value  Oil_Value\n",
        "0           0            0           0          0               0          0"
       ]
      }
     ],
     "prompt_number": 12
    },
    {
     "cell_type": "markdown",
     "metadata": {},
     "source": [
      "### As the p-Values are all zeros, The factors does not correlates by chance."
     ]
    },
    {
     "cell_type": "markdown",
     "metadata": {},
     "source": [
      "##Model 1.0: Multivariate Linear Regression"
     ]
    },
    {
     "cell_type": "code",
     "collapsed": false,
     "input": [
      "import statsmodels.api as sm"
     ],
     "language": "python",
     "metadata": {},
     "outputs": [],
     "prompt_number": 13
    },
    {
     "cell_type": "code",
     "collapsed": false,
     "input": [
      "#Inputs, Train and Test Data preparation\n",
      "train_size = np.floor(len(df_master['Date']) * training_ratio) #60:40 ratio\n",
      "df_master_train = df_master[len(df_master)-np.int(train_size):len(df_master)]\n",
      "df_master_test = df_master[0:len(df_master)-np.int(train_size)]"
     ],
     "language": "python",
     "metadata": {},
     "outputs": [],
     "prompt_number": 14
    },
    {
     "cell_type": "code",
     "collapsed": false,
     "input": [
      "x_arr_train = [ \\\n",
      "         #np.array(dfMasterTrain[candidatesList[0]]), \\ #[2]USD [3]EURO/USD [4]OIL\n",
      "         np.array(df_master_train[candidates_list[2]]), \\\n",
      "         np.array(df_master_train[candidates_list[3]]), \\\n",
      "         np.array(df_master_train[candidates_list[4]]), \\\n",
      "         ]\n",
      "x_arr_train = np.array(x_arr_train)\n",
      "\n",
      "x_arr_test = [ \\\n",
      "         #np.array(dfMasterTest[candidatesList[0]]), \\\n",
      "         np.array(df_master_test[candidates_list[2]]), \\\n",
      "         np.array(df_master_test[candidates_list[3]]), \\\n",
      "         np.array(df_master_test[candidates_list[4]]), \\\n",
      "         ]\n",
      "x_arr_test = np.array(x_arr_test)\n",
      "\n",
      "y_arr_train = np.array(df_master_train[candidates_list[0]])\n",
      "y_arr_test = np.array(df_master_train[candidates_list[0]])"
     ],
     "language": "python",
     "metadata": {},
     "outputs": [],
     "prompt_number": 19
    },
    {
     "cell_type": "code",
     "collapsed": false,
     "input": [
      "def mv_regress(y, x):\n",
      "    ones = np.ones(len(x[0]))\n",
      "    X = sm.add_constant(np.column_stack((x[0], ones)))\n",
      "    for ele in x[1:]:\n",
      "        X = sm.add_constant(np.column_stack((ele, X)))\n",
      "    results = sm.OLS(y, X).fit()\n",
      "    return results\n",
      "\n",
      "def mv_predict(x,res):\n",
      "    ones = np.ones(len(x[0]))\n",
      "    X = sm.add_constant(np.column_stack((x[0], ones)))\n",
      "    for ele in x[1:]:\n",
      "        X = sm.add_constant(np.column_stack((ele, X)))\n",
      "    return res.predict(X)"
     ],
     "language": "python",
     "metadata": {},
     "outputs": [],
     "prompt_number": 20
    },
    {
     "cell_type": "code",
     "collapsed": false,
     "input": [
      "res = mv_regress(y_arr_train, x_arr_train)"
     ],
     "language": "python",
     "metadata": {},
     "outputs": [],
     "prompt_number": 21
    },
    {
     "cell_type": "code",
     "collapsed": false,
     "input": [
      "res.summary()"
     ],
     "language": "python",
     "metadata": {},
     "outputs": [
      {
       "html": [
        "<table class=\"simpletable\">\n",
        "<caption>OLS Regression Results</caption>\n",
        "<tr>\n",
        "  <th>Dep. Variable:</th>            <td>y</td>        <th>  R-squared:         </th> <td>   0.713</td> \n",
        "</tr>\n",
        "<tr>\n",
        "  <th>Model:</th>                   <td>OLS</td>       <th>  Adj. R-squared:    </th> <td>   0.713</td> \n",
        "</tr>\n",
        "<tr>\n",
        "  <th>Method:</th>             <td>Least Squares</td>  <th>  F-statistic:       </th> <td>   1724.</td> \n",
        "</tr>\n",
        "<tr>\n",
        "  <th>Date:</th>             <td>Sat, 01 Nov 2014</td> <th>  Prob (F-statistic):</th>  <td>  0.00</td>  \n",
        "</tr>\n",
        "<tr>\n",
        "  <th>Time:</th>                 <td>23:24:07</td>     <th>  Log-Likelihood:    </th> <td> -10967.</td> \n",
        "</tr>\n",
        "<tr>\n",
        "  <th>No. Observations:</th>      <td>  2086</td>      <th>  AIC:               </th> <td>2.194e+04</td>\n",
        "</tr>\n",
        "<tr>\n",
        "  <th>Df Residuals:</th>          <td>  2082</td>      <th>  BIC:               </th> <td>2.197e+04</td>\n",
        "</tr>\n",
        "<tr>\n",
        "  <th>Df Model:</th>              <td>     3</td>      <th>                     </th>     <td> </td>    \n",
        "</tr>\n",
        "</table>\n",
        "<table class=\"simpletable\">\n",
        "<tr>\n",
        "    <td></td>       <th>coef</th>     <th>std err</th>      <th>t</th>      <th>P>|t|</th> <th>[95.0% Conf. Int.]</th> \n",
        "</tr>\n",
        "<tr>\n",
        "  <th>x1</th>    <td>  -10.7718</td> <td>   29.192</td> <td>   -0.369</td> <td> 0.712</td> <td>  -68.020    46.476</td>\n",
        "</tr>\n",
        "<tr>\n",
        "  <th>x2</th>    <td>   -8.2175</td> <td>    0.455</td> <td>  -18.072</td> <td> 0.000</td> <td>   -9.109    -7.326</td>\n",
        "</tr>\n",
        "<tr>\n",
        "  <th>x3</th>    <td>    0.0195</td> <td>    0.001</td> <td>   22.839</td> <td> 0.000</td> <td>    0.018     0.021</td>\n",
        "</tr>\n",
        "<tr>\n",
        "  <th>const</th> <td> 1027.1985</td> <td>   77.615</td> <td>   13.235</td> <td> 0.000</td> <td>  874.987  1179.410</td>\n",
        "</tr>\n",
        "</table>\n",
        "<table class=\"simpletable\">\n",
        "<tr>\n",
        "  <th>Omnibus:</th>       <td>220.662</td> <th>  Durbin-Watson:     </th> <td>   0.011</td>\n",
        "</tr>\n",
        "<tr>\n",
        "  <th>Prob(Omnibus):</th> <td> 0.000</td>  <th>  Jarque-Bera (JB):  </th> <td> 320.663</td>\n",
        "</tr>\n",
        "<tr>\n",
        "  <th>Skew:</th>          <td> 0.796</td>  <th>  Prob(JB):          </th> <td>2.34e-70</td>\n",
        "</tr>\n",
        "<tr>\n",
        "  <th>Kurtosis:</th>      <td> 4.076</td>  <th>  Cond. No.          </th> <td>4.84e+05</td>\n",
        "</tr>\n",
        "</table>"
       ],
       "metadata": {},
       "output_type": "pyout",
       "prompt_number": 22,
       "text": [
        "<class 'statsmodels.iolib.summary.Summary'>\n",
        "\"\"\"\n",
        "                            OLS Regression Results                            \n",
        "==============================================================================\n",
        "Dep. Variable:                      y   R-squared:                       0.713\n",
        "Model:                            OLS   Adj. R-squared:                  0.713\n",
        "Method:                 Least Squares   F-statistic:                     1724.\n",
        "Date:                Sat, 01 Nov 2014   Prob (F-statistic):               0.00\n",
        "Time:                        23:24:07   Log-Likelihood:                -10967.\n",
        "No. Observations:                2086   AIC:                         2.194e+04\n",
        "Df Residuals:                    2082   BIC:                         2.197e+04\n",
        "Df Model:                           3                                         \n",
        "==============================================================================\n",
        "                 coef    std err          t      P>|t|      [95.0% Conf. Int.]\n",
        "------------------------------------------------------------------------------\n",
        "x1           -10.7718     29.192     -0.369      0.712       -68.020    46.476\n",
        "x2            -8.2175      0.455    -18.072      0.000        -9.109    -7.326\n",
        "x3             0.0195      0.001     22.839      0.000         0.018     0.021\n",
        "const       1027.1985     77.615     13.235      0.000       874.987  1179.410\n",
        "==============================================================================\n",
        "Omnibus:                      220.662   Durbin-Watson:                   0.011\n",
        "Prob(Omnibus):                  0.000   Jarque-Bera (JB):              320.663\n",
        "Skew:                           0.796   Prob(JB):                     2.34e-70\n",
        "Kurtosis:                       4.076   Cond. No.                     4.84e+05\n",
        "==============================================================================\n",
        "\n",
        "Warnings:\n",
        "[1] The condition number is large, 4.84e+05. This might indicate that there are\n",
        "strong multicollinearity or other numerical problems.\n",
        "\"\"\""
       ]
      }
     ],
     "prompt_number": 22
    },
    {
     "cell_type": "code",
     "collapsed": false,
     "input": [
      "#res.params"
     ],
     "language": "python",
     "metadata": {},
     "outputs": [
      {
       "metadata": {},
       "output_type": "pyout",
       "prompt_number": 25,
       "text": [
        "array([ -1.07717879e+01,  -8.21753122e+00,   1.95131763e-02,\n",
        "         1.02719850e+03])"
       ]
      }
     ],
     "prompt_number": 25
    },
    {
     "cell_type": "code",
     "collapsed": false,
     "input": [
      "y_pred0 = mv_predict(x_arr_test, res)\n",
      "y_pred0"
     ],
     "language": "python",
     "metadata": {},
     "outputs": [
      {
       "metadata": {},
       "output_type": "pyout",
       "prompt_number": 23,
       "text": [
        "array([ 554.29589247,  558.34530967,  558.5490245 , ...,  505.0854897 ,\n",
        "        503.96071044,  506.28633263])"
       ]
      }
     ],
     "prompt_number": 23
    },
    {
     "cell_type": "code",
     "collapsed": false,
     "input": [
      "y_arr_test"
     ],
     "language": "python",
     "metadata": {},
     "outputs": [
      {
       "metadata": {},
       "output_type": "pyout",
       "prompt_number": 24,
       "text": [
        "array([ 597.25,  594.  ,  590.  , ...,  387.25,  387.9 ,  387.65])"
       ]
      }
     ],
     "prompt_number": 24
    },
    {
     "cell_type": "code",
     "collapsed": false,
     "input": [
      "def futurePredictMLR(res,usd,eurousd,oil):\n",
      "    return (res.params[3] + (res.params[2] * usd) + (res.params[1] * eurousd) + (res.params[0] * oil))"
     ],
     "language": "python",
     "metadata": {},
     "outputs": [],
     "prompt_number": 26
    },
    {
     "cell_type": "markdown",
     "metadata": {},
     "source": [
      "###Future Gold Price (By Model 1.0 - Multivariate Linear Regression)\n",
      "####GP(i) = (1027.1985) + ( 0.0195 \\* usd(i)) + ( -8.2175 \\* eurousd(i) ) + ( -10.7718 \\* oil(i) )"
     ]
    },
    {
     "cell_type": "markdown",
     "metadata": {},
     "source": [
      "##Model 1.1: Polynomial Fit Regression"
     ]
    },
    {
     "cell_type": "markdown",
     "metadata": {},
     "source": [
      "# Time Series Analysis - Auto Regression Models\n",
      "## Model 1.2: Univariate Autogressive Processes (AR)"
     ]
    },
    {
     "cell_type": "markdown",
     "metadata": {},
     "source": [
      "## Model 1.3: Autogressive Moving-Average Processes (ARMA) and Kalman Filter"
     ]
    },
    {
     "cell_type": "markdown",
     "metadata": {},
     "source": [
      "## Model 1.4: Vector Autogressive Processes (VAR)"
     ]
    },
    {
     "cell_type": "markdown",
     "metadata": {},
     "source": [
      "### Error Metrics"
     ]
    },
    {
     "cell_type": "code",
     "collapsed": false,
     "input": [
      "from sklearn.metrics import mean_squared_error"
     ],
     "language": "python",
     "metadata": {},
     "outputs": [],
     "prompt_number": 26
    },
    {
     "cell_type": "code",
     "collapsed": false,
     "input": [
      "err_var_y0 = 100 * (np.absolute(y_pred0 - y_arr_test) / y_arr_test)\n",
      "err_RMS_y0 = np.sqrt(mean_squared_error(y_arr_test,y_pred0))\n",
      "err_ABS_y0 = np.absolute(y_pred0-y_arr_test)"
     ],
     "language": "python",
     "metadata": {},
     "outputs": [
      {
       "ename": "ValueError",
       "evalue": "operands could not be broadcast together with shapes (1392,) (2086,) ",
       "output_type": "pyerr",
       "traceback": [
        "\u001b[1;31m---------------------------------------------------------------------------\u001b[0m\n\u001b[1;31mValueError\u001b[0m                                Traceback (most recent call last)",
        "\u001b[1;32m<ipython-input-27-191df54f1f56>\u001b[0m in \u001b[0;36m<module>\u001b[1;34m()\u001b[0m\n\u001b[1;32m----> 1\u001b[1;33m \u001b[0merr_var_y0\u001b[0m \u001b[1;33m=\u001b[0m \u001b[1;36m100\u001b[0m \u001b[1;33m*\u001b[0m \u001b[1;33m(\u001b[0m\u001b[0mnp\u001b[0m\u001b[1;33m.\u001b[0m\u001b[0mabsolute\u001b[0m\u001b[1;33m(\u001b[0m\u001b[0my_pred0\u001b[0m \u001b[1;33m-\u001b[0m \u001b[0my_arr_test\u001b[0m\u001b[1;33m)\u001b[0m \u001b[1;33m/\u001b[0m \u001b[0my_arr_test\u001b[0m\u001b[1;33m)\u001b[0m\u001b[1;33m\u001b[0m\u001b[0m\n\u001b[0m\u001b[0;32m      2\u001b[0m \u001b[0merr_RMS_y0\u001b[0m \u001b[1;33m=\u001b[0m \u001b[0mnp\u001b[0m\u001b[1;33m.\u001b[0m\u001b[0msqrt\u001b[0m\u001b[1;33m(\u001b[0m\u001b[0mmean_squared_error\u001b[0m\u001b[1;33m(\u001b[0m\u001b[0my_arr_test\u001b[0m\u001b[1;33m,\u001b[0m\u001b[0my_pred0\u001b[0m\u001b[1;33m)\u001b[0m\u001b[1;33m)\u001b[0m\u001b[1;33m\u001b[0m\u001b[0m\n\u001b[0;32m      3\u001b[0m \u001b[0merr_ABS_y0\u001b[0m \u001b[1;33m=\u001b[0m \u001b[0mnp\u001b[0m\u001b[1;33m.\u001b[0m\u001b[0mabsolute\u001b[0m\u001b[1;33m(\u001b[0m\u001b[0my_pred0\u001b[0m\u001b[1;33m-\u001b[0m\u001b[0my_arr_test\u001b[0m\u001b[1;33m)\u001b[0m\u001b[1;33m\u001b[0m\u001b[0m\n",
        "\u001b[1;31mValueError\u001b[0m: operands could not be broadcast together with shapes (1392,) (2086,) "
       ]
      }
     ],
     "prompt_number": 27
    },
    {
     "cell_type": "code",
     "collapsed": false,
     "input": [
      "df_err = pd.DataFrame(data=None, columns=['Model','Minimum % Error','Maximum % Error', 'RMSE Error', 'Mean Absolute Error','Mean Percentage Error'])\n",
      "df_err['Model'] = ('Model 1.0','Model 1.1 (Polynomial Fit)')\n",
      "df_err['Minimum % Error'] = (min(err_var_y0),0)\n",
      "df_err['Maximum % Error'] = (max(err_var_y0),0)\n",
      "df_err['RMSE Error'] = (err_RMS_y0,0)\n",
      "df_err['Mean Absolute Error'] = (npf.mean(err_ABS_y0),0)\n",
      "df_err['Mean Percentage Error'] = (np.mean(err_var_y0),0)"
     ],
     "language": "python",
     "metadata": {},
     "outputs": [],
     "prompt_number": 29
    },
    {
     "cell_type": "code",
     "collapsed": false,
     "input": [
      "df_err"
     ],
     "language": "python",
     "metadata": {},
     "outputs": [
      {
       "html": [
        "<div style=\"max-height:1000px;max-width:1500px;overflow:auto;\">\n",
        "<table border=\"1\" class=\"dataframe\">\n",
        "  <thead>\n",
        "    <tr style=\"text-align: right;\">\n",
        "      <th></th>\n",
        "      <th>Model</th>\n",
        "      <th>Minimum % Error</th>\n",
        "      <th>Maximum % Error</th>\n",
        "      <th>RMSE Error</th>\n",
        "      <th>Mean Absolute Error</th>\n",
        "      <th>Mean Percentage Error</th>\n",
        "    </tr>\n",
        "  </thead>\n",
        "  <tbody>\n",
        "    <tr>\n",
        "      <th>0</th>\n",
        "      <td>                  Model 1.0</td>\n",
        "      <td> 0.16014</td>\n",
        "      <td> 147.244536</td>\n",
        "      <td> 199.821502</td>\n",
        "      <td> 171.105782</td>\n",
        "      <td> 54.828247</td>\n",
        "    </tr>\n",
        "    <tr>\n",
        "      <th>1</th>\n",
        "      <td> Model 1.1 (Polynomial Fit)</td>\n",
        "      <td> 0.00000</td>\n",
        "      <td>   0.000000</td>\n",
        "      <td>   0.000000</td>\n",
        "      <td>   0.000000</td>\n",
        "      <td>  0.000000</td>\n",
        "    </tr>\n",
        "  </tbody>\n",
        "</table>\n",
        "</div>"
       ],
       "metadata": {},
       "output_type": "pyout",
       "prompt_number": 30,
       "text": [
        "                        Model  Minimum % Error  Maximum % Error  RMSE Error  \\\n",
        "0                   Model 1.0          0.16014       147.244536  199.821502   \n",
        "1  Model 1.1 (Polynomial Fit)          0.00000         0.000000    0.000000   \n",
        "\n",
        "   Mean Absolute Error  Mean Percentage Error  \n",
        "0           171.105782              54.828247  \n",
        "1             0.000000               0.000000  "
       ]
      }
     ],
     "prompt_number": 30
    },
    {
     "cell_type": "code",
     "collapsed": false,
     "input": [],
     "language": "python",
     "metadata": {},
     "outputs": []
    }
   ],
   "metadata": {}
  }
 ]
}
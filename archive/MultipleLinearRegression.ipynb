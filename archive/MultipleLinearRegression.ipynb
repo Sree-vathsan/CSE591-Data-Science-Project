{
 "metadata": {
  "name": "",
  "signature": "sha256:69470bd6777ec05058df75831e517b81d4ce81ad4d3c98e71d341da2567cd2dd"
 },
 "nbformat": 3,
 "nbformat_minor": 0,
 "worksheets": [
  {
   "cells": [
    {
     "cell_type": "code",
     "collapsed": false,
     "input": [
      "%matplotlib inline\n",
      "import numpy as np\n",
      "import matplotlib as mpl\n",
      "import matplotlib.pyplot as plt\n",
      "import pandas as pd\n",
      "from pandas import Series, DataFrame\n",
      "from pandas import merge"
     ],
     "language": "python",
     "metadata": {},
     "outputs": [],
     "prompt_number": 8
    },
    {
     "cell_type": "code",
     "collapsed": false,
     "input": [
      "oilDataPath = 'https://raw.githubusercontent.com/Sree-vathsan/CSE591-Data-Science-Project/master/regressionModel/data/CRUDE_OIL_WTI_US_ENERGY_Daily_1994-10-03_2014-09-30.csv'\n",
      "sp500DataPath = 'https://raw.githubusercontent.com/Sree-vathsan/CSE591-Data-Science-Project/master/regressionModel/data/YAHOO_SP500_INDEX_DAILY_1994-10-03_2014-09-30.csv'\n",
      "nyseDataPath = 'https://raw.githubusercontent.com/Sree-vathsan/CSE591-Data-Science-Project/master/regressionModel/data/YAHOO_NYSE_INDEX_DAILY_1994-10-03_2014-09-30.csv'\n",
      "usdIndexDataPath = 'https://raw.githubusercontent.com/Sree-vathsan/CSE591-Data-Science-Project/master/regressionModel/data/USD_Index_Daily_1994-10-03_2014-09-30.csv'\n",
      "goldDataPath = 'https://raw.githubusercontent.com/Sree-vathsan/CSE591-Data-Science-Project/master/regressionModel/data/GOLD_DAILY_1994-10-03_2014-09-30.csv'\n",
      "\n",
      "trainingRatio = 0.6\n",
      "pRuns = 10 \n",
      "pThreshold = 0.4"
     ],
     "language": "python",
     "metadata": {},
     "outputs": [],
     "prompt_number": 9
    },
    {
     "cell_type": "code",
     "collapsed": false,
     "input": [
      "dfOil = pd.read_csv(oilDataPath)\n",
      "dfSP500 = pd.read_csv(sp500DataPath)\n",
      "dfNyse = pd.read_csv(nyseDataPath)\n",
      "dfUsInd = pd.read_csv(usdIndexDataPath)\n",
      "dfGold=pd.read_csv(goldDataPath)"
     ],
     "language": "python",
     "metadata": {},
     "outputs": [],
     "prompt_number": 10
    },
    {
     "cell_type": "code",
     "collapsed": false,
     "input": [
      "dfOil.max()"
     ],
     "language": "python",
     "metadata": {},
     "outputs": [
      {
       "metadata": {},
       "output_type": "pyout",
       "prompt_number": 11,
       "text": [
        "Date         9/9/2014\n",
        "Oil_Value      145.31\n",
        "dtype: object"
       ]
      }
     ],
     "prompt_number": 11
    },
    {
     "cell_type": "code",
     "collapsed": false,
     "input": [
      "dfOil.min()"
     ],
     "language": "python",
     "metadata": {},
     "outputs": [
      {
       "metadata": {},
       "output_type": "pyout",
       "prompt_number": 12,
       "text": [
        "Date         1/10/1995\n",
        "Oil_Value        10.82\n",
        "dtype: object"
       ]
      }
     ],
     "prompt_number": 12
    },
    {
     "cell_type": "code",
     "collapsed": false,
     "input": [
      "print(dfNyse.head())\n",
      "\n",
      "#print(np.linalg.norm(dfNyse['NYSE_Value']))\n",
      "\n",
      "dfNyse['NYSE_Value'] = (dfNyse['NYSE_Value'] - dfNyse['NYSE_Value'].mean())*100 / (dfNyse['NYSE_Value'].max() - dfNyse['NYSE_Value'].min())\n",
      "print(dfNyse.head())"
     ],
     "language": "python",
     "metadata": {},
     "outputs": [
      {
       "output_type": "stream",
       "stream": "stdout",
       "text": [
        "        Date  NYSE_Value\n",
        "0  9/30/2014    10702.93\n",
        "1  9/29/2014    10749.05\n",
        "2  9/26/2014    10798.88\n",
        "3  9/25/2014    10722.21\n",
        "4  9/24/2014    10885.60\n",
        "\n",
        "[5 rows x 2 columns]\n",
        "        Date  NYSE_Value\n",
        "0  9/30/2014   46.045729\n",
        "1  9/29/2014   46.586609\n",
        "2  9/26/2014   47.170999\n",
        "3  9/25/2014   46.271838\n",
        "4  9/24/2014   48.188023\n",
        "\n",
        "[5 rows x 2 columns]\n"
       ]
      }
     ],
     "prompt_number": 16
    },
    {
     "cell_type": "code",
     "collapsed": false,
     "input": [
      "print(dfGold.head())\n",
      "\n",
      "dfGold['Gold_Value'] = (dfGold['Gold_Value'] - dfGold['Gold_Value'].mean())*100 / (dfGold['Gold_Value'].max() - dfGold['Gold_Value'].min())\n",
      "\n",
      "print(dfGold.head())"
     ],
     "language": "python",
     "metadata": {},
     "outputs": [
      {
       "output_type": "stream",
       "stream": "stdout",
       "text": [
        "        Date  Gold_Value\n",
        "0  9/30/2014      1216.5\n",
        "1  9/29/2014      1219.5\n",
        "2  9/26/2014      1213.8\n",
        "3  9/25/2014      1213.8\n",
        "4  9/24/2014      1217.3\n",
        "\n",
        "[5 rows x 2 columns]\n",
        "        Date  Gold_Value\n",
        "0  9/30/2014   31.961904\n",
        "1  9/29/2014   32.144586\n",
        "2  9/26/2014   31.797490\n",
        "3  9/25/2014   31.797490\n",
        "4  9/24/2014   32.010619\n",
        "\n",
        "[5 rows x 2 columns]\n"
       ]
      }
     ],
     "prompt_number": 7
    },
    {
     "cell_type": "code",
     "collapsed": false,
     "input": [],
     "language": "python",
     "metadata": {},
     "outputs": [],
     "prompt_number": 7
    },
    {
     "cell_type": "code",
     "collapsed": false,
     "input": [
      "dfMaster = merge(dfOil,dfSP500,on='Date',how='inner')\n",
      "dfMaster = merge(dfMaster,dfNyse,on='Date',how='inner')\n",
      "dfMaster = merge(dfMaster,dfUsInd,on='Date',how='inner')\n",
      "dfMaster = merge(dfMaster,dfGold,on='Date',how='inner')"
     ],
     "language": "python",
     "metadata": {},
     "outputs": [],
     "prompt_number": 8
    },
    {
     "cell_type": "code",
     "collapsed": false,
     "input": [
      "dfMaster.head()"
     ],
     "language": "python",
     "metadata": {},
     "outputs": [
      {
       "html": [
        "<div style=\"max-height:1000px;max-width:1500px;overflow:auto;\">\n",
        "<table border=\"1\" class=\"dataframe\">\n",
        "  <thead>\n",
        "    <tr style=\"text-align: right;\">\n",
        "      <th></th>\n",
        "      <th>Date</th>\n",
        "      <th>Oil_Value</th>\n",
        "      <th>SP500_Value</th>\n",
        "      <th>NYSE_Value</th>\n",
        "      <th>USD_Value</th>\n",
        "      <th>Gold_Value</th>\n",
        "    </tr>\n",
        "  </thead>\n",
        "  <tbody>\n",
        "    <tr>\n",
        "      <th>0</th>\n",
        "      <td> 9/30/2014</td>\n",
        "      <td> 91.17</td>\n",
        "      <td> 1972.29</td>\n",
        "      <td> 46.045729</td>\n",
        "      <td> 81.3001</td>\n",
        "      <td> 31.961904</td>\n",
        "    </tr>\n",
        "    <tr>\n",
        "      <th>1</th>\n",
        "      <td> 9/29/2014</td>\n",
        "      <td> 94.53</td>\n",
        "      <td> 1977.80</td>\n",
        "      <td> 46.586609</td>\n",
        "      <td> 80.9136</td>\n",
        "      <td> 32.144586</td>\n",
        "    </tr>\n",
        "    <tr>\n",
        "      <th>2</th>\n",
        "      <td> 9/26/2014</td>\n",
        "      <td> 95.55</td>\n",
        "      <td> 1982.85</td>\n",
        "      <td> 47.170999</td>\n",
        "      <td> 80.9983</td>\n",
        "      <td> 31.797490</td>\n",
        "    </tr>\n",
        "    <tr>\n",
        "      <th>3</th>\n",
        "      <td> 9/25/2014</td>\n",
        "      <td> 93.59</td>\n",
        "      <td> 1965.99</td>\n",
        "      <td> 46.271838</td>\n",
        "      <td> 80.5957</td>\n",
        "      <td> 31.797490</td>\n",
        "    </tr>\n",
        "    <tr>\n",
        "      <th>4</th>\n",
        "      <td> 9/24/2014</td>\n",
        "      <td> 93.60</td>\n",
        "      <td> 1998.30</td>\n",
        "      <td> 48.188023</td>\n",
        "      <td> 80.4465</td>\n",
        "      <td> 32.010619</td>\n",
        "    </tr>\n",
        "  </tbody>\n",
        "</table>\n",
        "<p>5 rows \u00d7 6 columns</p>\n",
        "</div>"
       ],
       "metadata": {},
       "output_type": "pyout",
       "prompt_number": 9,
       "text": [
        "        Date  Oil_Value  SP500_Value  NYSE_Value  USD_Value  Gold_Value\n",
        "0  9/30/2014      91.17      1972.29   46.045729    81.3001   31.961904\n",
        "1  9/29/2014      94.53      1977.80   46.586609    80.9136   32.144586\n",
        "2  9/26/2014      95.55      1982.85   47.170999    80.9983   31.797490\n",
        "3  9/25/2014      93.59      1965.99   46.271838    80.5957   31.797490\n",
        "4  9/24/2014      93.60      1998.30   48.188023    80.4465   32.010619\n",
        "\n",
        "[5 rows x 6 columns]"
       ]
      }
     ],
     "prompt_number": 9
    },
    {
     "cell_type": "code",
     "collapsed": false,
     "input": [
      "#Corelation Heat Matrix\n",
      "def computeDataTableCorr(datatable, columnNames):\n",
      "    corrCandidates =  datatable[candidatesList]\n",
      "    return corrCandidates.corr()\n",
      "\n",
      "# Plotting correlation heat graph\n",
      "def displayCorrHeatGraph(cTable, title):\n",
      "    plt.imshow(cTable, cmap='PRGn', interpolation='none')\n",
      "    plt.colorbar()\n",
      "    plt.xticks(range(len(cTable)), cTable.columns, rotation=90)\n",
      "    plt.yticks(range(len(cTable)), cTable.columns)\n",
      "    plt.title(title)\n",
      "    \n",
      "candidatesList = ['Oil_Value',\t'SP500_Value',\t'NYSE_Value',\t'USD_Value',\t'Gold_Value']\n",
      "corrTable = computeDataTableCorr(dfMaster,candidatesList)\n",
      "displayCorrHeatGraph(corrTable,'Correlation Heat Matrix (Oil_Value,SP500_Value,NYSE_Value,USD_Value,Gold_Value)')"
     ],
     "language": "python",
     "metadata": {},
     "outputs": [
      {
       "metadata": {},
       "output_type": "display_data",
       "png": "[encoded data removed]",
       "text": [
        "<matplotlib.figure.Figure at 0x7f1e6a8209d0>"
       ]
      }
     ],
     "prompt_number": 10
    },
    {
     "cell_type": "code",
     "collapsed": false,
     "input": [
      "dfCorrOil = corrTable[:1]\n",
      "dfCorrOil"
     ],
     "language": "python",
     "metadata": {},
     "outputs": [
      {
       "html": [
        "<div style=\"max-height:1000px;max-width:1500px;overflow:auto;\">\n",
        "<table border=\"1\" class=\"dataframe\">\n",
        "  <thead>\n",
        "    <tr style=\"text-align: right;\">\n",
        "      <th></th>\n",
        "      <th>Oil_Value</th>\n",
        "      <th>SP500_Value</th>\n",
        "      <th>NYSE_Value</th>\n",
        "      <th>USD_Value</th>\n",
        "      <th>Gold_Value</th>\n",
        "    </tr>\n",
        "  </thead>\n",
        "  <tbody>\n",
        "    <tr>\n",
        "      <th>Oil_Value</th>\n",
        "      <td> 1</td>\n",
        "      <td> 0.626521</td>\n",
        "      <td> 0.789685</td>\n",
        "      <td>-0.804935</td>\n",
        "      <td> 0.860884</td>\n",
        "    </tr>\n",
        "  </tbody>\n",
        "</table>\n",
        "<p>1 rows \u00d7 5 columns</p>\n",
        "</div>"
       ],
       "metadata": {},
       "output_type": "pyout",
       "prompt_number": 11,
       "text": [
        "           Oil_Value  SP500_Value  NYSE_Value  USD_Value  Gold_Value\n",
        "Oil_Value          1     0.626521    0.789685  -0.804935    0.860884\n",
        "\n",
        "[1 rows x 5 columns]"
       ]
      }
     ],
     "prompt_number": 11
    },
    {
     "cell_type": "code",
     "collapsed": false,
     "input": [
      "import statsmodels.api as sm"
     ],
     "language": "python",
     "metadata": {},
     "outputs": [],
     "prompt_number": 12
    },
    {
     "cell_type": "code",
     "collapsed": false,
     "input": [
      "trainSize = np.floor(len(dfMaster['Date']) * trainingRatio) #60:40 ratio\n",
      "dfMasterTrain = dfMaster[len(dfMaster)-np.int(trainSize):len(dfMaster)]\n",
      "dfMasterTest = dfMaster[0:np.int(trainSize)]"
     ],
     "language": "python",
     "metadata": {},
     "outputs": [],
     "prompt_number": 13
    },
    {
     "cell_type": "code",
     "collapsed": false,
     "input": [
      "xArrTrain = [ \\\n",
      "         #np.array(dfMasterTrain[candidatesList[0]]), \\\n",
      "         #np.array(dfMasterTrain[candidatesList[1]]), \\\n",
      "         np.array(dfMasterTrain[candidatesList[2]]), \\\n",
      "         #np.array(dfMasterTrain[candidatesList[3]]), \\\n",
      "         np.array(dfMasterTrain[candidatesList[4]]), \\\n",
      "         ]\n",
      "xArrTrain = np.array(xArrTrain)\n",
      "xArrTest = [ \\\n",
      "         #np.array(dfMasterTest[candidatesList[0]]), \\\n",
      "         #np.array(dfMasterTest[candidatesList[1]]), \\\n",
      "         np.array(dfMasterTest[candidatesList[2]]), \\\n",
      "         #np.array(dfMasterTest[candidatesList[3]]), \\\n",
      "         np.array(dfMasterTest[candidatesList[4]]), \\\n",
      "         ]\n",
      "xArrTest = np.array(xArrTest)\n",
      "\n",
      "yArrTrain = np.array(dfMasterTrain[candidatesList[0]])\n",
      "yArrTest = np.array(dfMasterTest[candidatesList[0]])"
     ],
     "language": "python",
     "metadata": {},
     "outputs": [],
     "prompt_number": 23
    },
    {
     "cell_type": "code",
     "collapsed": false,
     "input": [
      "def mvRegress(y, x):\n",
      "    ones = np.ones(len(x[0]))\n",
      "    X = sm.add_constant(np.column_stack((x[0], ones)))\n",
      "    for ele in x[1:]:\n",
      "        X = sm.add_constant(np.column_stack((ele, X)))\n",
      "    results = sm.OLS(y, X).fit()\n",
      "    return results\n",
      "\n",
      "def mvPredict(x,res):\n",
      "    ones = np.ones(len(x[0]))\n",
      "    X = sm.add_constant(np.column_stack((x[0], ones)))\n",
      "    for ele in x[1:]:\n",
      "        X = sm.add_constant(np.column_stack((ele, X)))\n",
      "    return res.predict(X)"
     ],
     "language": "python",
     "metadata": {},
     "outputs": [],
     "prompt_number": 25
    },
    {
     "cell_type": "code",
     "collapsed": false,
     "input": [
      "res = mvRegress(yArrTrain, xArrTrain)"
     ],
     "language": "python",
     "metadata": {},
     "outputs": [],
     "prompt_number": 26
    },
    {
     "cell_type": "code",
     "collapsed": false,
     "input": [
      "res.summary()"
     ],
     "language": "python",
     "metadata": {},
     "outputs": [
      {
       "html": [
        "<table class=\"simpletable\">\n",
        "<caption>OLS Regression Results</caption>\n",
        "<tr>\n",
        "  <th>Dep. Variable:</th>            <td>y</td>        <th>  R-squared:         </th> <td>   0.858</td> \n",
        "</tr>\n",
        "<tr>\n",
        "  <th>Model:</th>                   <td>OLS</td>       <th>  Adj. R-squared:    </th> <td>   0.858</td> \n",
        "</tr>\n",
        "<tr>\n",
        "  <th>Method:</th>             <td>Least Squares</td>  <th>  F-statistic:       </th> <td>   8997.</td> \n",
        "</tr>\n",
        "<tr>\n",
        "  <th>Date:</th>             <td>Sat, 08 Nov 2014</td> <th>  Prob (F-statistic):</th>  <td>  0.00</td>  \n",
        "</tr>\n",
        "<tr>\n",
        "  <th>Time:</th>                 <td>18:46:52</td>     <th>  Log-Likelihood:    </th> <td> -9473.0</td> \n",
        "</tr>\n",
        "<tr>\n",
        "  <th>No. Observations:</th>      <td>  2985</td>      <th>  AIC:               </th> <td>1.895e+04</td>\n",
        "</tr>\n",
        "<tr>\n",
        "  <th>Df Residuals:</th>          <td>  2982</td>      <th>  BIC:               </th> <td>1.897e+04</td>\n",
        "</tr>\n",
        "<tr>\n",
        "  <th>Df Model:</th>              <td>     2</td>      <th>                     </th>     <td> </td>    \n",
        "</tr>\n",
        "</table>\n",
        "<table class=\"simpletable\">\n",
        "<tr>\n",
        "    <td></td>       <th>coef</th>     <th>std err</th>      <th>t</th>      <th>P>|t|</th> <th>[95.0% Conf. Int.]</th> \n",
        "</tr>\n",
        "<tr>\n",
        "  <th>x1</th>    <td>    1.9450</td> <td>    0.021</td> <td>   94.071</td> <td> 0.000</td> <td>    1.904     1.985</td>\n",
        "</tr>\n",
        "<tr>\n",
        "  <th>x2</th>    <td>    0.4646</td> <td>    0.006</td> <td>   73.656</td> <td> 0.000</td> <td>    0.452     0.477</td>\n",
        "</tr>\n",
        "<tr>\n",
        "  <th>const</th> <td>   75.1768</td> <td>    0.423</td> <td>  177.629</td> <td> 0.000</td> <td>   74.347    76.007</td>\n",
        "</tr>\n",
        "</table>\n",
        "<table class=\"simpletable\">\n",
        "<tr>\n",
        "  <th>Omnibus:</th>       <td>11.770</td> <th>  Durbin-Watson:     </th> <td>   0.023</td>\n",
        "</tr>\n",
        "<tr>\n",
        "  <th>Prob(Omnibus):</th> <td> 0.003</td> <th>  Jarque-Bera (JB):  </th> <td>  12.699</td>\n",
        "</tr>\n",
        "<tr>\n",
        "  <th>Skew:</th>          <td> 0.110</td> <th>  Prob(JB):          </th> <td> 0.00175</td>\n",
        "</tr>\n",
        "<tr>\n",
        "  <th>Kurtosis:</th>      <td> 3.231</td> <th>  Cond. No.          </th> <td>    106.</td>\n",
        "</tr>\n",
        "</table>"
       ],
       "metadata": {},
       "output_type": "pyout",
       "prompt_number": 27,
       "text": [
        "<class 'statsmodels.iolib.summary.Summary'>\n",
        "\"\"\"\n",
        "                            OLS Regression Results                            \n",
        "==============================================================================\n",
        "Dep. Variable:                      y   R-squared:                       0.858\n",
        "Model:                            OLS   Adj. R-squared:                  0.858\n",
        "Method:                 Least Squares   F-statistic:                     8997.\n",
        "Date:                Sat, 08 Nov 2014   Prob (F-statistic):               0.00\n",
        "Time:                        18:46:52   Log-Likelihood:                -9473.0\n",
        "No. Observations:                2985   AIC:                         1.895e+04\n",
        "Df Residuals:                    2982   BIC:                         1.897e+04\n",
        "Df Model:                           2                                         \n",
        "==============================================================================\n",
        "                 coef    std err          t      P>|t|      [95.0% Conf. Int.]\n",
        "------------------------------------------------------------------------------\n",
        "x1             1.9450      0.021     94.071      0.000         1.904     1.985\n",
        "x2             0.4646      0.006     73.656      0.000         0.452     0.477\n",
        "const         75.1768      0.423    177.629      0.000        74.347    76.007\n",
        "==============================================================================\n",
        "Omnibus:                       11.770   Durbin-Watson:                   0.023\n",
        "Prob(Omnibus):                  0.003   Jarque-Bera (JB):               12.699\n",
        "Skew:                           0.110   Prob(JB):                      0.00175\n",
        "Kurtosis:                       3.231   Cond. No.                         106.\n",
        "==============================================================================\n",
        "\"\"\""
       ]
      }
     ],
     "prompt_number": 27
    },
    {
     "cell_type": "code",
     "collapsed": false,
     "input": [
      "yPred0 = mvPredict(xArrTest,res)\n",
      "yPred0"
     ],
     "language": "python",
     "metadata": {},
     "outputs": [
      {
       "metadata": {},
       "output_type": "pyout",
       "prompt_number": 28,
       "text": [
        "array([ 158.73509486,  159.34170671,  158.93813936, ...,   18.42205423,\n",
        "         19.13712712,   19.08672587])"
       ]
      }
     ],
     "prompt_number": 28
    },
    {
     "cell_type": "markdown",
     "metadata": {},
     "source": [
      "##Error Metrics"
     ]
    },
    {
     "cell_type": "code",
     "collapsed": false,
     "input": [
      "from sklearn.metrics import mean_squared_error\n",
      "from math import sqrt"
     ],
     "language": "python",
     "metadata": {},
     "outputs": [],
     "prompt_number": 29
    },
    {
     "cell_type": "code",
     "collapsed": false,
     "input": [
      "errVar_y0 = 100 * (np.absolute(yPred0 - yArrTest) / yArrTest)\n",
      "errRMS_y0 = sqrt(mean_squared_error(yArrTest,yPred0))\n",
      "errABS_y0= np.absolute(yPred0-yArrTest)"
     ],
     "language": "python",
     "metadata": {},
     "outputs": [],
     "prompt_number": 30
    },
    {
     "cell_type": "code",
     "collapsed": false,
     "input": [
      "dfErr = pd.DataFrame(data=None, columns=['Model','Minimum % Error','Maximum % Error', 'RMSE Error', 'Mean Absolute Error','Mean Percentage Error'])\n",
      "dfErr['Model'] = ('Model 1.0','Model 1.1 (Polynomial Fit)')\n",
      "dfErr['Minimum % Error'] = (min(errVar_y0),0)\n",
      "dfErr['Maximum % Error'] = (max(errVar_y0),0)\n",
      "dfErr['RMSE Error'] = (errRMS_y0,0)\n",
      "dfErr['Mean Absolute Error'] = (np.mean(errABS_y0),0)\n",
      "dfErr['Mean Percentage Error'] = (np.mean(errVar_y0),0)\n"
     ],
     "language": "python",
     "metadata": {},
     "outputs": [],
     "prompt_number": 31
    },
    {
     "cell_type": "code",
     "collapsed": false,
     "input": [
      "dfErr"
     ],
     "language": "python",
     "metadata": {},
     "outputs": [
      {
       "html": [
        "<div style=\"max-height:1000px;max-width:1500px;overflow:auto;\">\n",
        "<table border=\"1\" class=\"dataframe\">\n",
        "  <thead>\n",
        "    <tr style=\"text-align: right;\">\n",
        "      <th></th>\n",
        "      <th>Model</th>\n",
        "      <th>Minimum % Error</th>\n",
        "      <th>Maximum % Error</th>\n",
        "      <th>RMSE Error</th>\n",
        "      <th>Mean Absolute Error</th>\n",
        "      <th>Mean Percentage Error</th>\n",
        "    </tr>\n",
        "  </thead>\n",
        "  <tbody>\n",
        "    <tr>\n",
        "      <th>0</th>\n",
        "      <td>                  Model 1.0</td>\n",
        "      <td> 0.006584</td>\n",
        "      <td> 184.16397</td>\n",
        "      <td> 54.612428</td>\n",
        "      <td> 40.727774</td>\n",
        "      <td> 49.963674</td>\n",
        "    </tr>\n",
        "    <tr>\n",
        "      <th>1</th>\n",
        "      <td> Model 1.1 (Polynomial Fit)</td>\n",
        "      <td> 0.000000</td>\n",
        "      <td>   0.00000</td>\n",
        "      <td>  0.000000</td>\n",
        "      <td>  0.000000</td>\n",
        "      <td>  0.000000</td>\n",
        "    </tr>\n",
        "  </tbody>\n",
        "</table>\n",
        "<p>2 rows \u00d7 6 columns</p>\n",
        "</div>"
       ],
       "metadata": {},
       "output_type": "pyout",
       "prompt_number": 32,
       "text": [
        "                        Model  Minimum % Error  Maximum % Error  RMSE Error  \\\n",
        "0                   Model 1.0         0.006584        184.16397   54.612428   \n",
        "1  Model 1.1 (Polynomial Fit)         0.000000          0.00000    0.000000   \n",
        "\n",
        "   Mean Absolute Error  Mean Percentage Error  \n",
        "0            40.727774              49.963674  \n",
        "1             0.000000               0.000000  \n",
        "\n",
        "[2 rows x 6 columns]"
       ]
      }
     ],
     "prompt_number": 32
    },
    {
     "cell_type": "code",
     "collapsed": false,
     "input": [],
     "language": "python",
     "metadata": {},
     "outputs": [],
     "prompt_number": 22
    }
   ],
   "metadata": {}
  }
 ]
}
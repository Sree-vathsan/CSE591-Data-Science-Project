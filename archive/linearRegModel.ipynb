{
 "metadata": {
  "name": ""
 },
 "nbformat": 3,
 "nbformat_minor": 0,
 "worksheets": [
  {
   "cells": [
    {
     "cell_type": "code",
     "collapsed": false,
     "input": [
      "print(\"Linear Regression Model\")"
     ],
     "language": "python",
     "metadata": {},
     "outputs": [
      {
       "output_type": "stream",
       "stream": "stdout",
       "text": [
        "Linear Regression Model\n"
       ]
      }
     ],
     "prompt_number": 1
    },
    {
     "cell_type": "code",
     "collapsed": false,
     "input": [
      "#Needed Libraries\n",
      "%matplotlib inline\n",
      "import numpy as np\n",
      "import matplotlib as mpl\n",
      "import matplotlib.pyplot as plt\n",
      "import pandas as pd\n",
      "from pandas import Series, DataFrame\n",
      "from pandas import merge"
     ],
     "language": "python",
     "metadata": {},
     "outputs": [],
     "prompt_number": 2
    },
    {
     "cell_type": "code",
     "collapsed": false,
     "input": [
      "#Input Variables\n",
      "oilDataPath = 'https://raw.githubusercontent.com/Sree-vathsan/CSE591-Data-Science-Project/master/regressionModel/data/CRUDE_OIL_WTI_US_ENERGY_Daily_1994-10-03_2014-09-30.csv'\n",
      "sp500DataPath = 'https://raw.githubusercontent.com/Sree-vathsan/CSE591-Data-Science-Project/master/regressionModel/data/YAHOO_SP500_INDEX_DAILY_1994-10-03_2014-09-30.csv'\n",
      "nyseDataPath = 'https://raw.githubusercontent.com/Sree-vathsan/CSE591-Data-Science-Project/master/regressionModel/data/YAHOO_NYSE_INDEX_DAILY_1994-10-03_2014-09-30.csv'\n",
      "usdIndexDataPath = 'https://raw.githubusercontent.com/Sree-vathsan/CSE591-Data-Science-Project/master/regressionModel/data/USD_Index_Daily_1994-10-03_2014-09-30.csv'\n",
      "trainingRatio = 0.6\n",
      "pRuns = 10 \n",
      "pThreshold = 0.4"
     ],
     "language": "python",
     "metadata": {},
     "outputs": [],
     "prompt_number": 3
    },
    {
     "cell_type": "code",
     "collapsed": false,
     "input": [
      "#Source Data Loading\n",
      "\n",
      "dfOil = pd.read_csv(oilDataPath)\n",
      "dfSP500 = pd.read_csv(sp500DataPath)\n",
      "dfNyse = pd.read_csv(nyseDataPath)\n",
      "dfUsInd = pd.read_csv(usdIndexDataPath)"
     ],
     "language": "python",
     "metadata": {},
     "outputs": [],
     "prompt_number": 4
    },
    {
     "cell_type": "code",
     "collapsed": false,
     "input": [
      "dfOil.head()"
     ],
     "language": "python",
     "metadata": {},
     "outputs": [
      {
       "html": [
        "<div style=\"max-height:1000px;max-width:1500px;overflow:auto;\">\n",
        "<table border=\"1\" class=\"dataframe\">\n",
        "  <thead>\n",
        "    <tr style=\"text-align: right;\">\n",
        "      <th></th>\n",
        "      <th>Date</th>\n",
        "      <th>Oil_Value</th>\n",
        "    </tr>\n",
        "  </thead>\n",
        "  <tbody>\n",
        "    <tr>\n",
        "      <th>0</th>\n",
        "      <td> 9/30/2014</td>\n",
        "      <td> 91.17</td>\n",
        "    </tr>\n",
        "    <tr>\n",
        "      <th>1</th>\n",
        "      <td> 9/29/2014</td>\n",
        "      <td> 94.53</td>\n",
        "    </tr>\n",
        "    <tr>\n",
        "      <th>2</th>\n",
        "      <td> 9/26/2014</td>\n",
        "      <td> 95.55</td>\n",
        "    </tr>\n",
        "    <tr>\n",
        "      <th>3</th>\n",
        "      <td> 9/25/2014</td>\n",
        "      <td> 93.59</td>\n",
        "    </tr>\n",
        "    <tr>\n",
        "      <th>4</th>\n",
        "      <td> 9/24/2014</td>\n",
        "      <td> 93.60</td>\n",
        "    </tr>\n",
        "  </tbody>\n",
        "</table>\n",
        "</div>"
       ],
       "metadata": {},
       "output_type": "pyout",
       "prompt_number": 5,
       "text": [
        "        Date  Oil_Value\n",
        "0  9/30/2014      91.17\n",
        "1  9/29/2014      94.53\n",
        "2  9/26/2014      95.55\n",
        "3  9/25/2014      93.59\n",
        "4  9/24/2014      93.60"
       ]
      }
     ],
     "prompt_number": 5
    },
    {
     "cell_type": "code",
     "collapsed": false,
     "input": [
      "dfSP500.head()"
     ],
     "language": "python",
     "metadata": {},
     "outputs": [
      {
       "html": [
        "<div style=\"max-height:1000px;max-width:1500px;overflow:auto;\">\n",
        "<table border=\"1\" class=\"dataframe\">\n",
        "  <thead>\n",
        "    <tr style=\"text-align: right;\">\n",
        "      <th></th>\n",
        "      <th>Date</th>\n",
        "      <th>SP500_Value</th>\n",
        "    </tr>\n",
        "  </thead>\n",
        "  <tbody>\n",
        "    <tr>\n",
        "      <th>0</th>\n",
        "      <td> 9/30/2014</td>\n",
        "      <td> 1972.29</td>\n",
        "    </tr>\n",
        "    <tr>\n",
        "      <th>1</th>\n",
        "      <td> 9/29/2014</td>\n",
        "      <td> 1977.80</td>\n",
        "    </tr>\n",
        "    <tr>\n",
        "      <th>2</th>\n",
        "      <td> 9/26/2014</td>\n",
        "      <td> 1982.85</td>\n",
        "    </tr>\n",
        "    <tr>\n",
        "      <th>3</th>\n",
        "      <td> 9/25/2014</td>\n",
        "      <td> 1965.99</td>\n",
        "    </tr>\n",
        "    <tr>\n",
        "      <th>4</th>\n",
        "      <td> 9/24/2014</td>\n",
        "      <td> 1998.30</td>\n",
        "    </tr>\n",
        "  </tbody>\n",
        "</table>\n",
        "</div>"
       ],
       "metadata": {},
       "output_type": "pyout",
       "prompt_number": 6,
       "text": [
        "        Date  SP500_Value\n",
        "0  9/30/2014      1972.29\n",
        "1  9/29/2014      1977.80\n",
        "2  9/26/2014      1982.85\n",
        "3  9/25/2014      1965.99\n",
        "4  9/24/2014      1998.30"
       ]
      }
     ],
     "prompt_number": 6
    },
    {
     "cell_type": "code",
     "collapsed": false,
     "input": [
      "dfNyse.head()"
     ],
     "language": "python",
     "metadata": {},
     "outputs": [
      {
       "html": [
        "<div style=\"max-height:1000px;max-width:1500px;overflow:auto;\">\n",
        "<table border=\"1\" class=\"dataframe\">\n",
        "  <thead>\n",
        "    <tr style=\"text-align: right;\">\n",
        "      <th></th>\n",
        "      <th>Date</th>\n",
        "      <th>NYSE_Value</th>\n",
        "    </tr>\n",
        "  </thead>\n",
        "  <tbody>\n",
        "    <tr>\n",
        "      <th>0</th>\n",
        "      <td> 9/30/2014</td>\n",
        "      <td> 10702.93</td>\n",
        "    </tr>\n",
        "    <tr>\n",
        "      <th>1</th>\n",
        "      <td> 9/29/2014</td>\n",
        "      <td> 10749.05</td>\n",
        "    </tr>\n",
        "    <tr>\n",
        "      <th>2</th>\n",
        "      <td> 9/26/2014</td>\n",
        "      <td> 10798.88</td>\n",
        "    </tr>\n",
        "    <tr>\n",
        "      <th>3</th>\n",
        "      <td> 9/25/2014</td>\n",
        "      <td> 10722.21</td>\n",
        "    </tr>\n",
        "    <tr>\n",
        "      <th>4</th>\n",
        "      <td> 9/24/2014</td>\n",
        "      <td> 10885.60</td>\n",
        "    </tr>\n",
        "  </tbody>\n",
        "</table>\n",
        "</div>"
       ],
       "metadata": {},
       "output_type": "pyout",
       "prompt_number": 7,
       "text": [
        "        Date  NYSE_Value\n",
        "0  9/30/2014    10702.93\n",
        "1  9/29/2014    10749.05\n",
        "2  9/26/2014    10798.88\n",
        "3  9/25/2014    10722.21\n",
        "4  9/24/2014    10885.60"
       ]
      }
     ],
     "prompt_number": 7
    },
    {
     "cell_type": "code",
     "collapsed": false,
     "input": [
      "dfUsInd.head()"
     ],
     "language": "python",
     "metadata": {},
     "outputs": [
      {
       "html": [
        "<div style=\"max-height:1000px;max-width:1500px;overflow:auto;\">\n",
        "<table border=\"1\" class=\"dataframe\">\n",
        "  <thead>\n",
        "    <tr style=\"text-align: right;\">\n",
        "      <th></th>\n",
        "      <th>Date</th>\n",
        "      <th>USD_Value</th>\n",
        "    </tr>\n",
        "  </thead>\n",
        "  <tbody>\n",
        "    <tr>\n",
        "      <th>0</th>\n",
        "      <td> 9/30/2014</td>\n",
        "      <td> 81.3001</td>\n",
        "    </tr>\n",
        "    <tr>\n",
        "      <th>1</th>\n",
        "      <td> 9/29/2014</td>\n",
        "      <td> 80.9136</td>\n",
        "    </tr>\n",
        "    <tr>\n",
        "      <th>2</th>\n",
        "      <td> 9/26/2014</td>\n",
        "      <td> 80.9983</td>\n",
        "    </tr>\n",
        "    <tr>\n",
        "      <th>3</th>\n",
        "      <td> 9/25/2014</td>\n",
        "      <td> 80.5957</td>\n",
        "    </tr>\n",
        "    <tr>\n",
        "      <th>4</th>\n",
        "      <td> 9/24/2014</td>\n",
        "      <td> 80.4465</td>\n",
        "    </tr>\n",
        "  </tbody>\n",
        "</table>\n",
        "</div>"
       ],
       "metadata": {},
       "output_type": "pyout",
       "prompt_number": 8,
       "text": [
        "        Date  USD_Value\n",
        "0  9/30/2014    81.3001\n",
        "1  9/29/2014    80.9136\n",
        "2  9/26/2014    80.9983\n",
        "3  9/25/2014    80.5957\n",
        "4  9/24/2014    80.4465"
       ]
      }
     ],
     "prompt_number": 8
    },
    {
     "cell_type": "code",
     "collapsed": false,
     "input": [
      "dfMaster = merge(dfOil,dfSP500,on='Date',how='inner')\n",
      "dfMaster = merge(dfMaster,dfNyse,on='Date',how='inner')\n",
      "dfMaster = merge(dfMaster,dfUsInd,on='Date',how='inner')"
     ],
     "language": "python",
     "metadata": {},
     "outputs": [],
     "prompt_number": 9
    },
    {
     "cell_type": "code",
     "collapsed": false,
     "input": [
      "dfMaster.head()"
     ],
     "language": "python",
     "metadata": {},
     "outputs": [
      {
       "html": [
        "<div style=\"max-height:1000px;max-width:1500px;overflow:auto;\">\n",
        "<table border=\"1\" class=\"dataframe\">\n",
        "  <thead>\n",
        "    <tr style=\"text-align: right;\">\n",
        "      <th></th>\n",
        "      <th>Date</th>\n",
        "      <th>Oil_Value</th>\n",
        "      <th>SP500_Value</th>\n",
        "      <th>NYSE_Value</th>\n",
        "      <th>USD_Value</th>\n",
        "    </tr>\n",
        "  </thead>\n",
        "  <tbody>\n",
        "    <tr>\n",
        "      <th>0</th>\n",
        "      <td> 9/30/2014</td>\n",
        "      <td> 91.17</td>\n",
        "      <td> 1972.29</td>\n",
        "      <td> 10702.93</td>\n",
        "      <td> 81.3001</td>\n",
        "    </tr>\n",
        "    <tr>\n",
        "      <th>1</th>\n",
        "      <td> 9/29/2014</td>\n",
        "      <td> 94.53</td>\n",
        "      <td> 1977.80</td>\n",
        "      <td> 10749.05</td>\n",
        "      <td> 80.9136</td>\n",
        "    </tr>\n",
        "    <tr>\n",
        "      <th>2</th>\n",
        "      <td> 9/26/2014</td>\n",
        "      <td> 95.55</td>\n",
        "      <td> 1982.85</td>\n",
        "      <td> 10798.88</td>\n",
        "      <td> 80.9983</td>\n",
        "    </tr>\n",
        "    <tr>\n",
        "      <th>3</th>\n",
        "      <td> 9/25/2014</td>\n",
        "      <td> 93.59</td>\n",
        "      <td> 1965.99</td>\n",
        "      <td> 10722.21</td>\n",
        "      <td> 80.5957</td>\n",
        "    </tr>\n",
        "    <tr>\n",
        "      <th>4</th>\n",
        "      <td> 9/24/2014</td>\n",
        "      <td> 93.60</td>\n",
        "      <td> 1998.30</td>\n",
        "      <td> 10885.60</td>\n",
        "      <td> 80.4465</td>\n",
        "    </tr>\n",
        "  </tbody>\n",
        "</table>\n",
        "</div>"
       ],
       "metadata": {},
       "output_type": "pyout",
       "prompt_number": 10,
       "text": [
        "        Date  Oil_Value  SP500_Value  NYSE_Value  USD_Value\n",
        "0  9/30/2014      91.17      1972.29    10702.93    81.3001\n",
        "1  9/29/2014      94.53      1977.80    10749.05    80.9136\n",
        "2  9/26/2014      95.55      1982.85    10798.88    80.9983\n",
        "3  9/25/2014      93.59      1965.99    10722.21    80.5957\n",
        "4  9/24/2014      93.60      1998.30    10885.60    80.4465"
       ]
      }
     ],
     "prompt_number": 10
    },
    {
     "cell_type": "code",
     "collapsed": false,
     "input": [
      "#Corelation Heat Matrix\n",
      "\n",
      "def computeDataTableCorr(datatable, columnNames):\n",
      "    corrCandidates =  datatable[candidatesList]\n",
      "    return corrCandidates.corr()\n",
      "\n",
      "# Plotting correlation heat graph\n",
      "def displayCorrHeatGraph(cTable, title):\n",
      "    #_ = pd.scatter_matrix(corrTable, diagonal='kde', figsize=(10, 10))\n",
      "    plt.imshow(cTable, cmap='hot', interpolation='none')\n",
      "    plt.colorbar()\n",
      "    plt.xticks(range(len(cTable)), cTable.columns, rotation=90)\n",
      "    plt.yticks(range(len(cTable)), cTable.columns)\n",
      "    plt.title(title)\n",
      "    \n",
      "candidatesList = ['Oil_Value',\t'SP500_Value',\t'NYSE_Value',\t'USD_Value']\n",
      "corrTable = computeDataTableCorr(dfMaster,candidatesList)\n",
      "displayCorrHeatGraph(corrTable,'Correlation Heat Matrix (Oil_Value,SP500_Value,NYSE_Value,USD_Value)')"
     ],
     "language": "python",
     "metadata": {},
     "outputs": [
      {
       "metadata": {},
       "output_type": "display_data",
       "png": "[encoded data removed]",
       "text": [
        "<matplotlib.figure.Figure at 0x7f11e28128d0>"
       ]
      }
     ],
     "prompt_number": 11
    },
    {
     "cell_type": "code",
     "collapsed": false,
     "input": [
      "dfCorrOil = corrTable[:1]\n",
      "dfCorrOil"
     ],
     "language": "python",
     "metadata": {},
     "outputs": [
      {
       "html": [
        "<div style=\"max-height:1000px;max-width:1500px;overflow:auto;\">\n",
        "<table border=\"1\" class=\"dataframe\">\n",
        "  <thead>\n",
        "    <tr style=\"text-align: right;\">\n",
        "      <th></th>\n",
        "      <th>Oil_Value</th>\n",
        "      <th>SP500_Value</th>\n",
        "      <th>NYSE_Value</th>\n",
        "      <th>USD_Value</th>\n",
        "    </tr>\n",
        "  </thead>\n",
        "  <tbody>\n",
        "    <tr>\n",
        "      <th>Oil_Value</th>\n",
        "      <td> 1</td>\n",
        "      <td> 0.626521</td>\n",
        "      <td> 0.789685</td>\n",
        "      <td>-0.804935</td>\n",
        "    </tr>\n",
        "  </tbody>\n",
        "</table>\n",
        "</div>"
       ],
       "metadata": {},
       "output_type": "pyout",
       "prompt_number": 12,
       "text": [
        "           Oil_Value  SP500_Value  NYSE_Value  USD_Value\n",
        "Oil_Value          1     0.626521    0.789685  -0.804935"
       ]
      }
     ],
     "prompt_number": 12
    },
    {
     "cell_type": "markdown",
     "metadata": {},
     "source": [
      "### More the p-Value, lesser the significance"
     ]
    },
    {
     "cell_type": "code",
     "collapsed": false,
     "input": [
      "#pValue Test\n",
      "def shuffleAndCorr(df, orgCorr, runs=10, threshold=0.3, axis=0):     \n",
      "    df_sh = df.copy(deep=True)\n",
      "    success_count = 0\n",
      "    for _ in range(runs):\n",
      "        df_sh.apply(np.random.shuffle, axis=axis)\n",
      "        newCor = df_sh['Col1'].corr(df_sh['Col2'])\n",
      "        if (orgCorr < 0): orgCorr = orgCorr * -1\n",
      "        if (newCor < 0): newCor = newCor * -1\n",
      "        #print(newCor)\n",
      "        diff = abs(newCor - orgCorr)\n",
      "        #print(diff)\n",
      "        if (diff < threshold): success_count = success_count + 1\n",
      "    p = success_count / runs\n",
      "    return p\n",
      "\n",
      "dfpValue = pd.DataFrame(data=None,columns=candidatesList)\n",
      "pValue = []\n",
      "pValue.append(0)\n",
      "\n",
      "for i in range(1,len(candidatesList),1):\n",
      "    orgCorr = dfCorrOil[candidatesList[i]]\n",
      "    #print(orgCorr)\n",
      "    temp_df = pd.DataFrame({'Col1':dfMaster[candidatesList[0]], \\\n",
      "                                'Col2':dfMaster[candidatesList[i]]})\n",
      "    pValue.append(shuffleAndCorr(temp_df,np.float(orgCorr),pRuns,pThreshold))\n",
      "\n",
      "dfpValue.loc[0] = pValue\n",
      "dfpValue"
     ],
     "language": "python",
     "metadata": {},
     "outputs": [
      {
       "html": [
        "<div style=\"max-height:1000px;max-width:1500px;overflow:auto;\">\n",
        "<table border=\"1\" class=\"dataframe\">\n",
        "  <thead>\n",
        "    <tr style=\"text-align: right;\">\n",
        "      <th></th>\n",
        "      <th>Oil_Value</th>\n",
        "      <th>SP500_Value</th>\n",
        "      <th>NYSE_Value</th>\n",
        "      <th>USD_Value</th>\n",
        "    </tr>\n",
        "  </thead>\n",
        "  <tbody>\n",
        "    <tr>\n",
        "      <th>0</th>\n",
        "      <td> 0</td>\n",
        "      <td> 0</td>\n",
        "      <td> 0</td>\n",
        "      <td> 0</td>\n",
        "    </tr>\n",
        "  </tbody>\n",
        "</table>\n",
        "</div>"
       ],
       "metadata": {},
       "output_type": "pyout",
       "prompt_number": 16,
       "text": [
        "   Oil_Value  SP500_Value  NYSE_Value  USD_Value\n",
        "0          0            0           0          0"
       ]
      }
     ],
     "prompt_number": 16
    },
    {
     "cell_type": "markdown",
     "metadata": {},
     "source": [
      "### As the pValues are all zeros, The factors does not correlates by chance."
     ]
    },
    {
     "cell_type": "markdown",
     "metadata": {},
     "source": [
      "##Model 1.0: Multivariate Linear Regression"
     ]
    },
    {
     "cell_type": "code",
     "collapsed": false,
     "input": [
      "import statsmodels.api as sm"
     ],
     "language": "python",
     "metadata": {},
     "outputs": [],
     "prompt_number": 251
    },
    {
     "cell_type": "code",
     "collapsed": false,
     "input": [
      "#Inputs, Train and Test Data preparation\n",
      "trainSize = np.floor(len(dfMaster['Date']) * trainingRatio) #60:40 ratio\n",
      "dfMasterTrain = dfMaster[len(dfMaster)-np.int(trainSize):len(dfMaster)]\n",
      "dfMasterTest = dfMaster[0:np.int(trainSize)]"
     ],
     "language": "python",
     "metadata": {},
     "outputs": [],
     "prompt_number": 252
    },
    {
     "cell_type": "code",
     "collapsed": false,
     "input": [
      "xArrTrain = [ \\\n",
      "         #np.array(dfMasterTrain[candidatesList[0]]), \\\n",
      "         np.array(dfMasterTrain[candidatesList[1]]), \\\n",
      "         np.array(dfMasterTrain[candidatesList[2]]), \\\n",
      "         np.array(dfMasterTrain[candidatesList[3]]), \\\n",
      "         ]\n",
      "xArrTrain = np.array(xArrTrain)\n",
      "xArrTest = [ \\\n",
      "         #np.array(dfMasterTest[candidatesList[0]]), \\\n",
      "         np.array(dfMasterTest[candidatesList[1]]), \\\n",
      "         np.array(dfMasterTest[candidatesList[2]]), \\\n",
      "         np.array(dfMasterTest[candidatesList[3]]), \\\n",
      "         ]\n",
      "xArrTest = np.array(xArrTest)\n",
      "\n",
      "yArrTrain = np.array(dfMasterTrain[candidatesList[0]])\n",
      "yArrTest = np.array(dfMasterTest[candidatesList[0]])"
     ],
     "language": "python",
     "metadata": {},
     "outputs": [],
     "prompt_number": 253
    },
    {
     "cell_type": "code",
     "collapsed": false,
     "input": [
      "def mvRegress(y, x):\n",
      "    ones = np.ones(len(x[0]))\n",
      "    X = sm.add_constant(np.column_stack((x[0], ones)))\n",
      "    for ele in x[1:]:\n",
      "        X = sm.add_constant(np.column_stack((ele, X)))\n",
      "    results = sm.OLS(y, X).fit()\n",
      "    return results\n",
      "\n",
      "def mvPredict(x,res):\n",
      "    ones = np.ones(len(x[0]))\n",
      "    X = sm.add_constant(np.column_stack((x[0], ones)))\n",
      "    for ele in x[1:]:\n",
      "        X = sm.add_constant(np.column_stack((ele, X)))\n",
      "    return res.predict(X)"
     ],
     "language": "python",
     "metadata": {},
     "outputs": [],
     "prompt_number": 254
    },
    {
     "cell_type": "code",
     "collapsed": false,
     "input": [
      "res = mvRegress(yArrTrain, xArrTrain)"
     ],
     "language": "python",
     "metadata": {},
     "outputs": [],
     "prompt_number": 255
    },
    {
     "cell_type": "code",
     "collapsed": false,
     "input": [
      "res.summary()"
     ],
     "language": "python",
     "metadata": {},
     "outputs": [
      {
       "html": [
        "<table class=\"simpletable\">\n",
        "<caption>OLS Regression Results</caption>\n",
        "<tr>\n",
        "  <th>Dep. Variable:</th>            <td>y</td>        <th>  R-squared:         </th> <td>   0.817</td> \n",
        "</tr>\n",
        "<tr>\n",
        "  <th>Model:</th>                   <td>OLS</td>       <th>  Adj. R-squared:    </th> <td>   0.816</td> \n",
        "</tr>\n",
        "<tr>\n",
        "  <th>Method:</th>             <td>Least Squares</td>  <th>  F-statistic:       </th> <td>   4422.</td> \n",
        "</tr>\n",
        "<tr>\n",
        "  <th>Date:</th>             <td>Mon, 27 Oct 2014</td> <th>  Prob (F-statistic):</th>  <td>  0.00</td>  \n",
        "</tr>\n",
        "<tr>\n",
        "  <th>Time:</th>                 <td>06:03:32</td>     <th>  Log-Likelihood:    </th> <td> -9853.8</td> \n",
        "</tr>\n",
        "<tr>\n",
        "  <th>No. Observations:</th>      <td>  2985</td>      <th>  AIC:               </th> <td>1.972e+04</td>\n",
        "</tr>\n",
        "<tr>\n",
        "  <th>Df Residuals:</th>          <td>  2981</td>      <th>  BIC:               </th> <td>1.974e+04</td>\n",
        "</tr>\n",
        "<tr>\n",
        "  <th>Df Model:</th>              <td>     3</td>      <th>                     </th>     <td> </td>    \n",
        "</tr>\n",
        "</table>\n",
        "<table class=\"simpletable\">\n",
        "<tr>\n",
        "    <td></td>       <th>coef</th>     <th>std err</th>      <th>t</th>      <th>P>|t|</th> <th>[95.0% Conf. Int.]</th> \n",
        "</tr>\n",
        "<tr>\n",
        "  <th>x1</th>    <td>   -0.4984</td> <td>    0.017</td> <td>  -28.652</td> <td> 0.000</td> <td>   -0.532    -0.464</td>\n",
        "</tr>\n",
        "<tr>\n",
        "  <th>x2</th>    <td>    0.0182</td> <td>    0.000</td> <td>   66.455</td> <td> 0.000</td> <td>    0.018     0.019</td>\n",
        "</tr>\n",
        "<tr>\n",
        "  <th>x3</th>    <td>   -0.0625</td> <td>    0.002</td> <td>  -40.188</td> <td> 0.000</td> <td>   -0.066    -0.059</td>\n",
        "</tr>\n",
        "<tr>\n",
        "  <th>const</th> <td>   36.9946</td> <td>    1.580</td> <td>   23.417</td> <td> 0.000</td> <td>   33.897    40.092</td>\n",
        "</tr>\n",
        "</table>\n",
        "<table class=\"simpletable\">\n",
        "<tr>\n",
        "  <th>Omnibus:</th>       <td>19.455</td> <th>  Durbin-Watson:     </th> <td>   0.017</td>\n",
        "</tr>\n",
        "<tr>\n",
        "  <th>Prob(Omnibus):</th> <td> 0.000</td> <th>  Jarque-Bera (JB):  </th> <td>  19.647</td>\n",
        "</tr>\n",
        "<tr>\n",
        "  <th>Skew:</th>          <td>-0.190</td> <th>  Prob(JB):          </th> <td>5.42e-05</td>\n",
        "</tr>\n",
        "<tr>\n",
        "  <th>Kurtosis:</th>      <td> 2.887</td> <th>  Cond. No.          </th> <td>7.93e+04</td>\n",
        "</tr>\n",
        "</table>"
       ],
       "metadata": {},
       "output_type": "pyout",
       "prompt_number": 256,
       "text": [
        "<class 'statsmodels.iolib.summary.Summary'>\n",
        "\"\"\"\n",
        "                            OLS Regression Results                            \n",
        "==============================================================================\n",
        "Dep. Variable:                      y   R-squared:                       0.817\n",
        "Model:                            OLS   Adj. R-squared:                  0.816\n",
        "Method:                 Least Squares   F-statistic:                     4422.\n",
        "Date:                Mon, 27 Oct 2014   Prob (F-statistic):               0.00\n",
        "Time:                        06:03:32   Log-Likelihood:                -9853.8\n",
        "No. Observations:                2985   AIC:                         1.972e+04\n",
        "Df Residuals:                    2981   BIC:                         1.974e+04\n",
        "Df Model:                           3                                         \n",
        "==============================================================================\n",
        "                 coef    std err          t      P>|t|      [95.0% Conf. Int.]\n",
        "------------------------------------------------------------------------------\n",
        "x1            -0.4984      0.017    -28.652      0.000        -0.532    -0.464\n",
        "x2             0.0182      0.000     66.455      0.000         0.018     0.019\n",
        "x3            -0.0625      0.002    -40.188      0.000        -0.066    -0.059\n",
        "const         36.9946      1.580     23.417      0.000        33.897    40.092\n",
        "==============================================================================\n",
        "Omnibus:                       19.455   Durbin-Watson:                   0.017\n",
        "Prob(Omnibus):                  0.000   Jarque-Bera (JB):               19.647\n",
        "Skew:                          -0.190   Prob(JB):                     5.42e-05\n",
        "Kurtosis:                       2.887   Cond. No.                     7.93e+04\n",
        "==============================================================================\n",
        "\n",
        "Warnings:\n",
        "[1] The condition number is large, 7.93e+04. This might indicate that there are\n",
        "strong multicollinearity or other numerical problems.\n",
        "\"\"\""
       ]
      }
     ],
     "prompt_number": 256
    },
    {
     "cell_type": "code",
     "collapsed": false,
     "input": [
      "#res.params\n",
      "# estY = res.params[3] + (res.params[2] * xArrTest[0]) + (res.params[1] * xArrTest[1]) + (res.params[0] * xArrTest[2])\n",
      "yPred0 = mvPredict(xArrTest,res)\n",
      "yPred0"
     ],
     "language": "python",
     "metadata": {},
     "outputs": [
      {
       "metadata": {},
       "output_type": "pyout",
       "prompt_number": 257,
       "text": [
        "array([ 68.12932771,  68.81741134,  69.36694532, ...,  17.65250357,\n",
        "        18.59926649,  18.22854643])"
       ]
      }
     ],
     "prompt_number": 257
    },
    {
     "cell_type": "code",
     "collapsed": false,
     "input": [
      "yArrTest"
     ],
     "language": "python",
     "metadata": {},
     "outputs": [
      {
       "metadata": {},
       "output_type": "pyout",
       "prompt_number": 258,
       "text": [
        "array([ 91.17,  94.53,  95.55, ...,  29.31,  29.56,  29.65])"
       ]
      }
     ],
     "prompt_number": 258
    },
    {
     "cell_type": "code",
     "collapsed": false,
     "input": [
      "def futurePredictMLR(res,sp500,nyse,usdi):\n",
      "    return (res.params[3] + (res.params[2] * sp500) + (res.params[1] * nyse) + (res.params[0] * usdi))"
     ],
     "language": "python",
     "metadata": {},
     "outputs": [],
     "prompt_number": 259
    },
    {
     "cell_type": "markdown",
     "metadata": {},
     "source": [
      "###Future Oil Price (By Model 1.0 - Multivariate Linear Regression)\n",
      "####OP(i) = (3.69945988e+01) + ( (-6.24695329e-02) \\* sp500(i) ) + ( (1.82062382e-02) \\* nyse(i) ) + ( (-4.98367518e-01) \\* usdi(i) )"
     ]
    },
    {
     "cell_type": "markdown",
     "metadata": {},
     "source": [
      "##Model 1.1: Polynomial Fit Regression"
     ]
    },
    {
     "cell_type": "markdown",
     "metadata": {},
     "source": [
      "# Time Series Analysis - Auto Regression Models\n",
      "## Model 1.2: Univariate Autogressive Processes (AR)"
     ]
    },
    {
     "cell_type": "markdown",
     "metadata": {},
     "source": [
      "## Model 1.3: Autogressive Moving-Average Processes (ARMA) and Kalman Filter"
     ]
    },
    {
     "cell_type": "markdown",
     "metadata": {},
     "source": [
      "## Model 1.4: Vector Autogressive Processes (VAR)"
     ]
    },
    {
     "cell_type": "markdown",
     "metadata": {},
     "source": [
      "### Error Metrics"
     ]
    },
    {
     "cell_type": "code",
     "collapsed": false,
     "input": [
      "from sklearn.metrics import mean_squared_error"
     ],
     "language": "python",
     "metadata": {},
     "outputs": [],
     "prompt_number": 260
    },
    {
     "cell_type": "code",
     "collapsed": false,
     "input": [
      "errVar_y0 = 100 * (np.absolute(yPred0 - yArrTest) / yArrTest)\n",
      "errRMS_y0 = sqrt(mean_squared_error(yArrTest,yPred0))\n",
      "errABS_y0= np.absolute(yPred0-yArrTest)"
     ],
     "language": "python",
     "metadata": {},
     "outputs": [],
     "prompt_number": 261
    },
    {
     "cell_type": "code",
     "collapsed": false,
     "input": [
      "dfErr = pd.DataFrame(data=None, columns=['Model','Minimum % Error','Maximum % Error', 'RMSE Error', 'Mean Absolute Error','Mean Percentage Error'])\n",
      "dfErr['Model'] = ('Model 1.0','Model 1.1 (Polynomial Fit)')\n",
      "dfErr['Minimum % Error'] = (min(errVar_y0),0)\n",
      "dfErr['Maximum % Error'] = (max(errVar_y0),0)\n",
      "dfErr['RMSE Error'] = (errRMS_y0,0)\n",
      "dfErr['Mean Absolute Error'] = (np.mean(errABS_y0),0)\n",
      "dfErr['Mean Percentage Error'] = (np.mean(errVar_y0),0)\n"
     ],
     "language": "python",
     "metadata": {},
     "outputs": [],
     "prompt_number": 262
    },
    {
     "cell_type": "code",
     "collapsed": false,
     "input": [
      "dfErr"
     ],
     "language": "python",
     "metadata": {},
     "outputs": [
      {
       "html": [
        "<div style=\"max-height:1000px;max-width:1500px;overflow:auto;\">\n",
        "<table border=\"1\" class=\"dataframe\">\n",
        "  <thead>\n",
        "    <tr style=\"text-align: right;\">\n",
        "      <th></th>\n",
        "      <th>Model</th>\n",
        "      <th>Minimum % Error</th>\n",
        "      <th>Maximum % Error</th>\n",
        "      <th>RMSE Error</th>\n",
        "      <th>Mean Absolute Error</th>\n",
        "      <th>Mean Percentage Error</th>\n",
        "    </tr>\n",
        "  </thead>\n",
        "  <tbody>\n",
        "    <tr>\n",
        "      <th>0</th>\n",
        "      <td>                  Model 1.0</td>\n",
        "      <td> 0.005307</td>\n",
        "      <td> 47.564602</td>\n",
        "      <td> 21.85895</td>\n",
        "      <td> 17.587581</td>\n",
        "      <td> 21.750334</td>\n",
        "    </tr>\n",
        "    <tr>\n",
        "      <th>1</th>\n",
        "      <td> Model 1.1 (Polynomial Fit)</td>\n",
        "      <td> 0.000000</td>\n",
        "      <td>  0.000000</td>\n",
        "      <td>  0.00000</td>\n",
        "      <td>  0.000000</td>\n",
        "      <td>  0.000000</td>\n",
        "    </tr>\n",
        "  </tbody>\n",
        "</table>\n",
        "</div>"
       ],
       "metadata": {},
       "output_type": "pyout",
       "prompt_number": 263,
       "text": [
        "                        Model  Minimum % Error  Maximum % Error  RMSE Error  \\\n",
        "0                   Model 1.0         0.005307        47.564602    21.85895   \n",
        "1  Model 1.1 (Polynomial Fit)         0.000000         0.000000     0.00000   \n",
        "\n",
        "   Mean Absolute Error  Mean Percentage Error  \n",
        "0            17.587581              21.750334  \n",
        "1             0.000000               0.000000  "
       ]
      }
     ],
     "prompt_number": 263
    },
    {
     "cell_type": "code",
     "collapsed": false,
     "input": [],
     "language": "python",
     "metadata": {},
     "outputs": [],
     "prompt_number": 263
    }
   ],
   "metadata": {}
  }
 ]
}
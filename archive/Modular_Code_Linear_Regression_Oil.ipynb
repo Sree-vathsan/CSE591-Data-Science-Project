{
 "metadata": {
  "name": "",
  "signature": "sha256:e919dcaf91dacd907fa9c789a4a978d9bfbdd201665a3c9f9ef4c58c792ae8d6"
 },
 "nbformat": 3,
 "nbformat_minor": 0,
 "worksheets": [
  {
   "cells": [
    {
     "cell_type": "heading",
     "level": 1,
     "metadata": {},
     "source": [
      "\n",
      "Various Linear Regression Models for Oil Price Prediction."
     ]
    },
    {
     "cell_type": "code",
     "collapsed": false,
     "input": [
      "from pandas import Series, DataFrame\n",
      "from pandas import merge#Needed Libraries\n",
      "%matplotlib inline\n",
      "import numpy as np\n",
      "import matplotlib as mpl\n",
      "import matplotlib.pyplot as plt\n",
      "import pandas as pd\n",
      "from sklearn.metrics import mean_squared_error\n",
      "\n",
      "import statsmodels.api as sm\n"
     ],
     "language": "python",
     "metadata": {},
     "outputs": [],
     "prompt_number": 1
    },
    {
     "cell_type": "code",
     "collapsed": false,
     "input": [
      "#Input Variables\n",
      "'''\n",
      "oilDataPath = 'https://raw.githubusercontent.com/Sree-vathsan/CSE591-Data-Science-Project/master/regressionModel/data/CRUDE_OIL_WTI_US_ENERGY_Daily_1994-10-03_2014-09-30.csv'\n",
      "sp500DataPath = 'https://raw.githubusercontent.com/Sree-vathsan/CSE591-Data-Science-Project/master/regressionModel/data/YAHOO_SP500_INDEX_DAILY_1994-10-03_2014-09-30.csv'\n",
      "nyseDataPath = 'https://raw.githubusercontent.com/Sree-vathsan/CSE591-Data-Science-Project/master/regressionModel/data/YAHOO_NYSE_INDEX_DAILY_1994-10-03_2014-09-30.csv'\n",
      "usdIndexDataPath = 'https://raw.githubusercontent.com/Sree-vathsan/CSE591-Data-Science-Project/master/regressionModel/data/USD_Index_Daily_1994-10-03_2014-09-30.csv'\n",
      "goldDataPath = 'https://raw.githubusercontent.com/Sree-vathsan/CSE591-Data-Science-Project/master/regressionModel/data/GOLD_DAILY_1994-10-03_2014-09-30.csv'\n",
      "'''\n",
      "\n",
      "'''\n",
      "#Monthly Data\n",
      "oilDataPath = 'https://raw.githubusercontent.com/Sree-vathsan/CSE591-Data-Science-Project/master/regressionModel/data/Monthly/CRUDE_OIL_WTI_US_ENERGY_Monthly_199410-201410.csv'\n",
      "sp500DataPath = 'https://raw.githubusercontent.com/Sree-vathsan/CSE591-Data-Science-Project/master/regressionModel/data/Monthly/YAHOO_SP500_INDEX_Monthly_199410-201410.csv'\n",
      "nyseDataPath = 'https://raw.githubusercontent.com/Sree-vathsan/CSE591-Data-Science-Project/master/regressionModel/data/Monthly/YAHOO_NYSE_INDEX_Monthly_199410-201410.csv'\n",
      "usdIndexDataPath = 'https://raw.githubusercontent.com/Sree-vathsan/CSE591-Data-Science-Project/master/regressionModel/data/Monthly/USD_Index_Monthly_199410_201410.csv'\n",
      "goldDataPath = 'https://raw.githubusercontent.com/Sree-vathsan/CSE591-Data-Science-Project/master/regressionModel/data/Monthly/GOLD_Montly_199410_201410.csv'\n",
      "'''\n",
      "\n",
      "#Monthly Data - 30 Years\n",
      "oilDataPath = 'https://raw.githubusercontent.com/Sree-vathsan/CSE591-Data-Science-Project/master/regressionModel/data/Monthly_30yr/CRUDE_OIL_WTI_US_ENERGY_Monthly_198601-201410.csv'\n",
      "goldDataPath = 'https://raw.githubusercontent.com/Sree-vathsan/CSE591-Data-Science-Project/master/regressionModel/data/Monthly_30yr/GOLD_Montly_198410_201410.csv'\n",
      "\n",
      "#Factors\n",
      "sp500DataPath = 'https://raw.githubusercontent.com/Sree-vathsan/CSE591-Data-Science-Project/master/regressionModel/data/Monthly_30yr/YAHOO_SP500_INDEX_Monthly_198410-201410.csv'\n",
      "nyseDataPath = 'https://raw.githubusercontent.com/Sree-vathsan/CSE591-Data-Science-Project/master/regressionModel/data/Monthly_30yr/YAHOO_NYSE_INDEX_Monthly_198410-201410.csv'\n",
      "usdIndexDataPath = 'https://raw.githubusercontent.com/Sree-vathsan/CSE591-Data-Science-Project/master/regressionModel/data/Monthly_30yr/USD_Index_Monthly_198410_201410.csv'\n",
      "csiDataPath = 'https://raw.githubusercontent.com/Sree-vathsan/CSE591-Data-Science-Project/master/regressionModel/data/Monthly_30yr/CSI_Monthly_198410-201410.csv'\n",
      "\n",
      "\n",
      "dfOil = pd.read_csv(oilDataPath)\n",
      "dfSP500 = pd.read_csv(sp500DataPath)\n",
      "dfNyse = pd.read_csv(nyseDataPath)\n",
      "dfUsInd = pd.read_csv(usdIndexDataPath)\n",
      "dfGold = pd.read_csv(goldDataPath)\n",
      "\n",
      "dfOil.head()"
     ],
     "language": "python",
     "metadata": {},
     "outputs": [
      {
       "output_type": "stream",
       "stream": "stderr",
       "text": [
        "/usr/lib/python2.7/dist-packages/pandas/core/common.py:276: DeprecationWarning: numpy boolean negative (the unary `-` operator) is deprecated, use the bitwise_xor (the `^` operator) or the logical_xor function instead.\n",
        "  return -res\n",
        "/usr/lib/python2.7/dist-packages/pandas/core/common.py:276: DeprecationWarning: numpy boolean negative (the unary `-` operator) is deprecated, use the bitwise_xor (the `^` operator) or the logical_xor function instead.\n",
        "  return -res\n"
       ]
      },
      {
       "html": [
        "<div style=\"max-height:1000px;max-width:1500px;overflow:auto;\">\n",
        "<table border=\"1\" class=\"dataframe\">\n",
        "  <thead>\n",
        "    <tr style=\"text-align: right;\">\n",
        "      <th></th>\n",
        "      <th>Date</th>\n",
        "      <th>Oil_Value</th>\n",
        "    </tr>\n",
        "  </thead>\n",
        "  <tbody>\n",
        "    <tr>\n",
        "      <th>0</th>\n",
        "      <td> 10/31/2014</td>\n",
        "      <td>  80.53</td>\n",
        "    </tr>\n",
        "    <tr>\n",
        "      <th>1</th>\n",
        "      <td>  9/30/2014</td>\n",
        "      <td>  91.17</td>\n",
        "    </tr>\n",
        "    <tr>\n",
        "      <th>2</th>\n",
        "      <td>  8/31/2014</td>\n",
        "      <td>  97.86</td>\n",
        "    </tr>\n",
        "    <tr>\n",
        "      <th>3</th>\n",
        "      <td>  7/31/2014</td>\n",
        "      <td>  98.23</td>\n",
        "    </tr>\n",
        "    <tr>\n",
        "      <th>4</th>\n",
        "      <td>  6/30/2014</td>\n",
        "      <td> 106.07</td>\n",
        "    </tr>\n",
        "  </tbody>\n",
        "</table>\n",
        "<p>5 rows \u00d7 2 columns</p>\n",
        "</div>"
       ],
       "metadata": {},
       "output_type": "pyout",
       "prompt_number": 2,
       "text": [
        "         Date  Oil_Value\n",
        "0  10/31/2014      80.53\n",
        "1   9/30/2014      91.17\n",
        "2   8/31/2014      97.86\n",
        "3   7/31/2014      98.23\n",
        "4   6/30/2014     106.07\n",
        "\n",
        "[5 rows x 2 columns]"
       ]
      }
     ],
     "prompt_number": 2
    },
    {
     "cell_type": "code",
     "collapsed": false,
     "input": [
      "def normalize(dataFrame):\n",
      "    return (dataFrame-dataFrame.min())/(dataFrame.max()-dataFrame.min())\n",
      "\n",
      "'''\n",
      "dfOil['Oil_Value']=normalize(dfOil['Oil_Value'])\n",
      "dfSP500['SP500_Value'] = normalize(dfSP500['SP500_Value'])\n",
      "dfNyse['NYSE_Value'] = normalize(dfNyse['NYSE_Value'])\n",
      "dfUsInd['USD_Value'] = normalize(dfUsInd['USD_Value'])\n",
      "dfGold['Gold_Value'] = normalize(dfGold['Gold_Value'])\n",
      "'''"
     ],
     "language": "python",
     "metadata": {},
     "outputs": [
      {
       "metadata": {},
       "output_type": "pyout",
       "prompt_number": 3,
       "text": [
        "\"\\ndfOil['Oil_Value']=normalize(dfOil['Oil_Value'])\\ndfSP500['SP500_Value'] = normalize(dfSP500['SP500_Value'])\\ndfNyse['NYSE_Value'] = normalize(dfNyse['NYSE_Value'])\\ndfUsInd['USD_Value'] = normalize(dfUsInd['USD_Value'])\\ndfGold['Gold_Value'] = normalize(dfGold['Gold_Value'])\\n\""
       ]
      }
     ],
     "prompt_number": 3
    },
    {
     "cell_type": "code",
     "collapsed": false,
     "input": [
      "trainingRatio = 0.6\n",
      "\n",
      "dfMaster = merge(dfOil,dfSP500,on='Date',how='inner')\n",
      "dfMaster = merge(dfMaster,dfNyse,on='Date',how='inner')\n",
      "dfMaster = merge(dfMaster,dfUsInd,on='Date',how='inner')\n",
      "dfMaster = merge(dfMaster,dfGold,on='Date',how='inner') \n",
      "#dfMaster = merge(dfMaster,<new factor data frame>,on='Date',how='inner')\n",
      "\n",
      "# add factor here (it should be same as column name)\n",
      "candidatesList = ['Oil_Value',\t'SP500_Value',\t'NYSE_Value',\t'USD_Value', 'Gold_Value']\n",
      "#print (dfMaster[candidatesList[1]][0])\n",
      "trainSize = np.floor(len(dfMaster['Date']) * trainingRatio) #80:20 ratio\n",
      "dfMasterTrain = dfMaster[len(dfMaster)-np.int(trainSize):len(dfMaster)]\n",
      "dfMasterTest = dfMaster[0:(len(dfMaster)-np.int(trainSize))-1]\n",
      "dfMaster.head(5)"
     ],
     "language": "python",
     "metadata": {},
     "outputs": [
      {
       "output_type": "stream",
       "stream": "stderr",
       "text": [
        "/usr/lib/python2.7/dist-packages/pandas/core/common.py:276: DeprecationWarning: numpy boolean negative (the unary `-` operator) is deprecated, use the bitwise_xor (the `^` operator) or the logical_xor function instead.\n",
        "  return -res\n",
        "/usr/lib/python2.7/dist-packages/pandas/core/common.py:276: DeprecationWarning: numpy boolean negative (the unary `-` operator) is deprecated, use the bitwise_xor (the `^` operator) or the logical_xor function instead.\n",
        "  return -res\n"
       ]
      },
      {
       "html": [
        "<div style=\"max-height:1000px;max-width:1500px;overflow:auto;\">\n",
        "<table border=\"1\" class=\"dataframe\">\n",
        "  <thead>\n",
        "    <tr style=\"text-align: right;\">\n",
        "      <th></th>\n",
        "      <th>Date</th>\n",
        "      <th>Oil_Value</th>\n",
        "      <th>SP500_Value</th>\n",
        "      <th>NYSE_Value</th>\n",
        "      <th>USD_Value</th>\n",
        "      <th>Gold_Value</th>\n",
        "    </tr>\n",
        "  </thead>\n",
        "  <tbody>\n",
        "    <tr>\n",
        "      <th>0</th>\n",
        "      <td> 10/31/2014</td>\n",
        "      <td>  80.53</td>\n",
        "      <td> 2018.05</td>\n",
        "      <td> 10845.00</td>\n",
        "      <td> 80.8143</td>\n",
        "      <td> 1164.3</td>\n",
        "    </tr>\n",
        "    <tr>\n",
        "      <th>1</th>\n",
        "      <td>  9/30/2014</td>\n",
        "      <td>  91.17</td>\n",
        "      <td> 1972.29</td>\n",
        "      <td> 10702.93</td>\n",
        "      <td> 81.0908</td>\n",
        "      <td> 1216.5</td>\n",
        "    </tr>\n",
        "    <tr>\n",
        "      <th>2</th>\n",
        "      <td>  8/31/2014</td>\n",
        "      <td>  97.86</td>\n",
        "      <td> 2003.37</td>\n",
        "      <td> 11046.29</td>\n",
        "      <td> 77.9769</td>\n",
        "      <td> 1285.8</td>\n",
        "    </tr>\n",
        "    <tr>\n",
        "      <th>3</th>\n",
        "      <td>  7/31/2014</td>\n",
        "      <td>  98.23</td>\n",
        "      <td> 1930.67</td>\n",
        "      <td> 10726.43</td>\n",
        "      <td> 77.2128</td>\n",
        "      <td> 1285.3</td>\n",
        "    </tr>\n",
        "    <tr>\n",
        "      <th>4</th>\n",
        "      <td>  6/30/2014</td>\n",
        "      <td> 106.07</td>\n",
        "      <td> 1960.23</td>\n",
        "      <td> 10979.42</td>\n",
        "      <td> 75.7271</td>\n",
        "      <td> 1315.0</td>\n",
        "    </tr>\n",
        "  </tbody>\n",
        "</table>\n",
        "<p>5 rows \u00d7 6 columns</p>\n",
        "</div>"
       ],
       "metadata": {},
       "output_type": "pyout",
       "prompt_number": 4,
       "text": [
        "         Date  Oil_Value  SP500_Value  NYSE_Value  USD_Value  Gold_Value\n",
        "0  10/31/2014      80.53      2018.05    10845.00    80.8143      1164.3\n",
        "1   9/30/2014      91.17      1972.29    10702.93    81.0908      1216.5\n",
        "2   8/31/2014      97.86      2003.37    11046.29    77.9769      1285.8\n",
        "3   7/31/2014      98.23      1930.67    10726.43    77.2128      1285.3\n",
        "4   6/30/2014     106.07      1960.23    10979.42    75.7271      1315.0\n",
        "\n",
        "[5 rows x 6 columns]"
       ]
      }
     ],
     "prompt_number": 4
    },
    {
     "cell_type": "heading",
     "level": 2,
     "metadata": {},
     "source": [
      "Model 1.0 Regressive model using last autoregressive factor as well as other endogenous variables:"
     ]
    },
    {
     "cell_type": "code",
     "collapsed": false,
     "input": [
      "def mvRegress(y, x):\n",
      "    ones = np.ones(len(x[0]))\n",
      "    X = sm.add_constant(np.column_stack((x[0], ones)))\n",
      "    for ele in x[1:]:\n",
      "        X = sm.add_constant(np.column_stack((ele, X)))\n",
      "    results = sm.OLS(y, X).fit()\n",
      "    return results\n",
      "\n",
      "def mvPredict(x,res):\n",
      "    ones = np.ones(len(x[0]))\n",
      "    X = sm.add_constant(np.column_stack((x[0], ones)))\n",
      "    for ele in x[1:]:\n",
      "        X = sm.add_constant(np.column_stack((ele, X)))\n",
      "    return res.predict(X)\n",
      "   "
     ],
     "language": "python",
     "metadata": {},
     "outputs": [],
     "prompt_number": 5
    },
    {
     "cell_type": "code",
     "collapsed": false,
     "input": [
      "#p_vector = [Oil, NYSE, US Index ]\n",
      "\n",
      "def model_1_0(dfMasterTrain,dfMasterTest,p_vector):\n",
      "    yArrTrain = np.array(dfMasterTrain[candidatesList[0]])\n",
      "    yArrTest = np.array(dfMasterTest[candidatesList[0]])\n",
      "    xArrTrain = []\n",
      "    n = len(p_vector)\n",
      "    for i in range(0,n,1):\n",
      "        k = p_vector[i]\n",
      "        for j in range(0,k,1):\n",
      "            xArrTrain.append(np.array(dfMasterTrain[candidatesList[i]]))\n",
      "    #print xArrTrain\n",
      "    #now we must shift accordingly\n",
      "    curr=0\n",
      "    for it in range(0,n,1):\n",
      "        k = p_vector[it]\n",
      "        for i in range(0,k,1):\n",
      "            l=len(xArrTrain[curr])\n",
      "            for j in range(0,l,1):\n",
      "                if(j<l-i-1):\n",
      "                    xArrTrain[curr][j]=xArrTrain[curr][j+i+1]\n",
      "                else:\n",
      "                    xArrTrain[curr][j]=xArrTrain[curr][l-1]\n",
      "            curr=curr+1\n",
      "    #print xArrTrain\n",
      "    #set xArrTest\n",
      "    xArrTest = []\n",
      "    n = len(p_vector)\n",
      "    for i in range(0,n,1):\n",
      "        k = p_vector[i]\n",
      "        for j in range(0,k,1):\n",
      "            xArrTest.append(np.array(dfMasterTest[candidatesList[i]]))\n",
      "    #print xArrTrain\n",
      "    #now we must shift accordingly\n",
      "    curr=0\n",
      "    for it in range(0,n,1):\n",
      "        k = p_vector[it]\n",
      "        for i in range(0,k,1):\n",
      "            l=len(xArrTest[curr])\n",
      "            for j in range(0,l,1):\n",
      "                if(j<l-i-1):\n",
      "                    xArrTest[curr][j]=xArrTest[curr][j+i+1]\n",
      "                else:\n",
      "                    xArrTest[curr][j]=xArrTest[curr][l-1]\n",
      "            curr=curr+1\n",
      "    #next phase\n",
      "    #train\n",
      "    result = mvRegress(yArrTrain, xArrTrain)\n",
      "    #print (result.summary())\n",
      "    yPred = mvPredict(xArrTest,result)\n",
      "    return result,yPred"
     ],
     "language": "python",
     "metadata": {},
     "outputs": [],
     "prompt_number": 6
    },
    {
     "cell_type": "code",
     "collapsed": false,
     "input": [
      "def plot(err,c,nb,displayTitle):\n",
      "    fig, axes = plt.subplots(1, 1, figsize=(6,3))\n",
      "    axes.hist(err, color='#009999', bins=nb)\n",
      "    axes.set_ylabel('Error Frequency')\n",
      "    axes.set_xlabel('Error')\n",
      "    axes.set_title(displayTitle)"
     ],
     "language": "python",
     "metadata": {},
     "outputs": [],
     "prompt_number": 7
    },
    {
     "cell_type": "code",
     "collapsed": false,
     "input": [
      "def computeErrors(yPred, yArrTest):\n",
      "    errPred = yPred - yArrTest\n",
      "    avg=np.mean(errPred)\n",
      "    yPred = yPred - avg\n",
      "    errPred = yPred - yArrTest\n",
      "    \n",
      "    errRel= 100 * (np.absolute(yPred - yArrTest) / yArrTest)\n",
      "    errRMSE = np.sqrt(mean_squared_error(yArrTest,yPred))\n",
      "    errABS= np.absolute(yPred-yArrTest)\n",
      "    ''' # Comment temporarily, uncoment this later\n",
      "    print (\"Mean Relative Error: \")\n",
      "    print (np.mean(errVar))\n",
      "    print (\"Mean Absolute Error: \")\n",
      "    print (np.mean(errABS))\n",
      "    print (\"RMSE: \")\n",
      "    print (errRMSE)\n",
      "    plot(errPred/yArrTest,'g',10)\n",
      "    '''\n",
      "    errPlot = errPred/yArrTest\n",
      "    return np.mean(errRel),np.mean(errABS),errRMSE,errPlot"
     ],
     "language": "python",
     "metadata": {},
     "outputs": [],
     "prompt_number": 8
    },
    {
     "cell_type": "code",
     "collapsed": false,
     "input": [
      "def frameString(modelVector, candidatesList):\n",
      "    displayString = ''\n",
      "    for i in range(len(modelVector)):\n",
      "        if(modelVector[i] > 0):\n",
      "            if(len(displayString)>0):\n",
      "                displayString += ', '\n",
      "            displayString += candidatesList[i]\n",
      "    return displayString"
     ],
     "language": "python",
     "metadata": {},
     "outputs": [],
     "prompt_number": 9
    },
    {
     "cell_type": "code",
     "collapsed": false,
     "input": [
      "def PredictNextMonth(p_vector, modelRes,dfTest):\n",
      "    xArrTest = []\n",
      "    n = len(p_vector)\n",
      "    for i in range(0,n,1):\n",
      "        k = p_vector[i]\n",
      "        for j in range(0,k,1):\n",
      "            xArrTest.append(np.array(dfTest[candidatesList[i]]))\n",
      "    #print(xArrTest)\n",
      "    #now we must shift accordingly\n",
      "    curr=0\n",
      "    for it in range(0,n,1):\n",
      "        k = p_vector[it]\n",
      "        for i in range(0,k,1):\n",
      "            l=len(xArrTest[curr])\n",
      "            for j in range(0,l,1):\n",
      "                if(j<l-i-1):\n",
      "                    xArrTest[curr][j]=xArrTest[curr][j+i+1]\n",
      "                else:\n",
      "                    xArrTest[curr][j]=xArrTest[curr][l-1]\n",
      "            curr=curr+1\n",
      "    return mvPredict(xArrTest,modelRes)"
     ],
     "language": "python",
     "metadata": {},
     "outputs": [],
     "prompt_number": 10
    },
    {
     "cell_type": "code",
     "collapsed": false,
     "input": [
      "def computePrediction(modelRes, dfMasterTrain, dfMasterTest, modelVector, yPred, candidatesList):\n",
      "    cols = np.array(candidatesList)\n",
      "    cols = np.insert(cols,0,'Date')\n",
      "    dfPred = DataFrame(data=dfMasterTest[:1], columns=cols)\n",
      "    dfPred = dfPred.append(dfMasterTest,ignore_index=True)\n",
      "    errRel = 100. * np.absolute((yPred - dfMasterTest['Oil_Value'])) / dfMasterTest['Oil_Value']\n",
      "    #Predict Current Month\n",
      "    yPredNew = PredictNextMonth(modelVector,modelRes,dfPred)\n",
      "    dfPred.loc[0,'Oil_Value']=yPredNew[0]\n",
      "    #Predict Next Month\n",
      "    dfPredNext = DataFrame(data=dfPred[:1], columns=cols)\n",
      "    dfPredNext = dfPredNext.append(dfPred,ignore_index=True)\n",
      "    yPredNew = PredictNextMonth(modelVector,modelRes,dfPredNext)\n",
      "    dfPredNext.loc[0,'Oil_Value']=yPredNew[0]\n",
      "    dfPredNext.loc[0,'Date'] = '12/30/2014'\n",
      "    dfPredNext.loc[1,'Date'] = '11/30/2014'\n",
      "    #Compute Confidence\n",
      "    a = len(errRel[errRel <= np.mean(errRel)])\n",
      "    b = len(errRel)\n",
      "    conf = round((1. * a/b ),2) \n",
      "    predVal = round(dfPred.loc[0,'Oil_Value'],2)\n",
      "    meanRelErr = round(np.mean(errRel),2)\n",
      "    strResult = \"\\nThe predicted value is \"+str(predVal) + \" +/- \" \\\n",
      "                    + str(meanRelErr)+\"% with \" + str() + \"% confidence \\n\"\n",
      "    #print(strResult)\n",
      "    return predVal,meanRelErr,conf "
     ],
     "language": "python",
     "metadata": {},
     "outputs": [],
     "prompt_number": 11
    },
    {
     "cell_type": "code",
     "collapsed": false,
     "input": [
      "#['Oil_Value',\t'SP500_Value',\t'NYSE_Value',\t'USD_Value', 'Gold_Value']\n",
      "inputModels = [\\\n",
      "               np.array([1,0,0,0,0]), \\\n",
      "               np.array([1,0,0,1,0]), \\\n",
      "               np.array([1,1,0,0,1]), \\\n",
      "               np.array([1,0,1,1,0]), \\\n",
      "               np.array([1,1,0,1,1]), \\\n",
      "               np.array([1,1,1,1,1]) \\\n",
      "               ]\n",
      "maxDays = 10\n",
      "dfResult = DataFrame(data=None, columns=['Model', 'Months', 'Predicted_Value', 'Relative_Error(%)', 'Probability', \\\n",
      "                                         'Mean_Absolute_Error', 'Mean_RMS_Error'])\n",
      "ctr = 0\n",
      "figHeight = 6\n",
      "figWidth = 12\n",
      "\n",
      "linestyles = ['solid' , 'dashed' , 'dashdot' , 'dotted','solid' , 'dashed' , 'dashdot' , 'dotted']\n",
      "colors=['c','m','y','k','r','g','b']\n",
      "\n",
      "\n",
      "fig0, axes0 = plt.subplots(1, figsize=(figWidth,figHeight))\n",
      "axes0.set_title(\"Oil - Autoregressive Model - Relative Error Plot\")\n",
      "axes0.set_ylabel(\"Relative Errors\")\n",
      "axes0.set_xlabel(\"No of Months\")\n",
      "\n",
      "for m in range(len(inputModels)):\n",
      "    modelVector = inputModels[m]\n",
      "    nMonths = []\n",
      "    relErrModel = []\n",
      "    for i in range(1,maxDays+1,1):\n",
      "        if(i > 1):\n",
      "            modelVector[modelVector == (i-1)] = i\n",
      "        yArrTest = np.array(dfMasterTest[candidatesList[0]])\n",
      "        modelRes,yPred = model_1_0(dfMasterTrain,dfMasterTest,modelVector)\n",
      "        meanErrRel,meanErrABS,meanErrRMSE,errPlot = computeErrors(yPred, yArrTest)\n",
      "        relErrModel.append(meanErrRel)\n",
      "        nMonths.append(i)\n",
      "        predVal,meanRelErr,conf = computePrediction(modelRes, dfMasterTrain, dfMasterTest, modelVector, yPred, candidatesList)\n",
      "        #print(displayStr)\n",
      "        modelName = frameString(modelVector, candidatesList)\n",
      "        dfResult.loc[ctr,'Model'] = modelName\n",
      "        dfResult.loc[ctr,'Months'] = i\n",
      "        dfResult.loc[ctr,'Predicted_Value'] = predVal\n",
      "        dfResult.loc[ctr,'Relative_Error(%)'] = meanErrRel\n",
      "        dfResult.loc[ctr,'Probability'] = conf \n",
      "        dfResult.loc[ctr,'Mean_Absolute_Error'] = meanErrABS\n",
      "        dfResult.loc[ctr,'Mean_RMS_Error'] = meanErrRMSE\n",
      "        ctr = ctr + 1\n",
      "        #plot(errPlot,'g',10,\"Oil -\" + str(i) + \" - \" + modelName)\n",
      "    \n",
      "    plt.plot(nMonths,relErrModel, linewidth=3, linestyle=linestyles[m-1], color=colors[m-1], label=modelName)\n",
      "    # Place a legend to the right of this smaller figure.\n",
      "    plt.legend(bbox_to_anchor=(1.05, 1), loc=1, borderaxespad=0.)\n",
      "    \n",
      "dfResult"
     ],
     "language": "python",
     "metadata": {},
     "outputs": [
      {
       "ename": "NameError",
       "evalue": "name 'np' is not defined",
       "output_type": "pyerr",
       "traceback": [
        "\u001b[1;31m---------------------------------------------------------------------------\u001b[0m\n\u001b[1;31mNameError\u001b[0m                                 Traceback (most recent call last)",
        "\u001b[1;32m<ipython-input-2-333c3313c30e>\u001b[0m in \u001b[0;36m<module>\u001b[1;34m()\u001b[0m\n\u001b[0;32m      1\u001b[0m \u001b[1;31m#['Oil_Value',  'SP500_Value',  'NYSE_Value',   'USD_Value', 'Gold_Value']\u001b[0m\u001b[1;33m\u001b[0m\u001b[1;33m\u001b[0m\u001b[0m\n\u001b[1;32m----> 2\u001b[1;33m \u001b[0minputModels\u001b[0m \u001b[1;33m=\u001b[0m \u001b[1;33m[\u001b[0m               \u001b[0mnp\u001b[0m\u001b[1;33m.\u001b[0m\u001b[0marray\u001b[0m\u001b[1;33m(\u001b[0m\u001b[1;33m[\u001b[0m\u001b[1;36m1\u001b[0m\u001b[1;33m,\u001b[0m\u001b[1;36m0\u001b[0m\u001b[1;33m,\u001b[0m\u001b[1;36m0\u001b[0m\u001b[1;33m,\u001b[0m\u001b[1;36m0\u001b[0m\u001b[1;33m,\u001b[0m\u001b[1;36m0\u001b[0m\u001b[1;33m]\u001b[0m\u001b[1;33m)\u001b[0m\u001b[1;33m,\u001b[0m                \u001b[0mnp\u001b[0m\u001b[1;33m.\u001b[0m\u001b[0marray\u001b[0m\u001b[1;33m(\u001b[0m\u001b[1;33m[\u001b[0m\u001b[1;36m1\u001b[0m\u001b[1;33m,\u001b[0m\u001b[1;36m0\u001b[0m\u001b[1;33m,\u001b[0m\u001b[1;36m0\u001b[0m\u001b[1;33m,\u001b[0m\u001b[1;36m1\u001b[0m\u001b[1;33m,\u001b[0m\u001b[1;36m0\u001b[0m\u001b[1;33m]\u001b[0m\u001b[1;33m)\u001b[0m\u001b[1;33m,\u001b[0m                \u001b[0mnp\u001b[0m\u001b[1;33m.\u001b[0m\u001b[0marray\u001b[0m\u001b[1;33m(\u001b[0m\u001b[1;33m[\u001b[0m\u001b[1;36m1\u001b[0m\u001b[1;33m,\u001b[0m\u001b[1;36m1\u001b[0m\u001b[1;33m,\u001b[0m\u001b[1;36m0\u001b[0m\u001b[1;33m,\u001b[0m\u001b[1;36m0\u001b[0m\u001b[1;33m,\u001b[0m\u001b[1;36m1\u001b[0m\u001b[1;33m]\u001b[0m\u001b[1;33m)\u001b[0m\u001b[1;33m,\u001b[0m                \u001b[0mnp\u001b[0m\u001b[1;33m.\u001b[0m\u001b[0marray\u001b[0m\u001b[1;33m(\u001b[0m\u001b[1;33m[\u001b[0m\u001b[1;36m1\u001b[0m\u001b[1;33m,\u001b[0m\u001b[1;36m0\u001b[0m\u001b[1;33m,\u001b[0m\u001b[1;36m1\u001b[0m\u001b[1;33m,\u001b[0m\u001b[1;36m1\u001b[0m\u001b[1;33m,\u001b[0m\u001b[1;36m0\u001b[0m\u001b[1;33m]\u001b[0m\u001b[1;33m)\u001b[0m\u001b[1;33m,\u001b[0m                \u001b[0mnp\u001b[0m\u001b[1;33m.\u001b[0m\u001b[0marray\u001b[0m\u001b[1;33m(\u001b[0m\u001b[1;33m[\u001b[0m\u001b[1;36m1\u001b[0m\u001b[1;33m,\u001b[0m\u001b[1;36m1\u001b[0m\u001b[1;33m,\u001b[0m\u001b[1;36m0\u001b[0m\u001b[1;33m,\u001b[0m\u001b[1;36m1\u001b[0m\u001b[1;33m,\u001b[0m\u001b[1;36m1\u001b[0m\u001b[1;33m]\u001b[0m\u001b[1;33m)\u001b[0m\u001b[1;33m,\u001b[0m                \u001b[0mnp\u001b[0m\u001b[1;33m.\u001b[0m\u001b[0marray\u001b[0m\u001b[1;33m(\u001b[0m\u001b[1;33m[\u001b[0m\u001b[1;36m1\u001b[0m\u001b[1;33m,\u001b[0m\u001b[1;36m1\u001b[0m\u001b[1;33m,\u001b[0m\u001b[1;36m1\u001b[0m\u001b[1;33m,\u001b[0m\u001b[1;36m1\u001b[0m\u001b[1;33m,\u001b[0m\u001b[1;36m1\u001b[0m\u001b[1;33m]\u001b[0m\u001b[1;33m)\u001b[0m                \u001b[1;33m]\u001b[0m\u001b[1;33m\u001b[0m\u001b[0m\n\u001b[0m\u001b[0;32m      3\u001b[0m \u001b[0mmaxDays\u001b[0m \u001b[1;33m=\u001b[0m \u001b[1;36m10\u001b[0m\u001b[1;33m\u001b[0m\u001b[0m\n\u001b[0;32m      4\u001b[0m \u001b[0mdfResult\u001b[0m \u001b[1;33m=\u001b[0m \u001b[0mDataFrame\u001b[0m\u001b[1;33m(\u001b[0m\u001b[0mdata\u001b[0m\u001b[1;33m=\u001b[0m\u001b[0mNone\u001b[0m\u001b[1;33m,\u001b[0m \u001b[0mcolumns\u001b[0m\u001b[1;33m=\u001b[0m\u001b[1;33m[\u001b[0m\u001b[1;34m'Model'\u001b[0m\u001b[1;33m,\u001b[0m \u001b[1;34m'Months'\u001b[0m\u001b[1;33m,\u001b[0m \u001b[1;34m'Predicted_Value'\u001b[0m\u001b[1;33m,\u001b[0m \u001b[1;34m'Relative_Error(%)'\u001b[0m\u001b[1;33m,\u001b[0m \u001b[1;34m'Probability'\u001b[0m\u001b[1;33m,\u001b[0m                                          \u001b[1;34m'Mean_Absolute_Error'\u001b[0m\u001b[1;33m,\u001b[0m \u001b[1;34m'Mean_RMS_Error'\u001b[0m\u001b[1;33m]\u001b[0m\u001b[1;33m)\u001b[0m\u001b[1;33m\u001b[0m\u001b[0m\n\u001b[0;32m      5\u001b[0m \u001b[0mctr\u001b[0m \u001b[1;33m=\u001b[0m \u001b[1;36m0\u001b[0m\u001b[1;33m\u001b[0m\u001b[0m\n",
        "\u001b[1;31mNameError\u001b[0m: name 'np' is not defined"
       ]
      }
     ],
     "prompt_number": 2
    },
    {
     "cell_type": "heading",
     "level": 2,
     "metadata": {},
     "source": [
      "ARMA Model"
     ]
    },
    {
     "cell_type": "code",
     "collapsed": false,
     "input": [
      "import statsmodels.api as sm\n",
      "from statsmodels.graphics.api import qqplot\n",
      "from __future__ import print_function"
     ],
     "language": "python",
     "metadata": {},
     "outputs": [],
     "prompt_number": 13
    },
    {
     "cell_type": "code",
     "collapsed": false,
     "input": [
      "dfOil_value = dfOil['Oil_Value']\n",
      "#print (dfOil_value)\n",
      "npOil_value = np.array(dfOil_value)\n",
      "\n",
      "npOil_value=npOil_value[::-1]\n",
      "#print (npOil_value)\n",
      "npOil_ARMA_Train=npOil_value[0:np.int(trainSize)]\n",
      "npOil_ARMA_Test=npOil_value[np.int(trainSize):]\n",
      "#print (npOil_ARMA_Test)\n",
      "#print (npOil_value[np.int(trainSize)-1])\n",
      "#print (npOil_value[np.int(trainSize)])\n",
      "#print (npOil_value[np.int(trainSize)+1])\n",
      "\n",
      "acf_values = sm.tsa.stattools.acf(npOil_value, unbiased=False, nlags=10)\n",
      "#print (acf_values)\n",
      "pacf_values = sm.tsa.stattools.pacf(npOil_value, nlags=10)"
     ],
     "language": "python",
     "metadata": {},
     "outputs": [],
     "prompt_number": 14
    },
    {
     "cell_type": "code",
     "collapsed": false,
     "input": [
      "fig = plt.figure(figsize=(12,8))\n",
      "ax1 = fig.add_subplot(211)\n",
      "fig = sm.graphics.tsa.plot_acf(npOil_value, lags=40, ax=ax1)\n",
      "ax2 = fig.add_subplot(212)\n",
      "fig = sm.graphics.tsa.plot_pacf(npOil_value, lags=40, ax=ax2)"
     ],
     "language": "python",
     "metadata": {},
     "outputs": [
      {
       "metadata": {},
       "output_type": "display_data",
       "png": "[encoded data removed]",
       "text": [
        "<matplotlib.figure.Figure at 0x7f5bc31c6210>"
       ]
      }
     ],
     "prompt_number": 15
    },
    {
     "cell_type": "code",
     "collapsed": false,
     "input": [
      "#dfOil = pd.TimeSeries(dfOil)\n",
      "#dfOil_value = pd.TimeSeries(dfOil_value, index=dates)\n",
      "arma_mod20 = sm.tsa.ARMA(npOil_value, (6,0), dates=None).fit()\n",
      "print(arma_mod20.params)\n",
      "#print(arma_mod20.fittedvalues)\n",
      "\n",
      "#errors = sm.tsa.ARMA(npOil_ARMA_Test,(2,0), dates=None).geterrors(arma_mod20.params)"
     ],
     "language": "python",
     "metadata": {},
     "outputs": [
      {
       "output_type": "stream",
       "stream": "stdout",
       "text": [
        "[  4.50249648e+01   1.19379679e+00  -1.60501819e-01  -1.54050833e-02\n",
        "  -2.71592732e-02  -1.67727801e-01   1.65457226e-01]\n"
       ]
      }
     ],
     "prompt_number": 16
    },
    {
     "cell_type": "code",
     "collapsed": false,
     "input": [
      "yPredARMA= arma_mod20.fittedvalues[np.int(trainSize):]\n",
      "y = npOil_value[np.int(trainSize):]\n",
      "#print (yPredARMA)\n",
      "errPredARMA = yPredARMA - y\n",
      "avg = np.mean(errPredARMA)\n",
      "yPredARMA = yPredARMA - avg\n",
      "errPredARMA = yPredARMA - y\n",
      "\n",
      "errARMA_Var= 100 * (np.absolute(errPredARMA) / y)\n",
      "errARMA_RMSE = np.sqrt(mean_squared_error(yPredARMA,y))\n",
      "errARMA_ABS= np.absolute(errPredARMA)\n",
      "\n",
      "print (\"Mean Absolute error\",np.mean(errARMA_ABS))\n",
      "print (\"RMSE error\",errARMA_RMSE)\n",
      "print (\"Mean variance\",np.mean(errARMA_Var))\n",
      "\n",
      "\n",
      "plot(errPredARMA/y,'g',10,\"ARMA error plot\")"
     ],
     "language": "python",
     "metadata": {},
     "outputs": [
      {
       "output_type": "stream",
       "stream": "stdout",
       "text": [
        "Mean Absolute error 5.0322462866\n",
        "RMSE error 6.42218763098\n",
        "Mean variance 6.78951497738\n"
       ]
      },
      {
       "metadata": {},
       "output_type": "display_data",
       "png": "[encoded data removed]",
       "text": [
        "<matplotlib.figure.Figure at 0x7f5bec7a8150>"
       ]
      }
     ],
     "prompt_number": 17
    },
    {
     "cell_type": "code",
     "collapsed": false,
     "input": [],
     "language": "python",
     "metadata": {},
     "outputs": [],
     "prompt_number": 17
    }
   ],
   "metadata": {}
  }
 ]
}
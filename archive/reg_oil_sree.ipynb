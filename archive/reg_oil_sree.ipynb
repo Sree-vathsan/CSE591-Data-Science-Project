{
 "metadata": {
  "name": "reg_oil_sree.ipynb",
  "signature": "sha256:5a3c8a1be25942f7d70e8231c01a6055ab3da1b922c2e845b0bab5d0c2b59bb1"
 },
 "nbformat": 3,
 "nbformat_minor": 0,
 "worksheets": [
  {
   "cells": [
    {
     "cell_type": "code",
     "collapsed": false,
     "input": [
      "print(\"Linear Regression Model\")"
     ],
     "language": "python",
     "metadata": {},
     "outputs": [
      {
       "output_type": "stream",
       "stream": "stdout",
       "text": [
        "Linear Regression Model\n"
       ]
      }
     ],
     "prompt_number": 1
    },
    {
     "cell_type": "code",
     "collapsed": false,
     "input": [
      "#Needed Libraries\n",
      "%matplotlib inline\n",
      "import numpy as np\n",
      "import matplotlib as mpl\n",
      "import matplotlib.pyplot as plt\n",
      "import pandas as pd\n",
      "from pandas import Series, DataFrame\n",
      "from pandas import merge"
     ],
     "language": "python",
     "metadata": {},
     "outputs": [],
     "prompt_number": 2
    },
    {
     "cell_type": "code",
     "collapsed": false,
     "input": [
      "#Input Variables\n",
      "oilDataPath = 'https://raw.githubusercontent.com/Sree-vathsan/CSE591-Data-Science-Project/master/regressionModel/data/CRUDE_OIL_WTI_US_ENERGY_Daily_1994-10-03_2014-09-30.csv'\n",
      "sp500DataPath = 'https://raw.githubusercontent.com/Sree-vathsan/CSE591-Data-Science-Project/master/regressionModel/data/YAHOO_SP500_INDEX_DAILY_1994-10-03_2014-09-30.csv'\n",
      "nyseDataPath = 'https://raw.githubusercontent.com/Sree-vathsan/CSE591-Data-Science-Project/master/regressionModel/data/YAHOO_NYSE_INDEX_DAILY_1994-10-03_2014-09-30.csv'\n",
      "usdIndexDataPath = 'https://raw.githubusercontent.com/Sree-vathsan/CSE591-Data-Science-Project/master/regressionModel/data/USD_Index_Daily_1994-10-03_2014-09-30.csv'\n",
      "trainingRatio = 0.6\n",
      "pRuns = 10 \n",
      "pThreshold = 0.4"
     ],
     "language": "python",
     "metadata": {},
     "outputs": [],
     "prompt_number": 3
    },
    {
     "cell_type": "code",
     "collapsed": false,
     "input": [
      "def normalize(df,colName):\n",
      "    dfNorm = df.copy(deep=True);\n",
      "    dfNorm[colName] = abs(df[colName] - df[colName].mean())*100 / (df[colName].max() - df[colName].min())\n",
      "    return dfNorm"
     ],
     "language": "python",
     "metadata": {},
     "outputs": [],
     "prompt_number": 4
    },
    {
     "cell_type": "code",
     "collapsed": false,
     "input": [
      "#Source Data Loading\n",
      "\n",
      "dfOil = pd.read_csv(oilDataPath)[:3650]\n",
      "dfSP500 = pd.read_csv(sp500DataPath)[:3650]\n",
      "dfNyse = pd.read_csv(nyseDataPath)[:3650]\n",
      "dfUsInd = pd.read_csv(usdIndexDataPath)[:3650]"
     ],
     "language": "python",
     "metadata": {},
     "outputs": [],
     "prompt_number": 5
    },
    {
     "cell_type": "code",
     "collapsed": false,
     "input": [
      "dfOil.tail()"
     ],
     "language": "python",
     "metadata": {},
     "outputs": [
      {
       "html": [
        "<div style=\"max-height:1000px;max-width:1500px;overflow:auto;\">\n",
        "<table border=\"1\" class=\"dataframe\">\n",
        "  <thead>\n",
        "    <tr style=\"text-align: right;\">\n",
        "      <th></th>\n",
        "      <th>Date</th>\n",
        "      <th>Oil_Value</th>\n",
        "    </tr>\n",
        "  </thead>\n",
        "  <tbody>\n",
        "    <tr>\n",
        "      <th>3645</th>\n",
        "      <td> 3/24/2000</td>\n",
        "      <td> 27.86</td>\n",
        "    </tr>\n",
        "    <tr>\n",
        "      <th>3646</th>\n",
        "      <td> 3/23/2000</td>\n",
        "      <td> 27.47</td>\n",
        "    </tr>\n",
        "    <tr>\n",
        "      <th>3647</th>\n",
        "      <td> 3/22/2000</td>\n",
        "      <td> 27.28</td>\n",
        "    </tr>\n",
        "    <tr>\n",
        "      <th>3648</th>\n",
        "      <td> 3/21/2000</td>\n",
        "      <td> 28.01</td>\n",
        "    </tr>\n",
        "    <tr>\n",
        "      <th>3649</th>\n",
        "      <td> 3/20/2000</td>\n",
        "      <td> 29.33</td>\n",
        "    </tr>\n",
        "  </tbody>\n",
        "</table>\n",
        "</div>"
       ],
       "metadata": {},
       "output_type": "pyout",
       "prompt_number": 6,
       "text": [
        "           Date  Oil_Value\n",
        "3645  3/24/2000      27.86\n",
        "3646  3/23/2000      27.47\n",
        "3647  3/22/2000      27.28\n",
        "3648  3/21/2000      28.01\n",
        "3649  3/20/2000      29.33"
       ]
      }
     ],
     "prompt_number": 6
    },
    {
     "cell_type": "code",
     "collapsed": false,
     "input": [
      "print (len(dfOil['Oil_Value']))\n",
      "\n",
      "def shiftOneBehind(dfOriginal,colNameSrc,colNameDst):\n",
      "    dfOneBehind = dfOriginal.copy()\n",
      "    #dfOneBehind = pd.DataFrame(data=None,columns=('Date',colNameDst))\n",
      "    dfOneBehind['Date'] = dfOriginal['Date']\n",
      "    for i in arange(0,len(dfOriginal['Date']),1):\n",
      "        if(i < len(dfOriginal['Date']) - 1):\n",
      "            dfOneBehind[colNameDst][i] = dfOriginal[colNameSrc][i+1]        \n",
      "        else:\n",
      "            dfOneBehind[colNameDst][i] = dfOriginal[colNameSrc][i]\n",
      "    return dfOneBehind\n",
      "\n",
      "#for i in arange(0,len(dfOil['Date']),1):\n",
      "#        if(i < len(dfOil['Date']) - 1):\n",
      "#            dfOilOneBehind['Oil_Value'][i] = dfOil['Oil_Value'][i+1]        \n",
      "#        else:\n",
      "#            dfOilOneBehind['Oil_Value'][i] = dfOil['Oil_Value'][i]\n",
      "dfOilOneBehind = pd.DataFrame(data=None,columns=('Date','Oil_Value'))\n",
      "dfOilOneBehind = shiftOneBehind(dfOil,'Oil_Value','Oil_Value')\n",
      "dfOilOneBehind.head()"
     ],
     "language": "python",
     "metadata": {},
     "outputs": [
      {
       "output_type": "stream",
       "stream": "stdout",
       "text": [
        "3650\n"
       ]
      },
      {
       "html": [
        "<div style=\"max-height:1000px;max-width:1500px;overflow:auto;\">\n",
        "<table border=\"1\" class=\"dataframe\">\n",
        "  <thead>\n",
        "    <tr style=\"text-align: right;\">\n",
        "      <th></th>\n",
        "      <th>Date</th>\n",
        "      <th>Oil_Value</th>\n",
        "    </tr>\n",
        "  </thead>\n",
        "  <tbody>\n",
        "    <tr>\n",
        "      <th>0</th>\n",
        "      <td> 9/30/2014</td>\n",
        "      <td> 94.53</td>\n",
        "    </tr>\n",
        "    <tr>\n",
        "      <th>1</th>\n",
        "      <td> 9/29/2014</td>\n",
        "      <td> 95.55</td>\n",
        "    </tr>\n",
        "    <tr>\n",
        "      <th>2</th>\n",
        "      <td> 9/26/2014</td>\n",
        "      <td> 93.59</td>\n",
        "    </tr>\n",
        "    <tr>\n",
        "      <th>3</th>\n",
        "      <td> 9/25/2014</td>\n",
        "      <td> 93.60</td>\n",
        "    </tr>\n",
        "    <tr>\n",
        "      <th>4</th>\n",
        "      <td> 9/24/2014</td>\n",
        "      <td> 91.55</td>\n",
        "    </tr>\n",
        "  </tbody>\n",
        "</table>\n",
        "</div>"
       ],
       "metadata": {},
       "output_type": "pyout",
       "prompt_number": 7,
       "text": [
        "        Date  Oil_Value\n",
        "0  9/30/2014      94.53\n",
        "1  9/29/2014      95.55\n",
        "2  9/26/2014      93.59\n",
        "3  9/25/2014      93.60\n",
        "4  9/24/2014      91.55"
       ]
      }
     ],
     "prompt_number": 7
    },
    {
     "cell_type": "code",
     "collapsed": false,
     "input": [
      "#dfSP500.head()\n",
      "dfSP500OneBehind = shiftOneBehind(dfSP500,'SP500_Value','SP500_Value')\n",
      "dfSP500OneBehind.tail()"
     ],
     "language": "python",
     "metadata": {},
     "outputs": [
      {
       "html": [
        "<div style=\"max-height:1000px;max-width:1500px;overflow:auto;\">\n",
        "<table border=\"1\" class=\"dataframe\">\n",
        "  <thead>\n",
        "    <tr style=\"text-align: right;\">\n",
        "      <th></th>\n",
        "      <th>Date</th>\n",
        "      <th>SP500_Value</th>\n",
        "    </tr>\n",
        "  </thead>\n",
        "  <tbody>\n",
        "    <tr>\n",
        "      <th>3645</th>\n",
        "      <td>  4/3/2000</td>\n",
        "      <td> 1498.58</td>\n",
        "    </tr>\n",
        "    <tr>\n",
        "      <th>3646</th>\n",
        "      <td> 3/31/2000</td>\n",
        "      <td> 1487.92</td>\n",
        "    </tr>\n",
        "    <tr>\n",
        "      <th>3647</th>\n",
        "      <td> 3/30/2000</td>\n",
        "      <td> 1508.52</td>\n",
        "    </tr>\n",
        "    <tr>\n",
        "      <th>3648</th>\n",
        "      <td> 3/29/2000</td>\n",
        "      <td> 1507.73</td>\n",
        "    </tr>\n",
        "    <tr>\n",
        "      <th>3649</th>\n",
        "      <td> 3/28/2000</td>\n",
        "      <td> 1507.73</td>\n",
        "    </tr>\n",
        "  </tbody>\n",
        "</table>\n",
        "</div>"
       ],
       "metadata": {},
       "output_type": "pyout",
       "prompt_number": 8,
       "text": [
        "           Date  SP500_Value\n",
        "3645   4/3/2000      1498.58\n",
        "3646  3/31/2000      1487.92\n",
        "3647  3/30/2000      1508.52\n",
        "3648  3/29/2000      1507.73\n",
        "3649  3/28/2000      1507.73"
       ]
      }
     ],
     "prompt_number": 8
    },
    {
     "cell_type": "code",
     "collapsed": false,
     "input": [
      "dfNyseOneBehind = shiftOneBehind(dfNyse,'NYSE_Value','NYSE_Value')\n",
      "dfNyseOneBehind.tail()"
     ],
     "language": "python",
     "metadata": {},
     "outputs": [
      {
       "html": [
        "<div style=\"max-height:1000px;max-width:1500px;overflow:auto;\">\n",
        "<table border=\"1\" class=\"dataframe\">\n",
        "  <thead>\n",
        "    <tr style=\"text-align: right;\">\n",
        "      <th></th>\n",
        "      <th>Date</th>\n",
        "      <th>NYSE_Value</th>\n",
        "    </tr>\n",
        "  </thead>\n",
        "  <tbody>\n",
        "    <tr>\n",
        "      <th>3645</th>\n",
        "      <td>  4/3/2000</td>\n",
        "      <td> 6848.61</td>\n",
        "    </tr>\n",
        "    <tr>\n",
        "      <th>3646</th>\n",
        "      <td> 3/31/2000</td>\n",
        "      <td> 6827.14</td>\n",
        "    </tr>\n",
        "    <tr>\n",
        "      <th>3647</th>\n",
        "      <td> 3/30/2000</td>\n",
        "      <td> 6866.16</td>\n",
        "    </tr>\n",
        "    <tr>\n",
        "      <th>3648</th>\n",
        "      <td> 3/29/2000</td>\n",
        "      <td> 6824.92</td>\n",
        "    </tr>\n",
        "    <tr>\n",
        "      <th>3649</th>\n",
        "      <td> 3/28/2000</td>\n",
        "      <td> 6824.92</td>\n",
        "    </tr>\n",
        "  </tbody>\n",
        "</table>\n",
        "</div>"
       ],
       "metadata": {},
       "output_type": "pyout",
       "prompt_number": 9,
       "text": [
        "           Date  NYSE_Value\n",
        "3645   4/3/2000     6848.61\n",
        "3646  3/31/2000     6827.14\n",
        "3647  3/30/2000     6866.16\n",
        "3648  3/29/2000     6824.92\n",
        "3649  3/28/2000     6824.92"
       ]
      }
     ],
     "prompt_number": 9
    },
    {
     "cell_type": "code",
     "collapsed": false,
     "input": [
      "dfUsIndOneBehind = shiftOneBehind(dfUsInd,'USD_Value','USD_Value')\n",
      "dfUsIndOneBehind.tail()"
     ],
     "language": "python",
     "metadata": {},
     "outputs": [
      {
       "html": [
        "<div style=\"max-height:1000px;max-width:1500px;overflow:auto;\">\n",
        "<table border=\"1\" class=\"dataframe\">\n",
        "  <thead>\n",
        "    <tr style=\"text-align: right;\">\n",
        "      <th></th>\n",
        "      <th>Date</th>\n",
        "      <th>USD_Value</th>\n",
        "    </tr>\n",
        "  </thead>\n",
        "  <tbody>\n",
        "    <tr>\n",
        "      <th>3645</th>\n",
        "      <td>  4/4/2000</td>\n",
        "      <td> 98.5396</td>\n",
        "    </tr>\n",
        "    <tr>\n",
        "      <th>3646</th>\n",
        "      <td>  4/3/2000</td>\n",
        "      <td> 98.0586</td>\n",
        "    </tr>\n",
        "    <tr>\n",
        "      <th>3647</th>\n",
        "      <td> 3/31/2000</td>\n",
        "      <td> 98.6105</td>\n",
        "    </tr>\n",
        "    <tr>\n",
        "      <th>3648</th>\n",
        "      <td> 3/30/2000</td>\n",
        "      <td> 98.9015</td>\n",
        "    </tr>\n",
        "    <tr>\n",
        "      <th>3649</th>\n",
        "      <td> 3/29/2000</td>\n",
        "      <td> 98.9015</td>\n",
        "    </tr>\n",
        "  </tbody>\n",
        "</table>\n",
        "</div>"
       ],
       "metadata": {},
       "output_type": "pyout",
       "prompt_number": 10,
       "text": [
        "           Date  USD_Value\n",
        "3645   4/4/2000    98.5396\n",
        "3646   4/3/2000    98.0586\n",
        "3647  3/31/2000    98.6105\n",
        "3648  3/30/2000    98.9015\n",
        "3649  3/29/2000    98.9015"
       ]
      }
     ],
     "prompt_number": 10
    },
    {
     "cell_type": "code",
     "collapsed": false,
     "input": [
      "#dfMaster = merge(dfOil,dfOilOneBehind,on='Date',how='inner')\n",
      "dfMaster = merge(dfOilOneBehind,dfSP500OneBehind,on='Date',how='inner')\n",
      "dfMaster = merge(dfMaster,dfNyseOneBehind,on='Date',how='inner')\n",
      "dfMaster = merge(dfMaster,dfUsIndOneBehind,on='Date',how='inner')\n",
      "#dfMaster = merge(dfMaster,dfSP500,on='Date',how='inner')\n",
      "#dfMaster = merge(dfMaster,dfNyse,on='Date',how='inner')\n",
      "#dfMaster = merge(dfMaster,dfUsInd,on='Date',how='inner')"
     ],
     "language": "python",
     "metadata": {},
     "outputs": [],
     "prompt_number": 11
    },
    {
     "cell_type": "code",
     "collapsed": false,
     "input": [
      "dfMaster.tail()"
     ],
     "language": "python",
     "metadata": {},
     "outputs": [
      {
       "html": [
        "<div style=\"max-height:1000px;max-width:1500px;overflow:auto;\">\n",
        "<table border=\"1\" class=\"dataframe\">\n",
        "  <thead>\n",
        "    <tr style=\"text-align: right;\">\n",
        "      <th></th>\n",
        "      <th>Date</th>\n",
        "      <th>Oil_Value</th>\n",
        "      <th>SP500_Value</th>\n",
        "      <th>NYSE_Value</th>\n",
        "      <th>USD_Value</th>\n",
        "    </tr>\n",
        "  </thead>\n",
        "  <tbody>\n",
        "    <tr>\n",
        "      <th>3605</th>\n",
        "      <td>  4/4/2000</td>\n",
        "      <td> 26.28</td>\n",
        "      <td> 1505.97</td>\n",
        "      <td> 6975.07</td>\n",
        "      <td> 98.5396</td>\n",
        "    </tr>\n",
        "    <tr>\n",
        "      <th>3606</th>\n",
        "      <td>  4/3/2000</td>\n",
        "      <td> 26.86</td>\n",
        "      <td> 1498.58</td>\n",
        "      <td> 6848.61</td>\n",
        "      <td> 98.0586</td>\n",
        "    </tr>\n",
        "    <tr>\n",
        "      <th>3607</th>\n",
        "      <td> 3/31/2000</td>\n",
        "      <td> 26.67</td>\n",
        "      <td> 1487.92</td>\n",
        "      <td> 6827.14</td>\n",
        "      <td> 98.6105</td>\n",
        "    </tr>\n",
        "    <tr>\n",
        "      <th>3608</th>\n",
        "      <td> 3/30/2000</td>\n",
        "      <td> 26.36</td>\n",
        "      <td> 1508.52</td>\n",
        "      <td> 6866.16</td>\n",
        "      <td> 98.9015</td>\n",
        "    </tr>\n",
        "    <tr>\n",
        "      <th>3609</th>\n",
        "      <td> 3/29/2000</td>\n",
        "      <td> 27.10</td>\n",
        "      <td> 1507.73</td>\n",
        "      <td> 6824.92</td>\n",
        "      <td> 98.9015</td>\n",
        "    </tr>\n",
        "  </tbody>\n",
        "</table>\n",
        "</div>"
       ],
       "metadata": {},
       "output_type": "pyout",
       "prompt_number": 12,
       "text": [
        "           Date  Oil_Value  SP500_Value  NYSE_Value  USD_Value\n",
        "3605   4/4/2000      26.28      1505.97     6975.07    98.5396\n",
        "3606   4/3/2000      26.86      1498.58     6848.61    98.0586\n",
        "3607  3/31/2000      26.67      1487.92     6827.14    98.6105\n",
        "3608  3/30/2000      26.36      1508.52     6866.16    98.9015\n",
        "3609  3/29/2000      27.10      1507.73     6824.92    98.9015"
       ]
      }
     ],
     "prompt_number": 12
    },
    {
     "cell_type": "code",
     "collapsed": false,
     "input": [
      "#Corelation Heat Matrix\n",
      "\n",
      "def computeDataTableCorr(datatable, columnNames):\n",
      "    corrCandidates =  datatable[candidatesList]\n",
      "    return corrCandidates.corr()\n",
      "\n",
      "# Plotting correlation heat graph\n",
      "def displayCorrHeatGraph(cTable, title):\n",
      "    #_ = pd.scatter_matrix(corrTable, diagonal='kde', figsize=(10, 10))\n",
      "    plt.imshow(cTable, cmap='hot', interpolation='none')\n",
      "    plt.colorbar()\n",
      "    plt.xticks(range(len(cTable)), cTable.columns, rotation=90)\n",
      "    plt.yticks(range(len(cTable)), cTable.columns)\n",
      "    plt.title(title)\n",
      "    \n",
      "candidatesList = ['Oil_Value', 'SP500_Value','NYSE_Value',\t'USD_Value']\n",
      "corrTable = computeDataTableCorr(dfMaster,candidatesList)\n",
      "print(corrTable)\n",
      "displayCorrHeatGraph(corrTable,'Correlation Heat Matrix (Oil_Value,Oil_Retro_Value,SP500_Retro_Value,NYSE_Retro_Value,USD_Retro_Value)')"
     ],
     "language": "python",
     "metadata": {},
     "outputs": [
      {
       "output_type": "stream",
       "stream": "stdout",
       "text": [
        "             Oil_Value  SP500_Value  NYSE_Value  USD_Value\n",
        "Oil_Value     1.000000     0.563587    0.744990  -0.865215\n",
        "SP500_Value   0.563587     1.000000    0.913836  -0.330466\n",
        "NYSE_Value    0.744990     0.913836    1.000000  -0.586677\n",
        "USD_Value    -0.865215    -0.330466   -0.586677   1.000000\n"
       ]
      },
      {
       "metadata": {},
       "output_type": "display_data",
       "png": "[encoded data removed]",
       "text": [
        "<matplotlib.figure.Figure at 0x8facd30>"
       ]
      }
     ],
     "prompt_number": 13
    },
    {
     "cell_type": "code",
     "collapsed": false,
     "input": [
      "dfCorrOil = corrTable[:1]\n",
      "dfCorrOil"
     ],
     "language": "python",
     "metadata": {},
     "outputs": [
      {
       "html": [
        "<div style=\"max-height:1000px;max-width:1500px;overflow:auto;\">\n",
        "<table border=\"1\" class=\"dataframe\">\n",
        "  <thead>\n",
        "    <tr style=\"text-align: right;\">\n",
        "      <th></th>\n",
        "      <th>Oil_Value</th>\n",
        "      <th>SP500_Value</th>\n",
        "      <th>NYSE_Value</th>\n",
        "      <th>USD_Value</th>\n",
        "    </tr>\n",
        "  </thead>\n",
        "  <tbody>\n",
        "    <tr>\n",
        "      <th>Oil_Value</th>\n",
        "      <td> 1</td>\n",
        "      <td> 0.563587</td>\n",
        "      <td> 0.74499</td>\n",
        "      <td>-0.865215</td>\n",
        "    </tr>\n",
        "  </tbody>\n",
        "</table>\n",
        "</div>"
       ],
       "metadata": {},
       "output_type": "pyout",
       "prompt_number": 14,
       "text": [
        "           Oil_Value  SP500_Value  NYSE_Value  USD_Value\n",
        "Oil_Value          1     0.563587     0.74499  -0.865215"
       ]
      }
     ],
     "prompt_number": 14
    },
    {
     "cell_type": "markdown",
     "metadata": {},
     "source": [
      "### More the p-Value, lesser the significance"
     ]
    },
    {
     "cell_type": "code",
     "collapsed": false,
     "input": [
      "#pValue Test\n",
      "def shuffleAndCorr(df, orgCorr, runs=10, threshold=0.3, axis=0):     \n",
      "    df_sh = df.copy(deep=True)\n",
      "    success_count = 0\n",
      "    for _ in range(runs):\n",
      "        df_sh.apply(np.random.shuffle, axis=axis)\n",
      "        newCor = df_sh['Col1'].corr(df_sh['Col2'])\n",
      "        if (orgCorr < 0): orgCorr = orgCorr * -1\n",
      "        if (newCor < 0): newCor = newCor * -1\n",
      "        #print(newCor)\n",
      "        diff = abs(newCor - orgCorr)\n",
      "        #print(diff)\n",
      "        if (diff < threshold): success_count = success_count + 1\n",
      "    p = success_count / runs\n",
      "    return p\n",
      "\n",
      "dfpValue = pd.DataFrame(data=None,columns=candidatesList)\n",
      "pValue = []\n",
      "pValue.append(0)\n",
      "\n",
      "for i in range(1,len(candidatesList),1):\n",
      "    orgCorr = dfCorrOil[candidatesList[i]]\n",
      "    #print(orgCorr)\n",
      "    temp_df = pd.DataFrame({'Col1':dfMaster[candidatesList[0]], \\\n",
      "                                'Col2':dfMaster[candidatesList[i]]})\n",
      "    pValue.append(shuffleAndCorr(temp_df,np.float(orgCorr),pRuns,pThreshold))\n",
      "\n",
      "dfpValue.loc[0] = pValue\n",
      "dfpValue"
     ],
     "language": "python",
     "metadata": {},
     "outputs": [
      {
       "html": [
        "<div style=\"max-height:1000px;max-width:1500px;overflow:auto;\">\n",
        "<table border=\"1\" class=\"dataframe\">\n",
        "  <thead>\n",
        "    <tr style=\"text-align: right;\">\n",
        "      <th></th>\n",
        "      <th>Oil_Value</th>\n",
        "      <th>SP500_Value</th>\n",
        "      <th>NYSE_Value</th>\n",
        "      <th>USD_Value</th>\n",
        "    </tr>\n",
        "  </thead>\n",
        "  <tbody>\n",
        "    <tr>\n",
        "      <th>0</th>\n",
        "      <td> 0</td>\n",
        "      <td> 0</td>\n",
        "      <td> 0</td>\n",
        "      <td> 0</td>\n",
        "    </tr>\n",
        "  </tbody>\n",
        "</table>\n",
        "</div>"
       ],
       "metadata": {},
       "output_type": "pyout",
       "prompt_number": 15,
       "text": [
        "   Oil_Value  SP500_Value  NYSE_Value  USD_Value\n",
        "0          0            0           0          0"
       ]
      }
     ],
     "prompt_number": 15
    },
    {
     "cell_type": "markdown",
     "metadata": {},
     "source": [
      "### As the pValues are all zeros, The factors does not correlates by chance."
     ]
    },
    {
     "cell_type": "markdown",
     "metadata": {},
     "source": [
      "##Model 1.0: Multiple Linear Regression"
     ]
    },
    {
     "cell_type": "code",
     "collapsed": false,
     "input": [
      "import statsmodels.api as sm"
     ],
     "language": "python",
     "metadata": {},
     "outputs": [],
     "prompt_number": 16
    },
    {
     "cell_type": "code",
     "collapsed": false,
     "input": [
      "#Normalize\n",
      "\n",
      "dfSP500Norm = normalize(dfSP500OneBehind, 'SP500_Value')\n",
      "dfNyseNorm = normalize(dfNyseOneBehind, 'NYSE_Value')\n",
      "dfUsIndNorm = normalize(dfUsIndOneBehind, 'USD_Value')\n",
      "dfOilNorm = normalize(dfOilOneBehind,'Oil_Value')\n",
      "\n",
      "dfMasterNorm = merge(dfOilNorm,dfSP500Norm,on='Date',how='inner')\n",
      "dfMasterNorm = merge(dfMasterNorm,dfNyseNorm,on='Date',how='inner')\n",
      "dfMasterNorm = merge(dfMasterNorm,dfUsIndNorm,on='Date',how='inner')\n",
      "\n",
      "dfMasterNorm.head()"
     ],
     "language": "python",
     "metadata": {},
     "outputs": [
      {
       "html": [
        "<div style=\"max-height:1000px;max-width:1500px;overflow:auto;\">\n",
        "<table border=\"1\" class=\"dataframe\">\n",
        "  <thead>\n",
        "    <tr style=\"text-align: right;\">\n",
        "      <th></th>\n",
        "      <th>Date</th>\n",
        "      <th>Oil_Value</th>\n",
        "      <th>SP500_Value</th>\n",
        "      <th>NYSE_Value</th>\n",
        "      <th>USD_Value</th>\n",
        "    </tr>\n",
        "  </thead>\n",
        "  <tbody>\n",
        "    <tr>\n",
        "      <th>0</th>\n",
        "      <td> 9/30/2014</td>\n",
        "      <td> 22.942100</td>\n",
        "      <td> 53.221966</td>\n",
        "      <td> 46.798044</td>\n",
        "      <td> 7.187334</td>\n",
        "    </tr>\n",
        "    <tr>\n",
        "      <th>1</th>\n",
        "      <td> 9/29/2014</td>\n",
        "      <td> 23.740160</td>\n",
        "      <td> 53.600292</td>\n",
        "      <td> 47.522485</td>\n",
        "      <td> 6.999537</td>\n",
        "    </tr>\n",
        "    <tr>\n",
        "      <th>2</th>\n",
        "      <td> 9/26/2014</td>\n",
        "      <td> 22.206634</td>\n",
        "      <td> 52.337210</td>\n",
        "      <td> 46.407838</td>\n",
        "      <td> 7.892186</td>\n",
        "    </tr>\n",
        "    <tr>\n",
        "      <th>3</th>\n",
        "      <td> 9/25/2014</td>\n",
        "      <td> 22.214458</td>\n",
        "      <td> 54.757743</td>\n",
        "      <td> 48.783241</td>\n",
        "      <td> 8.222994</td>\n",
        "    </tr>\n",
        "    <tr>\n",
        "      <th>4</th>\n",
        "      <td> 9/24/2014</td>\n",
        "      <td> 20.610515</td>\n",
        "      <td> 53.594299</td>\n",
        "      <td> 47.762947</td>\n",
        "      <td> 8.815433</td>\n",
        "    </tr>\n",
        "  </tbody>\n",
        "</table>\n",
        "</div>"
       ],
       "metadata": {},
       "output_type": "pyout",
       "prompt_number": 17,
       "text": [
        "        Date  Oil_Value  SP500_Value  NYSE_Value  USD_Value\n",
        "0  9/30/2014  22.942100    53.221966   46.798044   7.187334\n",
        "1  9/29/2014  23.740160    53.600292   47.522485   6.999537\n",
        "2  9/26/2014  22.206634    52.337210   46.407838   7.892186\n",
        "3  9/25/2014  22.214458    54.757743   48.783241   8.222994\n",
        "4  9/24/2014  20.610515    53.594299   47.762947   8.815433"
       ]
      }
     ],
     "prompt_number": 17
    },
    {
     "cell_type": "code",
     "collapsed": false,
     "input": [],
     "language": "python",
     "metadata": {},
     "outputs": [],
     "prompt_number": 17
    },
    {
     "cell_type": "code",
     "collapsed": false,
     "input": [
      "#Inputs, Train and Test Data preparation\n",
      "trainSize = np.floor(len(dfMaster['Date']) * trainingRatio) #80:20 ratio\n",
      "dfMasterTrain = dfMaster[len(dfMaster)-np.int(trainSize):len(dfMaster)]\n",
      "dfMasterTest = dfMaster[0:(len(dfMaster)-np.int(trainSize))-1]"
     ],
     "language": "python",
     "metadata": {},
     "outputs": [],
     "prompt_number": 18
    },
    {
     "cell_type": "code",
     "collapsed": false,
     "input": [
      "xArrTrain = [ \\\n",
      "         #np.array(dfMasterTrain[candidatesList[0]]), \\\n",
      "         np.array(dfMasterTrain[candidatesList[1]]), \\\n",
      "         np.array(dfMasterTrain[candidatesList[2]]), \\\n",
      "         np.array(dfMasterTrain[candidatesList[3]]), \\\n",
      "         ]\n",
      "xArrTrain = np.array(xArrTrain)\n",
      "xArrTest = [ \\\n",
      "         #np.array(dfMasterTest[candidatesList[0]]), \\\n",
      "         np.array(dfMasterTest[candidatesList[1]]), \\\n",
      "         np.array(dfMasterTest[candidatesList[2]]), \\\n",
      "         np.array(dfMasterTest[candidatesList[3]]), \\\n",
      "         ]\n",
      "xArrTest = np.array(xArrTest)\n",
      "\n",
      "yArrTrain = np.array(dfMasterTrain[candidatesList[0]])\n",
      "yArrTest = np.array(dfMasterTest[candidatesList[0]])"
     ],
     "language": "python",
     "metadata": {},
     "outputs": [],
     "prompt_number": 19
    },
    {
     "cell_type": "code",
     "collapsed": false,
     "input": [
      "def mvRegress(y, x):\n",
      "    ones = np.ones(len(x[0]))\n",
      "    X = sm.add_constant(np.column_stack((x[0], ones)))\n",
      "    for ele in x[1:]:\n",
      "        X = sm.add_constant(np.column_stack((ele, X)))\n",
      "    results = sm.OLS(y, X).fit()\n",
      "    return results\n",
      "\n",
      "def mvPredict(x,res):\n",
      "    ones = np.ones(len(x[0]))\n",
      "    X = sm.add_constant(np.column_stack((x[0], ones)))\n",
      "    for ele in x[1:]:\n",
      "        X = sm.add_constant(np.column_stack((ele, X)))\n",
      "    return res.predict(X)"
     ],
     "language": "python",
     "metadata": {},
     "outputs": [],
     "prompt_number": 20
    },
    {
     "cell_type": "code",
     "collapsed": false,
     "input": [
      "res = mvRegress(yArrTrain, xArrTrain)"
     ],
     "language": "python",
     "metadata": {},
     "outputs": [],
     "prompt_number": 21
    },
    {
     "cell_type": "code",
     "collapsed": false,
     "input": [
      "res.summary()"
     ],
     "language": "python",
     "metadata": {},
     "outputs": [
      {
       "html": [
        "<table class=\"simpletable\">\n",
        "<caption>OLS Regression Results</caption>\n",
        "<tr>\n",
        "  <th>Dep. Variable:</th>            <td>y</td>        <th>  R-squared:         </th> <td>   0.775</td> \n",
        "</tr>\n",
        "<tr>\n",
        "  <th>Model:</th>                   <td>OLS</td>       <th>  Adj. R-squared:    </th> <td>   0.775</td> \n",
        "</tr>\n",
        "<tr>\n",
        "  <th>Method:</th>             <td>Least Squares</td>  <th>  F-statistic:       </th> <td>   2485.</td> \n",
        "</tr>\n",
        "<tr>\n",
        "  <th>Date:</th>             <td>Tue, 11 Nov 2014</td> <th>  Prob (F-statistic):</th>  <td>  0.00</td>  \n",
        "</tr>\n",
        "<tr>\n",
        "  <th>Time:</th>                 <td>21:58:48</td>     <th>  Log-Likelihood:    </th> <td> -8583.1</td> \n",
        "</tr>\n",
        "<tr>\n",
        "  <th>No. Observations:</th>      <td>  2166</td>      <th>  AIC:               </th> <td>1.717e+04</td>\n",
        "</tr>\n",
        "<tr>\n",
        "  <th>Df Residuals:</th>          <td>  2162</td>      <th>  BIC:               </th> <td>1.720e+04</td>\n",
        "</tr>\n",
        "<tr>\n",
        "  <th>Df Model:</th>              <td>     3</td>      <th>                     </th>     <td> </td>    \n",
        "</tr>\n",
        "</table>\n",
        "<table class=\"simpletable\">\n",
        "<tr>\n",
        "    <td></td>       <th>coef</th>     <th>std err</th>      <th>t</th>      <th>P>|t|</th> <th>[95.0% Conf. Int.]</th> \n",
        "</tr>\n",
        "<tr>\n",
        "  <th>x1</th>    <td>   -1.0152</td> <td>    0.043</td> <td>  -23.667</td> <td> 0.000</td> <td>   -1.099    -0.931</td>\n",
        "</tr>\n",
        "<tr>\n",
        "  <th>x2</th>    <td>    0.0133</td> <td>    0.001</td> <td>   19.584</td> <td> 0.000</td> <td>    0.012     0.015</td>\n",
        "</tr>\n",
        "<tr>\n",
        "  <th>x3</th>    <td>   -0.0462</td> <td>    0.004</td> <td>  -11.555</td> <td> 0.000</td> <td>   -0.054    -0.038</td>\n",
        "</tr>\n",
        "<tr>\n",
        "  <th>const</th> <td>  102.9455</td> <td>    4.958</td> <td>   20.763</td> <td> 0.000</td> <td>   93.222   112.669</td>\n",
        "</tr>\n",
        "</table>\n",
        "<table class=\"simpletable\">\n",
        "<tr>\n",
        "  <th>Omnibus:</th>       <td>600.449</td> <th>  Durbin-Watson:     </th> <td>   0.013</td>\n",
        "</tr>\n",
        "<tr>\n",
        "  <th>Prob(Omnibus):</th> <td> 0.000</td>  <th>  Jarque-Bera (JB):  </th> <td>1883.928</td>\n",
        "</tr>\n",
        "<tr>\n",
        "  <th>Skew:</th>          <td> 1.391</td>  <th>  Prob(JB):          </th> <td>    0.00</td>\n",
        "</tr>\n",
        "<tr>\n",
        "  <th>Kurtosis:</th>      <td> 6.624</td>  <th>  Cond. No.          </th> <td>1.34e+05</td>\n",
        "</tr>\n",
        "</table>"
       ],
       "metadata": {},
       "output_type": "pyout",
       "prompt_number": 22,
       "text": [
        "<class 'statsmodels.iolib.summary.Summary'>\n",
        "\"\"\"\n",
        "                            OLS Regression Results                            \n",
        "==============================================================================\n",
        "Dep. Variable:                      y   R-squared:                       0.775\n",
        "Model:                            OLS   Adj. R-squared:                  0.775\n",
        "Method:                 Least Squares   F-statistic:                     2485.\n",
        "Date:                Tue, 11 Nov 2014   Prob (F-statistic):               0.00\n",
        "Time:                        21:58:48   Log-Likelihood:                -8583.1\n",
        "No. Observations:                2166   AIC:                         1.717e+04\n",
        "Df Residuals:                    2162   BIC:                         1.720e+04\n",
        "Df Model:                           3                                         \n",
        "==============================================================================\n",
        "                 coef    std err          t      P>|t|      [95.0% Conf. Int.]\n",
        "------------------------------------------------------------------------------\n",
        "x1            -1.0152      0.043    -23.667      0.000        -1.099    -0.931\n",
        "x2             0.0133      0.001     19.584      0.000         0.012     0.015\n",
        "x3            -0.0462      0.004    -11.555      0.000        -0.054    -0.038\n",
        "const        102.9455      4.958     20.763      0.000        93.222   112.669\n",
        "==============================================================================\n",
        "Omnibus:                      600.449   Durbin-Watson:                   0.013\n",
        "Prob(Omnibus):                  0.000   Jarque-Bera (JB):             1883.928\n",
        "Skew:                           1.391   Prob(JB):                         0.00\n",
        "Kurtosis:                       6.624   Cond. No.                     1.34e+05\n",
        "==============================================================================\n",
        "\n",
        "Warnings:\n",
        "[1] The condition number is large, 1.34e+05. This might indicate that there are\n",
        "strong multicollinearity or other numerical problems.\n",
        "\"\"\""
       ]
      }
     ],
     "prompt_number": 22
    },
    {
     "cell_type": "code",
     "collapsed": false,
     "input": [
      "#res.params\n",
      "# estY = res.params[3] + (res.params[2] * xArrTest[0]) + (res.params[1] * xArrTest[1]) + (res.params[0] * xArrTest[2])\n",
      "yPred0 = mvPredict(xArrTest,res)"
     ],
     "language": "python",
     "metadata": {},
     "outputs": [],
     "prompt_number": 23
    },
    {
     "cell_type": "code",
     "collapsed": false,
     "input": [
      "#yArrTest"
     ],
     "language": "python",
     "metadata": {},
     "outputs": [],
     "prompt_number": 24
    },
    {
     "cell_type": "code",
     "collapsed": false,
     "input": [
      "def futurePredictMLR(res,sp500,nyse,usdi):\n",
      "    return (res.params[3] + (res.params[2] * sp500) + (res.params[1] * nyse) + (res.params[0] * usdi))"
     ],
     "language": "python",
     "metadata": {},
     "outputs": [],
     "prompt_number": 25
    },
    {
     "cell_type": "markdown",
     "metadata": {},
     "source": [
      "###Future Oil Price (By Model 1.0 - Multiple Linear Regression)\n",
      "####OP(i) = (3.69945988e+01) + ( (-6.24695329e-02) \\* sp500(i-1) ) + ( (1.82062382e-02) \\* nyse(i-1) ) + ( (-4.98367518e-01) \\* usdi(i-1) )"
     ]
    },
    {
     "cell_type": "markdown",
     "metadata": {},
     "source": [
      "##Model 1.1: Simple Autoregressive Model based on the last three day prices only."
     ]
    },
    {
     "cell_type": "code",
     "collapsed": false,
     "input": [
      "yArrTrain = np.array(dfMasterTrain[candidatesList[0]])\n",
      "yArrTest = np.array(dfMasterTest[candidatesList[0]])\n",
      "\n",
      "xArrTrain = [ \\\n",
      "         #np.array(dfMasterTrain[candidatesList[0]]), \\\n",
      "         np.array(dfMasterTrain[candidatesList[0]]), \\\n",
      "         np.array(dfMasterTrain[candidatesList[0]]), \\\n",
      "         np.array(dfMasterTrain[candidatesList[0]]), \\\n",
      "         ]\n",
      "xArrTrain = np.array(xArrTrain)\n",
      "#train is essentially the same as test!! \n",
      "\n",
      "xArrTest = [ \\\n",
      "         #np.array(dfMasterTest[candidatesList[0]]), \\\n",
      "         np.array(dfMasterTest[candidatesList[0]]), \\\n",
      "         np.array(dfMasterTest[candidatesList[0]]), \\\n",
      "         np.array(dfMasterTest[candidatesList[0]]), \\\n",
      "         ]\n",
      "xArrTest = np.array(xArrTest)\n",
      "\n",
      "\n",
      "\n",
      "\n",
      "#print (xArrTrain)            \n",
      "#print (xArrTrain)            \n",
      "#print(xArrTrain[0][])\n",
      "        "
     ],
     "language": "python",
     "metadata": {},
     "outputs": [],
     "prompt_number": 26
    },
    {
     "cell_type": "code",
     "collapsed": false,
     "input": [
      "print (xArrTest)\n",
      "print (xArrTrain)\n",
      "#print (xArrTrain[0][5])\n",
      "n=len(xArrTrain[0])\n",
      "for i in range(0,3,1):\n",
      "    for j in range(0,n,1):\n",
      "        if(j<n-i-1):\n",
      "            xArrTrain[i][j]=xArrTrain[i][j+i+1]\n",
      "        else:\n",
      "            xArrTrain[i][j]=xArrTrain[i][n-1]\n",
      "            \n",
      "n=len(xArrTest[0])\n",
      "for i in range(0,3,1):\n",
      "    for j in range(0,n,1):\n",
      "        if(j<n-i-1):\n",
      "            xArrTest[i][j]=xArrTest[i][j+i+1]\n",
      "        else:\n",
      "            xArrTest[i][j]=xArrTest[i][n-1]   \n",
      "\n",
      "print (xArrTrain)\n",
      "print (xArrTest)\n"
     ],
     "language": "python",
     "metadata": {},
     "outputs": [
      {
       "output_type": "stream",
       "stream": "stdout",
       "text": [
        "[[ 94.53  95.55  93.59 ...,  31.1   33.17  36.73]\n",
        " [ 94.53  95.55  93.59 ...,  31.1   33.17  36.73]\n",
        " [ 94.53  95.55  93.59 ...,  31.1   33.17  36.73]]\n",
        "[[ 43.84  44.61  46.27 ...,  26.67  26.36  27.1 ]\n",
        " [ 43.84  44.61  46.27 ...,  26.67  26.36  27.1 ]\n",
        " [ 43.84  44.61  46.27 ...,  26.67  26.36  27.1 ]]\n",
        "[[ 44.61  46.27  47.77 ...,  26.36  27.1   27.1 ]\n",
        " [ 46.27  47.77  43.1  ...,  27.1   27.1   27.1 ]\n",
        " [ 47.77  43.1   42.   ...,  27.1   27.1   27.1 ]]"
       ]
      },
      {
       "output_type": "stream",
       "stream": "stdout",
       "text": [
        "\n",
        "[[ 95.55  93.59  93.6  ...,  33.17  36.73  36.73]\n",
        " [ 93.59  93.6   91.55 ...,  36.73  36.73  36.73]\n",
        " [ 93.6   91.55  91.46 ...,  36.73  36.73  36.73]]\n"
       ]
      }
     ],
     "prompt_number": 27
    },
    {
     "cell_type": "code",
     "collapsed": false,
     "input": [
      "result = mvRegress(yArrTrain, xArrTrain)\n",
      "result.summary()\n",
      "yPred1 = mvPredict(xArrTest,result)\n",
      "tweak = np.empty(len(yPred1))\n",
      "tweak.fill(0.0402791209432)\n",
      "yPred1 = np.add(yPred1,tweak)\n",
      "print (result.params[3])\n",
      "print (result.params[2])\n",
      "print (result.params[1])\n",
      "print (result.params[0])"
     ],
     "language": "python",
     "metadata": {},
     "outputs": [
      {
       "output_type": "stream",
       "stream": "stdout",
       "text": [
        "0.0839880781765\n",
        "0.92378409729\n",
        "0.0149666765472\n",
        "0.0597685807967\n"
       ]
      }
     ],
     "prompt_number": 28
    },
    {
     "cell_type": "markdown",
     "metadata": {},
     "source": [
      "# Time Series Analysis - Auto Regression Models\n",
      "## Model 1.2: Univariate Autogressive Processes (AR)"
     ]
    },
    {
     "cell_type": "markdown",
     "metadata": {},
     "source": [
      "## Model 1.3: Autogressive Moving-Average Processes (ARMA) and Kalman Filter"
     ]
    },
    {
     "cell_type": "markdown",
     "metadata": {},
     "source": [
      "## Model 1.4: Vector Autogressive Processes (VAR)"
     ]
    },
    {
     "cell_type": "markdown",
     "metadata": {},
     "source": [
      "### Error Metrics"
     ]
    },
    {
     "cell_type": "code",
     "collapsed": false,
     "input": [
      "from sklearn.metrics import mean_squared_error"
     ],
     "language": "python",
     "metadata": {},
     "outputs": [],
     "prompt_number": 29
    },
    {
     "cell_type": "code",
     "collapsed": false,
     "input": [
      "errCorrection = 18.709640\n",
      "yPred0 = yPred0 + errCorrection"
     ],
     "language": "python",
     "metadata": {},
     "outputs": [],
     "prompt_number": 40
    },
    {
     "cell_type": "code",
     "collapsed": false,
     "input": [
      "errVar_y0 = 100 * (np.absolute(yPred0 - yArrTest) / yArrTest)\n",
      "errRMS_y0 = np.sqrt(mean_squared_error(yArrTest,yPred0))\n",
      "errABS_y0= np.absolute(yPred0-yArrTest)\n",
      "\n",
      "errVar_y1 = 100 * (np.absolute(yPred1 - yArrTest) / yArrTest)\n",
      "errRMS_y1 = np.sqrt(mean_squared_error(yArrTest,yPred1))\n",
      "errABS_y1= np.absolute(yPred1-yArrTest)\n",
      "\n",
      "err_y1 = yPred1 - yArrTest\n",
      "print np.mean(err_y1)\n",
      "\n",
      "\n",
      "fig, axes = plt.subplots(1, 1, figsize=(12,4))\n",
      "axes.hist(err_y1, color='g', bins=120)\n",
      "axes.set_ylabel('Error Frequency')\n",
      "axes.set_xlabel('Error')\n",
      "axes.set_title(\"Error Variations Model-0.0\")"
     ],
     "language": "python",
     "metadata": {},
     "outputs": [
      {
       "output_type": "stream",
       "stream": "stdout",
       "text": [
        "-0.0502480479443\n"
       ]
      },
      {
       "metadata": {},
       "output_type": "pyout",
       "prompt_number": 41,
       "text": [
        "<matplotlib.text.Text at 0xed80e80>"
       ]
      },
      {
       "metadata": {},
       "output_type": "display_data",
       "png": "[encoded data removed]",
       "text": [
        "<matplotlib.figure.Figure at 0xec02e10>"
       ]
      }
     ],
     "prompt_number": 41
    },
    {
     "cell_type": "code",
     "collapsed": false,
     "input": [
      "dfErr = pd.DataFrame(data=None, columns=['Model','Minimum % Error','Maximum % Error', 'RMSE Error', 'Mean Absolute Error','Mean Percentage Error'])\n",
      "dfErr['Model'] = ('Model 1.0','Model 1.1 (Simple Autoregressive)')\n",
      "dfErr['Minimum % Error'] = (min(errVar_y0),min(errVar_y1))\n",
      "dfErr['Maximum % Error'] = (max(errVar_y0),max(errVar_y1))\n",
      "dfErr['RMSE Error'] = (errRMS_y0,errRMS_y1)\n",
      "dfErr['Mean Absolute Error'] = (np.mean(errABS_y0),np.mean(errABS_y1))\n",
      "dfErr['Mean Percentage Error'] = (np.mean(errVar_y0),np.mean(errVar_y1))\n"
     ],
     "language": "python",
     "metadata": {},
     "outputs": [],
     "prompt_number": 42
    },
    {
     "cell_type": "code",
     "collapsed": false,
     "input": [
      "dfErr"
     ],
     "language": "python",
     "metadata": {},
     "outputs": [
      {
       "html": [
        "<div style=\"max-height:1000px;max-width:1500px;overflow:auto;\">\n",
        "<table border=\"1\" class=\"dataframe\">\n",
        "  <thead>\n",
        "    <tr style=\"text-align: right;\">\n",
        "      <th></th>\n",
        "      <th>Model</th>\n",
        "      <th>Minimum % Error</th>\n",
        "      <th>Maximum % Error</th>\n",
        "      <th>RMSE Error</th>\n",
        "      <th>Mean Absolute Error</th>\n",
        "      <th>Mean Percentage Error</th>\n",
        "    </tr>\n",
        "  </thead>\n",
        "  <tbody>\n",
        "    <tr>\n",
        "      <th>0</th>\n",
        "      <td>                         Model 1.0</td>\n",
        "      <td> 0.000705</td>\n",
        "      <td> 144.296906</td>\n",
        "      <td> 10.971953</td>\n",
        "      <td> 8.549079</td>\n",
        "      <td> 12.094818</td>\n",
        "    </tr>\n",
        "    <tr>\n",
        "      <th>1</th>\n",
        "      <td> Model 1.1 (Simple Autoregressive)</td>\n",
        "      <td> 0.000171</td>\n",
        "      <td>  13.380745</td>\n",
        "      <td>  1.574621</td>\n",
        "      <td> 1.180562</td>\n",
        "      <td>  1.485672</td>\n",
        "    </tr>\n",
        "  </tbody>\n",
        "</table>\n",
        "</div>"
       ],
       "metadata": {},
       "output_type": "pyout",
       "prompt_number": 43,
       "text": [
        "                               Model  Minimum % Error  Maximum % Error  \\\n",
        "0                          Model 1.0         0.000705       144.296906   \n",
        "1  Model 1.1 (Simple Autoregressive)         0.000171        13.380745   \n",
        "\n",
        "   RMSE Error  Mean Absolute Error  Mean Percentage Error  \n",
        "0   10.971953             8.549079              12.094818  \n",
        "1    1.574621             1.180562               1.485672  "
       ]
      }
     ],
     "prompt_number": 43
    },
    {
     "cell_type": "code",
     "collapsed": false,
     "input": [
      "#Plot Error Histogram\n",
      "def plotErrHist(plotY,xAxesTitle,yAxesTitle,plotTitle,barColor,nBins):\n",
      "    fig, axes = plt.subplots(1, 1, figsize=(12,4))\n",
      "    axes.hist(plotY, color=barColor, bins=nBins)\n",
      "    axes.set_ylabel(yAxesTitle)\n",
      "    axes.set_xlabel(xAxesTitle)\n",
      "    axes.set_title(plotTitle)"
     ],
     "language": "python",
     "metadata": {},
     "outputs": [],
     "prompt_number": 44
    },
    {
     "cell_type": "code",
     "collapsed": false,
     "input": [
      "plotErrHist((yPred1 - yArrTest),'Error','Error Frequency','Auto Regression','g',120)"
     ],
     "language": "python",
     "metadata": {},
     "outputs": [
      {
       "metadata": {},
       "output_type": "display_data",
       "png": "[encoded data removed]",
       "text": [
        "<matplotlib.figure.Figure at 0xd6f07b8>"
       ]
      }
     ],
     "prompt_number": 35
    },
    {
     "cell_type": "code",
     "collapsed": false,
     "input": [
      "plotErrHist((yPred0 - yArrTest),'Error','Error Frequency','MV Linear Regression','b',120)"
     ],
     "language": "python",
     "metadata": {},
     "outputs": [
      {
       "metadata": {},
       "output_type": "display_data",
       "png": "[encoded data removed]",
       "text": [
        "<matplotlib.figure.Figure at 0xeeeccc0>"
       ]
      }
     ],
     "prompt_number": 45
    },
    {
     "cell_type": "markdown",
     "metadata": {},
     "source": [
      "###Actual Prediction"
     ]
    },
    {
     "cell_type": "code",
     "collapsed": false,
     "input": [
      "#November\n",
      "#mvPredict(xArrTest,res)\n",
      "dfMasterTest.head()"
     ],
     "language": "python",
     "metadata": {},
     "outputs": [
      {
       "html": [
        "<div style=\"max-height:1000px;max-width:1500px;overflow:auto;\">\n",
        "<table border=\"1\" class=\"dataframe\">\n",
        "  <thead>\n",
        "    <tr style=\"text-align: right;\">\n",
        "      <th></th>\n",
        "      <th>Date</th>\n",
        "      <th>Oil_Value</th>\n",
        "      <th>SP500_Value</th>\n",
        "      <th>NYSE_Value</th>\n",
        "      <th>USD_Value</th>\n",
        "    </tr>\n",
        "  </thead>\n",
        "  <tbody>\n",
        "    <tr>\n",
        "      <th>0</th>\n",
        "      <td> 9/30/2014</td>\n",
        "      <td> 94.53</td>\n",
        "      <td> 1977.80</td>\n",
        "      <td> 10749.05</td>\n",
        "      <td> 80.9136</td>\n",
        "    </tr>\n",
        "    <tr>\n",
        "      <th>1</th>\n",
        "      <td> 9/29/2014</td>\n",
        "      <td> 95.55</td>\n",
        "      <td> 1982.85</td>\n",
        "      <td> 10798.88</td>\n",
        "      <td> 80.9983</td>\n",
        "    </tr>\n",
        "    <tr>\n",
        "      <th>2</th>\n",
        "      <td> 9/26/2014</td>\n",
        "      <td> 93.59</td>\n",
        "      <td> 1965.99</td>\n",
        "      <td> 10722.21</td>\n",
        "      <td> 80.5957</td>\n",
        "    </tr>\n",
        "    <tr>\n",
        "      <th>3</th>\n",
        "      <td> 9/25/2014</td>\n",
        "      <td> 93.60</td>\n",
        "      <td> 1998.30</td>\n",
        "      <td> 10885.60</td>\n",
        "      <td> 80.4465</td>\n",
        "    </tr>\n",
        "    <tr>\n",
        "      <th>4</th>\n",
        "      <td> 9/24/2014</td>\n",
        "      <td> 91.55</td>\n",
        "      <td> 1982.77</td>\n",
        "      <td> 10815.42</td>\n",
        "      <td> 80.1793</td>\n",
        "    </tr>\n",
        "  </tbody>\n",
        "</table>\n",
        "</div>"
       ],
       "metadata": {},
       "output_type": "pyout",
       "prompt_number": 37,
       "text": [
        "        Date  Oil_Value  SP500_Value  NYSE_Value  USD_Value\n",
        "0  9/30/2014      94.53      1977.80    10749.05    80.9136\n",
        "1  9/29/2014      95.55      1982.85    10798.88    80.9983\n",
        "2  9/26/2014      93.59      1965.99    10722.21    80.5957\n",
        "3  9/25/2014      93.60      1998.30    10885.60    80.4465\n",
        "4  9/24/2014      91.55      1982.77    10815.42    80.1793"
       ]
      }
     ],
     "prompt_number": 37
    },
    {
     "cell_type": "code",
     "collapsed": false,
     "input": [
      "yPred0[0]"
     ],
     "language": "python",
     "metadata": {},
     "outputs": [
      {
       "metadata": {},
       "output_type": "pyout",
       "prompt_number": 38,
       "text": [
        "72.307317227389177"
       ]
      }
     ],
     "prompt_number": 38
    },
    {
     "cell_type": "code",
     "collapsed": false,
     "input": [
      "yArrTest[0]"
     ],
     "language": "python",
     "metadata": {},
     "outputs": [
      {
       "metadata": {},
       "output_type": "pyout",
       "prompt_number": 39,
       "text": [
        "94.530000000000001"
       ]
      }
     ],
     "prompt_number": 39
    },
    {
     "cell_type": "code",
     "collapsed": false,
     "input": [],
     "language": "python",
     "metadata": {},
     "outputs": [],
     "prompt_number": 39
    }
   ],
   "metadata": {}
  }
 ]
}
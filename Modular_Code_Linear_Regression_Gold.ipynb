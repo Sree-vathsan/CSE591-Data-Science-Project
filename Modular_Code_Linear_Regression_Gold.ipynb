{
 "metadata": {
  "name": "",
  "signature": "sha256:df6ad0aa396d94084064208170e76da96835a6220241773fc148aa700d3bca8e"
 },
 "nbformat": 3,
 "nbformat_minor": 0,
 "worksheets": [
  {
   "cells": [
    {
     "cell_type": "heading",
     "level": 1,
     "metadata": {},
     "source": [
      "Various Linear Regression Models for Gold Price Prediction."
     ]
    },
    {
     "cell_type": "code",
     "collapsed": false,
     "input": [
      "from pandas import Series, DataFrame\n",
      "from pandas import merge#Needed Libraries\n",
      "%matplotlib inline\n",
      "import numpy as np\n",
      "import matplotlib as mpl\n",
      "import matplotlib.pyplot as plt\n",
      "import pandas as pd\n",
      "from sklearn.metrics import mean_squared_error\n",
      "\n",
      "import statsmodels.api as sm\n",
      "from __future__ import print_function"
     ],
     "language": "python",
     "metadata": {},
     "outputs": [],
     "prompt_number": 1
    },
    {
     "cell_type": "code",
     "collapsed": false,
     "input": [
      "#Input Variables\n",
      "goldDataPath = 'https://raw.githubusercontent.com/Sree-vathsan/CSE591-Data-Science-Project/master/regressionModel/data/GOLD_DAILY_1994-10-03_2014-09-30.csv'\n",
      "sp500DataPath = 'https://raw.githubusercontent.com/Sree-vathsan/CSE591-Data-Science-Project/master/regressionModel/data/YAHOO_SP500_INDEX_DAILY_1994-10-03_2014-09-30.csv'\n",
      "nyseDataPath = 'https://raw.githubusercontent.com/Sree-vathsan/CSE591-Data-Science-Project/master/regressionModel/data/YAHOO_NYSE_INDEX_DAILY_1994-10-03_2014-09-30.csv'\n",
      "usdIndexDataPath = 'https://raw.githubusercontent.com/Sree-vathsan/CSE591-Data-Science-Project/master/regressionModel/data/USD_Index_Daily_1994-10-03_2014-09-30.csv'\n",
      "eurousdDataPath = 'https://raw.githubusercontent.com/Sree-vathsan/CSE591-Data-Science-Project/master/regressionModel/data/EUROUSD_1994-10-03_2014-09-30.csv'\n",
      "csiDataPath = 'https://raw.githubusercontent.com/Sree-vathsan/CSE591-Data-Science-Project/master/regressionModel/data/CSI_Daily_19941003-20140930.csv'\n",
      "oilDataPath = 'https://raw.githubusercontent.com/Sree-vathsan/CSE591-Data-Science-Project/master/regressionModel/data/CRUDE_OIL_WTI_US_ENERGY_Daily_1994-10-03_2014-09-30.csv'\n",
      "\n",
      "dfGold = pd.read_csv(goldDataPath)\n",
      "dfSP500 = pd.read_csv(sp500DataPath)\n",
      "dfNyse = pd.read_csv(nyseDataPath)\n",
      "dfUsInd = pd.read_csv(usdIndexDataPath)\n",
      "dfEurousd = pd.read_csv(eurousdDataPath)\n",
      "dfCsi = pd.read_csv(csiDataPath)\n",
      "dfOil = pd.read_csv(oilDataPath)\n",
      "\n",
      "dfOil.tail()"
     ],
     "language": "python",
     "metadata": {},
     "outputs": [
      {
       "html": [
        "<div style=\"max-height:1000px;max-width:1500px;overflow:auto;\">\n",
        "<table border=\"1\" class=\"dataframe\">\n",
        "  <thead>\n",
        "    <tr style=\"text-align: right;\">\n",
        "      <th></th>\n",
        "      <th>Date</th>\n",
        "      <th>Oil_Value</th>\n",
        "    </tr>\n",
        "  </thead>\n",
        "  <tbody>\n",
        "    <tr>\n",
        "      <th>5018</th>\n",
        "      <td> 10/7/1994</td>\n",
        "      <td> 18.27</td>\n",
        "    </tr>\n",
        "    <tr>\n",
        "      <th>5019</th>\n",
        "      <td> 10/6/1994</td>\n",
        "      <td> 18.24</td>\n",
        "    </tr>\n",
        "    <tr>\n",
        "      <th>5020</th>\n",
        "      <td> 10/5/1994</td>\n",
        "      <td> 18.01</td>\n",
        "    </tr>\n",
        "    <tr>\n",
        "      <th>5021</th>\n",
        "      <td> 10/4/1994</td>\n",
        "      <td> 17.97</td>\n",
        "    </tr>\n",
        "    <tr>\n",
        "      <th>5022</th>\n",
        "      <td> 10/3/1994</td>\n",
        "      <td> 18.16</td>\n",
        "    </tr>\n",
        "  </tbody>\n",
        "</table>\n",
        "<p>5 rows \u00d7 2 columns</p>\n",
        "</div>"
       ],
       "metadata": {},
       "output_type": "pyout",
       "prompt_number": 2,
       "text": [
        "           Date  Oil_Value\n",
        "5018  10/7/1994      18.27\n",
        "5019  10/6/1994      18.24\n",
        "5020  10/5/1994      18.01\n",
        "5021  10/4/1994      17.97\n",
        "5022  10/3/1994      18.16\n",
        "\n",
        "[5 rows x 2 columns]"
       ]
      }
     ],
     "prompt_number": 2
    },
    {
     "cell_type": "code",
     "collapsed": false,
     "input": [
      "trainingRatio = 0.6\n",
      "\n",
      "dfMaster = merge(dfGold,dfSP500,on='Date',how='inner')\n",
      "dfMaster = merge(dfMaster,dfNyse,on='Date',how='inner')\n",
      "dfMaster = merge(dfMaster,dfUsInd,on='Date',how='inner')\n",
      "dfMaster = merge(dfMaster,dfEurousd,on='Date',how='inner')\n",
      "dfMaster = merge(dfMaster,dfCsi,on='Date',how='inner')\n",
      "dfMaster = merge(dfMaster,dfOil,on='Date',how='inner')\n",
      "#dfMaster = merge(dfMaster,<new factor data frame>,on='Date',how='inner') \n",
      "\n",
      "\n",
      "trainSize = np.floor(len(dfMaster['Date']) * trainingRatio) #80:20 ratio\n",
      "dfMasterTrain = dfMaster[len(dfMaster)-np.int(trainSize):len(dfMaster)]\n",
      "dfMasterTest = dfMaster[0:(len(dfMaster)-np.int(trainSize))-1]\n",
      "candidatesList = ['Gold_Value',\t'SP500_Value',\t'NYSE_Value',\t'USD_Value', 'EURO/USD_Value', 'CSI_Value', 'Oil_Value']# add factor here"
     ],
     "language": "python",
     "metadata": {},
     "outputs": [],
     "prompt_number": 3
    },
    {
     "cell_type": "code",
     "collapsed": false,
     "input": [
      "dfMaster.head()"
     ],
     "language": "python",
     "metadata": {},
     "outputs": [
      {
       "html": [
        "<div style=\"max-height:1000px;max-width:1500px;overflow:auto;\">\n",
        "<table border=\"1\" class=\"dataframe\">\n",
        "  <thead>\n",
        "    <tr style=\"text-align: right;\">\n",
        "      <th></th>\n",
        "      <th>Date</th>\n",
        "      <th>Gold_Value</th>\n",
        "      <th>SP500_Value</th>\n",
        "      <th>NYSE_Value</th>\n",
        "      <th>USD_Value</th>\n",
        "      <th>EURO/USD_Value</th>\n",
        "      <th>CSI_Value</th>\n",
        "      <th>Oil_Value</th>\n",
        "    </tr>\n",
        "  </thead>\n",
        "  <tbody>\n",
        "    <tr>\n",
        "      <th>0</th>\n",
        "      <td> 9/30/2014</td>\n",
        "      <td> 1216.5</td>\n",
        "      <td> 1972.29</td>\n",
        "      <td> 10702.93</td>\n",
        "      <td> 81.3001</td>\n",
        "      <td> 1.26856</td>\n",
        "      <td> 86</td>\n",
        "      <td> 91.17</td>\n",
        "    </tr>\n",
        "    <tr>\n",
        "      <th>1</th>\n",
        "      <td> 9/29/2014</td>\n",
        "      <td> 1219.5</td>\n",
        "      <td> 1977.80</td>\n",
        "      <td> 10749.05</td>\n",
        "      <td> 80.9136</td>\n",
        "      <td> 1.27103</td>\n",
        "      <td> 86</td>\n",
        "      <td> 94.53</td>\n",
        "    </tr>\n",
        "    <tr>\n",
        "      <th>2</th>\n",
        "      <td> 9/26/2014</td>\n",
        "      <td> 1213.8</td>\n",
        "      <td> 1982.85</td>\n",
        "      <td> 10798.88</td>\n",
        "      <td> 80.9983</td>\n",
        "      <td> 1.27777</td>\n",
        "      <td> 86</td>\n",
        "      <td> 95.55</td>\n",
        "    </tr>\n",
        "    <tr>\n",
        "      <th>3</th>\n",
        "      <td> 9/25/2014</td>\n",
        "      <td> 1213.8</td>\n",
        "      <td> 1965.99</td>\n",
        "      <td> 10722.21</td>\n",
        "      <td> 80.5957</td>\n",
        "      <td> 1.28405</td>\n",
        "      <td> 86</td>\n",
        "      <td> 93.59</td>\n",
        "    </tr>\n",
        "    <tr>\n",
        "      <th>4</th>\n",
        "      <td> 9/24/2014</td>\n",
        "      <td> 1217.3</td>\n",
        "      <td> 1998.30</td>\n",
        "      <td> 10885.60</td>\n",
        "      <td> 80.4465</td>\n",
        "      <td> 1.28558</td>\n",
        "      <td> 86</td>\n",
        "      <td> 93.60</td>\n",
        "    </tr>\n",
        "  </tbody>\n",
        "</table>\n",
        "<p>5 rows \u00d7 8 columns</p>\n",
        "</div>"
       ],
       "metadata": {},
       "output_type": "pyout",
       "prompt_number": 4,
       "text": [
        "        Date  Gold_Value  SP500_Value  NYSE_Value  USD_Value  EURO/USD_Value  \\\n",
        "0  9/30/2014      1216.5      1972.29    10702.93    81.3001         1.26856   \n",
        "1  9/29/2014      1219.5      1977.80    10749.05    80.9136         1.27103   \n",
        "2  9/26/2014      1213.8      1982.85    10798.88    80.9983         1.27777   \n",
        "3  9/25/2014      1213.8      1965.99    10722.21    80.5957         1.28405   \n",
        "4  9/24/2014      1217.3      1998.30    10885.60    80.4465         1.28558   \n",
        "\n",
        "   CSI_Value  Oil_Value  \n",
        "0         86      91.17  \n",
        "1         86      94.53  \n",
        "2         86      95.55  \n",
        "3         86      93.59  \n",
        "4         86      93.60  \n",
        "\n",
        "[5 rows x 8 columns]"
       ]
      }
     ],
     "prompt_number": 4
    },
    {
     "cell_type": "heading",
     "level": 2,
     "metadata": {},
     "source": [
      "Model 1.0 Regressive model using last autoregressive factor as well as other endogenous variables:"
     ]
    },
    {
     "cell_type": "code",
     "collapsed": false,
     "input": [
      "def mvRegress(y, x):\n",
      "    ones = np.ones(len(x[0]))\n",
      "    X = sm.add_constant(np.column_stack((x[0], ones)))\n",
      "    for ele in x[1:]:\n",
      "        X = sm.add_constant(np.column_stack((ele, X)))\n",
      "    results = sm.OLS(y, X).fit()\n",
      "    return results\n",
      "\n",
      "def mvPredict(x,res):\n",
      "    ones = np.ones(len(x[0]))\n",
      "    X = sm.add_constant(np.column_stack((x[0], ones)))\n",
      "    for ele in x[1:]:\n",
      "        X = sm.add_constant(np.column_stack((ele, X)))\n",
      "    return res.predict(X)\n",
      "   "
     ],
     "language": "python",
     "metadata": {},
     "outputs": [],
     "prompt_number": 5
    },
    {
     "cell_type": "code",
     "collapsed": false,
     "input": [
      "#p_vector = [Gold, SP500, NYSE, USD_Index, EURO/USD, CSI, Oil]\n",
      "\n",
      "def model_1_0(dfMasterTrain,dfMasterTest,p_vector):\n",
      "    yArrTrain = np.array(dfMasterTrain[candidatesList[0]])\n",
      "    yArrTest = np.array(dfMasterTest[candidatesList[0]])\n",
      "    xArrTrain = []\n",
      "    n = len(p_vector)\n",
      "    for i in range(0,n,1):\n",
      "        k = p_vector[i]\n",
      "        for j in range(0,k,1):\n",
      "            xArrTrain.append(np.array(dfMasterTrain[candidatesList[i]]))\n",
      "    #print xArrTrain\n",
      "    #now we must shift accordingly\n",
      "    curr=0\n",
      "    for it in range(0,n,1):\n",
      "        k = p_vector[it]\n",
      "        for i in range(0,k,1):\n",
      "            l=len(xArrTrain[curr])\n",
      "            for j in range(0,l,1):\n",
      "                if(j<l-i-1):\n",
      "                    xArrTrain[curr][j]=xArrTrain[curr][j+i+1]\n",
      "                else:\n",
      "                    xArrTrain[curr][j]=xArrTrain[curr][l-1]\n",
      "            curr=curr+1\n",
      "    #print xArrTrain\n",
      "    #set xArrTest\n",
      "    xArrTest = []\n",
      "    n = len(p_vector)\n",
      "    for i in range(0,n,1):\n",
      "        k = p_vector[i]\n",
      "        for j in range(0,k,1):\n",
      "            xArrTest.append(np.array(dfMasterTest[candidatesList[i]]))\n",
      "    #print xArrTrain\n",
      "    #now we must shift accordingly\n",
      "    curr=0\n",
      "    for it in range(0,n,1):\n",
      "        k = p_vector[it]\n",
      "        for i in range(0,k,1):\n",
      "            l=len(xArrTest[curr])\n",
      "            for j in range(0,l,1):\n",
      "                if(j<l-i-1):\n",
      "                    xArrTest[curr][j]=xArrTest[curr][j+i+1]\n",
      "                else:\n",
      "                    xArrTest[curr][j]=xArrTest[curr][l-1]\n",
      "            curr=curr+1\n",
      "    #next phase\n",
      "    #train\n",
      "    result = mvRegress(yArrTrain, xArrTrain)\n",
      "    #print result.summary()\n",
      "    yPred = mvPredict(xArrTest,result)\n",
      "    return yPred\n",
      "\n",
      "                #p_vector = [Gold, SP500, NYSE, USD_Index, EURO/USD, CSI, Oil]\n",
      "yPred = model_1_0(dfMasterTrain,dfMasterTest,np.array([3, 0, 0, 0, 0, 0, 0])) #change parameter vector accordingly\n",
      "yArrTest = np.array(dfMasterTest[candidatesList[0]])\n",
      "errPred = yPred - yArrTest\n",
      "avg = np.mean(errPred) #CHECK\n",
      "#print (\"avg is \", avg)\n",
      "yPred = yPred - avg #yPred updated\n",
      "errPred = yPred - yArrTest\n",
      "avg2 = np.mean(errPred) #CHECK\n",
      "#print (\"avg2 is \", avg2)\n",
      "#errVar= 100 * (np.absolute(yPred - yArrTest) / yArrTest)\n",
      "errVar= 100 * (np.absolute(errPred) / yArrTest)\n",
      "errRMSE = np.sqrt(mean_squared_error(yArrTest,yPred))\n",
      "errABS= np.absolute(yPred-yArrTest)\n",
      "\n",
      "\n",
      "    \n",
      "#dfErr = pd.DataFrame(data=None, columns=['Model','Minimum % Error','Maximum % Error', 'RMSE Error', 'Mean Absolute Error','Mean Percentage Error'])\n",
      "#dfErr['Model'] = ('Model 1.0','Model 1.1 (Simple Autoregressive)','Model 1.2')\n",
      "#dfErr['Minimum % Error'] = (min(errVar_y0),min(errVar_y1),min(errVar_y2))\n",
      "#dfErr['Maximum % Error'] = (max(errVar_y0),max(errVar_y1),max(errVar_y2))\n",
      "#dfErr['RMSE Error'] = (errRMS_y0,errRMS_y1,errRMS_y2)\n",
      "#dfErr['Mean Absolute Error'] = (np.mean(errABS_y0),np.mean(errABS_y1),np.mean(errABS_y2))\n",
      "#dfErr['Mean Percentage Error'] = (np.mean(errVar_y0),np.mean(errVar_y1),np.mean(errABS_y2))\n",
      "\n"
     ],
     "language": "python",
     "metadata": {},
     "outputs": [],
     "prompt_number": 6
    },
    {
     "cell_type": "code",
     "collapsed": false,
     "input": [
      "print (\"Mean Relative Error: \", np.mean(errVar), \"%\")\n",
      "print (\"Mean Absolute Error: \", np.mean(errABS))\n",
      "print (\"RMSE: \",errRMSE)\n",
      "\n",
      "def plot(err,c,nb):\n",
      "    fig, axes = plt.subplots(1, 1, figsize=(12,4))\n",
      "    axes.hist(err, color=c, bins=nb)\n",
      "    axes.set_ylabel('Error Frequency')\n",
      "    axes.set_xlabel('Relative Error Percentage')\n",
      "    axes.set_title(\"Error Variations Model-1.0\")\n",
      "\n",
      "\n",
      "plot(errPred/yArrTest,'g',120)\n"
     ],
     "language": "python",
     "metadata": {},
     "outputs": [
      {
       "output_type": "stream",
       "stream": "stdout",
       "text": [
        "Mean Relative Error:  0.911377728085 %\n",
        "Mean Absolute Error:  10.6356749372\n",
        "RMSE:  15.6120963842\n"
       ]
      },
      {
       "metadata": {},
       "output_type": "display_data",
       "png": "[encoded data removed]",
       "text": [
        "<matplotlib.figure.Figure at 0xae00ab0c>"
       ]
      }
     ],
     "prompt_number": 7
    },
    {
     "cell_type": "heading",
     "level": 2,
     "metadata": {},
     "source": [
      "ARMA Model"
     ]
    },
    {
     "cell_type": "code",
     "collapsed": false,
     "input": [
      "import statsmodels.api as sm\n",
      "from statsmodels.graphics.api import qqplot\n",
      "from __future__ import print_function"
     ],
     "language": "python",
     "metadata": {},
     "outputs": [],
     "prompt_number": 8
    },
    {
     "cell_type": "code",
     "collapsed": false,
     "input": [
      "dfGold_value = dfGold['Gold_Value']\n",
      "#print(dfGold_value.head())\n",
      "npGold_value = np.array(dfGold_value)\n",
      "npGold_value = npGold_value[::-1]\n",
      "#print (npGold_value)\n",
      "npGold_ARMA_Train=npGold_value[0:np.int(trainSize)]\n",
      "#print(npGold_ARMA_Train)\n",
      "npOil_ARMA_Test=npGold_value[np.int(trainSize):]\n",
      "acf_values = sm.tsa.stattools.acf(npGold_value, unbiased=False, nlags=10)\n",
      "pacf_values = sm.tsa.stattools.pacf(npGold_value, nlags=10)\n"
     ],
     "language": "python",
     "metadata": {},
     "outputs": [],
     "prompt_number": 9
    },
    {
     "cell_type": "code",
     "collapsed": false,
     "input": [
      "fig = plt.figure(figsize=(12,8))\n",
      "ax1 = fig.add_subplot(211)\n",
      "fig = sm.graphics.tsa.plot_acf(npGold_value, lags=10, ax=ax1)\n",
      "ax2 = fig.add_subplot(212)\n",
      "fig = sm.graphics.tsa.plot_pacf(npGold_value, lags=10, ax=ax2)"
     ],
     "language": "python",
     "metadata": {},
     "outputs": [
      {
       "metadata": {},
       "output_type": "display_data",
       "png": "[encoded data removed]",
       "text": [
        "<matplotlib.figure.Figure at 0xadfe20ac>"
       ]
      }
     ],
     "prompt_number": 10
    },
    {
     "cell_type": "code",
     "collapsed": false,
     "input": [
      "arma_mod20 = sm.tsa.ARMA(npGold_value, (2,0), dates=None).fit()\n",
      "print(arma_mod20.params)\n",
      "print(arma_mod20.fittedvalues)"
     ],
     "language": "python",
     "metadata": {},
     "outputs": [
      {
       "output_type": "stream",
       "stream": "stdout",
       "text": [
        "[  6.91767881e+02   9.96860720e-01   2.89224964e-03]\n",
        "[  691.76788091   393.2739694    392.52610993 ...,  1213.68116486\n",
        "  1213.67104198  1219.35314809]"
       ]
      },
      {
       "output_type": "stream",
       "stream": "stdout",
       "text": [
        "\n"
       ]
      }
     ],
     "prompt_number": 11
    },
    {
     "cell_type": "code",
     "collapsed": false,
     "input": [
      "yPredARMA= arma_mod20.fittedvalues[np.int(trainSize):]\n",
      "y = npGold_value[np.int(trainSize):]\n",
      "print (yPredARMA)\n",
      "errPredARMA = yPredARMA - y\n",
      "avg = np.mean(errPredARMA)\n",
      "yPredARMA = yPredARMA - avg\n",
      "errPredARMA = yPredARMA - y\n",
      "\n",
      "errARMA_Var= 100 * (np.absolute(errPredARMA) / y)\n",
      "errARMA_RMSE = np.sqrt(mean_squared_error(yPredARMA,y))\n",
      "errARMA_ABS= np.absolute(errPredARMA)\n",
      "\n",
      "print (\"Mean Absolute error\",np.mean(errARMA_ABS))\n",
      "print (\"RMSE error\",errARMA_RMSE)\n",
      "print (\"Mean variance\",np.mean(errARMA_Var))\n",
      "\n",
      "\n",
      "plot(errPredARMA/y,'g',120)"
     ],
     "language": "python",
     "metadata": {},
     "outputs": [
      {
       "output_type": "stream",
       "stream": "stdout",
       "text": [
        "[  557.27527637   561.7691033    556.54859964 ...,  1213.68116486\n",
        "  1213.67104198  1219.35314809]\n",
        "Mean Absolute error 9.9402740964\n",
        "RMSE error 14.8220942215\n",
        "Mean variance 0.896845911091\n"
       ]
      },
      {
       "metadata": {},
       "output_type": "display_data",
       "png": "[encoded data removed]",
       "text": [
        "<matplotlib.figure.Figure at 0xae00ae2c>"
       ]
      }
     ],
     "prompt_number": 14
    },
    {
     "cell_type": "code",
     "collapsed": false,
     "input": [],
     "language": "python",
     "metadata": {},
     "outputs": []
    }
   ],
   "metadata": {}
  }
 ]
}
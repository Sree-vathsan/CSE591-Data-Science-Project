{
 "metadata": {
  "name": "modular_code_linear_regression_oil.ipynb",
  "signature": "sha256:d2fae8f0ec80678f942fd940af2219eaa0e58dbcea03da253e06da2e64b6b129"
 },
 "nbformat": 3,
 "nbformat_minor": 0,
 "worksheets": [
  {
   "cells": [
    {
     "cell_type": "heading",
     "level": 1,
     "metadata": {},
     "source": [
      "Various Linear Regression Models for Oil Price Prediction."
     ]
    },
    {
     "cell_type": "code",
     "collapsed": false,
     "input": [
      "from pandas import Series, DataFrame\n",
      "from pandas import merge#Needed Libraries\n",
      "%matplotlib inline\n",
      "import numpy as np\n",
      "import matplotlib as mpl\n",
      "import matplotlib.pyplot as plt\n",
      "import pandas as pd\n",
      "from sklearn.metrics import mean_squared_error\n",
      "\n",
      "import statsmodels.api as sm\n"
     ],
     "language": "python",
     "metadata": {},
     "outputs": [],
     "prompt_number": 101
    },
    {
     "cell_type": "code",
     "collapsed": false,
     "input": [
      "#Input Variables\n",
      "oilDataPath = 'https://raw.githubusercontent.com/Sree-vathsan/CSE591-Data-Science-Project/master/regressionModel/data/CRUDE_OIL_WTI_US_ENERGY_Daily_1994-10-03_2014-09-30.csv'\n",
      "sp500DataPath = 'https://raw.githubusercontent.com/Sree-vathsan/CSE591-Data-Science-Project/master/regressionModel/data/YAHOO_SP500_INDEX_DAILY_1994-10-03_2014-09-30.csv'\n",
      "nyseDataPath = 'https://raw.githubusercontent.com/Sree-vathsan/CSE591-Data-Science-Project/master/regressionModel/data/YAHOO_NYSE_INDEX_DAILY_1994-10-03_2014-09-30.csv'\n",
      "usdIndexDataPath = 'https://raw.githubusercontent.com/Sree-vathsan/CSE591-Data-Science-Project/master/regressionModel/data/USD_Index_Daily_1994-10-03_2014-09-30.csv'\n",
      "goldDataPath = 'https://raw.githubusercontent.com/Sree-vathsan/CSE591-Data-Science-Project/master/regressionModel/data/GOLD_DAILY_1994-10-03_2014-09-30.csv'\n",
      "\n",
      "dfOil = pd.read_csv(oilDataPath)\n",
      "dfSP500 = pd.read_csv(sp500DataPath)\n",
      "dfNyse = pd.read_csv(nyseDataPath)\n",
      "dfUsInd = pd.read_csv(usdIndexDataPath)\n",
      "dfGold = pd.read_csv(goldDataPath)\n",
      "\n",
      "dfGold.tail()"
     ],
     "language": "python",
     "metadata": {},
     "outputs": [
      {
       "html": [
        "<div style=\"max-height:1000px;max-width:1500px;overflow:auto;\">\n",
        "<table border=\"1\" class=\"dataframe\">\n",
        "  <thead>\n",
        "    <tr style=\"text-align: right;\">\n",
        "      <th></th>\n",
        "      <th>Date</th>\n",
        "      <th>Gold_Value</th>\n",
        "    </tr>\n",
        "  </thead>\n",
        "  <tbody>\n",
        "    <tr>\n",
        "      <th>5212</th>\n",
        "      <td> 10/7/1994</td>\n",
        "      <td> 392.00</td>\n",
        "    </tr>\n",
        "    <tr>\n",
        "      <th>5213</th>\n",
        "      <td> 10/6/1994</td>\n",
        "      <td> 392.00</td>\n",
        "    </tr>\n",
        "    <tr>\n",
        "      <th>5214</th>\n",
        "      <td> 10/5/1994</td>\n",
        "      <td> 393.70</td>\n",
        "    </tr>\n",
        "    <tr>\n",
        "      <th>5215</th>\n",
        "      <td> 10/4/1994</td>\n",
        "      <td> 392.45</td>\n",
        "    </tr>\n",
        "    <tr>\n",
        "      <th>5216</th>\n",
        "      <td> 10/3/1994</td>\n",
        "      <td> 393.20</td>\n",
        "    </tr>\n",
        "  </tbody>\n",
        "</table>\n",
        "</div>"
       ],
       "metadata": {},
       "output_type": "pyout",
       "prompt_number": 102,
       "text": [
        "           Date  Gold_Value\n",
        "5212  10/7/1994      392.00\n",
        "5213  10/6/1994      392.00\n",
        "5214  10/5/1994      393.70\n",
        "5215  10/4/1994      392.45\n",
        "5216  10/3/1994      393.20"
       ]
      }
     ],
     "prompt_number": 102
    },
    {
     "cell_type": "code",
     "collapsed": false,
     "input": [
      "trainingRatio = 0.6\n",
      "\n",
      "dfMaster = merge(dfOil,dfSP500,on='Date',how='inner')\n",
      "dfMaster = merge(dfMaster,dfNyse,on='Date',how='inner')\n",
      "dfMaster = merge(dfMaster,dfUsInd,on='Date',how='inner')\n",
      "dfMaster = merge(dfMaster,dfGold,on='Date',how='inner') \n",
      "#dfMaster = merge(dfMaster,<new factor data frame>,on='Date',how='inner')\n",
      "\n",
      "# add factor here (it should be same as column name)\n",
      "candidatesList = ['Oil_Value',\t'SP500_Value',\t'NYSE_Value',\t'USD_Value', 'Gold_Value']\n",
      "#print (dfMaster[candidatesList[1]][0])\n",
      "trainSize = np.floor(len(dfMaster['Date']) * trainingRatio) #80:20 ratio\n",
      "dfMasterTrain = dfMaster[len(dfMaster)-np.int(trainSize):len(dfMaster)]\n",
      "dfMasterTest = dfMaster[0:(len(dfMaster)-np.int(trainSize))-1]\n"
     ],
     "language": "python",
     "metadata": {},
     "outputs": [],
     "prompt_number": 103
    },
    {
     "cell_type": "heading",
     "level": 2,
     "metadata": {},
     "source": [
      "Model 1.0 Regressive model using last autoregressive factor as well as other endogenous variables:"
     ]
    },
    {
     "cell_type": "code",
     "collapsed": false,
     "input": [
      "def mvRegress(y, x):\n",
      "    ones = np.ones(len(x[0]))\n",
      "    X = sm.add_constant(np.column_stack((x[0], ones)))\n",
      "    for ele in x[1:]:\n",
      "        X = sm.add_constant(np.column_stack((ele, X)))\n",
      "    results = sm.OLS(y, X).fit()\n",
      "    return results\n",
      "\n",
      "def mvPredict(x,res):\n",
      "    ones = np.ones(len(x[0]))\n",
      "    X = sm.add_constant(np.column_stack((x[0], ones)))\n",
      "    for ele in x[1:]:\n",
      "        X = sm.add_constant(np.column_stack((ele, X)))\n",
      "    return res.predict(X)\n",
      "   "
     ],
     "language": "python",
     "metadata": {},
     "outputs": [],
     "prompt_number": 104
    },
    {
     "cell_type": "code",
     "collapsed": false,
     "input": [
      "#p_vector = [Oil, NYSE, US Index ]\n",
      "\n",
      "def model_1_0(dfMasterTrain,dfMasterTest,p_vector):\n",
      "    yArrTrain = np.array(dfMasterTrain[candidatesList[0]])\n",
      "    yArrTest = np.array(dfMasterTest[candidatesList[0]])\n",
      "    xArrTrain = []\n",
      "    n = len(p_vector)\n",
      "    for i in range(0,n,1):\n",
      "        k = p_vector[i]\n",
      "        for j in range(0,k,1):\n",
      "            xArrTrain.append(np.array(dfMasterTrain[candidatesList[i]]))\n",
      "    #print xArrTrain\n",
      "    #now we must shift accordingly\n",
      "    curr=0\n",
      "    for it in range(0,n,1):\n",
      "        k = p_vector[it]\n",
      "        for i in range(0,k,1):\n",
      "            l=len(xArrTrain[curr])\n",
      "            for j in range(0,l,1):\n",
      "                if(j<l-i-1):\n",
      "                    xArrTrain[curr][j]=xArrTrain[curr][j+i+1]\n",
      "                else:\n",
      "                    xArrTrain[curr][j]=xArrTrain[curr][l-1]\n",
      "            curr=curr+1\n",
      "    #print xArrTrain\n",
      "    #set xArrTest\n",
      "    xArrTest = []\n",
      "    n = len(p_vector)\n",
      "    for i in range(0,n,1):\n",
      "        k = p_vector[i]\n",
      "        for j in range(0,k,1):\n",
      "            xArrTest.append(np.array(dfMasterTest[candidatesList[i]]))\n",
      "    #print xArrTrain\n",
      "    #now we must shift accordingly\n",
      "    curr=0\n",
      "    for it in range(0,n,1):\n",
      "        k = p_vector[it]\n",
      "        for i in range(0,k,1):\n",
      "            l=len(xArrTest[curr])\n",
      "            for j in range(0,l,1):\n",
      "                if(j<l-i-1):\n",
      "                    xArrTest[curr][j]=xArrTest[curr][j+i+1]\n",
      "                else:\n",
      "                    xArrTest[curr][j]=xArrTest[curr][l-1]\n",
      "            curr=curr+1\n",
      "    #next phase\n",
      "    #train\n",
      "    result = mvRegress(yArrTrain, xArrTrain)\n",
      "    print (result.summary())\n",
      "    yPred = mvPredict(xArrTest,result)\n",
      "    return yPred\n",
      "\n",
      "#candidatesList = ['Oil_Value',\t'SP500_Value',\t'NYSE_Value',\t'USD_Value', 'Gold_Value']\n",
      "yPred = model_1_0(dfMasterTrain,dfMasterTest,np.array([0,3,3,3,3])) #change parameter vector accordingly\n",
      "yArrTest = np.array(dfMasterTest[candidatesList[0]])\n",
      "errPred = yPred - yArrTest\n",
      "avg=np.mean(errPred)\n",
      "yPred = yPred - avg\n",
      "errPred = yPred - yArrTest\n",
      "\n",
      "errVar= 100 * (np.absolute(yPred - yArrTest) / yArrTest)\n",
      "errRMSE = np.sqrt(mean_squared_error(yArrTest,yPred))\n",
      "errABS= np.absolute(yPred-yArrTest)\n",
      "\n",
      "\n",
      "    \n",
      "#dfErr = pd.DataFrame(data=None, columns=['Model','Minimum % Error','Maximum % Error', 'RMSE Error', 'Mean Absolute Error','Mean Percentage Error'])\n",
      "#dfErr['Model'] = ('Model 1.0','Model 1.1 (Simple Autoregressive)','Model 1.2')\n",
      "#dfErr['Minimum % Error'] = (min(errVar_y0),min(errVar_y1),min(errVar_y2))\n",
      "#dfErr['Maximum % Error'] = (max(errVar_y0),max(errVar_y1),max(errVar_y2))\n",
      "#dfErr['RMSE Error'] = (errRMS_y0,errRMS_y1,errRMS_y2)\n",
      "#dfErr['Mean Absolute Error'] = (np.mean(errABS_y0),np.mean(errABS_y1),np.mean(errABS_y2))\n",
      "#dfErr['Mean Percentage Error'] = (np.mean(errVar_y0),np.mean(errVar_y1),np.mean(errABS_y2))\n",
      "\n"
     ],
     "language": "python",
     "metadata": {},
     "outputs": [
      {
       "output_type": "stream",
       "stream": "stdout",
       "text": [
        "                            OLS Regression Results                            \n",
        "==============================================================================\n",
        "Dep. Variable:                      y   R-squared:                       0.862\n",
        "Model:                            OLS   Adj. R-squared:                  0.861\n",
        "Method:                 Least Squares   F-statistic:                     1545.\n",
        "Date:                Thu, 13 Nov 2014   Prob (F-statistic):               0.00\n",
        "Time:                        02:16:14   Log-Likelihood:                -9430.4\n",
        "No. Observations:                2985   AIC:                         1.889e+04\n",
        "Df Residuals:                    2972   BIC:                         1.896e+04\n",
        "Df Model:                          12                                         \n",
        "==============================================================================\n",
        "                 coef    std err          t      P>|t|      [95.0% Conf. Int.]\n",
        "------------------------------------------------------------------------------\n",
        "x1             0.0028      0.030      0.092      0.926        -0.056     0.061\n",
        "x2            -0.0024      0.042     -0.058      0.954        -0.085     0.080\n",
        "x3             0.1026      0.030      3.404      0.001         0.043     0.162\n",
        "x4            -0.1835      0.295     -0.622      0.534        -0.762     0.395\n",
        "x5             0.1062      0.412      0.258      0.797        -0.702     0.914\n",
        "x6             0.0837      0.294      0.284      0.776        -0.493     0.661\n",
        "x7            -0.0037      0.007     -0.560      0.576        -0.017     0.009\n",
        "x8            -0.0064      0.009     -0.683      0.495        -0.025     0.012\n",
        "x9             0.0186      0.007      2.818      0.005         0.006     0.032\n",
        "x10            0.0438      0.031      1.406      0.160        -0.017     0.105\n",
        "x11            0.0245      0.043      0.569      0.569        -0.060     0.109\n",
        "x12           -0.0849      0.031     -2.724      0.006        -0.146    -0.024\n",
        "const        -39.1263      2.839    -13.780      0.000       -44.694   -33.559\n",
        "==============================================================================\n",
        "Omnibus:                        1.845   Durbin-Watson:                   0.030\n",
        "Prob(Omnibus):                  0.398   Jarque-Bera (JB):                1.773\n",
        "Skew:                           0.046   Prob(JB):                        0.412\n",
        "Kurtosis:                       3.077   Cond. No.                     2.85e+05\n",
        "==============================================================================\n",
        "\n",
        "Warnings:\n",
        "[1] The condition number is large, 2.85e+05. This might indicate that there are\n",
        "strong multicollinearity or other numerical problems.\n"
       ]
      }
     ],
     "prompt_number": 105
    },
    {
     "cell_type": "code",
     "collapsed": false,
     "input": [
      "print (\"Mean Relative Error\")\n",
      "print (np.mean(errVar))\n",
      "print (\"Mean Absolute error\")\n",
      "print (np.mean(errABS))\n",
      "print (\"RMSE error\")\n",
      "print (errRMSE)"
     ],
     "language": "python",
     "metadata": {},
     "outputs": [
      {
       "output_type": "stream",
       "stream": "stdout",
       "text": [
        "Mean Relative Error\n",
        "27.3552654901\n",
        "Mean Absolute error\n",
        "23.7051307437\n",
        "RMSE error\n",
        "29.5015542707\n"
       ]
      }
     ],
     "prompt_number": 106
    },
    {
     "cell_type": "code",
     "collapsed": false,
     "input": [
      "\n",
      "\n",
      "def plot(err,c,nb):\n",
      "    fig, axes = plt.subplots(1, 1, figsize=(12,4))\n",
      "    axes.hist(err, color=c, bins=nb)\n",
      "    axes.set_ylabel('Error Frequency')\n",
      "    axes.set_xlabel('Error')\n",
      "    axes.set_title(\"Error Variations Model-1.0\")\n",
      "    \n",
      "plot(errPred/yArrTest,'g',120)\n"
     ],
     "language": "python",
     "metadata": {},
     "outputs": [
      {
       "metadata": {},
       "output_type": "display_data",
       "png": "[encoded data removed]",
       "text": [
        "<matplotlib.figure.Figure at 0xbc427b8>"
       ]
      }
     ],
     "prompt_number": 107
    },
    {
     "cell_type": "heading",
     "level": 2,
     "metadata": {},
     "source": [
      "ARMA Model"
     ]
    },
    {
     "cell_type": "code",
     "collapsed": false,
     "input": [
      "import statsmodels.api as sm\n",
      "from statsmodels.graphics.api import qqplot\n",
      "from __future__ import print_function"
     ],
     "language": "python",
     "metadata": {},
     "outputs": []
    },
    {
     "cell_type": "code",
     "collapsed": false,
     "input": [
      "dfOil_value = dfOil['Oil_Value']\n",
      "#print (dfOil_value)\n",
      "npOil_value = np.array(dfOil_value)\n",
      "\n",
      "npOil_value=npOil_value[::-1]\n",
      "print (npOil_value)\n",
      "npOil_ARMA_Train=npOil_value[0:np.int(trainSize)]\n",
      "npOil_ARMA_Test=npOil_value[np.int(trainSize):]\n",
      "#print (npOil_ARMA_Test)\n",
      "#print (npOil_value[np.int(trainSize)-1])\n",
      "#print (npOil_value[np.int(trainSize)])\n",
      "#print (npOil_value[np.int(trainSize)+1])\n",
      "\n",
      "acf_values = sm.tsa.stattools.acf(npOil_value, unbiased=False, nlags=10)\n",
      "#print (acf_values)\n",
      "pacf_values = sm.tsa.stattools.pacf(npOil_value, nlags=10)"
     ],
     "language": "python",
     "metadata": {},
     "outputs": []
    },
    {
     "cell_type": "code",
     "collapsed": false,
     "input": [
      "fig = plt.figure(figsize=(12,8))\n",
      "ax1 = fig.add_subplot(211)\n",
      "fig = sm.graphics.tsa.plot_acf(npOil_value, lags=10, ax=ax1)\n",
      "ax2 = fig.add_subplot(212)\n",
      "fig = sm.graphics.tsa.plot_pacf(npOil_value, lags=10, ax=ax2)"
     ],
     "language": "python",
     "metadata": {},
     "outputs": []
    },
    {
     "cell_type": "code",
     "collapsed": false,
     "input": [
      "#dfOil = pd.TimeSeries(dfOil)\n",
      "#dfOil_value = pd.TimeSeries(dfOil_value, index=dates)\n",
      "arma_mod20 = sm.tsa.ARMA(npOil_value, (2,0), dates=None).fit()\n",
      "print(arma_mod20.params)\n",
      "print(arma_mod20.fittedvalues)\n",
      "\n",
      "#errors = sm.tsa.ARMA(npOil_ARMA_Test,(2,0), dates=None).geterrors(arma_mod20.params)"
     ],
     "language": "python",
     "metadata": {},
     "outputs": []
    },
    {
     "cell_type": "code",
     "collapsed": false,
     "input": [
      "yPredARMA= arma_mod20.fittedvalues[np.int(trainSize):]\n",
      "y = npOil_value[np.int(trainSize):]\n",
      "print (yPredARMA)\n",
      "errPredARMA = yPredARMA - y\n",
      "avg = np.mean(errPredARMA)\n",
      "yPredARMA = yPredARMA - avg\n",
      "errPredARMA = yPredARMA - y\n",
      "\n",
      "errARMA_Var= 100 * (np.absolute(yPredARMA - y) / y)\n",
      "errARMA_RMSE = np.sqrt(mean_squared_error(yPredARMA,y))\n",
      "errARMA_ABS= np.absolute(yPredARMA-y)\n",
      "\n",
      "print (\"Mean Absolute error\",np.mean(errARMA_ABS))\n",
      "print (\"RMSE error\",errARMA_RMSE)\n",
      "print (\"Mean variance\",np.mean(errARMA_Var))\n",
      "\n",
      "\n",
      "plot(errPredARMA/y,'g',120)"
     ],
     "language": "python",
     "metadata": {},
     "outputs": []
    }
   ],
   "metadata": {}
  }
 ]
}
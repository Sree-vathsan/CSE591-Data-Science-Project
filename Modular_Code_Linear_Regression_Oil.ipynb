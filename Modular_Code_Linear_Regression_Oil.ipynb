{
 "metadata": {
  "name": "",
  "signature": "sha256:d2fae8f0ec80678f942fd940af2219eaa0e58dbcea03da253e06da2e64b6b129"
 },
 "nbformat": 3,
 "nbformat_minor": 0,
 "worksheets": [
  {
   "cells": [
    {
     "cell_type": "heading",
     "level": 1,
     "metadata": {},
     "source": [
      "Various Linear Regression Models for Oil Price Prediction."
     ]
    },
    {
     "cell_type": "code",
     "collapsed": false,
     "input": [
      "from pandas import Series, DataFrame\n",
      "from pandas import merge#Needed Libraries\n",
      "%matplotlib inline\n",
      "import numpy as np\n",
      "import matplotlib as mpl\n",
      "import matplotlib.pyplot as plt\n",
      "import pandas as pd\n",
      "from sklearn.metrics import mean_squared_error\n",
      "\n",
      "import statsmodels.api as sm\n"
     ],
     "language": "python",
     "metadata": {},
     "outputs": [],
     "prompt_number": 81
    },
    {
     "cell_type": "code",
     "collapsed": false,
     "input": [
      "#Input Variables\n",
      "oilDataPath = 'https://raw.githubusercontent.com/Sree-vathsan/CSE591-Data-Science-Project/master/regressionModel/data/CRUDE_OIL_WTI_US_ENERGY_Daily_1994-10-03_2014-09-30.csv'\n",
      "sp500DataPath = 'https://raw.githubusercontent.com/Sree-vathsan/CSE591-Data-Science-Project/master/regressionModel/data/YAHOO_SP500_INDEX_DAILY_1994-10-03_2014-09-30.csv'\n",
      "nyseDataPath = 'https://raw.githubusercontent.com/Sree-vathsan/CSE591-Data-Science-Project/master/regressionModel/data/YAHOO_NYSE_INDEX_DAILY_1994-10-03_2014-09-30.csv'\n",
      "usdIndexDataPath = 'https://raw.githubusercontent.com/Sree-vathsan/CSE591-Data-Science-Project/master/regressionModel/data/USD_Index_Daily_1994-10-03_2014-09-30.csv'\n",
      "\n",
      "dfOil = pd.read_csv(oilDataPath)\n",
      "dfSP500 = pd.read_csv(sp500DataPath)\n",
      "dfNyse = pd.read_csv(nyseDataPath)\n",
      "dfUsInd = pd.read_csv(usdIndexDataPath)\n",
      "\n",
      "dfUsInd.tail()"
     ],
     "language": "python",
     "metadata": {},
     "outputs": [
      {
       "html": [
        "<div style=\"max-height:1000px;max-width:1500px;overflow:auto;\">\n",
        "<table border=\"1\" class=\"dataframe\">\n",
        "  <thead>\n",
        "    <tr style=\"text-align: right;\">\n",
        "      <th></th>\n",
        "      <th>Date</th>\n",
        "      <th>USD_Value</th>\n",
        "    </tr>\n",
        "  </thead>\n",
        "  <tbody>\n",
        "    <tr>\n",
        "      <th>5024</th>\n",
        "      <td> 10/7/1994</td>\n",
        "      <td> 86.0366</td>\n",
        "    </tr>\n",
        "    <tr>\n",
        "      <th>5025</th>\n",
        "      <td> 10/6/1994</td>\n",
        "      <td> 85.8219</td>\n",
        "    </tr>\n",
        "    <tr>\n",
        "      <th>5026</th>\n",
        "      <td> 10/5/1994</td>\n",
        "      <td> 85.7657</td>\n",
        "    </tr>\n",
        "    <tr>\n",
        "      <th>5027</th>\n",
        "      <td> 10/4/1994</td>\n",
        "      <td> 85.9173</td>\n",
        "    </tr>\n",
        "    <tr>\n",
        "      <th>5028</th>\n",
        "      <td> 10/3/1994</td>\n",
        "      <td> 85.9581</td>\n",
        "    </tr>\n",
        "  </tbody>\n",
        "</table>\n",
        "<p>5 rows \u00d7 2 columns</p>\n",
        "</div>"
       ],
       "metadata": {},
       "output_type": "pyout",
       "prompt_number": 82,
       "text": [
        "           Date  USD_Value\n",
        "5024  10/7/1994    86.0366\n",
        "5025  10/6/1994    85.8219\n",
        "5026  10/5/1994    85.7657\n",
        "5027  10/4/1994    85.9173\n",
        "5028  10/3/1994    85.9581\n",
        "\n",
        "[5 rows x 2 columns]"
       ]
      }
     ],
     "prompt_number": 82
    },
    {
     "cell_type": "code",
     "collapsed": false,
     "input": [
      "trainingRatio = 0.6\n",
      "\n",
      "dfMaster = merge(dfOil,dfSP500,on='Date',how='inner')\n",
      "dfMaster = merge(dfMaster,dfNyse,on='Date',how='inner')\n",
      "dfMaster = merge(dfMaster,dfUsInd,on='Date',how='inner')\n",
      "#dfMaster = merge(dfMaster,<new factor data frame>,on='Date',how='inner') \n",
      "\n",
      "\n",
      "trainSize = np.floor(len(dfMaster['Date']) * trainingRatio) #80:20 ratio\n",
      "dfMasterTrain = dfMaster[len(dfMaster)-np.int(trainSize):len(dfMaster)]\n",
      "dfMasterTest = dfMaster[0:(len(dfMaster)-np.int(trainSize))-1]\n",
      "candidatesList = ['Oil_Value',\t'SP500_Value',\t'NYSE_Value',\t'USD_Value']# add factor here"
     ],
     "language": "python",
     "metadata": {},
     "outputs": [],
     "prompt_number": 83
    },
    {
     "cell_type": "heading",
     "level": 2,
     "metadata": {},
     "source": [
      "Model 1.0 Regressive model using last autoregressive factor as well as other endogenous variables:"
     ]
    },
    {
     "cell_type": "code",
     "collapsed": false,
     "input": [
      "def mvRegress(y, x):\n",
      "    ones = np.ones(len(x[0]))\n",
      "    X = sm.add_constant(np.column_stack((x[0], ones)))\n",
      "    for ele in x[1:]:\n",
      "        X = sm.add_constant(np.column_stack((ele, X)))\n",
      "    results = sm.OLS(y, X).fit()\n",
      "    return results\n",
      "\n",
      "def mvPredict(x,res):\n",
      "    ones = np.ones(len(x[0]))\n",
      "    X = sm.add_constant(np.column_stack((x[0], ones)))\n",
      "    for ele in x[1:]:\n",
      "        X = sm.add_constant(np.column_stack((ele, X)))\n",
      "    return res.predict(X)\n",
      "   "
     ],
     "language": "python",
     "metadata": {},
     "outputs": [],
     "prompt_number": 84
    },
    {
     "cell_type": "code",
     "collapsed": false,
     "input": [
      "#p_vector = [Oil, NYSE, US Index ]\n",
      "\n",
      "def model_1_0(dfMasterTrain,dfMasterTest,p_vector):\n",
      "    yArrTrain = np.array(dfMasterTrain[candidatesList[0]])\n",
      "    yArrTest = np.array(dfMasterTest[candidatesList[0]])\n",
      "    xArrTrain = []\n",
      "    n = len(p_vector)\n",
      "    for i in range(0,n,1):\n",
      "        k = p_vector[i]\n",
      "        for j in range(0,k,1):\n",
      "            xArrTrain.append(np.array(dfMasterTrain[candidatesList[i]]))\n",
      "    #print xArrTrain\n",
      "    #now we must shift accordingly\n",
      "    curr=0\n",
      "    for it in range(0,n,1):\n",
      "        k = p_vector[it]\n",
      "        for i in range(0,k,1):\n",
      "            l=len(xArrTrain[curr])\n",
      "            for j in range(0,l,1):\n",
      "                if(j<l-i-1):\n",
      "                    xArrTrain[curr][j]=xArrTrain[curr][j+i+1]\n",
      "                else:\n",
      "                    xArrTrain[curr][j]=xArrTrain[curr][l-1]\n",
      "            curr=curr+1\n",
      "    #print xArrTrain\n",
      "    #set xArrTest\n",
      "    xArrTest = []\n",
      "    n = len(p_vector)\n",
      "    for i in range(0,n,1):\n",
      "        k = p_vector[i]\n",
      "        for j in range(0,k,1):\n",
      "            xArrTest.append(np.array(dfMasterTest[candidatesList[i]]))\n",
      "    #print xArrTrain\n",
      "    #now we must shift accordingly\n",
      "    curr=0\n",
      "    for it in range(0,n,1):\n",
      "        k = p_vector[it]\n",
      "        for i in range(0,k,1):\n",
      "            l=len(xArrTest[curr])\n",
      "            for j in range(0,l,1):\n",
      "                if(j<l-i-1):\n",
      "                    xArrTest[curr][j]=xArrTest[curr][j+i+1]\n",
      "                else:\n",
      "                    xArrTest[curr][j]=xArrTest[curr][l-1]\n",
      "            curr=curr+1\n",
      "    #next phase\n",
      "    #train\n",
      "    result = mvRegress(yArrTrain, xArrTrain)\n",
      "    print result.summary()\n",
      "    yPred = mvPredict(xArrTest,result)\n",
      "    return yPred\n",
      "\n",
      "\n",
      "yPred = model_1_0(dfMasterTrain,dfMasterTest,np.array([3,0,0])) #change parameter vector accordingly\n",
      "yArrTest = np.array(dfMasterTest[candidatesList[0]])\n",
      "errPred = yPred - yArrTest\n",
      "avg=np.mean(errPred)\n",
      "yPred = yPred - avg\n",
      "errPred = yPred - yArrTest\n",
      "\n",
      "errVar= 100 * (np.absolute(yPred - yArrTest) / yArrTest)\n",
      "errRMSE = np.sqrt(mean_squared_error(yArrTest,yPred))\n",
      "errABS= np.absolute(yPred-yArrTest)\n",
      "\n",
      "\n",
      "    \n",
      "#dfErr = pd.DataFrame(data=None, columns=['Model','Minimum % Error','Maximum % Error', 'RMSE Error', 'Mean Absolute Error','Mean Percentage Error'])\n",
      "#dfErr['Model'] = ('Model 1.0','Model 1.1 (Simple Autoregressive)','Model 1.2')\n",
      "#dfErr['Minimum % Error'] = (min(errVar_y0),min(errVar_y1),min(errVar_y2))\n",
      "#dfErr['Maximum % Error'] = (max(errVar_y0),max(errVar_y1),max(errVar_y2))\n",
      "#dfErr['RMSE Error'] = (errRMS_y0,errRMS_y1,errRMS_y2)\n",
      "#dfErr['Mean Absolute Error'] = (np.mean(errABS_y0),np.mean(errABS_y1),np.mean(errABS_y2))\n",
      "#dfErr['Mean Percentage Error'] = (np.mean(errVar_y0),np.mean(errVar_y1),np.mean(errABS_y2))\n",
      "\n"
     ],
     "language": "python",
     "metadata": {},
     "outputs": [
      {
       "output_type": "stream",
       "stream": "stdout",
       "text": [
        "                            OLS Regression Results                            \n",
        "==============================================================================\n",
        "Dep. Variable:                      y   R-squared:                       0.998\n",
        "Model:                            OLS   Adj. R-squared:                  0.998\n",
        "Method:                 Least Squares   F-statistic:                 3.978e+05\n",
        "Date:                Wed, 12 Nov 2014   Prob (F-statistic):               0.00\n",
        "Time:                        01:35:21   Log-Likelihood:                -3437.5\n",
        "No. Observations:                2985   AIC:                             6883.\n",
        "Df Residuals:                    2981   BIC:                             6907.\n",
        "Df Model:                           3                                         \n",
        "==============================================================================\n",
        "                 coef    std err          t      P>|t|      [95.0% Conf. Int.]\n",
        "------------------------------------------------------------------------------\n",
        "x1             0.0353      0.018      1.928      0.054        -0.001     0.071\n",
        "x2             0.0032      0.025      0.127      0.899        -0.047     0.053\n",
        "x3             0.9608      0.018     52.469      0.000         0.925     0.997\n",
        "const          0.0344      0.031      1.109      0.267        -0.026     0.095\n",
        "==============================================================================\n",
        "Omnibus:                      419.501   Durbin-Watson:                   2.001\n",
        "Prob(Omnibus):                  0.000   Jarque-Bera (JB):             3651.885\n",
        "Skew:                          -0.376   Prob(JB):                         0.00\n",
        "Kurtosis:                       8.366   Cond. No.                         131.\n",
        "==============================================================================\n"
       ]
      }
     ],
     "prompt_number": 85
    },
    {
     "cell_type": "code",
     "collapsed": false,
     "input": [
      "print \"Mean Absolute error\\n\"\n",
      "print np.mean(errABS)\n",
      "print (\"RMSE error\\n\",errRMSE)\n",
      "\n",
      "def plot(err,c,nb):\n",
      "    fig, axes = plt.subplots(1, 1, figsize=(12,4))\n",
      "    axes.hist(err, color=c, bins=nb)\n",
      "    axes.set_ylabel('Error Frequency')\n",
      "    axes.set_xlabel('Error')\n",
      "    axes.set_title(\"Error Variations Model-1.0\")\n",
      "    \n",
      "plot(errPred,'g',120)\n"
     ],
     "language": "python",
     "metadata": {},
     "outputs": [
      {
       "output_type": "stream",
       "stream": "stdout",
       "text": [
        "Mean Absolute error\n",
        "\n",
        "1.3099150004\n",
        "('RMSE error\\n', 1.8485370564453156)\n"
       ]
      },
      {
       "metadata": {},
       "output_type": "display_data",
       "png": "[encoded data removed]",
       "text": [
        "<matplotlib.figure.Figure at 0xadf64d4c>"
       ]
      }
     ],
     "prompt_number": 86
    },
    {
     "cell_type": "code",
     "collapsed": false,
     "input": [],
     "language": "python",
     "metadata": {},
     "outputs": [],
     "prompt_number": 86
    }
   ],
   "metadata": {}
  }
 ]
}
{
 "metadata": {
  "name": "modular_code_linear_regression_oil.ipynb",
  "signature": "sha256:fc83606c4c28568000af68b3d473649162bfd1507d02e7aa5c2c4ba59b0967dd"
 },
 "nbformat": 3,
 "nbformat_minor": 0,
 "worksheets": [
  {
   "cells": [
    {
     "cell_type": "heading",
     "level": 1,
     "metadata": {},
     "source": [
      "\n",
      "Various Linear Regression Models for Oil Price Prediction."
     ]
    },
    {
     "cell_type": "code",
     "collapsed": false,
     "input": [
      "from pandas import Series, DataFrame\n",
      "from pandas import merge#Needed Libraries\n",
      "%matplotlib inline\n",
      "import numpy as np\n",
      "import matplotlib as mpl\n",
      "import matplotlib.pyplot as plt\n",
      "import pandas as pd\n",
      "from sklearn.metrics import mean_squared_error\n",
      "\n",
      "import statsmodels.api as sm\n"
     ],
     "language": "python",
     "metadata": {},
     "outputs": [],
     "prompt_number": 6
    },
    {
     "cell_type": "code",
     "collapsed": false,
     "input": [
      "#Input Variables\n",
      "'''\n",
      "oilDataPath = 'https://raw.githubusercontent.com/Sree-vathsan/CSE591-Data-Science-Project/master/regressionModel/data/CRUDE_OIL_WTI_US_ENERGY_Daily_1994-10-03_2014-09-30.csv'\n",
      "sp500DataPath = 'https://raw.githubusercontent.com/Sree-vathsan/CSE591-Data-Science-Project/master/regressionModel/data/YAHOO_SP500_INDEX_DAILY_1994-10-03_2014-09-30.csv'\n",
      "nyseDataPath = 'https://raw.githubusercontent.com/Sree-vathsan/CSE591-Data-Science-Project/master/regressionModel/data/YAHOO_NYSE_INDEX_DAILY_1994-10-03_2014-09-30.csv'\n",
      "usdIndexDataPath = 'https://raw.githubusercontent.com/Sree-vathsan/CSE591-Data-Science-Project/master/regressionModel/data/USD_Index_Daily_1994-10-03_2014-09-30.csv'\n",
      "goldDataPath = 'https://raw.githubusercontent.com/Sree-vathsan/CSE591-Data-Science-Project/master/regressionModel/data/GOLD_DAILY_1994-10-03_2014-09-30.csv'\n",
      "'''\n",
      "\n",
      "'''\n",
      "#Monthly Data\n",
      "oilDataPath = 'https://raw.githubusercontent.com/Sree-vathsan/CSE591-Data-Science-Project/master/regressionModel/data/Monthly/CRUDE_OIL_WTI_US_ENERGY_Monthly_199410-201410.csv'\n",
      "sp500DataPath = 'https://raw.githubusercontent.com/Sree-vathsan/CSE591-Data-Science-Project/master/regressionModel/data/Monthly/YAHOO_SP500_INDEX_Monthly_199410-201410.csv'\n",
      "nyseDataPath = 'https://raw.githubusercontent.com/Sree-vathsan/CSE591-Data-Science-Project/master/regressionModel/data/Monthly/YAHOO_NYSE_INDEX_Monthly_199410-201410.csv'\n",
      "usdIndexDataPath = 'https://raw.githubusercontent.com/Sree-vathsan/CSE591-Data-Science-Project/master/regressionModel/data/Monthly/USD_Index_Monthly_199410_201410.csv'\n",
      "goldDataPath = 'https://raw.githubusercontent.com/Sree-vathsan/CSE591-Data-Science-Project/master/regressionModel/data/Monthly/GOLD_Montly_199410_201410.csv'\n",
      "'''\n",
      "\n",
      "#Monthly Data - 30 Years\n",
      "oilDataPath = 'https://raw.githubusercontent.com/Sree-vathsan/CSE591-Data-Science-Project/master/regressionModel/data/Monthly_30yr/CRUDE_OIL_WTI_US_ENERGY_Monthly_198601-201410.csv'\n",
      "sp500DataPath = 'https://raw.githubusercontent.com/Sree-vathsan/CSE591-Data-Science-Project/master/regressionModel/data/Monthly_30yr/YAHOO_SP500_INDEX_Monthly_198410-201410.csv'\n",
      "nyseDataPath = 'https://raw.githubusercontent.com/Sree-vathsan/CSE591-Data-Science-Project/master/regressionModel/data/Monthly_30yr/YAHOO_NYSE_INDEX_Monthly_198410-201410.csv'\n",
      "usdIndexDataPath = 'https://raw.githubusercontent.com/Sree-vathsan/CSE591-Data-Science-Project/master/regressionModel/data/Monthly_30yr/USD_Index_Monthly_198410_201410.csv'\n",
      "goldDataPath = 'https://raw.githubusercontent.com/Sree-vathsan/CSE591-Data-Science-Project/master/regressionModel/data/Monthly_30yr/GOLD_Montly_198410_201410.csv'\n",
      "\n",
      "dfOil = pd.read_csv(oilDataPath)\n",
      "dfSP500 = pd.read_csv(sp500DataPath)\n",
      "dfNyse = pd.read_csv(nyseDataPath)\n",
      "dfUsInd = pd.read_csv(usdIndexDataPath)\n",
      "dfGold = pd.read_csv(goldDataPath)\n",
      "\n",
      "dfOil.head()"
     ],
     "language": "python",
     "metadata": {},
     "outputs": [
      {
       "html": [
        "<div style=\"max-height:1000px;max-width:1500px;overflow:auto;\">\n",
        "<table border=\"1\" class=\"dataframe\">\n",
        "  <thead>\n",
        "    <tr style=\"text-align: right;\">\n",
        "      <th></th>\n",
        "      <th>Date</th>\n",
        "      <th>Oil_Value</th>\n",
        "    </tr>\n",
        "  </thead>\n",
        "  <tbody>\n",
        "    <tr>\n",
        "      <th>0</th>\n",
        "      <td> 10/31/2014</td>\n",
        "      <td>  80.53</td>\n",
        "    </tr>\n",
        "    <tr>\n",
        "      <th>1</th>\n",
        "      <td>  9/30/2014</td>\n",
        "      <td>  91.17</td>\n",
        "    </tr>\n",
        "    <tr>\n",
        "      <th>2</th>\n",
        "      <td>  8/31/2014</td>\n",
        "      <td>  97.86</td>\n",
        "    </tr>\n",
        "    <tr>\n",
        "      <th>3</th>\n",
        "      <td>  7/31/2014</td>\n",
        "      <td>  98.23</td>\n",
        "    </tr>\n",
        "    <tr>\n",
        "      <th>4</th>\n",
        "      <td>  6/30/2014</td>\n",
        "      <td> 106.07</td>\n",
        "    </tr>\n",
        "  </tbody>\n",
        "</table>\n",
        "</div>"
       ],
       "metadata": {},
       "output_type": "pyout",
       "prompt_number": 7,
       "text": [
        "         Date  Oil_Value\n",
        "0  10/31/2014      80.53\n",
        "1   9/30/2014      91.17\n",
        "2   8/31/2014      97.86\n",
        "3   7/31/2014      98.23\n",
        "4   6/30/2014     106.07"
       ]
      }
     ],
     "prompt_number": 7
    },
    {
     "cell_type": "code",
     "collapsed": false,
     "input": [
      "trainingRatio = 0.6\n",
      "\n",
      "dfMaster = merge(dfOil,dfSP500,on='Date',how='inner')\n",
      "dfMaster = merge(dfMaster,dfNyse,on='Date',how='inner')\n",
      "dfMaster = merge(dfMaster,dfUsInd,on='Date',how='inner')\n",
      "dfMaster = merge(dfMaster,dfGold,on='Date',how='inner') \n",
      "#dfMaster = merge(dfMaster,<new factor data frame>,on='Date',how='inner')\n",
      "\n",
      "# add factor here (it should be same as column name)\n",
      "candidatesList = ['Oil_Value',\t'SP500_Value',\t'NYSE_Value',\t'USD_Value', 'Gold_Value']\n",
      "#print (dfMaster[candidatesList[1]][0])\n",
      "trainSize = np.floor(len(dfMaster['Date']) * trainingRatio) #80:20 ratio\n",
      "dfMasterTrain = dfMaster[len(dfMaster)-np.int(trainSize):len(dfMaster)]\n",
      "dfMasterTest = dfMaster[0:(len(dfMaster)-np.int(trainSize))-1]\n"
     ],
     "language": "python",
     "metadata": {},
     "outputs": [],
     "prompt_number": 8
    },
    {
     "cell_type": "heading",
     "level": 2,
     "metadata": {},
     "source": [
      "Model 1.0 Regressive model using last autoregressive factor as well as other endogenous variables:"
     ]
    },
    {
     "cell_type": "code",
     "collapsed": false,
     "input": [
      "def mvRegress(y, x):\n",
      "    ones = np.ones(len(x[0]))\n",
      "    X = sm.add_constant(np.column_stack((x[0], ones)))\n",
      "    for ele in x[1:]:\n",
      "        X = sm.add_constant(np.column_stack((ele, X)))\n",
      "    results = sm.OLS(y, X).fit()\n",
      "    return results\n",
      "\n",
      "def mvPredict(x,res):\n",
      "    ones = np.ones(len(x[0]))\n",
      "    X = sm.add_constant(np.column_stack((x[0], ones)))\n",
      "    for ele in x[1:]:\n",
      "        X = sm.add_constant(np.column_stack((ele, X)))\n",
      "    return res.predict(X)\n",
      "   "
     ],
     "language": "python",
     "metadata": {},
     "outputs": [],
     "prompt_number": 9
    },
    {
     "cell_type": "code",
     "collapsed": false,
     "input": [
      "#p_vector = [Oil, NYSE, US Index ]\n",
      "\n",
      "def model_1_0(dfMasterTrain,dfMasterTest,p_vector):\n",
      "    yArrTrain = np.array(dfMasterTrain[candidatesList[0]])\n",
      "    yArrTest = np.array(dfMasterTest[candidatesList[0]])\n",
      "    xArrTrain = []\n",
      "    n = len(p_vector)\n",
      "    for i in range(0,n,1):\n",
      "        k = p_vector[i]\n",
      "        for j in range(0,k,1):\n",
      "            xArrTrain.append(np.array(dfMasterTrain[candidatesList[i]]))\n",
      "    #print xArrTrain\n",
      "    #now we must shift accordingly\n",
      "    curr=0\n",
      "    for it in range(0,n,1):\n",
      "        k = p_vector[it]\n",
      "        for i in range(0,k,1):\n",
      "            l=len(xArrTrain[curr])\n",
      "            for j in range(0,l,1):\n",
      "                if(j<l-i-1):\n",
      "                    xArrTrain[curr][j]=xArrTrain[curr][j+i+1]\n",
      "                else:\n",
      "                    xArrTrain[curr][j]=xArrTrain[curr][l-1]\n",
      "            curr=curr+1\n",
      "    #print xArrTrain\n",
      "    #set xArrTest\n",
      "    xArrTest = []\n",
      "    n = len(p_vector)\n",
      "    for i in range(0,n,1):\n",
      "        k = p_vector[i]\n",
      "        for j in range(0,k,1):\n",
      "            xArrTest.append(np.array(dfMasterTest[candidatesList[i]]))\n",
      "    #print xArrTrain\n",
      "    #now we must shift accordingly\n",
      "    curr=0\n",
      "    for it in range(0,n,1):\n",
      "        k = p_vector[it]\n",
      "        for i in range(0,k,1):\n",
      "            l=len(xArrTest[curr])\n",
      "            for j in range(0,l,1):\n",
      "                if(j<l-i-1):\n",
      "                    xArrTest[curr][j]=xArrTest[curr][j+i+1]\n",
      "                else:\n",
      "                    xArrTest[curr][j]=xArrTest[curr][l-1]\n",
      "            curr=curr+1\n",
      "    #next phase\n",
      "    #train\n",
      "    result = mvRegress(yArrTrain, xArrTrain)\n",
      "    #print (result.summary())\n",
      "    yPred = mvPredict(xArrTest,result)\n",
      "    return yPred"
     ],
     "language": "python",
     "metadata": {},
     "outputs": [],
     "prompt_number": 10
    },
    {
     "cell_type": "code",
     "collapsed": false,
     "input": [
      "def plot(err,c,nb):\n",
      "    fig, axes = plt.subplots(1, 1, figsize=(12,4))\n",
      "    axes.hist(err, color=c, bins=nb)\n",
      "    axes.set_ylabel('Error Frequency')\n",
      "    axes.set_xlabel('Error')\n",
      "    axes.set_title(\"Error Variations Model-1.0\")"
     ],
     "language": "python",
     "metadata": {},
     "outputs": [],
     "prompt_number": 11
    },
    {
     "cell_type": "code",
     "collapsed": false,
     "input": [
      "def computeErrors(yPred, yArrTest):\n",
      "    errPred = yPred - yArrTest\n",
      "    avg=np.mean(errPred)\n",
      "    yPred = yPred - avg\n",
      "    errPred = yPred - yArrTest\n",
      "    \n",
      "    errVar= 100 * (np.absolute(yPred - yArrTest) / yArrTest)\n",
      "    errRMSE = np.sqrt(mean_squared_error(yArrTest,yPred))\n",
      "    errABS= np.absolute(yPred-yArrTest)\n",
      "    ''' # Comment temporarily, uncoment this later\n",
      "    print (\"Mean Relative Error: \")\n",
      "    print (np.mean(errVar))\n",
      "    print (\"Mean Absolute Error: \")\n",
      "    print (np.mean(errABS))\n",
      "    print (\"RMSE: \")\n",
      "    print (errRMSE)\n",
      "    plot(errPred/yArrTest,'g',10)\n",
      "    '''\n",
      "    return np.mean(errVar)"
     ],
     "language": "python",
     "metadata": {},
     "outputs": [],
     "prompt_number": 12
    },
    {
     "cell_type": "code",
     "collapsed": false,
     "input": [
      "def frameString(modelVector, candidatesList):\n",
      "    displayString = ''\n",
      "    for i in range(len(modelVector)):\n",
      "        if(modelVector[i] > 0):\n",
      "            if(len(displayString)>0):\n",
      "                displayString += ', '\n",
      "            displayString += candidatesList[i]\n",
      "    return displayString"
     ],
     "language": "python",
     "metadata": {},
     "outputs": [],
     "prompt_number": 13
    },
    {
     "cell_type": "code",
     "collapsed": false,
     "input": [
      "#['Oil_Value',\t'SP500_Value',\t'NYSE_Value',\t'USD_Value', 'Gold_Value']\n",
      "inputModels = [\\\n",
      "               np.array([1,0,0,0,0]), \\\n",
      "               np.array([1,1,1,1,1]), \\\n",
      "               np.array([1,1,0,1,1]) \\\n",
      "               ]\n",
      "\n",
      "\n",
      "for m in range(len(inputModels)):\n",
      "    modelVector = inputModels[m]\n",
      "    nMonths = []\n",
      "    relErrModel = []\n",
      "    for i in arange(1,10,1):\n",
      "        if(i > 1):\n",
      "            modelVector[modelVector == (i-1)] = i\n",
      "        yArrTest = np.array(dfMasterTest[candidatesList[0]])\n",
      "        yPred = model_1_0(dfMasterTrain,dfMasterTest,modelVector)\n",
      "        relErrModel.append(computeErrors(yPred, yArrTest))\n",
      "        nMonths.append(i)\n",
      "    plt.plot(nMonths,relErrModel, linewidth=0.75, color=random.rand(3,1), label=frameString(modelVector, candidatesList))\n",
      "    # Place a legend to the right of this smaller figure.\n",
      "    plt.legend(bbox_to_anchor=(1.05, 1), loc=2, borderaxespad=0.)\n",
      "\n",
      "plt.title(\"Auto Regression Model - Relative Error Plot\")\n",
      "plt.xlabel(\"No of days\")\n",
      "plt.ylabel(\"Relative Errors\")"
     ],
     "language": "python",
     "metadata": {},
     "outputs": [
      {
       "metadata": {},
       "output_type": "pyout",
       "prompt_number": 15,
       "text": [
        "<matplotlib.text.Text at 0xbee9a20>"
       ]
      },
      {
       "metadata": {},
       "output_type": "display_data",
       "png": "[encoded data removed]",
       "text": [
        "<matplotlib.figure.Figure at 0xbe3dcf8>"
       ]
      }
     ],
     "prompt_number": 15
    },
    {
     "cell_type": "heading",
     "level": 2,
     "metadata": {},
     "source": [
      "ARMA Model"
     ]
    },
    {
     "cell_type": "code",
     "collapsed": false,
     "input": [
      "import statsmodels.api as sm\n",
      "from statsmodels.graphics.api import qqplot\n",
      "from __future__ import print_function"
     ],
     "language": "python",
     "metadata": {},
     "outputs": [],
     "prompt_number": 6
    },
    {
     "cell_type": "code",
     "collapsed": false,
     "input": [
      "dfOil_value = dfOil['Oil_Value']\n",
      "#print (dfOil_value)\n",
      "npOil_value = np.array(dfOil_value)\n",
      "\n",
      "npOil_value=npOil_value[::-1]\n",
      "#print (npOil_value)\n",
      "npOil_ARMA_Train=npOil_value[0:np.int(trainSize)]\n",
      "npOil_ARMA_Test=npOil_value[np.int(trainSize):]\n",
      "#print (npOil_ARMA_Test)\n",
      "#print (npOil_value[np.int(trainSize)-1])\n",
      "#print (npOil_value[np.int(trainSize)])\n",
      "#print (npOil_value[np.int(trainSize)+1])\n",
      "\n",
      "acf_values = sm.tsa.stattools.acf(npOil_value, unbiased=False, nlags=10)\n",
      "#print (acf_values)\n",
      "pacf_values = sm.tsa.stattools.pacf(npOil_value, nlags=10)"
     ],
     "language": "python",
     "metadata": {},
     "outputs": [],
     "prompt_number": 7
    },
    {
     "cell_type": "code",
     "collapsed": false,
     "input": [
      "fig = plt.figure(figsize=(12,8))\n",
      "ax1 = fig.add_subplot(211)\n",
      "fig = sm.graphics.tsa.plot_acf(npOil_value, lags=40, ax=ax1)\n",
      "ax2 = fig.add_subplot(212)\n",
      "fig = sm.graphics.tsa.plot_pacf(npOil_value, lags=40, ax=ax2)"
     ],
     "language": "python",
     "metadata": {},
     "outputs": [
      {
       "metadata": {},
       "output_type": "display_data",
       "png": "[encoded data removed]",
       "text": [
        "<matplotlib.figure.Figure at 0xc19af60>"
       ]
      }
     ],
     "prompt_number": "*"
    },
    {
     "cell_type": "code",
     "collapsed": false,
     "input": [
      "#dfOil = pd.TimeSeries(dfOil)\n",
      "#dfOil_value = pd.TimeSeries(dfOil_value, index=dates)\n",
      "arma_mod20 = sm.tsa.ARMA(npOil_value, (3,1), dates=None).fit()\n",
      "print(arma_mod20.params)\n",
      "#print(arma_mod20.fittedvalues)\n",
      "\n",
      "#errors = sm.tsa.ARMA(npOil_ARMA_Test,(2,0), dates=None).geterrors(arma_mod20.params)"
     ],
     "language": "python",
     "metadata": {},
     "outputs": [],
     "prompt_number": "*"
    },
    {
     "cell_type": "code",
     "collapsed": false,
     "input": [
      "yPredARMA= arma_mod20.fittedvalues[np.int(trainSize):]\n",
      "y = npOil_value[np.int(trainSize):]\n",
      "#print (yPredARMA)\n",
      "errPredARMA = yPredARMA - y\n",
      "avg = np.mean(errPredARMA)\n",
      "yPredARMA = yPredARMA - avg\n",
      "errPredARMA = yPredARMA - y\n",
      "\n",
      "errARMA_Var= 100 * (np.absolute(errPredARMA) / y)\n",
      "errARMA_RMSE = np.sqrt(mean_squared_error(yPredARMA,y))\n",
      "errARMA_ABS= np.absolute(errPredARMA)\n",
      "\n",
      "print (\"Mean Absolute error\",np.mean(errARMA_ABS))\n",
      "print (\"RMSE error\",errARMA_RMSE)\n",
      "print (\"Mean variance\",np.mean(errARMA_Var))\n",
      "\n",
      "\n",
      "plot(errPredARMA/y,'g',10)"
     ],
     "language": "python",
     "metadata": {},
     "outputs": [],
     "prompt_number": "*"
    }
   ],
   "metadata": {}
  }
 ]
}
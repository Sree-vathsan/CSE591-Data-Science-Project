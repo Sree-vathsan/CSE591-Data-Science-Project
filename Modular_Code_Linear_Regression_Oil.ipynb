{
 "metadata": {
  "name": "",
  "signature": "sha256:269f6e5bbe3a85a1b6edc9e1c4bf15b2839c13fa977d892518753259975ac02a"
 },
 "nbformat": 3,
 "nbformat_minor": 0,
 "worksheets": [
  {
   "cells": [
    {
     "cell_type": "heading",
     "level": 1,
     "metadata": {},
     "source": [
      "Various Linear Regression Models for Oil Price Prediction."
     ]
    },
    {
     "cell_type": "code",
     "collapsed": false,
     "input": [
      "from pandas import Series, DataFrame\n",
      "from pandas import merge#Needed Libraries\n",
      "%matplotlib inline\n",
      "import numpy as np\n",
      "import matplotlib as mpl\n",
      "import matplotlib.pyplot as plt\n",
      "import pandas as pd\n",
      "from sklearn.metrics import mean_squared_error\n",
      "\n",
      "import statsmodels.api as sm\n"
     ],
     "language": "python",
     "metadata": {},
     "outputs": [],
     "prompt_number": 67
    },
    {
     "cell_type": "code",
     "collapsed": false,
     "input": [
      "#Input Variables\n",
      "'''\n",
      "oilDataPath = 'https://raw.githubusercontent.com/Sree-vathsan/CSE591-Data-Science-Project/master/regressionModel/data/CRUDE_OIL_WTI_US_ENERGY_Daily_1994-10-03_2014-09-30.csv'\n",
      "sp500DataPath = 'https://raw.githubusercontent.com/Sree-vathsan/CSE591-Data-Science-Project/master/regressionModel/data/YAHOO_SP500_INDEX_DAILY_1994-10-03_2014-09-30.csv'\n",
      "nyseDataPath = 'https://raw.githubusercontent.com/Sree-vathsan/CSE591-Data-Science-Project/master/regressionModel/data/YAHOO_NYSE_INDEX_DAILY_1994-10-03_2014-09-30.csv'\n",
      "usdIndexDataPath = 'https://raw.githubusercontent.com/Sree-vathsan/CSE591-Data-Science-Project/master/regressionModel/data/USD_Index_Daily_1994-10-03_2014-09-30.csv'\n",
      "goldDataPath = 'https://raw.githubusercontent.com/Sree-vathsan/CSE591-Data-Science-Project/master/regressionModel/data/GOLD_DAILY_1994-10-03_2014-09-30.csv'\n",
      "'''\n",
      "\n",
      "#Monthly Data\n",
      "oilDataPath = 'https://raw.githubusercontent.com/Sree-vathsan/CSE591-Data-Science-Project/master/regressionModel/data/Monthly/CRUDE_OIL_WTI_US_ENERGY_Monthly_199410-201410.csv'\n",
      "sp500DataPath = 'https://raw.githubusercontent.com/Sree-vathsan/CSE591-Data-Science-Project/master/regressionModel/data/Monthly/YAHOO_SP500_INDEX_Monthly_199410-201410.csv'\n",
      "nyseDataPath = 'https://raw.githubusercontent.com/Sree-vathsan/CSE591-Data-Science-Project/master/regressionModel/data/Monthly/YAHOO_NYSE_INDEX_Monthly_199410-201410.csv'\n",
      "usdIndexDataPath = 'https://raw.githubusercontent.com/Sree-vathsan/CSE591-Data-Science-Project/master/regressionModel/data/Monthly/USD_Index_Monthly_199410_201410.csv'\n",
      "goldDataPath = 'https://raw.githubusercontent.com/Sree-vathsan/CSE591-Data-Science-Project/master/regressionModel/data/Monthly/GOLD_Montly_199410_201410.csv'\n",
      "\n",
      "\n",
      "dfOil = pd.read_csv(oilDataPath)\n",
      "dfSP500 = pd.read_csv(sp500DataPath)\n",
      "dfNyse = pd.read_csv(nyseDataPath)\n",
      "dfUsInd = pd.read_csv(usdIndexDataPath)\n",
      "dfGold = pd.read_csv(goldDataPath)\n",
      "\n",
      "dfGold.tail()"
     ],
     "language": "python",
     "metadata": {},
     "outputs": [
      {
       "html": [
        "<div style=\"max-height:1000px;max-width:1500px;overflow:auto;\">\n",
        "<table border=\"1\" class=\"dataframe\">\n",
        "  <thead>\n",
        "    <tr style=\"text-align: right;\">\n",
        "      <th></th>\n",
        "      <th>Date</th>\n",
        "      <th>Gold_Value</th>\n",
        "    </tr>\n",
        "  </thead>\n",
        "  <tbody>\n",
        "    <tr>\n",
        "      <th>236</th>\n",
        "      <td>  2/28/1995</td>\n",
        "      <td> 376.3</td>\n",
        "    </tr>\n",
        "    <tr>\n",
        "      <th>237</th>\n",
        "      <td>  1/31/1995</td>\n",
        "      <td> 383.3</td>\n",
        "    </tr>\n",
        "    <tr>\n",
        "      <th>238</th>\n",
        "      <td> 12/31/1994</td>\n",
        "      <td> 380.1</td>\n",
        "    </tr>\n",
        "    <tr>\n",
        "      <th>239</th>\n",
        "      <td> 11/30/1994</td>\n",
        "      <td> 384.5</td>\n",
        "    </tr>\n",
        "    <tr>\n",
        "      <th>240</th>\n",
        "      <td> 10/31/1994</td>\n",
        "      <td> 393.2</td>\n",
        "    </tr>\n",
        "  </tbody>\n",
        "</table>\n",
        "<p>5 rows \u00d7 2 columns</p>\n",
        "</div>"
       ],
       "metadata": {},
       "output_type": "pyout",
       "prompt_number": 68,
       "text": [
        "           Date  Gold_Value\n",
        "236   2/28/1995       376.3\n",
        "237   1/31/1995       383.3\n",
        "238  12/31/1994       380.1\n",
        "239  11/30/1994       384.5\n",
        "240  10/31/1994       393.2\n",
        "\n",
        "[5 rows x 2 columns]"
       ]
      }
     ],
     "prompt_number": 68
    },
    {
     "cell_type": "code",
     "collapsed": false,
     "input": [
      "trainingRatio = 0.6\n",
      "\n",
      "dfMaster = merge(dfOil,dfSP500,on='Date',how='inner')\n",
      "dfMaster = merge(dfMaster,dfNyse,on='Date',how='inner')\n",
      "dfMaster = merge(dfMaster,dfUsInd,on='Date',how='inner')\n",
      "dfMaster = merge(dfMaster,dfGold,on='Date',how='inner') \n",
      "#dfMaster = merge(dfMaster,<new factor data frame>,on='Date',how='inner')\n",
      "\n",
      "# add factor here (it should be same as column name)\n",
      "candidatesList = ['Oil_Value',\t'SP500_Value',\t'NYSE_Value',\t'USD_Value', 'Gold_Value']\n",
      "#print (dfMaster[candidatesList[1]][0])\n",
      "trainSize = np.floor(len(dfMaster['Date']) * trainingRatio) #80:20 ratio\n",
      "dfMasterTrain = dfMaster[len(dfMaster)-np.int(trainSize):len(dfMaster)]\n",
      "dfMasterTest = dfMaster[0:(len(dfMaster)-np.int(trainSize))-1]\n"
     ],
     "language": "python",
     "metadata": {},
     "outputs": [],
     "prompt_number": 69
    },
    {
     "cell_type": "heading",
     "level": 2,
     "metadata": {},
     "source": [
      "Model 1.0 Regressive model using last autoregressive factor as well as other endogenous variables:"
     ]
    },
    {
     "cell_type": "code",
     "collapsed": false,
     "input": [
      "def mvRegress(y, x):\n",
      "    ones = np.ones(len(x[0]))\n",
      "    X = sm.add_constant(np.column_stack((x[0], ones)))\n",
      "    for ele in x[1:]:\n",
      "        X = sm.add_constant(np.column_stack((ele, X)))\n",
      "    results = sm.OLS(y, X).fit()\n",
      "    return results\n",
      "\n",
      "def mvPredict(x,res):\n",
      "    ones = np.ones(len(x[0]))\n",
      "    X = sm.add_constant(np.column_stack((x[0], ones)))\n",
      "    for ele in x[1:]:\n",
      "        X = sm.add_constant(np.column_stack((ele, X)))\n",
      "    return res.predict(X)\n",
      "   "
     ],
     "language": "python",
     "metadata": {},
     "outputs": [],
     "prompt_number": 70
    },
    {
     "cell_type": "code",
     "collapsed": false,
     "input": [
      "#p_vector = [Oil, NYSE, US Index ]\n",
      "\n",
      "def model_1_0(dfMasterTrain,dfMasterTest,p_vector):\n",
      "    yArrTrain = np.array(dfMasterTrain[candidatesList[0]])\n",
      "    yArrTest = np.array(dfMasterTest[candidatesList[0]])\n",
      "    xArrTrain = []\n",
      "    n = len(p_vector)\n",
      "    for i in range(0,n,1):\n",
      "        k = p_vector[i]\n",
      "        for j in range(0,k,1):\n",
      "            xArrTrain.append(np.array(dfMasterTrain[candidatesList[i]]))\n",
      "    #print xArrTrain\n",
      "    #now we must shift accordingly\n",
      "    curr=0\n",
      "    for it in range(0,n,1):\n",
      "        k = p_vector[it]\n",
      "        for i in range(0,k,1):\n",
      "            l=len(xArrTrain[curr])\n",
      "            for j in range(0,l,1):\n",
      "                if(j<l-i-1):\n",
      "                    xArrTrain[curr][j]=xArrTrain[curr][j+i+1]\n",
      "                else:\n",
      "                    xArrTrain[curr][j]=xArrTrain[curr][l-1]\n",
      "            curr=curr+1\n",
      "    #print xArrTrain\n",
      "    #set xArrTest\n",
      "    xArrTest = []\n",
      "    n = len(p_vector)\n",
      "    for i in range(0,n,1):\n",
      "        k = p_vector[i]\n",
      "        for j in range(0,k,1):\n",
      "            xArrTest.append(np.array(dfMasterTest[candidatesList[i]]))\n",
      "    #print xArrTrain\n",
      "    #now we must shift accordingly\n",
      "    curr=0\n",
      "    for it in range(0,n,1):\n",
      "        k = p_vector[it]\n",
      "        for i in range(0,k,1):\n",
      "            l=len(xArrTest[curr])\n",
      "            for j in range(0,l,1):\n",
      "                if(j<l-i-1):\n",
      "                    xArrTest[curr][j]=xArrTest[curr][j+i+1]\n",
      "                else:\n",
      "                    xArrTest[curr][j]=xArrTest[curr][l-1]\n",
      "            curr=curr+1\n",
      "    #next phase\n",
      "    #train\n",
      "    result = mvRegress(yArrTrain, xArrTrain)\n",
      "    print (result.summary())\n",
      "    yPred = mvPredict(xArrTest,result)\n",
      "    return yPred\n",
      "\n",
      "#candidatesList = ['Oil_Value',\t'SP500_Value',\t'NYSE_Value',\t'USD_Value', 'Gold_Value']\n",
      "yPred = model_1_0(dfMasterTrain,dfMasterTest,np.array([3,3,3,3,0])) #change parameter vector accordingly\n",
      "yArrTest = np.array(dfMasterTest[candidatesList[0]])\n",
      "errPred = yPred - yArrTest\n",
      "avg=np.mean(errPred)\n",
      "yPred = yPred - avg\n",
      "errPred = yPred - yArrTest\n",
      "\n",
      "errVar= 100 * (np.absolute(yPred - yArrTest) / yArrTest)\n",
      "errRMSE = np.sqrt(mean_squared_error(yArrTest,yPred))\n",
      "errABS= np.absolute(yPred-yArrTest)\n",
      "\n",
      "\n",
      "    \n",
      "#dfErr = pd.DataFrame(data=None, columns=['Model','Minimum % Error','Maximum % Error', 'RMSE Error', 'Mean Absolute Error','Mean Percentage Error'])\n",
      "#dfErr['Model'] = ('Model 1.0','Model 1.1 (Simple Autoregressive)','Model 1.2')\n",
      "#dfErr['Minimum % Error'] = (min(errVar_y0),min(errVar_y1),min(errVar_y2))\n",
      "#dfErr['Maximum % Error'] = (max(errVar_y0),max(errVar_y1),max(errVar_y2))\n",
      "#dfErr['RMSE Error'] = (errRMS_y0,errRMS_y1,errRMS_y2)\n",
      "#dfErr['Mean Absolute Error'] = (np.mean(errABS_y0),np.mean(errABS_y1),np.mean(errABS_y2))\n",
      "#dfErr['Mean Percentage Error'] = (np.mean(errVar_y0),np.mean(errVar_y1),np.mean(errABS_y2))\n",
      "\n"
     ],
     "language": "python",
     "metadata": {},
     "outputs": [
      {
       "output_type": "stream",
       "stream": "stdout",
       "text": [
        "                            OLS Regression Results                            \n",
        "==============================================================================\n",
        "Dep. Variable:                      y   R-squared:                       0.970\n",
        "Model:                            OLS   Adj. R-squared:                  0.968\n",
        "Method:                 Least Squares   F-statistic:                     356.8\n",
        "Date:                Fri, 14 Nov 2014   Prob (F-statistic):           9.75e-94\n",
        "Time:                        16:30:03   Log-Likelihood:                -345.50\n",
        "No. Observations:                 144   AIC:                             717.0\n",
        "Df Residuals:                     131   BIC:                             755.6\n",
        "Df Model:                          12                                         \n",
        "==============================================================================\n",
        "                 coef    std err          t      P>|t|      [95.0% Conf. Int.]\n",
        "------------------------------------------------------------------------------\n",
        "x1             0.0236      0.147      0.160      0.873        -0.267     0.315\n",
        "x2            -0.2103      0.227     -0.928      0.355        -0.659     0.238\n",
        "x3             0.0950      0.156      0.610      0.543        -0.213     0.403\n",
        "x4             0.0045      0.003      1.355      0.178        -0.002     0.011\n",
        "x5            -0.0100      0.005     -2.095      0.038        -0.019    -0.001\n",
        "x6             0.0068      0.003      1.990      0.049      4.08e-05     0.014\n",
        "x7            -0.0171      0.016     -1.065      0.289        -0.049     0.015\n",
        "x8             0.0479      0.022      2.174      0.031         0.004     0.091\n",
        "x9            -0.0337      0.017     -2.027      0.045        -0.067    -0.001\n",
        "x10            0.1874      0.094      1.995      0.048         0.002     0.373\n",
        "x11           -0.1661      0.119     -1.398      0.164        -0.401     0.069\n",
        "x12            0.8987      0.091      9.929      0.000         0.720     1.078\n",
        "const          6.8037      3.803      1.789      0.076        -0.720    14.327\n",
        "==============================================================================\n",
        "Omnibus:                        5.328   Durbin-Watson:                   1.952\n",
        "Prob(Omnibus):                  0.070   Jarque-Bera (JB):                7.907\n",
        "Skew:                           0.002   Prob(JB):                       0.0192\n",
        "Kurtosis:                       4.148   Cond. No.                     1.69e+05\n",
        "==============================================================================\n",
        "\n",
        "Warnings:\n",
        "[1] The condition number is large, 1.69e+05. This might indicate that there are\n",
        "strong multicollinearity or other numerical problems.\n"
       ]
      }
     ],
     "prompt_number": 71
    },
    {
     "cell_type": "code",
     "collapsed": false,
     "input": [
      "print (\"Mean Relative Error\")\n",
      "print (np.mean(errVar))\n",
      "print (\"Mean Absolute error\")\n",
      "print (np.mean(errABS))\n",
      "print (\"RMSE error\")\n",
      "print (errRMSE)"
     ],
     "language": "python",
     "metadata": {},
     "outputs": [
      {
       "output_type": "stream",
       "stream": "stdout",
       "text": [
        "Mean Relative Error\n",
        "7.32257358126\n",
        "Mean Absolute error\n",
        "6.05601789461\n",
        "RMSE error\n",
        "8.00688275287\n"
       ]
      }
     ],
     "prompt_number": 72
    },
    {
     "cell_type": "code",
     "collapsed": false,
     "input": [
      "\n",
      "\n",
      "def plot(err,c,nb):\n",
      "    fig, axes = plt.subplots(1, 1, figsize=(12,4))\n",
      "    axes.hist(err, color=c, bins=nb)\n",
      "    axes.set_ylabel('Error Frequency')\n",
      "    axes.set_xlabel('Error')\n",
      "    axes.set_title(\"Error Variations Model-1.0\")\n",
      "    \n",
      "plot(errPred/yArrTest,'g',10)\n"
     ],
     "language": "python",
     "metadata": {},
     "outputs": [
      {
       "metadata": {},
       "output_type": "display_data",
       "png": "[encoded data removed]",
       "text": [
        "<matplotlib.figure.Figure at 0xadc04cec>"
       ]
      }
     ],
     "prompt_number": 73
    },
    {
     "cell_type": "heading",
     "level": 2,
     "metadata": {},
     "source": [
      "ARMA Model"
     ]
    },
    {
     "cell_type": "code",
     "collapsed": false,
     "input": [
      "import statsmodels.api as sm\n",
      "from statsmodels.graphics.api import qqplot\n",
      "from __future__ import print_function"
     ],
     "language": "python",
     "metadata": {},
     "outputs": [],
     "prompt_number": 74
    },
    {
     "cell_type": "code",
     "collapsed": false,
     "input": [
      "dfOil_value = dfOil['Oil_Value']\n",
      "#print (dfOil_value)\n",
      "npOil_value = np.array(dfOil_value)\n",
      "\n",
      "npOil_value=npOil_value[::-1]\n",
      "print (npOil_value)\n",
      "npOil_ARMA_Train=npOil_value[0:np.int(trainSize)]\n",
      "npOil_ARMA_Test=npOil_value[np.int(trainSize):]\n",
      "#print (npOil_ARMA_Test)\n",
      "#print (npOil_value[np.int(trainSize)-1])\n",
      "#print (npOil_value[np.int(trainSize)])\n",
      "#print (npOil_value[np.int(trainSize)+1])\n",
      "\n",
      "acf_values = sm.tsa.stattools.acf(npOil_value, unbiased=False, nlags=10)\n",
      "#print (acf_values)\n",
      "pacf_values = sm.tsa.stattools.pacf(npOil_value, nlags=10)"
     ],
     "language": "python",
     "metadata": {},
     "outputs": [
      {
       "output_type": "stream",
       "stream": "stdout",
       "text": [
        "[  18.16   18.06   17.77   18.48   18.52   19.18   20.36   18.88   17.38\n",
        "   17.62   17.89   17.54   17.67   18.27   19.54   17.76   19.59   21.43\n",
        "   20.95   19.77   20.92   20.46   22.25   24.2    23.25   23.7    25.9\n",
        "   24.15   20.3    20.35   20.2    21.     19.82   20.19   19.66   21.13\n",
        "   21.1    19.13   17.65   17.21   15.44   15.75   15.56   15.21   14.3\n",
        "   14.27   13.29   16.19   14.48   11.37   12.14   12.81   12.31   16.66\n",
        "   18.69   16.85   19.33   20.52   22.15   24.54   21.79   24.87   25.76\n",
        "   27.65   30.57   26.86   25.71   29.03   32.44   27.5    33.09   30.87\n",
        "   32.7    33.61   26.72   28.62   27.35   26.37   28.48   28.39   26.37\n",
        "   26.7    26.65   23.44   21.2    19.46   19.96   19.71   21.78   26.21\n",
        "   27.32   25.37   26.79   27.02   28.97   30.59   27.18   26.87   31.21\n",
        "   33.51   36.76   31.14   26.09   29.56   30.15   30.56   31.76   29.19\n",
        "   29.24   30.33   32.51   33.16   36.08   35.75   37.31   39.9    36.92\n",
        "   43.72   42.23   49.56   51.78   49.16   43.36   48.25   51.75   55.31\n",
        "   49.2    52.08   56.63   60.71   68.63   66.21   59.8    57.33   61.06\n",
        "   67.86   61.37   66.25   71.8    71.42   73.94   74.56   70.38   62.9\n",
        "   58.72   62.97   60.85   58.17   61.78   65.94   65.78   64.02   70.47\n",
        "   78.2    73.98   81.64   94.16   88.6    95.95   91.67  101.78  101.54\n",
        "  113.7   127.35  139.96  124.17  115.55  100.7    68.1    55.21   44.6\n",
        "   41.73   44.15   49.64   50.35   66.31   69.82   69.26   69.97   70.46\n",
        "   77.04   77.19   79.39   72.85   79.72   83.45   86.07   74.     75.59\n",
        "   78.85   71.93   79.95   81.45   84.12   91.38   90.99   97.1   106.19\n",
        "  113.39  102.7    95.3    95.68   88.81   78.93   93.19  100.36   98.83\n",
        "   98.46  107.08  103.03  104.89   86.52   85.04   88.08   96.47   92.18\n",
        "   86.23   88.54   91.83   97.65   92.03   97.24   93.22   91.93   96.36\n",
        "  105.1   107.98  102.36   96.29   92.55   98.17   97.55  102.88  101.57\n",
        "  100.07  103.4   106.07   98.23   97.86   91.17   80.53]\n"
       ]
      }
     ],
     "prompt_number": 75
    },
    {
     "cell_type": "code",
     "collapsed": false,
     "input": [
      "fig = plt.figure(figsize=(12,8))\n",
      "ax1 = fig.add_subplot(211)\n",
      "fig = sm.graphics.tsa.plot_acf(npOil_value, lags=40, ax=ax1)\n",
      "ax2 = fig.add_subplot(212)\n",
      "fig = sm.graphics.tsa.plot_pacf(npOil_value, lags=40, ax=ax2)"
     ],
     "language": "python",
     "metadata": {},
     "outputs": [
      {
       "metadata": {},
       "output_type": "display_data",
       "png": "[encoded data removed]",
       "text": [
        "<matplotlib.figure.Figure at 0xae06f8ac>"
       ]
      }
     ],
     "prompt_number": 76
    },
    {
     "cell_type": "code",
     "collapsed": false,
     "input": [
      "#dfOil = pd.TimeSeries(dfOil)\n",
      "#dfOil_value = pd.TimeSeries(dfOil_value, index=dates)\n",
      "arma_mod20 = sm.tsa.ARMA(npOil_value, (4,2), dates=None).fit()\n",
      "print(arma_mod20.params)\n",
      "print(arma_mod20.fittedvalues)\n",
      "\n",
      "#errors = sm.tsa.ARMA(npOil_ARMA_Test,(2,0), dates=None).geterrors(arma_mod20.params)"
     ],
     "language": "python",
     "metadata": {},
     "outputs": [
      {
       "output_type": "stream",
       "stream": "stdout",
       "text": [
        "[ 51.66178597   2.47932025  -2.55091968   1.18996196  -0.12892854\n",
        "  -1.33567822   0.95436101]\n",
        "[  51.66178597   18.62474888   18.60644707   18.32868159   19.2354533\n",
        "   19.20687926   19.9412037    21.18184041   19.25130854   17.56826009\n",
        "   17.95174833   18.32973434   18.10539066   18.47054891   19.19447682\n",
        "   20.51016798   18.14604121   20.24088368   22.09484428   21.46580315\n",
        "   20.26821727   21.69878589   20.98204436   23.02311654   25.06776346\n",
        "   23.81115816   24.36459651   26.70778297   24.39750849   20.06330267\n",
        "   20.37229118   20.25885975   21.53413881   20.5080227    21.23254392\n",
        "   20.45454549   21.86664556   21.40909308   19.06738587   17.61867026\n",
        "   17.43547906   15.73070354   16.49542457   16.36531979   15.96621861\n",
        "   14.80904326   14.67767128   13.48697086   17.00180386   15.05008422\n",
        "   11.86016768   12.91344264   13.40466729   12.73039253   17.84691234\n",
        "   19.99632888   17.88092485   20.65492853   21.31214231   22.70150253\n",
        "   25.15644841   21.92371007   25.83228701   26.63897541   28.75462572\n",
        "   31.79308354   27.05174073   25.67509999   29.20228871   32.92759858\n",
        "   27.5336893    34.70863643   31.63186776   33.61938157   33.95913101\n",
        "   25.64237793   28.24761636   26.84691779   26.55058642   29.71435805\n",
        "   29.74407378   27.23716435   27.08714196   26.30063805   22.45379167\n",
        "   20.53019951   19.40392693   20.834263     20.95173358   23.33135955\n",
        "   27.79683153   28.17969159   25.4329581    26.88852809   26.98382573\n",
        "   29.52725748   31.66229941   27.89002287   27.58334638   31.9653806\n",
        "   33.88063434   37.50714146   31.08165583   25.81010613   29.82700629\n",
        "   30.0697275    30.86859929   32.67648271   29.88473841   29.96752751\n",
        "   30.69572965   32.73306364   33.31227252   36.89747846   36.58539269\n",
        "   38.44984493   40.93996285   36.84155436   44.40853054   41.98346515\n",
        "   50.76291679   52.9880919    49.95574506   43.02887753   48.12060255\n",
        "   51.1622432    55.41586162   49.05671809   53.33890256   58.00234241\n",
        "   61.76092286   69.91758373   66.08031246   58.60270623   55.78600113\n",
        "   60.05366654   68.15054023   61.36974999   68.14047044   73.61091186\n",
        "   71.80407237   73.6342461    73.32083822   68.43292453   60.73549845\n",
        "   57.22716286   63.05943347   60.9775683    58.54709541   62.62446618\n",
        "   66.46803164   65.52704994   63.32962184   70.75251576   79.23281834\n",
        "   74.21000564   83.27308715   96.24221218   88.22656627   96.33711116\n",
        "   89.95956456  101.55992188  100.68387028  115.31545034  130.30181811\n",
        "  143.48413625  123.27328067  112.29503241   93.28381381   56.57256402\n",
        "   46.42882585   39.48291774   42.40794802   49.32982003   56.15133952\n",
        "   53.95330852   67.84731737   67.17284195   65.66806804   68.12700674\n",
        "   71.15532912   80.51344229   80.28040888   81.08152617   70.71219988\n",
        "   76.99459046   80.51322261   85.27673527   73.84722167   77.76076729\n",
        "   80.38491765   70.48439328   78.65068244   79.26299445   83.38166567\n",
        "   93.08948232   93.07202823   99.6892108   107.78490341  113.32540287\n",
        "   99.3077249    91.29708      92.57549763   86.03706833   77.15921\n",
        "   95.399628    102.79745361  100.31621263   98.65499742  106.50802121\n",
        "   99.94537851  102.58363203   82.46155974   83.43884919   87.68805119\n",
        "   97.77982326   92.71083482   85.9455312    87.701609     90.05105418\n",
        "   96.43248195   90.61169133   98.17926677   93.48876208   91.86872288\n",
        "   95.85183756  104.6240138   107.31709588  101.3461217    95.13166456\n",
        "   90.88460577   97.04264748   95.97144592  102.9189366   101.75066873\n",
        "  100.35829244  103.57060416  105.31098244   95.49686019   95.56914995\n",
        "   88.29813386]\n"
       ]
      }
     ],
     "prompt_number": 77
    },
    {
     "cell_type": "code",
     "collapsed": false,
     "input": [
      "yPredARMA= arma_mod20.fittedvalues[np.int(trainSize):]\n",
      "y = npOil_value[np.int(trainSize):]\n",
      "print (yPredARMA)\n",
      "errPredARMA = yPredARMA - y\n",
      "avg = np.mean(errPredARMA)\n",
      "yPredARMA = yPredARMA - avg\n",
      "errPredARMA = yPredARMA - y\n",
      "\n",
      "errARMA_Var= 100 * (np.absolute(errPredARMA) / y)\n",
      "errARMA_RMSE = np.sqrt(mean_squared_error(yPredARMA,y))\n",
      "errARMA_ABS= np.absolute(errPredARMA)\n",
      "\n",
      "print (\"Mean Absolute error\",np.mean(errARMA_ABS))\n",
      "print (\"RMSE error\",errARMA_RMSE)\n",
      "print (\"Mean variance\",np.mean(errARMA_Var))\n",
      "\n",
      "\n",
      "plot(errPredARMA/y,'g',10)"
     ],
     "language": "python",
     "metadata": {},
     "outputs": [
      {
       "output_type": "stream",
       "stream": "stdout",
       "text": [
        "[  60.73549845   57.22716286   63.05943347   60.9775683    58.54709541\n",
        "   62.62446618   66.46803164   65.52704994   63.32962184   70.75251576\n",
        "   79.23281834   74.21000564   83.27308715   96.24221218   88.22656627\n",
        "   96.33711116   89.95956456  101.55992188  100.68387028  115.31545034\n",
        "  130.30181811  143.48413625  123.27328067  112.29503241   93.28381381\n",
        "   56.57256402   46.42882585   39.48291774   42.40794802   49.32982003\n",
        "   56.15133952   53.95330852   67.84731737   67.17284195   65.66806804\n",
        "   68.12700674   71.15532912   80.51344229   80.28040888   81.08152617\n",
        "   70.71219988   76.99459046   80.51322261   85.27673527   73.84722167\n",
        "   77.76076729   80.38491765   70.48439328   78.65068244   79.26299445\n",
        "   83.38166567   93.08948232   93.07202823   99.6892108   107.78490341\n",
        "  113.32540287   99.3077249    91.29708      92.57549763   86.03706833\n",
        "   77.15921      95.399628    102.79745361  100.31621263   98.65499742\n",
        "  106.50802121   99.94537851  102.58363203   82.46155974   83.43884919\n",
        "   87.68805119   97.77982326   92.71083482   85.9455312    87.701609\n",
        "   90.05105418   96.43248195   90.61169133   98.17926677   93.48876208\n",
        "   91.86872288   95.85183756  104.6240138   107.31709588  101.3461217\n",
        "   95.13166456   90.88460577   97.04264748   95.97144592  102.9189366\n",
        "  101.75066873  100.35829244  103.57060416  105.31098244   95.49686019\n",
        "   95.56914995   88.29813386]\n",
        "Mean Absolute error 5.66083194657\n",
        "RMSE error 7.07911885556\n",
        "Mean variance 6.53520123926\n"
       ]
      },
      {
       "metadata": {},
       "output_type": "display_data",
       "png": "[encoded data removed]",
       "text": [
        "<matplotlib.figure.Figure at 0xadd0e96c>"
       ]
      }
     ],
     "prompt_number": 78
    }
   ],
   "metadata": {}
  }
 ]
}
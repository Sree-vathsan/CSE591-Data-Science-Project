{
 "metadata": {
  "name": "",
  "signature": "sha256:8ebbdcdb4283593a49f6cdbbe6a1d977054b2fa7bdc9b7f318d42d2f57e8bda8"
 },
 "nbformat": 3,
 "nbformat_minor": 0,
 "worksheets": [
  {
   "cells": [
    {
     "cell_type": "heading",
     "level": 3,
     "metadata": {},
     "source": [
      "Futures Contract"
     ]
    },
    {
     "cell_type": "heading",
     "level": 4,
     "metadata": {},
     "source": [
      "Import Libraries"
     ]
    },
    {
     "cell_type": "code",
     "collapsed": false,
     "input": [
      "from pandas import Series, DataFrame\n",
      "from pandas import merge#Needed Libraries\n",
      "%matplotlib inline\n",
      "import numpy as np\n",
      "import matplotlib as mpl\n",
      "import matplotlib.pyplot as plt\n",
      "import pandas as pd\n",
      "from sklearn.metrics import mean_squared_error\n",
      "\n",
      "import statsmodels.api as sm\n",
      "from __future__ import print_function"
     ],
     "language": "python",
     "metadata": {},
     "outputs": [],
     "prompt_number": 116
    },
    {
     "cell_type": "code",
     "collapsed": false,
     "input": [
      "def adjustForInflation(quantity):\n",
      "    return quantity * (dfCpi['CPI'][0]/dfCpi['CPI'])"
     ],
     "language": "python",
     "metadata": {},
     "outputs": [],
     "prompt_number": 117
    },
    {
     "cell_type": "code",
     "collapsed": false,
     "input": [
      "oilDataPath = 'https://raw.githubusercontent.com/Sree-vathsan/CSE591-Data-Science-Project/master/regressionModel/data/Monthly_30yr/CRUDE_OIL_WTI_US_ENERGY_Monthly_198601-201410.csv'\n",
      "#CPI - Inflation Adjustment\n",
      "cpiDataPath = 'https://raw.githubusercontent.com/Sree-vathsan/CSE591-Data-Science-Project/master/regressionModel/data/Monthly_30yr/CPI_USA_Monthly_198410_201410.csv'\n",
      "\n",
      "dfOil = pd.read_csv(oilDataPath)\n",
      "dfCpi = pd.read_csv(cpiDataPath)\n",
      "dfOil['Oil_Value'] = adjustForInflation(dfOil['Oil_Value'])\n",
      "dfOil = np.around(dfOil['Oil_Value'],decimals=2)\n",
      "dfOil.head()"
     ],
     "language": "python",
     "metadata": {},
     "outputs": [
      {
       "metadata": {},
       "output_type": "pyout",
       "prompt_number": 118,
       "text": [
        "0    75.74\n",
        "1    80.53\n",
        "2    90.94\n",
        "3    97.69\n",
        "4    97.89\n",
        "Name: Oil_Value, dtype: float64"
       ]
      }
     ],
     "prompt_number": 118
    },
    {
     "cell_type": "code",
     "collapsed": false,
     "input": [
      "masterCols = []\n",
      "masterCols.append('Date')\n",
      "for i in range(1,13,1):\n",
      "    masterCols.append(str(i))\n",
      "masterCols.append('Actual Value')\n",
      "dfMaster = DataFrame(data=None, columns=masterCols)\n",
      "\n",
      "months = ['F', 'G', 'H', 'J', 'K', 'M', 'N', 'Q', 'U', 'V', 'X', 'Z']\n",
      "months = months[::-1] # reverse so that latest data comes at the top\n",
      "dateArr = []\n",
      "for year in range(2014,2005,-1):\n",
      "    mon = 12\n",
      "    for month in months:\n",
      "        dfTemp = DataFrame(data=None, columns=masterCols)\n",
      "        path = \"https://raw.githubusercontent.com/Sree-vathsan/CSE591-Data-Science-Project/master/data/futuresData/FUTURE_CL\"+month+str(year)+\".csv\"\n",
      "        df = pd.read_csv(path,nrows=12,usecols=('Date','Settle'))\n",
      "        settle = np.array(df['Settle'])\n",
      "        for i in range(1,13,1):\n",
      "            dfTemp.loc[0,str(i)] = settle[i-1]\n",
      "        dfMaster = dfMaster.append(dfTemp,ignore_index=True)\n",
      "        dateName = datetime.datetime.strptime('01'+str(mon)+str(year), \"%m%d%Y\").date()\n",
      "        mon = mon - 1\n",
      "        dateArr.append(dateName)\n",
      "dfMaster['Date'] = dateArr"
     ],
     "language": "python",
     "metadata": {},
     "outputs": [],
     "prompt_number": 119
    },
    {
     "cell_type": "markdown",
     "metadata": {},
     "source": [
      "dfMaster.head()"
     ]
    },
    {
     "cell_type": "code",
     "collapsed": false,
     "input": [
      "import statsmodels.api as sm\n",
      "from statsmodels.graphics.api import qqplot\n",
      "\n",
      "def mvLinearRegress(y, x):\n",
      "    ones = np.ones(len(x[0]))\n",
      "    X = sm.add_constant(np.column_stack((x[0], ones)))\n",
      "    for ele in x[1:]:\n",
      "        X = sm.add_constant(np.column_stack((ele, X)))\n",
      "    results = sm.OLS(y, X).fit()\n",
      "    return results\n",
      "\n",
      "def mvLinearPredict(x,res):\n",
      "    ones = np.ones(len(x[0]))\n",
      "    X = sm.add_constant(np.column_stack((x[0], ones)))\n",
      "    for ele in x[1:]:\n",
      "        X = sm.add_constant(np.column_stack((ele, X)))\n",
      "    return res.predict(X)\n",
      "\n",
      "def plot(err,c,nb,displayTitle):\n",
      "    fig, axes = plt.subplots(1, 1, figsize=(12,4))\n",
      "    axes.hist(err, color='#009999', bins=nb)\n",
      "    axes.set_ylabel('Error Frequency')\n",
      "    axes.set_xlabel('Error')\n",
      "    axes.set_title(displayTitle)"
     ],
     "language": "python",
     "metadata": {},
     "outputs": [],
     "prompt_number": 120
    },
    {
     "cell_type": "code",
     "collapsed": false,
     "input": [
      "dfMaster['Actual Value'] = dfOil\n",
      "#dfMaster\n",
      "size=len(dfMaster)\n",
      "testSize=np.int(0.4*size);\n",
      "dfMasterTrain=dfMaster[testSize:]\n",
      "dfMasterTest=dfMaster[0:testSize]\n",
      "yTrain=np.array(dfMasterTrain['Actual Value'])\n",
      "yTest=np.array(dfMasterTest['Actual Value'])\n",
      "xTrain=[]\n",
      "for i in (1,4,1):\n",
      "    xTrain.append(np.array(dfMasterTrain[str(i)]))\n",
      "\n",
      "xTest=[]\n",
      "for i in (1,4,1):\n",
      "    xTest.append(np.array(dfMasterTest[str(i)]))\n",
      "\n",
      "\n",
      "result = mvLinearRegress(yTrain, xTrain)\n",
      "result.summary()\n",
      "yPred = mvLinearPredict(xTest,result)\n",
      "\n",
      "\n",
      "errPredy= yPred-yTest\n",
      "alpha=np.mean(errPredy)\n",
      "#print (\"Mean error=\",alpha)\n",
      "\n",
      "yPred=yPred-alpha\n",
      "errPredy=yPred-yTest\n",
      "#print (\"Mean error=\",np.mean(errPredy))\n",
      "\n",
      "\n",
      "errRMSE=np.sqrt(mean_squared_error(yPred,yTest))\n",
      "errABS=np.absolute(errPredy)\n",
      "errVar=(errABS/yTest)\n",
      "\n",
      "print (\"Mean Absolute error\",np.mean(errABS))\n",
      "print (\"RMSE error\",errRMSE)\n",
      "print (\"Mean variance percentage\",np.mean(errVar))\n",
      "\n",
      "plot(errPredy/yTest,'g',20,\"Regression using futures prices\")\n",
      "\n"
     ],
     "language": "python",
     "metadata": {},
     "outputs": [
      {
       "output_type": "stream",
       "stream": "stdout",
       "text": [
        "Mean Absolute error 5.54873677505\n",
        "RMSE error 14.1477828904\n",
        "Mean variance percentage 0.058571554553\n"
       ]
      },
      {
       "output_type": "stream",
       "stream": "stderr",
       "text": [
        "/usr/lib/python2.7/dist-packages/numpy/linalg/linalg.py:970: DeprecationWarning: Implicitly casting between incompatible kinds. In a future numpy release, this will raise an error. Use casting=\"unsafe\" if this is intentional.\n",
        "  w = gufunc(a, signature=signature, extobj=extobj)\n"
       ]
      },
      {
       "metadata": {},
       "output_type": "display_data",
       "png": "[encoded data removed]",
       "text": [
        "<matplotlib.figure.Figure at 0xae8ef7cc>"
       ]
      }
     ],
     "prompt_number": 121
    },
    {
     "cell_type": "code",
     "collapsed": false,
     "input": [],
     "language": "python",
     "metadata": {},
     "outputs": [],
     "prompt_number": 121
    }
   ],
   "metadata": {}
  }
 ]
}
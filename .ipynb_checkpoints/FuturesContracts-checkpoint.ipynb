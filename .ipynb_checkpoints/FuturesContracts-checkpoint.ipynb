{
 "metadata": {
  "name": "",
  "signature": "sha256:683c2b958988a7db113b08fff07b1ea698189a20651ff432f39f92825a2231b5"
 },
 "nbformat": 3,
 "nbformat_minor": 0,
 "worksheets": [
  {
   "cells": [
    {
     "cell_type": "heading",
     "level": 3,
     "metadata": {},
     "source": [
      "Futures Contract"
     ]
    },
    {
     "cell_type": "heading",
     "level": 4,
     "metadata": {},
     "source": [
      "Import Libraries"
     ]
    },
    {
     "cell_type": "code",
     "collapsed": false,
     "input": [
      "#import required libraries\n",
      "\n",
      "import pandas as pd\n",
      "import numpy as np\n",
      "from pandas import Series, DataFrame, merge\n",
      "import datetime\n",
      "import matplotlib as mpl\n",
      "import matplotlib.pyplot as plt\n",
      "import prettyplotlib as ppl\n",
      "%matplotlib inline"
     ],
     "language": "python",
     "metadata": {},
     "outputs": [],
     "prompt_number": 63
    },
    {
     "cell_type": "code",
     "collapsed": false,
     "input": [
      "def adjustForInflation(quantity):\n",
      "    return quantity * (dfCpi['CPI'][0]/dfCpi['CPI'])"
     ],
     "language": "python",
     "metadata": {},
     "outputs": [],
     "prompt_number": 64
    },
    {
     "cell_type": "code",
     "collapsed": false,
     "input": [
      "oilDataPath = 'https://raw.githubusercontent.com/Sree-vathsan/CSE591-Data-Science-Project/master/regressionModel/data/Monthly_30yr/CRUDE_OIL_WTI_US_ENERGY_Monthly_198601-201410.csv'\n",
      "#CPI - Inflation Adjustment\n",
      "cpiDataPath = 'https://raw.githubusercontent.com/Sree-vathsan/CSE591-Data-Science-Project/master/regressionModel/data/Monthly_30yr/CPI_USA_Monthly_198410_201410.csv'\n",
      "\n",
      "dfOil = pd.read_csv(oilDataPath)\n",
      "dfCpi = pd.read_csv(cpiDataPath)\n",
      "dfOil['Oil_Value'] = adjustForInflation(dfOil['Oil_Value'])\n",
      "dfOil = np.around(dfOil['Oil_Value'],decimals=2)\n",
      "dfOil.head()"
     ],
     "language": "python",
     "metadata": {},
     "outputs": [
      {
       "metadata": {},
       "output_type": "pyout",
       "prompt_number": 65,
       "text": [
        "0    75.74\n",
        "1    80.53\n",
        "2    90.94\n",
        "3    97.69\n",
        "4    97.89\n",
        "Name: Oil_Value, dtype: float64"
       ]
      }
     ],
     "prompt_number": 65
    },
    {
     "cell_type": "code",
     "collapsed": false,
     "input": [
      "masterCols = []\n",
      "masterCols.append('Date')\n",
      "for i in range(1,13,1):\n",
      "    masterCols.append(str(i))\n",
      "masterCols.append('Actual Value')\n",
      "dfMaster = DataFrame(data=None, columns=masterCols)\n",
      "\n",
      "months = ['F', 'G', 'H', 'J', 'K', 'M', 'N', 'Q', 'U', 'V', 'X', 'Z']\n",
      "months = months[::-1] # reverse so that latest data comes at the top\n",
      "dateArr = []\n",
      "for year in range(2014,2005,-1):\n",
      "    mon = 12\n",
      "    for month in months:\n",
      "        dfTemp = DataFrame(data=None, columns=masterCols)\n",
      "        path = \"https://raw.githubusercontent.com/Sree-vathsan/CSE591-Data-Science-Project/master/data/futuresData/FUTURE_CL\"+month+str(year)+\".csv\"\n",
      "        df = pd.read_csv(path,nrows=12,usecols=('Date','Settle'))\n",
      "        settle = np.array(df['Settle'])\n",
      "        for i in range(1,13,1):\n",
      "            dfTemp.loc[0,str(i)] = settle[i-1]\n",
      "        dfMaster = dfMaster.append(dfTemp,ignore_index=True)\n",
      "        dateName = datetime.datetime.strptime('01'+str(mon)+str(year), \"%m%d%Y\").date()\n",
      "        mon = mon - 1\n",
      "        dateArr.append(dateName)\n",
      "dfMaster['Date'] = dateArr"
     ],
     "language": "python",
     "metadata": {},
     "outputs": [],
     "prompt_number": 66
    },
    {
     "cell_type": "markdown",
     "metadata": {},
     "source": [
      "dfMaster.head()"
     ]
    },
    {
     "cell_type": "code",
     "collapsed": false,
     "input": [
      "import statsmodels.api as sm\n",
      "from statsmodels.graphics.api import qqplot\n",
      "\n",
      "def mvLinearRegress(y, x):\n",
      "    ones = np.ones(len(x[0]))\n",
      "    X = sm.add_constant(np.column_stack((x[0], ones)))\n",
      "    for ele in x[1:]:\n",
      "        X = sm.add_constant(np.column_stack((ele, X)))\n",
      "    results = sm.OLS(y, X).fit()\n",
      "    return results\n",
      "\n",
      "def mvLinearPredict(x,res):\n",
      "    ones = np.ones(len(x[0]))\n",
      "    X = sm.add_constant(np.column_stack((x[0], ones)))\n",
      "    for ele in x[1:]:\n",
      "        X = sm.add_constant(np.column_stack((ele, X)))\n",
      "    return res.predict(X)\n"
     ],
     "language": "python",
     "metadata": {},
     "outputs": [],
     "prompt_number": 67
    },
    {
     "cell_type": "code",
     "collapsed": false,
     "input": [
      "dfMaster['Actual Value'] = dfOil\n",
      "#dfMaster\n",
      "size=len(dfMaster)\n",
      "testSize=np.int(0.2*size);\n",
      "dfMasterTrain=dfMaster[testSize:]\n",
      "dfMasterTest=dfMaster[0:testSize]\n",
      "yTrain=np.array(dfMasterTrain['Actual Value'])\n",
      "yTest=np.array(dfMasterTest['Actual Value'])\n",
      "xTrain=[]\n",
      "for i in (1,12,1):\n",
      "    xTrain.append(np.array(dfMasterTrain[str(i)]))\n",
      "\n",
      "xTest=[]\n",
      "for i in (1,12,1):\n",
      "    xTest.append(np.array(dfMasterTest[str(i)]))\n",
      "\n",
      "\n",
      "result = mvLinearRegress(yTrain, xTrain)\n",
      "yPred = mvLinearPredict(xTest,result)\n",
      "\n",
      "errPredy= yPred-yTest\n",
      "print (\"Mean error=\",np.mean(errPredy))\n",
      "    \n",
      "    "
     ],
     "language": "python",
     "metadata": {},
     "outputs": [
      {
       "ename": "NameError",
       "evalue": "global name 'sm' is not defined",
       "output_type": "pyerr",
       "traceback": [
        "\u001b[1;31m---------------------------------------------------------------------------\u001b[0m\n\u001b[1;31mNameError\u001b[0m                                 Traceback (most recent call last)",
        "\u001b[1;32m<ipython-input-69-cea305c82fe8>\u001b[0m in \u001b[0;36m<module>\u001b[1;34m()\u001b[0m\n\u001b[0;32m     16\u001b[0m \u001b[1;33m\u001b[0m\u001b[0m\n\u001b[0;32m     17\u001b[0m \u001b[1;33m\u001b[0m\u001b[0m\n\u001b[1;32m---> 18\u001b[1;33m \u001b[0mresult\u001b[0m \u001b[1;33m=\u001b[0m \u001b[0mmvLinearRegress\u001b[0m\u001b[1;33m(\u001b[0m\u001b[0myTrain\u001b[0m\u001b[1;33m,\u001b[0m \u001b[0mxTrain\u001b[0m\u001b[1;33m)\u001b[0m\u001b[1;33m\u001b[0m\u001b[0m\n\u001b[0m\u001b[0;32m     19\u001b[0m \u001b[0myPred\u001b[0m \u001b[1;33m=\u001b[0m \u001b[0mmvLinearPredict\u001b[0m\u001b[1;33m(\u001b[0m\u001b[0mxTest\u001b[0m\u001b[1;33m,\u001b[0m\u001b[0mresult\u001b[0m\u001b[1;33m)\u001b[0m\u001b[1;33m\u001b[0m\u001b[0m\n\u001b[0;32m     20\u001b[0m \u001b[1;33m\u001b[0m\u001b[0m\n",
        "\u001b[1;32m<ipython-input-67-79ffbb3173b5>\u001b[0m in \u001b[0;36mmvLinearRegress\u001b[1;34m(y, x)\u001b[0m\n\u001b[0;32m      1\u001b[0m \u001b[1;32mdef\u001b[0m \u001b[0mmvLinearRegress\u001b[0m\u001b[1;33m(\u001b[0m\u001b[0my\u001b[0m\u001b[1;33m,\u001b[0m \u001b[0mx\u001b[0m\u001b[1;33m)\u001b[0m\u001b[1;33m:\u001b[0m\u001b[1;33m\u001b[0m\u001b[0m\n\u001b[0;32m      2\u001b[0m     \u001b[0mones\u001b[0m \u001b[1;33m=\u001b[0m \u001b[0mnp\u001b[0m\u001b[1;33m.\u001b[0m\u001b[0mones\u001b[0m\u001b[1;33m(\u001b[0m\u001b[0mlen\u001b[0m\u001b[1;33m(\u001b[0m\u001b[0mx\u001b[0m\u001b[1;33m[\u001b[0m\u001b[1;36m0\u001b[0m\u001b[1;33m]\u001b[0m\u001b[1;33m)\u001b[0m\u001b[1;33m)\u001b[0m\u001b[1;33m\u001b[0m\u001b[0m\n\u001b[1;32m----> 3\u001b[1;33m     \u001b[0mX\u001b[0m \u001b[1;33m=\u001b[0m \u001b[0msm\u001b[0m\u001b[1;33m.\u001b[0m\u001b[0madd_constant\u001b[0m\u001b[1;33m(\u001b[0m\u001b[0mnp\u001b[0m\u001b[1;33m.\u001b[0m\u001b[0mcolumn_stack\u001b[0m\u001b[1;33m(\u001b[0m\u001b[1;33m(\u001b[0m\u001b[0mx\u001b[0m\u001b[1;33m[\u001b[0m\u001b[1;36m0\u001b[0m\u001b[1;33m]\u001b[0m\u001b[1;33m,\u001b[0m \u001b[0mones\u001b[0m\u001b[1;33m)\u001b[0m\u001b[1;33m)\u001b[0m\u001b[1;33m)\u001b[0m\u001b[1;33m\u001b[0m\u001b[0m\n\u001b[0m\u001b[0;32m      4\u001b[0m     \u001b[1;32mfor\u001b[0m \u001b[0mele\u001b[0m \u001b[1;32min\u001b[0m \u001b[0mx\u001b[0m\u001b[1;33m[\u001b[0m\u001b[1;36m1\u001b[0m\u001b[1;33m:\u001b[0m\u001b[1;33m]\u001b[0m\u001b[1;33m:\u001b[0m\u001b[1;33m\u001b[0m\u001b[0m\n\u001b[0;32m      5\u001b[0m         \u001b[0mX\u001b[0m \u001b[1;33m=\u001b[0m \u001b[0msm\u001b[0m\u001b[1;33m.\u001b[0m\u001b[0madd_constant\u001b[0m\u001b[1;33m(\u001b[0m\u001b[0mnp\u001b[0m\u001b[1;33m.\u001b[0m\u001b[0mcolumn_stack\u001b[0m\u001b[1;33m(\u001b[0m\u001b[1;33m(\u001b[0m\u001b[0mele\u001b[0m\u001b[1;33m,\u001b[0m \u001b[0mX\u001b[0m\u001b[1;33m)\u001b[0m\u001b[1;33m)\u001b[0m\u001b[1;33m)\u001b[0m\u001b[1;33m\u001b[0m\u001b[0m\n",
        "\u001b[1;31mNameError\u001b[0m: global name 'sm' is not defined"
       ]
      }
     ],
     "prompt_number": 69
    },
    {
     "cell_type": "code",
     "collapsed": false,
     "input": [],
     "language": "python",
     "metadata": {},
     "outputs": []
    }
   ],
   "metadata": {}
  }
 ]
}
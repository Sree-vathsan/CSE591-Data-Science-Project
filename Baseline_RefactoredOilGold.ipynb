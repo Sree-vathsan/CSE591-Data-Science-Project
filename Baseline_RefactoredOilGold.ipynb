{
 "metadata": {
  "name": "baseline_refactoredoilgold.ipynb",
  "signature": "sha256:5818dab98d9cdb322f7d054c041bb5ad2424e6461ad064d7177152b8f30af1ab"
 },
 "nbformat": 3,
 "nbformat_minor": 0,
 "worksheets": [
  {
   "cells": [
    {
     "cell_type": "markdown",
     "metadata": {},
     "source": [
      "#Baseline Model - Oil and Gold"
     ]
    },
    {
     "cell_type": "markdown",
     "metadata": {},
     "source": [
      "### Baseline Model \n",
      "* 0.0 - Price remains constant as last month\n",
      "* 0.1 - Price is average of last k months\n",
      "* 0.2 - Price is calculated using a autoregressive model where the co-efficients are determined using PSO swarm algorithm.\n",
      "* 0.3 - Weighted Average of the last k months. Weight of the ith month in the history is (k-i+1)\n",
      "* 0.4 - Cubic Weighted Average of the last k months. Weight of the ith month in the history is (k-i+1)^3\n"
     ]
    },
    {
     "cell_type": "code",
     "collapsed": false,
     "input": [
      "#Import needed library\n",
      "import numpy as np\n",
      "from __future__ import print_function\n",
      "import prettyplotlib as ppl\n",
      "import matplotlib as mpl\n",
      "import matplotlib.pyplot as plt\n",
      "import pandas as pd\n",
      "from pandas import Series, DataFrame\n",
      "from sklearn.metrics import mean_squared_error\n",
      "from math import sqrt\n",
      "from IPython.core.display import HTML\n",
      "import brewer2mpl\n",
      "%matplotlib inline"
     ],
     "language": "python",
     "metadata": {},
     "outputs": [],
     "prompt_number": 1
    },
    {
     "cell_type": "code",
     "collapsed": false,
     "input": [
      "#Monthly data for past 30 years\n",
      "\n",
      "#Oil and Gold\n",
      "oilDataPath = 'https://raw.githubusercontent.com/Sree-vathsan/CSE591-Data-Science-Project/master/regressionModel/data/Monthly_30yr/CRUDE_OIL_WTI_US_ENERGY_Monthly_198601-201410.csv'\n",
      "goldDataPath = 'https://raw.githubusercontent.com/Sree-vathsan/CSE591-Data-Science-Project/master/regressionModel/data/Monthly_30yr/GOLD_Montly_198410_201410.csv'\n",
      "\n",
      "#CPI - Inflation Adjustment\n",
      "cpiDataPath = 'https://raw.githubusercontent.com/Sree-vathsan/CSE591-Data-Science-Project/master/regressionModel/data/Monthly_30yr/CPI_USA_Monthly_198410_201410.csv'\n"
     ],
     "language": "python",
     "metadata": {},
     "outputs": [],
     "prompt_number": 2
    },
    {
     "cell_type": "code",
     "collapsed": false,
     "input": [
      "#Inflation Adjusted\n",
      "def adjustForInflation(quantity):\n",
      "    return quantity * (dfCpi['CPI'][0]/dfCpi['CPI']) "
     ],
     "language": "python",
     "metadata": {},
     "outputs": [],
     "prompt_number": 3
    },
    {
     "cell_type": "heading",
     "level": 3,
     "metadata": {},
     "source": [
      "Input: Select Oil or Gold (0 - Oil and 1 - Gold)"
     ]
    },
    {
     "cell_type": "code",
     "collapsed": false,
     "input": [
      "choice = 0\n",
      "candidatesList = ['Oil_Value', 'Gold_Value']\n",
      "kMonths = 3"
     ],
     "language": "python",
     "metadata": {},
     "outputs": [],
     "prompt_number": 4
    },
    {
     "cell_type": "code",
     "collapsed": false,
     "input": [
      "#Read CSV to pandas data frame\n",
      "if choice == 0:\n",
      "    dfMaster = pd.read_csv(oilDataPath)\n",
      "else:\n",
      "    dfMaster = pd.read_csv(goldDataPath)\n",
      "dfCpi = pd.read_csv(cpiDataPath)\n",
      "\n",
      "#Adjust to Inflation\n",
      "dfMaster[candidatesList[choice]] = adjustForInflation(dfMaster[candidatesList[choice]])"
     ],
     "language": "python",
     "metadata": {},
     "outputs": [],
     "prompt_number": 5
    },
    {
     "cell_type": "code",
     "collapsed": false,
     "input": [
      "#slice only last 9 years for testing\n",
      "dfMaster = dfMaster[:107]\n",
      "dfMaster.head()"
     ],
     "language": "python",
     "metadata": {},
     "outputs": [
      {
       "html": [
        "<div style=\"max-height:1000px;max-width:1500px;overflow:auto;\">\n",
        "<table border=\"1\" class=\"dataframe\">\n",
        "  <thead>\n",
        "    <tr style=\"text-align: right;\">\n",
        "      <th></th>\n",
        "      <th>Date</th>\n",
        "      <th>Oil_Value</th>\n",
        "    </tr>\n",
        "  </thead>\n",
        "  <tbody>\n",
        "    <tr>\n",
        "      <th>0</th>\n",
        "      <td> 11/30/2014</td>\n",
        "      <td> 75.740000</td>\n",
        "    </tr>\n",
        "    <tr>\n",
        "      <th>1</th>\n",
        "      <td> 10/31/2014</td>\n",
        "      <td> 80.530000</td>\n",
        "    </tr>\n",
        "    <tr>\n",
        "      <th>2</th>\n",
        "      <td>  9/30/2014</td>\n",
        "      <td> 90.940956</td>\n",
        "    </tr>\n",
        "    <tr>\n",
        "      <th>3</th>\n",
        "      <td>  8/31/2014</td>\n",
        "      <td> 97.687610</td>\n",
        "    </tr>\n",
        "    <tr>\n",
        "      <th>4</th>\n",
        "      <td>  7/31/2014</td>\n",
        "      <td> 97.893153</td>\n",
        "    </tr>\n",
        "  </tbody>\n",
        "</table>\n",
        "</div>"
       ],
       "metadata": {},
       "output_type": "pyout",
       "prompt_number": 6,
       "text": [
        "         Date  Oil_Value\n",
        "0  11/30/2014  75.740000\n",
        "1  10/31/2014  80.530000\n",
        "2   9/30/2014  90.940956\n",
        "3   8/31/2014  97.687610\n",
        "4   7/31/2014  97.893153"
       ]
      }
     ],
     "prompt_number": 6
    },
    {
     "cell_type": "code",
     "collapsed": false,
     "input": [
      "#Naming the model\n",
      "def getModelName(modelNo):\n",
      "    if modelNo == \"0.0\":\n",
      "        return \"Price remains constant as last month\"\n",
      "    elif modelNo == \"0.1\":\n",
      "        return \"Price is average of last\" +str(kMonths)+ \" months\"\n",
      "    elif modelNo == \"0.2\":\n",
      "        return \"Price is calculated using a autoregressive model where the co-efficients are determined using PSO swarm algorithm.\"\n",
      "    elif modelNo == \"0.3\":\n",
      "        return \"Weighted Average of the last \"+str(kMonths)+\" months. Weight of the ith month in the history is (\"+str(kMonths)+\"-i+1)\"\n",
      "    elif modelNo == \"0.4\":\n",
      "        return \"Cubic Weighted Average of the last \"+str(kMonths)+\" months. Weight of the ith month in the history is (\"+str(kMonths)+\"-i+1)^3\"\n",
      "    else:\n",
      "        return \"New Baseline Model, Yet to be defined\""
     ],
     "language": "python",
     "metadata": {},
     "outputs": [],
     "prompt_number": 7
    },
    {
     "cell_type": "code",
     "collapsed": false,
     "input": [
      "#Model\n",
      "def performPrediction(y,modelNo,k):\n",
      "    n = len(y)\n",
      "    pred_y = np.copy(y)\n",
      "    if modelNo == \"0.0\":\n",
      "        print (\"Model 0.0\")\n",
      "        for i in range(0,n,1):\n",
      "            if(i<n-k):\n",
      "                pred_y[i]=y[i+1]\n",
      "            else:\n",
      "                pred_y[i]=y[i]\n",
      "    elif modelNo == \"0.1\":\n",
      "        print (\"Model 0.1\")\n",
      "        for i in range(0,n,1):\n",
      "            if (i<n-k):\n",
      "                pred_y[i]=0\n",
      "                for j in range(1,k+1,1):\n",
      "                    pred_y[i]=pred_y[i] + y[i+j]\n",
      "                pred_y[i]=pred_y[i]/k\n",
      "            else:\n",
      "                pred_y[i] = y[i]\n",
      "    elif modelNo == \"0.2\":\n",
      "        print (\"Model 0.2\")\n",
      "        for i in range(0,n,1):\n",
      "            if (i<n-k):\n",
      "                pred_y[i] = 0.976*y[i+1] + 0.01373*y[i+2] + 0.1157\n",
      "            else:\n",
      "                pred_y[i] = y[i]\n",
      "    elif modelNo == \"0.3\":\n",
      "        print (\"Model 0.3\")\n",
      "        for i in range(0,n,1):\n",
      "            if(i<n-k):\n",
      "                pred_y[i]=0\n",
      "                for j in range(1,k+1,1):\n",
      "                    pred_y[i]=pred_y[i]+(y[i+j]*(k-j+1))\n",
      "                pred_y[i]=(2*pred_y[i])/(k*(k+1))\n",
      "            else:\n",
      "                pred_y[i]=y[i]\n",
      "    elif modelNo == \"0.4\":\n",
      "        print (\"Model 0.4\")\n",
      "        cubic = (k*(k+1))/2\n",
      "        cubic = cubic**2\n",
      "        for i in range(0,n,1):\n",
      "            if(i<n-k):\n",
      "                pred_y[i]=0\n",
      "                for j in range(1,k+1,1):\n",
      "                    factor=k-j+1\n",
      "                    factor=factor**3\n",
      "                    pred_y[i]=pred_y[i]+(y[i+j]*factor)\n",
      "                pred_y[i]=((pred_y[i])/cubic)\n",
      "            else:\n",
      "                pred_y[i]=y[i]\n",
      "    else:\n",
      "        print (\"Wrong Model\")\n",
      "    return pred_y"
     ],
     "language": "python",
     "metadata": {},
     "outputs": [],
     "prompt_number": 8
    },
    {
     "cell_type": "heading",
     "level": 3,
     "metadata": {},
     "source": [
      "Histogram Error Plot"
     ]
    },
    {
     "cell_type": "code",
     "collapsed": false,
     "input": [
      "#Plot the error histogram\n",
      "colors = brewer2mpl.get_map('Set1', 'qualitative', 8).mpl_colors\n",
      "def plotErrorHistogram(error,nBins,modelName):\n",
      "    fig, axes = ppl.subplots(1, 1, figsize=(9,6))\n",
      "    ppl.hist(error, bins=nBins, color=colors[1], grid='y')\n",
      "    axes.set_ylabel('Error Frequency')\n",
      "    axes.set_xlabel('Error')\n",
      "    axes.set_title(modelName)\n",
      "    plt.savefig(modelName+'.png')"
     ],
     "language": "python",
     "metadata": {},
     "outputs": [],
     "prompt_number": 9
    },
    {
     "cell_type": "heading",
     "level": 3,
     "metadata": {},
     "source": [
      "Compute Errors"
     ]
    },
    {
     "cell_type": "code",
     "collapsed": false,
     "input": [
      "#Error Correction\n",
      "def computeErrorCorrectionFactor(pred,yActual):\n",
      "    err_corr = (np.mean((pred - yActual)))\n",
      "    return err_corr\n",
      "\n",
      "def computeCorrectedMean(newPredy,yActual):\n",
      "    return np.mean((newPredy - yActual))\n",
      "\n",
      "def computeCorrectedSD(newPredy,yActual):\n",
      "    return round(np.std((newPredy-yActual)/yActual),5)\n",
      "\n",
      "def computeNewPrediction(pred,errCorrection):\n",
      "    newPredy = pred - errCorrection\n",
      "    #print(\"Mean is \" + str(computeCorrectedMean(new_pred,actual)))\n",
      "    #print(\"Standard Deviation is \" + str(computeCorrectedSD(new_pred,actual)))\n",
      "    return newPredy\n",
      "\n",
      "def computeRelativeError(newPredy, yActual):\n",
      "    errRel = 100*(np.absolute(newPredy - yActual)/yActual)\n",
      "    return errRel\n",
      "\n",
      "def computeMeanSquareError(newPredy, yActual):\n",
      "    errMSE = mean_squared_error(yActual,newPredy)\n",
      "    return round(errMSE,2)\n",
      "\n",
      "def computerRMSError(newPredy, yActual):\n",
      "    errRMSe = sqrt(mean_squared_error(yActual,newPredy))\n",
      "    return round(errRMSe,2)\n",
      "\n",
      "def computeAbsoluteError(newPredy, yActual):\n",
      "    return np.absolute(newPredy - yActual)\n",
      "\n",
      "def computeProbability(newPredy,yActual, newSD):\n",
      "    pos = 0\n",
      "    for i in range(0,len(newPredy)):\n",
      "        if(np.absolute((newPredy[i]-yActual[i])/yActual[i]) <= np.absolute(newSD)):\n",
      "            pos += 1\n",
      "    conf = round((1. * pos/len(newPredy) ),5)\n",
      "    return conf\n",
      "    \n",
      "def computeErrors(yPred, yActual,modelNo):\n",
      "    errCorr = computeErrorCorrectionFactor(yPred,yActual)\n",
      "    newPredy = computeNewPrediction(yPred,errCorr)\n",
      "    newMean = computeCorrectedMean(newPredy,yActual)\n",
      "    newSD = computeCorrectedSD(newPredy, yActual)\n",
      "    errRel = computeRelativeError(newPredy, yActual)\n",
      "    errRMS = computerRMSError(newPredy, yActual)\n",
      "    errAbs = computeAbsoluteError(newPredy, yActual)\n",
      "    errMSE = computeMeanSquareError(newPredy, yActual)\n",
      "    prob = computeProbability(newPredy,yActual,newSD)\n",
      "    #Mean Computations\n",
      "    meanErrRel = np.mean(errRel)\n",
      "    meanErrRel = round(meanErrRel,2)\n",
      "    meanErrAbs = np.mean(errAbs)\n",
      "    meanErrAbs = round(meanErrAbs,2)\n",
      "    \n",
      "    #Plot Relative Error Distributions\n",
      "    #Uncomment the below line during the report\n",
      "    #plotErrorHistogram(((newPredy-yActual)/yActual),15,getModelName(modelNo))\n",
      "    \n",
      "    dfErr = DataFrame(data=None, columns=['Model','Mean Relative Error', 'Mean Absolute Error', \\\n",
      "                                         'RMS Error', 'MSE', 'Standard Deviation', 'Probability'])\n",
      "    dfErr.loc[0,'Model'] = getModelName(modelNo)\n",
      "    dfErr.loc[0,'Mean Relative Error'] = meanErrRel\n",
      "    dfErr.loc[0,'Mean Absolute Error'] = meanErrAbs\n",
      "    dfErr.loc[0,'RMS Error'] = errRMS\n",
      "    dfErr.loc[0,'MSE'] = errMSE\n",
      "    dfErr.loc[0,'Standard Deviation'] = newSD\n",
      "    dfErr.loc[0,'Probability'] = prob\n",
      "    \n",
      "    return dfErr"
     ],
     "language": "python",
     "metadata": {},
     "outputs": [],
     "prompt_number": 10
    },
    {
     "cell_type": "heading",
     "level": 3,
     "metadata": {},
     "source": [
      "Baseline Models"
     ]
    },
    {
     "cell_type": "code",
     "collapsed": false,
     "input": [
      "def baselineModel(modelNo):\n",
      "    x = dfMaster['Date']\n",
      "    yActual = np.array(dfMaster[candidatesList[choice]])\n",
      "    yPred = performPrediction(yActual,modelNo,kMonths)\n",
      "    yPredNew = predictNextMonth(yActual, modelNo)\n",
      "    print(\"The predicted value for next month is \"+str(yPredNew[0]))\n",
      "    return computeErrors(yPred, yActual,modelNo)"
     ],
     "language": "python",
     "metadata": {},
     "outputs": [],
     "prompt_number": 11
    },
    {
     "cell_type": "heading",
     "level": 3,
     "metadata": {},
     "source": [
      "Predicting Next Month Price"
     ]
    },
    {
     "cell_type": "code",
     "collapsed": false,
     "input": [
      "def computePrediction(yPredNew, modelNo, k):\n",
      "    if modelNo == \"0.0\":\n",
      "        yPredNew[0] = yPredNew[1]\n",
      "    elif modelNo == \"0.1\":\n",
      "        sumi = 0.\n",
      "        for i in range(1,k+1,1):\n",
      "            sumi = sumi + yPredNew[i]\n",
      "        yPredNew[0] = round(sumi/k,2)\n",
      "    elif modelNo == \"0.2\":\n",
      "        yPredNew[0] = 0.976*yPredNew[1] + 0.01373*yPredNew[2] + 0.1157\n",
      "    elif modelNo == \"0.3\":\n",
      "        wsum = 0.\n",
      "        for i in range(0,k+1,1):\n",
      "            wsum = wsum + (yPredNew[i+1] * (k-i))\n",
      "        denom = (k*(k+1))/2\n",
      "        yPredNew[0] = round(wsum/denom,2)\n",
      "    elif modelNo == \"0.4\":\n",
      "        csum = 0.\n",
      "        for i in range(0,k+1,1):\n",
      "            factor = (k-i) ** 3\n",
      "            csum = csum + (yPredNew[i+1] * factor)\n",
      "        denom = (k*(k+1))/2\n",
      "        denom = denom ** 2\n",
      "        yPredNew[0] = round(csum/denom,2)\n",
      "    return yPredNew\n",
      "\n",
      "def predictNextMonth(yActual, modelNo):\n",
      "    yPredNew = np.copy(yActual)\n",
      "    yPredNew = np.insert(yPredNew,0,0)\n",
      "    #compute for current month\n",
      "    yPredNew = computePrediction(yPredNew, modelNo, kMonths)\n",
      "    yPredNew = np.insert(yPredNew,0,0)\n",
      "    #compute for next month\n",
      "    yPredNew = computePrediction(yPredNew, modelNo, kMonths)    \n",
      "    return yPredNew\n"
     ],
     "language": "python",
     "metadata": {},
     "outputs": [],
     "prompt_number": 12
    },
    {
     "cell_type": "heading",
     "level": 3,
     "metadata": {},
     "source": [
      "Run the model"
     ]
    },
    {
     "cell_type": "code",
     "collapsed": false,
     "input": [
      "#a1,a2,a3,a4,a5,a6 = baselineModel('0.0')\n",
      "baselineModel('0.0')"
     ],
     "language": "python",
     "metadata": {},
     "outputs": [
      {
       "output_type": "stream",
       "stream": "stdout",
       "text": [
        "Model 0.0\n",
        "The predicted value for next month is 75.74\n"
       ]
      },
      {
       "html": [
        "<div style=\"max-height:1000px;max-width:1500px;overflow:auto;\">\n",
        "<table border=\"1\" class=\"dataframe\">\n",
        "  <thead>\n",
        "    <tr style=\"text-align: right;\">\n",
        "      <th></th>\n",
        "      <th>Model</th>\n",
        "      <th>Mean Relative Error</th>\n",
        "      <th>Mean Absolute Error</th>\n",
        "      <th>RMS Error</th>\n",
        "      <th>MSE</th>\n",
        "      <th>Standard Deviation</th>\n",
        "      <th>Probability</th>\n",
        "    </tr>\n",
        "  </thead>\n",
        "  <tbody>\n",
        "    <tr>\n",
        "      <th>0</th>\n",
        "      <td> Price remains constant as last month</td>\n",
        "      <td> 6.58</td>\n",
        "      <td> 5.93</td>\n",
        "      <td> 7.85</td>\n",
        "      <td> 61.66</td>\n",
        "      <td> 0.09044</td>\n",
        "      <td> 0.78505</td>\n",
        "    </tr>\n",
        "  </tbody>\n",
        "</table>\n",
        "</div>"
       ],
       "metadata": {},
       "output_type": "pyout",
       "prompt_number": 13,
       "text": [
        "                                  Model Mean Relative Error  \\\n",
        "0  Price remains constant as last month                6.58   \n",
        "\n",
        "  Mean Absolute Error RMS Error    MSE Standard Deviation Probability  \n",
        "0                5.93      7.85  61.66            0.09044     0.78505  "
       ]
      }
     ],
     "prompt_number": 13
    },
    {
     "cell_type": "code",
     "collapsed": false,
     "input": [
      "baselineModel('0.1')"
     ],
     "language": "python",
     "metadata": {},
     "outputs": [
      {
       "output_type": "stream",
       "stream": "stdout",
       "text": [
        "Model 0.1\n",
        "The predicted value for next month is 79.56\n"
       ]
      },
      {
       "html": [
        "<div style=\"max-height:1000px;max-width:1500px;overflow:auto;\">\n",
        "<table border=\"1\" class=\"dataframe\">\n",
        "  <thead>\n",
        "    <tr style=\"text-align: right;\">\n",
        "      <th></th>\n",
        "      <th>Model</th>\n",
        "      <th>Mean Relative Error</th>\n",
        "      <th>Mean Absolute Error</th>\n",
        "      <th>RMS Error</th>\n",
        "      <th>MSE</th>\n",
        "      <th>Standard Deviation</th>\n",
        "      <th>Probability</th>\n",
        "    </tr>\n",
        "  </thead>\n",
        "  <tbody>\n",
        "    <tr>\n",
        "      <th>0</th>\n",
        "      <td> Price is average of last3 months</td>\n",
        "      <td> 9.28</td>\n",
        "      <td> 7.98</td>\n",
        "      <td> 11.3</td>\n",
        "      <td> 127.77</td>\n",
        "      <td> 0.14569</td>\n",
        "      <td> 0.84112</td>\n",
        "    </tr>\n",
        "  </tbody>\n",
        "</table>\n",
        "</div>"
       ],
       "metadata": {},
       "output_type": "pyout",
       "prompt_number": 14,
       "text": [
        "                              Model Mean Relative Error Mean Absolute Error  \\\n",
        "0  Price is average of last3 months                9.28                7.98   \n",
        "\n",
        "  RMS Error     MSE Standard Deviation Probability  \n",
        "0      11.3  127.77            0.14569     0.84112  "
       ]
      }
     ],
     "prompt_number": 14
    },
    {
     "cell_type": "code",
     "collapsed": false,
     "input": [
      "baselineModel('0.2')"
     ],
     "language": "python",
     "metadata": {},
     "outputs": [
      {
       "output_type": "stream",
       "stream": "stdout",
       "text": [
        "Model 0.2\n",
        "The predicted value for next month is 74.4957802944\n"
       ]
      },
      {
       "html": [
        "<div style=\"max-height:1000px;max-width:1500px;overflow:auto;\">\n",
        "<table border=\"1\" class=\"dataframe\">\n",
        "  <thead>\n",
        "    <tr style=\"text-align: right;\">\n",
        "      <th></th>\n",
        "      <th>Model</th>\n",
        "      <th>Mean Relative Error</th>\n",
        "      <th>Mean Absolute Error</th>\n",
        "      <th>RMS Error</th>\n",
        "      <th>MSE</th>\n",
        "      <th>Standard Deviation</th>\n",
        "      <th>Probability</th>\n",
        "    </tr>\n",
        "  </thead>\n",
        "  <tbody>\n",
        "    <tr>\n",
        "      <th>0</th>\n",
        "      <td> Price is calculated using a autoregressive mod...</td>\n",
        "      <td> 6.59</td>\n",
        "      <td> 5.93</td>\n",
        "      <td> 7.84</td>\n",
        "      <td> 61.51</td>\n",
        "      <td> 0.09053</td>\n",
        "      <td> 0.79439</td>\n",
        "    </tr>\n",
        "  </tbody>\n",
        "</table>\n",
        "</div>"
       ],
       "metadata": {},
       "output_type": "pyout",
       "prompt_number": 15,
       "text": [
        "                                               Model Mean Relative Error  \\\n",
        "0  Price is calculated using a autoregressive mod...                6.59   \n",
        "\n",
        "  Mean Absolute Error RMS Error    MSE Standard Deviation Probability  \n",
        "0                5.93      7.84  61.51            0.09053     0.79439  "
       ]
      }
     ],
     "prompt_number": 15
    },
    {
     "cell_type": "code",
     "collapsed": false,
     "input": [
      "baselineModel('0.3')"
     ],
     "language": "python",
     "metadata": {},
     "outputs": [
      {
       "output_type": "stream",
       "stream": "stdout",
       "text": [
        "Model 0.3\n",
        "The predicted value for next month is 78.6\n"
       ]
      },
      {
       "html": [
        "<div style=\"max-height:1000px;max-width:1500px;overflow:auto;\">\n",
        "<table border=\"1\" class=\"dataframe\">\n",
        "  <thead>\n",
        "    <tr style=\"text-align: right;\">\n",
        "      <th></th>\n",
        "      <th>Model</th>\n",
        "      <th>Mean Relative Error</th>\n",
        "      <th>Mean Absolute Error</th>\n",
        "      <th>RMS Error</th>\n",
        "      <th>MSE</th>\n",
        "      <th>Standard Deviation</th>\n",
        "      <th>Probability</th>\n",
        "    </tr>\n",
        "  </thead>\n",
        "  <tbody>\n",
        "    <tr>\n",
        "      <th>0</th>\n",
        "      <td> Weighted Average of the last 3 months. Weight ...</td>\n",
        "      <td> 8.19</td>\n",
        "      <td> 7.15</td>\n",
        "      <td> 9.95</td>\n",
        "      <td> 98.92</td>\n",
        "      <td> 0.12427</td>\n",
        "      <td> 0.81308</td>\n",
        "    </tr>\n",
        "  </tbody>\n",
        "</table>\n",
        "</div>"
       ],
       "metadata": {},
       "output_type": "pyout",
       "prompt_number": 16,
       "text": [
        "                                               Model Mean Relative Error  \\\n",
        "0  Weighted Average of the last 3 months. Weight ...                8.19   \n",
        "\n",
        "  Mean Absolute Error RMS Error    MSE Standard Deviation Probability  \n",
        "0                7.15      9.95  98.92            0.12427     0.81308  "
       ]
      }
     ],
     "prompt_number": 16
    },
    {
     "cell_type": "code",
     "collapsed": false,
     "input": [
      "baselineModel('0.4')"
     ],
     "language": "python",
     "metadata": {},
     "outputs": [
      {
       "output_type": "stream",
       "stream": "stdout",
       "text": [
        "Model 0.4\n",
        "The predicted value for next month is 76.99\n"
       ]
      },
      {
       "html": [
        "<div style=\"max-height:1000px;max-width:1500px;overflow:auto;\">\n",
        "<table border=\"1\" class=\"dataframe\">\n",
        "  <thead>\n",
        "    <tr style=\"text-align: right;\">\n",
        "      <th></th>\n",
        "      <th>Model</th>\n",
        "      <th>Mean Relative Error</th>\n",
        "      <th>Mean Absolute Error</th>\n",
        "      <th>RMS Error</th>\n",
        "      <th>MSE</th>\n",
        "      <th>Standard Deviation</th>\n",
        "      <th>Probability</th>\n",
        "    </tr>\n",
        "  </thead>\n",
        "  <tbody>\n",
        "    <tr>\n",
        "      <th>0</th>\n",
        "      <td> Cubic Weighted Average of the last 3 months. W...</td>\n",
        "      <td> 7.17</td>\n",
        "      <td> 6.37</td>\n",
        "      <td> 8.58</td>\n",
        "      <td> 73.7</td>\n",
        "      <td> 0.1025</td>\n",
        "      <td> 0.80374</td>\n",
        "    </tr>\n",
        "  </tbody>\n",
        "</table>\n",
        "</div>"
       ],
       "metadata": {},
       "output_type": "pyout",
       "prompt_number": 17,
       "text": [
        "                                               Model Mean Relative Error  \\\n",
        "0  Cubic Weighted Average of the last 3 months. W...                7.17   \n",
        "\n",
        "  Mean Absolute Error RMS Error   MSE Standard Deviation Probability  \n",
        "0                6.37      8.58  73.7             0.1025     0.80374  "
       ]
      }
     ],
     "prompt_number": 17
    }
   ],
   "metadata": {}
  }
 ]
}
{
 "metadata": {
  "name": "baseline_refactoredoilgold.ipynb",
  "signature": "sha256:5818dab98d9cdb322f7d054c041bb5ad2424e6461ad064d7177152b8f30af1ab"
 },
 "nbformat": 3,
 "nbformat_minor": 0,
 "worksheets": [
  {
   "cells": [
    {
     "cell_type": "markdown",
     "metadata": {},
     "source": [
      "#Baseline Model - Oil and Gold"
     ]
    },
    {
     "cell_type": "markdown",
     "metadata": {},
     "source": [
      "### Baseline Model \n",
      "* 0.0 - Price remains constant as last month\n",
      "* 0.1 - Price is average of last k months\n",
      "* 0.2 - Price is calculated using a autoregressive model where the co-efficients are determined using PSO swarm algorithm.\n",
      "* 0.3 - Weighted Average of the last k months. Weight of the ith month in the history is (k-i+1)\n",
      "* 0.4 - Cubic Weighted Average of the last k months. Weight of the ith month in the history is (k-i+1)^3\n"
     ]
    },
    {
     "cell_type": "code",
     "collapsed": false,
     "input": [
      "#Import needed library\n",
      "import numpy as np\n",
      "from __future__ import print_function\n",
      "import prettyplotlib as ppl\n",
      "import matplotlib as mpl\n",
      "import matplotlib.pyplot as plt\n",
      "import pandas as pd\n",
      "from pandas import Series, DataFrame\n",
      "from sklearn.metrics import mean_squared_error\n",
      "from math import sqrt\n",
      "from IPython.core.display import HTML\n",
      "import brewer2mpl\n",
      "%matplotlib inline"
     ],
     "language": "python",
     "metadata": {},
     "outputs": [],
     "prompt_number": 59
    },
    {
     "cell_type": "code",
     "collapsed": false,
     "input": [
      "#Monthly data for past 30 years\n",
      "\n",
      "#Oil and Gold\n",
      "oilDataPath = 'https://raw.githubusercontent.com/Sree-vathsan/CSE591-Data-Science-Project/master/regressionModel/data/Monthly_30yr/CRUDE_OIL_WTI_US_ENERGY_Monthly_198601-201410.csv'\n",
      "goldDataPath = 'https://raw.githubusercontent.com/Sree-vathsan/CSE591-Data-Science-Project/master/regressionModel/data/Monthly_30yr/GOLD_Montly_198410_201410.csv'\n",
      "\n",
      "#CPI - Inflation Adjustment\n",
      "cpiDataPath = 'https://raw.githubusercontent.com/Sree-vathsan/CSE591-Data-Science-Project/master/regressionModel/data/Monthly_30yr/CPI_USA_Monthly_198410_201410.csv'\n"
     ],
     "language": "python",
     "metadata": {},
     "outputs": [],
     "prompt_number": 60
    },
    {
     "cell_type": "code",
     "collapsed": false,
     "input": [
      "#Inflation Adjusted\n",
      "def adjustForInflation(quantity):\n",
      "    return quantity * (dfCpi['CPI'][0]/dfCpi['CPI']) "
     ],
     "language": "python",
     "metadata": {},
     "outputs": [],
     "prompt_number": 61
    },
    {
     "cell_type": "heading",
     "level": 3,
     "metadata": {},
     "source": [
      "Input: Select Oil or Gold (0 - Oil and 1 - Gold)"
     ]
    },
    {
     "cell_type": "code",
     "collapsed": false,
     "input": [
      "choice = 1\n",
      "candidatesList = ['Oil_Value', 'Gold_Value']\n",
      "kMonths = 3"
     ],
     "language": "python",
     "metadata": {},
     "outputs": [],
     "prompt_number": 62
    },
    {
     "cell_type": "code",
     "collapsed": false,
     "input": [
      "#Read CSV to pandas data frame\n",
      "if choice == 0:\n",
      "    dfMaster = pd.read_csv(oilDataPath)\n",
      "else:\n",
      "    dfMaster = pd.read_csv(goldDataPath)\n",
      "dfCpi = pd.read_csv(cpiDataPath)\n",
      "\n",
      "#Adjust to Inflation\n",
      "dfMaster[candidatesList[choice]] = adjustForInflation(dfMaster[candidatesList[choice]])"
     ],
     "language": "python",
     "metadata": {},
     "outputs": [],
     "prompt_number": 63
    },
    {
     "cell_type": "code",
     "collapsed": false,
     "input": [
      "#slice only last 9 years for testing\n",
      "dfMaster = dfMaster[:107]\n",
      "dfMaster.head()"
     ],
     "language": "python",
     "metadata": {},
     "outputs": [
      {
       "html": [
        "<div style=\"max-height:1000px;max-width:1500px;overflow:auto;\">\n",
        "<table border=\"1\" class=\"dataframe\">\n",
        "  <thead>\n",
        "    <tr style=\"text-align: right;\">\n",
        "      <th></th>\n",
        "      <th>Date</th>\n",
        "      <th>Gold_Value</th>\n",
        "    </tr>\n",
        "  </thead>\n",
        "  <tbody>\n",
        "    <tr>\n",
        "      <th>0</th>\n",
        "      <td> 11/30/2014</td>\n",
        "      <td> 1182.800000</td>\n",
        "    </tr>\n",
        "    <tr>\n",
        "      <th>1</th>\n",
        "      <td> 10/31/2014</td>\n",
        "      <td> 1164.300000</td>\n",
        "    </tr>\n",
        "    <tr>\n",
        "      <th>2</th>\n",
        "      <td>  9/30/2014</td>\n",
        "      <td> 1213.443814</td>\n",
        "    </tr>\n",
        "    <tr>\n",
        "      <th>3</th>\n",
        "      <td>  8/31/2014</td>\n",
        "      <td> 1283.534935</td>\n",
        "    </tr>\n",
        "    <tr>\n",
        "      <th>4</th>\n",
        "      <td>  7/31/2014</td>\n",
        "      <td> 1280.892486</td>\n",
        "    </tr>\n",
        "  </tbody>\n",
        "</table>\n",
        "</div>"
       ],
       "metadata": {},
       "output_type": "pyout",
       "prompt_number": 64,
       "text": [
        "         Date   Gold_Value\n",
        "0  11/30/2014  1182.800000\n",
        "1  10/31/2014  1164.300000\n",
        "2   9/30/2014  1213.443814\n",
        "3   8/31/2014  1283.534935\n",
        "4   7/31/2014  1280.892486"
       ]
      }
     ],
     "prompt_number": 64
    },
    {
     "cell_type": "code",
     "collapsed": false,
     "input": [
      "#Naming the model\n",
      "def getModelName(modelNo):\n",
      "    if modelNo == \"0.0\":\n",
      "        return \"Price remains constant as last month\"\n",
      "    elif modelNo == \"0.1\":\n",
      "        return \"Price is average of last\" +str(kMonths)+ \" months\"\n",
      "    elif modelNo == \"0.2\":\n",
      "        return \"Price is calculated using a autoregressive model where the co-efficients are determined using PSO swarm algorithm.\"\n",
      "    elif modelNo == \"0.3\":\n",
      "        return \"Weighted Average of the last \"+str(kMonths)+\" months. Weight of the ith month in the history is (\"+str(kMonths)+\"-i+1)\"\n",
      "    elif modelNo == \"0.4\":\n",
      "        return \"Cubic Weighted Average of the last \"+str(kMonths)+\" months. Weight of the ith month in the history is (\"+str(kMonths)+\"-i+1)^3\"\n",
      "    else:\n",
      "        return \"New Baseline Model, Yet to be defined\""
     ],
     "language": "python",
     "metadata": {},
     "outputs": [],
     "prompt_number": 65
    },
    {
     "cell_type": "code",
     "collapsed": false,
     "input": [
      "#Model\n",
      "def performPrediction(y,modelNo,k):\n",
      "    n = len(y)\n",
      "    pred_y = np.copy(y)\n",
      "    if modelNo == \"0.0\":\n",
      "        print (\"Model 0.0\")\n",
      "        for i in range(0,n,1):\n",
      "            if(i<n-k):\n",
      "                pred_y[i]=y[i+1]\n",
      "            else:\n",
      "                pred_y[i]=y[i]\n",
      "    elif modelNo == \"0.1\":\n",
      "        print (\"Model 0.1\")\n",
      "        for i in range(0,n,1):\n",
      "            if (i<n-k):\n",
      "                pred_y[i]=0\n",
      "                for j in range(1,k+1,1):\n",
      "                    pred_y[i]=pred_y[i] + y[i+j]\n",
      "                pred_y[i]=pred_y[i]/k\n",
      "            else:\n",
      "                pred_y[i] = y[i]\n",
      "    elif modelNo == \"0.2\":\n",
      "        print (\"Model 0.2\")\n",
      "        for i in range(0,n,1):\n",
      "            if (i<n-k):\n",
      "                pred_y[i] = 0.976*y[i+1] + 0.01373*y[i+2] + 0.1157\n",
      "            else:\n",
      "                pred_y[i] = y[i]\n",
      "    elif modelNo == \"0.3\":\n",
      "        print (\"Model 0.3\")\n",
      "        for i in range(0,n,1):\n",
      "            if(i<n-k):\n",
      "                pred_y[i]=0\n",
      "                for j in range(1,k+1,1):\n",
      "                    pred_y[i]=pred_y[i]+(y[i+j]*(k-j+1))\n",
      "                pred_y[i]=(2*pred_y[i])/(k*(k+1))\n",
      "            else:\n",
      "                pred_y[i]=y[i]\n",
      "    elif modelNo == \"0.4\":\n",
      "        print (\"Model 0.4\")\n",
      "        cubic = (k*(k+1))/2\n",
      "        cubic = cubic**2\n",
      "        for i in range(0,n,1):\n",
      "            if(i<n-k):\n",
      "                pred_y[i]=0\n",
      "                for j in range(1,k+1,1):\n",
      "                    factor=k-j+1\n",
      "                    factor=factor**3\n",
      "                    pred_y[i]=pred_y[i]+(y[i+j]*factor)\n",
      "                pred_y[i]=((pred_y[i])/cubic)\n",
      "            else:\n",
      "                pred_y[i]=y[i]\n",
      "    else:\n",
      "        print (\"Wrong Model\")\n",
      "    return pred_y"
     ],
     "language": "python",
     "metadata": {},
     "outputs": [],
     "prompt_number": 66
    },
    {
     "cell_type": "heading",
     "level": 3,
     "metadata": {},
     "source": [
      "Histogram Error Plot"
     ]
    },
    {
     "cell_type": "code",
     "collapsed": false,
     "input": [
      "#Plot the error histogram\n",
      "colors = brewer2mpl.get_map('Set1', 'qualitative', 8).mpl_colors\n",
      "def plotErrorHistogram(error,nBins,modelName):\n",
      "    fig, axes = ppl.subplots(1, 1, figsize=(9,6))\n",
      "    ppl.hist(error, bins=nBins, color=colors[1], grid='y')\n",
      "    axes.set_ylabel('Error Frequency')\n",
      "    axes.set_xlabel('Error')\n",
      "    axes.set_title(modelName)\n",
      "    plt.savefig(modelName+'.png')"
     ],
     "language": "python",
     "metadata": {},
     "outputs": [],
     "prompt_number": 67
    },
    {
     "cell_type": "heading",
     "level": 3,
     "metadata": {},
     "source": [
      "Compute Errors"
     ]
    },
    {
     "cell_type": "code",
     "collapsed": false,
     "input": [
      "#Error Correction\n",
      "def computeErrorCorrectionFactor(pred,yActual):\n",
      "    err_corr = (np.mean((pred - yActual)))\n",
      "    return err_corr\n",
      "\n",
      "def computeCorrectedMean(newPredy,yActual):\n",
      "    return np.mean((newPredy - yActual))\n",
      "\n",
      "def computeCorrectedSD(newPredy,yActual):\n",
      "    return round(np.std((newPredy-yActual)/yActual),5)\n",
      "\n",
      "def computeNewPrediction(pred,errCorrection):\n",
      "    newPredy = pred - errCorrection\n",
      "    #print(\"Mean is \" + str(computeCorrectedMean(new_pred,actual)))\n",
      "    #print(\"Standard Deviation is \" + str(computeCorrectedSD(new_pred,actual)))\n",
      "    return newPredy\n",
      "\n",
      "def computeRelativeError(newPredy, yActual):\n",
      "    errRel = 100*(np.absolute(newPredy - yActual)/yActual)\n",
      "    return errRel\n",
      "\n",
      "def computeMeanSquareError(newPredy, yActual):\n",
      "    errMSE = mean_squared_error(yActual,newPredy)\n",
      "    return round(errMSE,2)\n",
      "\n",
      "def computerRMSError(newPredy, yActual):\n",
      "    errRMSe = sqrt(mean_squared_error(yActual,newPredy))\n",
      "    return round(errRMSe,2)\n",
      "\n",
      "def computeAbsoluteError(newPredy, yActual):\n",
      "    return np.absolute(newPredy - yActual)\n",
      "\n",
      "def computeProbability(newPredy,yActual, newSD):\n",
      "    pos = 0\n",
      "    for i in range(0,len(newPredy)):\n",
      "        if(np.absolute((newPredy[i]-yActual[i])/yActual[i]) <= np.absolute(newSD)):\n",
      "            pos += 1\n",
      "    conf = round((1. * pos/len(newPredy) ),5)\n",
      "    return conf\n",
      "\n",
      "def computeCumProbDistro(yPred,yTest):\n",
      "    print(\"Cumulative Probability Distribution\")\n",
      "    err = yPred - yTest\n",
      "    errPercent = np.absolute(err / yTest)\n",
      "    probArr = []\n",
      "    xArr = []\n",
      "    for i in arange(0,1,0.05):\n",
      "        xArr.append(i)\n",
      "        ctr = 0\n",
      "        prob = 0\n",
      "        for j in arange(0,len(errPercent),1):\n",
      "            if(errPercent[j] < i):\n",
      "                ctr = ctr + 1\n",
      "        prob = ctr * 1. / len(errPercent)\n",
      "        #print(prob)\n",
      "        probArr.append(prob)\n",
      "    print(xArr)\n",
      "    print(probArr)\n",
      "    return xArr,probArr\n",
      "\n",
      "def computeCumProb(yPred, yTest, modelNo):\n",
      "    xArr, probArr = computeCumProbDistro(yPred,yTest)\n",
      "    width = 0.01\n",
      "    fig, ax = plt.subplots()\n",
      "    fig.set_size_inches(6,6)\n",
      "    ax.set_xlabel('Error Percentage')\n",
      "    ax.set_ylabel('Cummulative Probability')\n",
      "    ax.set_title('Cummulative Probability Distribution of Error Percentages of this model')\n",
      "    rects1 = ax.bar(xArr, probArr, width, color='b')\n",
      "    savefig(modelNo+\".png\")\n",
      "    \n",
      "def computeErrors(yPred, yActual,modelNo):\n",
      "    errCorr = computeErrorCorrectionFactor(yPred,yActual)\n",
      "    newPredy = computeNewPrediction(yPred,errCorr)\n",
      "    newMean = computeCorrectedMean(newPredy,yActual)\n",
      "    newSD = computeCorrectedSD(newPredy, yActual)\n",
      "    errRel = computeRelativeError(newPredy, yActual)\n",
      "    errRMS = computerRMSError(newPredy, yActual)\n",
      "    errAbs = computeAbsoluteError(newPredy, yActual)\n",
      "    errMSE = computeMeanSquareError(newPredy, yActual)\n",
      "    prob = computeProbability(newPredy,yActual,newSD)\n",
      "    #Mean Computations\n",
      "    meanErrRel = np.mean(errRel)\n",
      "    meanErrRel = round(meanErrRel,2)\n",
      "    meanErrAbs = np.mean(errAbs)\n",
      "    meanErrAbs = round(meanErrAbs,2)\n",
      "    \n",
      "    #plot \n",
      "    computeCumProb(yPred, yActual, modelNo)\n",
      "    #Plot Relative Error Distributions\n",
      "    #Uncomment the below line during the report\n",
      "    #plotErrorHistogram(((newPredy-yActual)/yActual),15,getModelName(modelNo))\n",
      "    \n",
      "    dfErr = DataFrame(data=None, columns=['Model','Mean Relative Error', 'Mean Absolute Error', \\\n",
      "                                         'RMS Error', 'MSE', 'Standard Deviation', 'Probability'])\n",
      "    dfErr.loc[0,'Model'] = getModelName(modelNo)\n",
      "    dfErr.loc[0,'Mean Relative Error'] = meanErrRel\n",
      "    dfErr.loc[0,'Mean Absolute Error'] = meanErrAbs\n",
      "    dfErr.loc[0,'RMS Error'] = errRMS\n",
      "    dfErr.loc[0,'MSE'] = errMSE\n",
      "    dfErr.loc[0,'Standard Deviation'] = newSD\n",
      "    dfErr.loc[0,'Probability'] = prob\n",
      "    \n",
      "    return dfErr"
     ],
     "language": "python",
     "metadata": {},
     "outputs": [],
     "prompt_number": 68
    },
    {
     "cell_type": "heading",
     "level": 3,
     "metadata": {},
     "source": [
      "Baseline Models"
     ]
    },
    {
     "cell_type": "code",
     "collapsed": false,
     "input": [
      "def baselineModel(modelNo):\n",
      "    x = dfMaster['Date']\n",
      "    yActual = np.array(dfMaster[candidatesList[choice]])\n",
      "    yPred = performPrediction(yActual,modelNo,kMonths)\n",
      "    yPredNew = predictNextMonth(yActual, modelNo)\n",
      "    print(\"The predicted value for next month is \"+str(yPredNew[0]))\n",
      "    return computeErrors(yPred, yActual,modelNo)"
     ],
     "language": "python",
     "metadata": {},
     "outputs": [],
     "prompt_number": 69
    },
    {
     "cell_type": "heading",
     "level": 3,
     "metadata": {},
     "source": [
      "Predicting Next Month Price"
     ]
    },
    {
     "cell_type": "code",
     "collapsed": false,
     "input": [
      "def computePrediction(yPredNew, modelNo, k):\n",
      "    if modelNo == \"0.0\":\n",
      "        yPredNew[0] = yPredNew[1]\n",
      "    elif modelNo == \"0.1\":\n",
      "        sumi = 0.\n",
      "        for i in range(1,k+1,1):\n",
      "            sumi = sumi + yPredNew[i]\n",
      "        yPredNew[0] = round(sumi/k,2)\n",
      "    elif modelNo == \"0.2\":\n",
      "        yPredNew[0] = 0.976*yPredNew[1] + 0.01373*yPredNew[2] + 0.1157\n",
      "    elif modelNo == \"0.3\":\n",
      "        wsum = 0.\n",
      "        for i in range(0,k+1,1):\n",
      "            wsum = wsum + (yPredNew[i+1] * (k-i))\n",
      "        denom = (k*(k+1))/2\n",
      "        yPredNew[0] = round(wsum/denom,2)\n",
      "    elif modelNo == \"0.4\":\n",
      "        csum = 0.\n",
      "        for i in range(0,k+1,1):\n",
      "            factor = (k-i) ** 3\n",
      "            csum = csum + (yPredNew[i+1] * factor)\n",
      "        denom = (k*(k+1))/2\n",
      "        denom = denom ** 2\n",
      "        yPredNew[0] = round(csum/denom,2)\n",
      "    return yPredNew\n",
      "\n",
      "def predictNextMonth(yActual, modelNo):\n",
      "    yPredNew = np.copy(yActual)\n",
      "    yPredNew = np.insert(yPredNew,0,0)\n",
      "    #compute for current month\n",
      "    yPredNew = computePrediction(yPredNew, modelNo, kMonths)\n",
      "    yPredNew = np.insert(yPredNew,0,0)\n",
      "    #compute for next month\n",
      "    yPredNew = computePrediction(yPredNew, modelNo, kMonths)    \n",
      "    return yPredNew\n"
     ],
     "language": "python",
     "metadata": {},
     "outputs": [],
     "prompt_number": 70
    },
    {
     "cell_type": "heading",
     "level": 3,
     "metadata": {},
     "source": [
      "Run the model"
     ]
    },
    {
     "cell_type": "code",
     "collapsed": false,
     "input": [
      "#a1,a2,a3,a4,a5,a6 = baselineModel('0.0')\n",
      "baselineModel('0.0')"
     ],
     "language": "python",
     "metadata": {},
     "outputs": [
      {
       "output_type": "stream",
       "stream": "stdout",
       "text": [
        "Model 0.0\n",
        "The predicted value for next month is 1182.8\n",
        "Cumulative Probability Distribution\n",
        "[0.0, 0.050000000000000003, 0.10000000000000001, 0.15000000000000002, 0.20000000000000001, 0.25, 0.30000000000000004, 0.35000000000000003, 0.40000000000000002, 0.45000000000000001, 0.5, 0.55000000000000004, 0.60000000000000009, 0.65000000000000002, 0.70000000000000007, 0.75, 0.80000000000000004, 0.85000000000000009, 0.90000000000000002, 0.95000000000000007]\n",
        "[0.0, 0.5794392523364486, 0.9158878504672897, 0.9813084112149533, 0.9906542056074766, 1.0, 1.0, 1.0, 1.0, 1.0, 1.0, 1.0, 1.0, 1.0, 1.0, 1.0, 1.0, 1.0, 1.0, 1.0]\n"
       ]
      },
      {
       "html": [
        "<div style=\"max-height:1000px;max-width:1500px;overflow:auto;\">\n",
        "<table border=\"1\" class=\"dataframe\">\n",
        "  <thead>\n",
        "    <tr style=\"text-align: right;\">\n",
        "      <th></th>\n",
        "      <th>Model</th>\n",
        "      <th>Mean Relative Error</th>\n",
        "      <th>Mean Absolute Error</th>\n",
        "      <th>RMS Error</th>\n",
        "      <th>MSE</th>\n",
        "      <th>Standard Deviation</th>\n",
        "      <th>Probability</th>\n",
        "    </tr>\n",
        "  </thead>\n",
        "  <tbody>\n",
        "    <tr>\n",
        "      <th>0</th>\n",
        "      <td> Price remains constant as last month</td>\n",
        "      <td> 4.61</td>\n",
        "      <td> 56.11</td>\n",
        "      <td> 75.36</td>\n",
        "      <td> 5678.6</td>\n",
        "      <td> 0.06038</td>\n",
        "      <td> 0.71963</td>\n",
        "    </tr>\n",
        "  </tbody>\n",
        "</table>\n",
        "</div>"
       ],
       "metadata": {},
       "output_type": "pyout",
       "prompt_number": 71,
       "text": [
        "                                  Model Mean Relative Error  \\\n",
        "0  Price remains constant as last month                4.61   \n",
        "\n",
        "  Mean Absolute Error RMS Error     MSE Standard Deviation Probability  \n",
        "0               56.11     75.36  5678.6            0.06038     0.71963  "
       ]
      },
      {
       "metadata": {},
       "output_type": "display_data",
       "png": "[encoded data removed]",
       "text": [
        "<matplotlib.figure.Figure at 0x97df4a8>"
       ]
      }
     ],
     "prompt_number": 71
    },
    {
     "cell_type": "code",
     "collapsed": false,
     "input": [
      "baselineModel('0.1')"
     ],
     "language": "python",
     "metadata": {},
     "outputs": [
      {
       "output_type": "stream",
       "stream": "stdout",
       "text": [
        "Model 0.1\n",
        "The predicted value for next month is 1177.98\n",
        "Cumulative Probability Distribution\n",
        "[0.0, 0.050000000000000003, 0.10000000000000001, 0.15000000000000002, 0.20000000000000001, 0.25, 0.30000000000000004, 0.35000000000000003, 0.40000000000000002, 0.45000000000000001, 0.5, 0.55000000000000004, 0.60000000000000009, 0.65000000000000002, 0.70000000000000007, 0.75, 0.80000000000000004, 0.85000000000000009, 0.90000000000000002, 0.95000000000000007]\n",
        "[0.0, 0.6074766355140186, 0.8785046728971962, 0.9813084112149533, 0.9906542056074766, 0.9906542056074766, 1.0, 1.0, 1.0, 1.0, 1.0, 1.0, 1.0, 1.0, 1.0, 1.0, 1.0, 1.0, 1.0, 1.0]\n"
       ]
      },
      {
       "html": [
        "<div style=\"max-height:1000px;max-width:1500px;overflow:auto;\">\n",
        "<table border=\"1\" class=\"dataframe\">\n",
        "  <thead>\n",
        "    <tr style=\"text-align: right;\">\n",
        "      <th></th>\n",
        "      <th>Model</th>\n",
        "      <th>Mean Relative Error</th>\n",
        "      <th>Mean Absolute Error</th>\n",
        "      <th>RMS Error</th>\n",
        "      <th>MSE</th>\n",
        "      <th>Standard Deviation</th>\n",
        "      <th>Probability</th>\n",
        "    </tr>\n",
        "  </thead>\n",
        "  <tbody>\n",
        "    <tr>\n",
        "      <th>0</th>\n",
        "      <td> Price is average of last3 months</td>\n",
        "      <td> 4.78</td>\n",
        "      <td> 58.6</td>\n",
        "      <td> 80.12</td>\n",
        "      <td> 6418.66</td>\n",
        "      <td> 0.0646</td>\n",
        "      <td> 0.71963</td>\n",
        "    </tr>\n",
        "  </tbody>\n",
        "</table>\n",
        "</div>"
       ],
       "metadata": {},
       "output_type": "pyout",
       "prompt_number": 72,
       "text": [
        "                              Model Mean Relative Error Mean Absolute Error  \\\n",
        "0  Price is average of last3 months                4.78                58.6   \n",
        "\n",
        "  RMS Error      MSE Standard Deviation Probability  \n",
        "0     80.12  6418.66             0.0646     0.71963  "
       ]
      },
      {
       "metadata": {},
       "output_type": "display_data",
       "png": "[encoded data removed]",
       "text": [
        "<matplotlib.figure.Figure at 0xbb04320>"
       ]
      }
     ],
     "prompt_number": 72
    },
    {
     "cell_type": "code",
     "collapsed": false,
     "input": [
      "baselineModel('0.2')"
     ],
     "language": "python",
     "metadata": {},
     "outputs": [
      {
       "output_type": "stream",
       "stream": "stdout",
       "text": [
        "Model 0.2\n",
        "The predicted value for next month is 1158.77753886\n",
        "Cumulative Probability Distribution\n",
        "[0.0, 0.050000000000000003, 0.10000000000000001, 0.15000000000000002, 0.20000000000000001, 0.25, 0.30000000000000004, 0.35000000000000003, 0.40000000000000002, 0.45000000000000001, 0.5, 0.55000000000000004, 0.60000000000000009, 0.65000000000000002, 0.70000000000000007, 0.75, 0.80000000000000004, 0.85000000000000009, 0.90000000000000002, 0.95000000000000007]\n",
        "[0.0, 0.6074766355140186, 0.897196261682243, 0.9813084112149533, 0.9906542056074766, 1.0, 1.0, 1.0, 1.0, 1.0, 1.0, 1.0, 1.0, 1.0, 1.0, 1.0, 1.0, 1.0, 1.0, 1.0]\n"
       ]
      },
      {
       "html": [
        "<div style=\"max-height:1000px;max-width:1500px;overflow:auto;\">\n",
        "<table border=\"1\" class=\"dataframe\">\n",
        "  <thead>\n",
        "    <tr style=\"text-align: right;\">\n",
        "      <th></th>\n",
        "      <th>Model</th>\n",
        "      <th>Mean Relative Error</th>\n",
        "      <th>Mean Absolute Error</th>\n",
        "      <th>RMS Error</th>\n",
        "      <th>MSE</th>\n",
        "      <th>Standard Deviation</th>\n",
        "      <th>Probability</th>\n",
        "    </tr>\n",
        "  </thead>\n",
        "  <tbody>\n",
        "    <tr>\n",
        "      <th>0</th>\n",
        "      <td> Price is calculated using a autoregressive mod...</td>\n",
        "      <td> 4.62</td>\n",
        "      <td> 56.12</td>\n",
        "      <td> 74.68</td>\n",
        "      <td> 5576.38</td>\n",
        "      <td> 0.05992</td>\n",
        "      <td> 0.72897</td>\n",
        "    </tr>\n",
        "  </tbody>\n",
        "</table>\n",
        "</div>"
       ],
       "metadata": {},
       "output_type": "pyout",
       "prompt_number": 73,
       "text": [
        "                                               Model Mean Relative Error  \\\n",
        "0  Price is calculated using a autoregressive mod...                4.62   \n",
        "\n",
        "  Mean Absolute Error RMS Error      MSE Standard Deviation Probability  \n",
        "0               56.12     74.68  5576.38            0.05992     0.72897  "
       ]
      },
      {
       "metadata": {},
       "output_type": "display_data",
       "png": "[encoded data removed]",
       "text": [
        "<matplotlib.figure.Figure at 0xb3f1cc0>"
       ]
      }
     ],
     "prompt_number": 73
    },
    {
     "cell_type": "code",
     "collapsed": false,
     "input": [
      "baselineModel('0.3')"
     ],
     "language": "python",
     "metadata": {},
     "outputs": [
      {
       "output_type": "stream",
       "stream": "stdout",
       "text": [
        "Model 0.3\n",
        "The predicted value for next month is 1179.19\n",
        "Cumulative Probability Distribution\n",
        "[0.0, 0.050000000000000003, 0.10000000000000001, 0.15000000000000002, 0.20000000000000001, 0.25, 0.30000000000000004, 0.35000000000000003, 0.40000000000000002, 0.45000000000000001, 0.5, 0.55000000000000004, 0.60000000000000009, 0.65000000000000002, 0.70000000000000007, 0.75, 0.80000000000000004, 0.85000000000000009, 0.90000000000000002, 0.95000000000000007]\n",
        "[0.0, 0.616822429906542, 0.9065420560747663, 0.9813084112149533, 0.9906542056074766, 1.0, 1.0, 1.0, 1.0, 1.0, 1.0, 1.0, 1.0, 1.0, 1.0, 1.0, 1.0, 1.0, 1.0, 1.0]\n"
       ]
      },
      {
       "html": [
        "<div style=\"max-height:1000px;max-width:1500px;overflow:auto;\">\n",
        "<table border=\"1\" class=\"dataframe\">\n",
        "  <thead>\n",
        "    <tr style=\"text-align: right;\">\n",
        "      <th></th>\n",
        "      <th>Model</th>\n",
        "      <th>Mean Relative Error</th>\n",
        "      <th>Mean Absolute Error</th>\n",
        "      <th>RMS Error</th>\n",
        "      <th>MSE</th>\n",
        "      <th>Standard Deviation</th>\n",
        "      <th>Probability</th>\n",
        "    </tr>\n",
        "  </thead>\n",
        "  <tbody>\n",
        "    <tr>\n",
        "      <th>0</th>\n",
        "      <td> Weighted Average of the last 3 months. Weight ...</td>\n",
        "      <td> 4.54</td>\n",
        "      <td> 55.68</td>\n",
        "      <td> 75.46</td>\n",
        "      <td> 5693.87</td>\n",
        "      <td> 0.06062</td>\n",
        "      <td> 0.72897</td>\n",
        "    </tr>\n",
        "  </tbody>\n",
        "</table>\n",
        "</div>"
       ],
       "metadata": {},
       "output_type": "pyout",
       "prompt_number": 74,
       "text": [
        "                                               Model Mean Relative Error  \\\n",
        "0  Weighted Average of the last 3 months. Weight ...                4.54   \n",
        "\n",
        "  Mean Absolute Error RMS Error      MSE Standard Deviation Probability  \n",
        "0               55.68     75.46  5693.87            0.06062     0.72897  "
       ]
      },
      {
       "metadata": {},
       "output_type": "display_data",
       "png": "[encoded data removed]",
       "text": [
        "<matplotlib.figure.Figure at 0x9758128>"
       ]
      }
     ],
     "prompt_number": 74
    },
    {
     "cell_type": "code",
     "collapsed": false,
     "input": [
      "baselineModel('0.4')"
     ],
     "language": "python",
     "metadata": {},
     "outputs": [
      {
       "output_type": "stream",
       "stream": "stdout",
       "text": [
        "Model 0.4\n",
        "The predicted value for next month is 1179.84\n",
        "Cumulative Probability Distribution\n",
        "[0.0, 0.050000000000000003, 0.10000000000000001, 0.15000000000000002, 0.20000000000000001, 0.25, 0.30000000000000004, 0.35000000000000003, 0.40000000000000002, 0.45000000000000001, 0.5, 0.55000000000000004, 0.60000000000000009, 0.65000000000000002, 0.70000000000000007, 0.75, 0.80000000000000004, 0.85000000000000009, 0.90000000000000002, 0.95000000000000007]\n",
        "[0.0, 0.5887850467289719, 0.9345794392523364, 0.9813084112149533, 0.9906542056074766, 1.0, 1.0, 1.0, 1.0, 1.0, 1.0, 1.0, 1.0, 1.0, 1.0, 1.0, 1.0, 1.0, 1.0, 1.0]\n"
       ]
      },
      {
       "html": [
        "<div style=\"max-height:1000px;max-width:1500px;overflow:auto;\">\n",
        "<table border=\"1\" class=\"dataframe\">\n",
        "  <thead>\n",
        "    <tr style=\"text-align: right;\">\n",
        "      <th></th>\n",
        "      <th>Model</th>\n",
        "      <th>Mean Relative Error</th>\n",
        "      <th>Mean Absolute Error</th>\n",
        "      <th>RMS Error</th>\n",
        "      <th>MSE</th>\n",
        "      <th>Standard Deviation</th>\n",
        "      <th>Probability</th>\n",
        "    </tr>\n",
        "  </thead>\n",
        "  <tbody>\n",
        "    <tr>\n",
        "      <th>0</th>\n",
        "      <td> Cubic Weighted Average of the last 3 months. W...</td>\n",
        "      <td> 4.56</td>\n",
        "      <td> 55.78</td>\n",
        "      <td> 73.27</td>\n",
        "      <td> 5369.18</td>\n",
        "      <td> 0.05869</td>\n",
        "      <td> 0.69159</td>\n",
        "    </tr>\n",
        "  </tbody>\n",
        "</table>\n",
        "</div>"
       ],
       "metadata": {},
       "output_type": "pyout",
       "prompt_number": 75,
       "text": [
        "                                               Model Mean Relative Error  \\\n",
        "0  Cubic Weighted Average of the last 3 months. W...                4.56   \n",
        "\n",
        "  Mean Absolute Error RMS Error      MSE Standard Deviation Probability  \n",
        "0               55.78     73.27  5369.18            0.05869     0.69159  "
       ]
      },
      {
       "metadata": {},
       "output_type": "display_data",
       "png": "[encoded data removed]",
       "text": [
        "<matplotlib.figure.Figure at 0xbfc36a0>"
       ]
      }
     ],
     "prompt_number": 75
    }
   ],
   "metadata": {}
  }
 ]
}
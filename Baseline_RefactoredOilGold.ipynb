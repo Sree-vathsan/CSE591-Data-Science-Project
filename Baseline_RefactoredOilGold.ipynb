{
 "metadata": {
  "name": "baseline_refactoredoilgold.ipynb"
 },
 "nbformat": 3,
 "nbformat_minor": 0,
 "worksheets": [
  {
   "cells": [
    {
     "cell_type": "markdown",
     "metadata": {},
     "source": [
      "#Baseline Model - Oil and Gold"
     ]
    },
    {
     "cell_type": "markdown",
     "metadata": {},
     "source": [
      "### Baseline Model \n",
      "* 0.0 - Price remains constant as last month\n",
      "* 0.1 - Price is average of last k days\n",
      "* 0.2 - Price is calculated using a autoregressive model where the co-efficients are determined using PSO swarm algorithm.\n",
      "* 0.3 - Weighted Average of the last k days. Weight of the ith day in the history is (k-i+1)\n",
      "* 0.4 - Weighted Average of the last k days. Weight of the ith day in the history is (k-i+1)^3\n"
     ]
    },
    {
     "cell_type": "code",
     "collapsed": false,
     "input": [
      "#Import needed library\n",
      "import numpy as np\n",
      "from __future__ import print_function\n",
      "import prettyplotlib as ppl\n",
      "import matplotlib as mpl\n",
      "import matplotlib.pyplot as plt\n",
      "import pandas as pd\n",
      "from pandas import Series, DataFrame\n",
      "from sklearn.metrics import mean_squared_error\n",
      "from math import sqrt\n",
      "from IPython.core.display import HTML\n",
      "%matplotlib inline"
     ],
     "language": "python",
     "metadata": {},
     "outputs": [],
     "prompt_number": 1
    },
    {
     "cell_type": "code",
     "collapsed": false,
     "input": [
      "#Monthly data for past 30 years\n",
      "\n",
      "#Oil and Gold\n",
      "oilDataPath = 'https://raw.githubusercontent.com/Sree-vathsan/CSE591-Data-Science-Project/master/regressionModel/data/Monthly_30yr/CRUDE_OIL_WTI_US_ENERGY_Monthly_198601-201410.csv'\n",
      "goldDataPath = 'https://raw.githubusercontent.com/Sree-vathsan/CSE591-Data-Science-Project/master/regressionModel/data/Monthly_30yr/GOLD_Montly_198410_201410.csv'\n",
      "\n",
      "#CPI - Inflation Adjustment\n",
      "cpiDataPath = 'https://raw.githubusercontent.com/Sree-vathsan/CSE591-Data-Science-Project/master/regressionModel/data/Monthly_30yr/CPI_USA_Monthly_198410_201410.csv'\n"
     ],
     "language": "python",
     "metadata": {},
     "outputs": [],
     "prompt_number": 9
    },
    {
     "cell_type": "code",
     "collapsed": false,
     "input": [
      "#Inflation Adjusted\n",
      "def adjustForInflation(quantity):\n",
      "    return quantity * (dfCpi['CPI'][0]/dfCpi['CPI']) "
     ],
     "language": "python",
     "metadata": {},
     "outputs": [],
     "prompt_number": 10
    },
    {
     "cell_type": "code",
     "collapsed": false,
     "input": [
      "#Read CSV to pandas data frame\n",
      "dfOil = pd.read_csv(oilDataPath)\n",
      "dfGold = pd.read_csv(goldDataPath)\n",
      "dfCpi = pd.read_csv(cpiDataPath)\n",
      "\n",
      "#Adjust to Inflation\n",
      "dfOil['Oil_Value'] = adjustForInflation(dfOil['Oil_Value'])\n",
      "dfGold['Gold_Value'] = adjustForInflation(dfGold['Gold_Value'])"
     ],
     "language": "python",
     "metadata": {},
     "outputs": [],
     "prompt_number": 11
    },
    {
     "cell_type": "code",
     "collapsed": false,
     "input": [
      "#Model\n",
      "def performPrediction(y,modelNo):\n",
      "    if modelNo == \"0.0\":\n",
      "        print (\"Model 0.0\")\n",
      "        for i in range(0,n,1):\n",
      "            if(i<n-k):\n",
      "                pred_y[i]=y[i+1]\n",
      "            else:\n",
      "                pred_y[i]=y[i]\n",
      "    elif modelNo == \"0.1\":\n",
      "        print (\"Model 0.1\")\n",
      "    elif modelNo == \"0.2\":\n",
      "        print (\"Model 0.2\")\n",
      "    elif modelNo == \"0.3\":\n",
      "        print (\"Model 0.3\")\n",
      "    elif modelNo == \"0.4\":\n",
      "        print (\"Model 0.4\")\n",
      "    else:\n",
      "        print (\"Wrong Model\")"
     ],
     "language": "python",
     "metadata": {},
     "outputs": [],
     "prompt_number": 17
    },
    {
     "cell_type": "code",
     "collapsed": false,
     "input": [
      "performPrediction(\"0.0\")"
     ],
     "language": "python",
     "metadata": {},
     "outputs": [
      {
       "output_type": "stream",
       "stream": "stdout",
       "text": [
        "0.0\n"
       ]
      }
     ],
     "prompt_number": 16
    }
   ],
   "metadata": {}
  }
 ]
}
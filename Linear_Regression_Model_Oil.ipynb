{
 "metadata": {
  "name": "linear_regression_model_oil.ipynb",
  "signature": "sha256:5a3c8a1be25942f7d70e8231c01a6055ab3da1b922c2e845b0bab5d0c2b59bb1"
 },
 "nbformat": 3,
 "nbformat_minor": 0,
 "worksheets": [
  {
   "cells": [
    {
     "cell_type": "code",
     "collapsed": false,
     "input": [
      "print(\"Linear Regression Model\")"
     ],
     "language": "python",
     "metadata": {},
     "outputs": [],
     "prompt_number": "*"
    },
    {
     "cell_type": "code",
     "collapsed": false,
     "input": [
      "#Needed Libraries\n",
      "%matplotlib inline\n",
      "import numpy as np\n",
      "import matplotlib as mpl\n",
      "import matplotlib.pyplot as plt\n",
      "import pandas as pd\n",
      "from pandas import Series, DataFrame\n",
      "from pandas import merge"
     ],
     "language": "python",
     "metadata": {},
     "outputs": [],
     "prompt_number": "*"
    },
    {
     "cell_type": "code",
     "collapsed": false,
     "input": [
      "#Input Variables\n",
      "oilDataPath = 'https://raw.githubusercontent.com/Sree-vathsan/CSE591-Data-Science-Project/master/regressionModel/data/CRUDE_OIL_WTI_US_ENERGY_Daily_1994-10-03_2014-09-30.csv'\n",
      "sp500DataPath = 'https://raw.githubusercontent.com/Sree-vathsan/CSE591-Data-Science-Project/master/regressionModel/data/YAHOO_SP500_INDEX_DAILY_1994-10-03_2014-09-30.csv'\n",
      "nyseDataPath = 'https://raw.githubusercontent.com/Sree-vathsan/CSE591-Data-Science-Project/master/regressionModel/data/YAHOO_NYSE_INDEX_DAILY_1994-10-03_2014-09-30.csv'\n",
      "usdIndexDataPath = 'https://raw.githubusercontent.com/Sree-vathsan/CSE591-Data-Science-Project/master/regressionModel/data/USD_Index_Daily_1994-10-03_2014-09-30.csv'\n",
      "trainingRatio = 0.6\n",
      "pRuns = 10 \n",
      "pThreshold = 0.4"
     ],
     "language": "python",
     "metadata": {},
     "outputs": [],
     "prompt_number": "*"
    },
    {
     "cell_type": "code",
     "collapsed": false,
     "input": [
      "def normalize(df,colName):\n",
      "    df[colName] = abs(df[colName] - df[colName].mean())*100 / (df[colName].max() - df[colName].min())\n",
      "    return df"
     ],
     "language": "python",
     "metadata": {},
     "outputs": [],
     "prompt_number": "*"
    },
    {
     "cell_type": "code",
     "collapsed": false,
     "input": [
      "#Source Data Loading\n",
      "\n",
      "dfOil = pd.read_csv(oilDataPath)\n",
      "dfSP500 = pd.read_csv(sp500DataPath)\n",
      "dfNyse = pd.read_csv(nyseDataPath)\n",
      "dfUsInd = pd.read_csv(usdIndexDataPath)"
     ],
     "language": "python",
     "metadata": {},
     "outputs": [],
     "prompt_number": "*"
    },
    {
     "cell_type": "code",
     "collapsed": false,
     "input": [
      "dfOil.head()"
     ],
     "language": "python",
     "metadata": {},
     "outputs": [],
     "prompt_number": "*"
    },
    {
     "cell_type": "code",
     "collapsed": false,
     "input": [
      "#Normalize\n",
      "\n",
      "dfSP500 = normalize(dfSP500, 'SP500_Value')\n",
      "dfNyse = normalize(dfNyse, 'NYSE_Value')\n",
      "dfUsInd = normalize(dfUsInd, 'USD_Value')\n",
      "dfOil = normalize(dfOil,'Oil_Value')\n",
      "dfOil.tail()"
     ],
     "language": "python",
     "metadata": {},
     "outputs": [],
     "prompt_number": "*"
    },
    {
     "cell_type": "code",
     "collapsed": false,
     "input": [
      "print (len(dfOil['Oil_Value']))\n",
      "\n",
      "def shiftOneBehind(dfOriginal,colNameSrc,colNameDst):\n",
      "    dfOneBehind = dfOriginal.copy()\n",
      "    #dfOneBehind = pd.DataFrame(data=None,columns=('Date',colNameDst))\n",
      "    dfOneBehind['Date'] = dfOriginal['Date']\n",
      "    for i in arange(0,len(dfOriginal['Date']),1):\n",
      "        if(i < len(dfOriginal['Date']) - 1):\n",
      "            dfOneBehind[colNameDst][i] = dfOriginal[colNameSrc][i+1]        \n",
      "        else:\n",
      "            dfOneBehind[colNameDst][i] = dfOriginal[colNameSrc][i]\n",
      "    return dfOneBehind\n",
      "\n",
      "#for i in arange(0,len(dfOil['Date']),1):\n",
      "#        if(i < len(dfOil['Date']) - 1):\n",
      "#            dfOilOneBehind['Oil_Value'][i] = dfOil['Oil_Value'][i+1]        \n",
      "#        else:\n",
      "#            dfOilOneBehind['Oil_Value'][i] = dfOil['Oil_Value'][i]\n",
      "dfOilOneBehind = pd.DataFrame(data=None,columns=('Date','Oil_Value'))\n",
      "dfOilOneBehind = shiftOneBehind(dfOil,'Oil_Value','Oil_Value')\n",
      "dfOilOneBehind.tail()"
     ],
     "language": "python",
     "metadata": {},
     "outputs": [],
     "prompt_number": "*"
    },
    {
     "cell_type": "code",
     "collapsed": false,
     "input": [
      "#dfSP500.head()\n",
      "dfSP500OneBehind = shiftOneBehind(dfSP500,'SP500_Value','SP500_Value')\n",
      "dfSP500OneBehind.tail()"
     ],
     "language": "python",
     "metadata": {},
     "outputs": [],
     "prompt_number": "*"
    },
    {
     "cell_type": "code",
     "collapsed": false,
     "input": [
      "dfNyseOneBehind = shiftOneBehind(dfNyse,'NYSE_Value','NYSE_Value')\n",
      "dfNyseOneBehind.tail()"
     ],
     "language": "python",
     "metadata": {},
     "outputs": [],
     "prompt_number": "*"
    },
    {
     "cell_type": "code",
     "collapsed": false,
     "input": [
      "dfUsIndOneBehind = shiftOneBehind(dfUsInd,'USD_Value','USD_Value')\n",
      "dfUsIndOneBehind.tail()"
     ],
     "language": "python",
     "metadata": {},
     "outputs": [],
     "prompt_number": "*"
    },
    {
     "cell_type": "code",
     "collapsed": false,
     "input": [
      "#dfMaster = merge(dfOil,dfOilOneBehind,on='Date',how='inner')\n",
      "dfMaster = merge(dfOilOneBehind,dfSP500OneBehind,on='Date',how='inner')\n",
      "dfMaster = merge(dfMaster,dfNyseOneBehind,on='Date',how='inner')\n",
      "dfMaster = merge(dfMaster,dfUsIndOneBehind,on='Date',how='inner')\n",
      "#dfMaster = merge(dfMaster,dfSP500,on='Date',how='inner')\n",
      "#dfMaster = merge(dfMaster,dfNyse,on='Date',how='inner')\n",
      "#dfMaster = merge(dfMaster,dfUsInd,on='Date',how='inner')"
     ],
     "language": "python",
     "metadata": {},
     "outputs": [],
     "prompt_number": "*"
    },
    {
     "cell_type": "code",
     "collapsed": false,
     "input": [
      "dfMaster.head()"
     ],
     "language": "python",
     "metadata": {},
     "outputs": [],
     "prompt_number": "*"
    },
    {
     "cell_type": "code",
     "collapsed": false,
     "input": [
      "#Corelation Heat Matrix\n",
      "\n",
      "def computeDataTableCorr(datatable, columnNames):\n",
      "    corrCandidates =  datatable[candidatesList]\n",
      "    return corrCandidates.corr()\n",
      "\n",
      "# Plotting correlation heat graph\n",
      "def displayCorrHeatGraph(cTable, title):\n",
      "    #_ = pd.scatter_matrix(corrTable, diagonal='kde', figsize=(10, 10))\n",
      "    plt.imshow(cTable, cmap='hot', interpolation='none')\n",
      "    plt.colorbar()\n",
      "    plt.xticks(range(len(cTable)), cTable.columns, rotation=90)\n",
      "    plt.yticks(range(len(cTable)), cTable.columns)\n",
      "    plt.title(title)\n",
      "    \n",
      "candidatesList = ['Oil_Value', 'SP500_Value',\t'NYSE_Value',\t 'USD_Value']\n",
      "corrTable = computeDataTableCorr(dfMaster,candidatesList)\n",
      "print(corrTable)\n",
      "displayCorrHeatGraph(corrTable,'Correlation Heat Matrix (Oil_Value,Oil_Retro_Value,SP500_Retro_Value,NYSE_Retro_Value,USD_Retro_Value)')"
     ],
     "language": "python",
     "metadata": {},
     "outputs": [],
     "prompt_number": "*"
    },
    {
     "cell_type": "code",
     "collapsed": false,
     "input": [
      "dfCorrOil = corrTable[:1]\n",
      "dfCorrOil"
     ],
     "language": "python",
     "metadata": {},
     "outputs": [],
     "prompt_number": "*"
    },
    {
     "cell_type": "markdown",
     "metadata": {},
     "source": [
      "### More the p-Value, lesser the significance"
     ]
    },
    {
     "cell_type": "code",
     "collapsed": false,
     "input": [
      "#pValue Test\n",
      "def shuffleAndCorr(df, orgCorr, runs=10, threshold=0.3, axis=0):     \n",
      "    df_sh = df.copy(deep=True)\n",
      "    success_count = 0\n",
      "    for _ in range(runs):\n",
      "        df_sh.apply(np.random.shuffle, axis=axis)\n",
      "        newCor = df_sh['Col1'].corr(df_sh['Col2'])\n",
      "        if (orgCorr < 0): orgCorr = orgCorr * -1\n",
      "        if (newCor < 0): newCor = newCor * -1\n",
      "        #print(newCor)\n",
      "        diff = abs(newCor - orgCorr)\n",
      "        #print(diff)\n",
      "        if (diff < threshold): success_count = success_count + 1\n",
      "    p = success_count / runs\n",
      "    return p\n",
      "\n",
      "dfpValue = pd.DataFrame(data=None,columns=candidatesList)\n",
      "pValue = []\n",
      "pValue.append(0)\n",
      "\n",
      "for i in range(1,len(candidatesList),1):\n",
      "    orgCorr = dfCorrOil[candidatesList[i]]\n",
      "    #print(orgCorr)\n",
      "    temp_df = pd.DataFrame({'Col1':dfMaster[candidatesList[0]], \\\n",
      "                                'Col2':dfMaster[candidatesList[i]]})\n",
      "    pValue.append(shuffleAndCorr(temp_df,np.float(orgCorr),pRuns,pThreshold))\n",
      "\n",
      "dfpValue.loc[0] = pValue\n",
      "dfpValue"
     ],
     "language": "python",
     "metadata": {},
     "outputs": [],
     "prompt_number": "*"
    },
    {
     "cell_type": "markdown",
     "metadata": {},
     "source": [
      "### As the pValues are all zeros, The factors does not correlates by chance."
     ]
    },
    {
     "cell_type": "markdown",
     "metadata": {},
     "source": [
      "##Model 1.0: Multiple Linear Regression"
     ]
    },
    {
     "cell_type": "code",
     "collapsed": false,
     "input": [
      "import statsmodels.api as sm"
     ],
     "language": "python",
     "metadata": {},
     "outputs": [],
     "prompt_number": "*"
    },
    {
     "cell_type": "code",
     "collapsed": false,
     "input": [
      "#Inputs, Train and Test Data preparation\n",
      "trainSize = np.floor(len(dfMaster['Date']) * trainingRatio) #80:20 ratio\n",
      "dfMasterTrain = dfMaster[len(dfMaster)-np.int(trainSize):len(dfMaster)]\n",
      "dfMasterTest = dfMaster[0:(len(dfMaster)-np.int(trainSize))-1]"
     ],
     "language": "python",
     "metadata": {},
     "outputs": [],
     "prompt_number": "*"
    },
    {
     "cell_type": "code",
     "collapsed": false,
     "input": [
      "xArrTrain = [ \\\n",
      "         #np.array(dfMasterTrain[candidatesList[0]]), \\\n",
      "         np.array(dfMasterTrain[candidatesList[1]]), \\\n",
      "         np.array(dfMasterTrain[candidatesList[2]]), \\\n",
      "         np.array(dfMasterTrain[candidatesList[3]]), \\\n",
      "         ]\n",
      "xArrTrain = np.array(xArrTrain)\n",
      "xArrTest = [ \\\n",
      "         #np.array(dfMasterTest[candidatesList[0]]), \\\n",
      "         np.array(dfMasterTest[candidatesList[1]]), \\\n",
      "         np.array(dfMasterTest[candidatesList[2]]), \\\n",
      "         np.array(dfMasterTest[candidatesList[3]]), \\\n",
      "         ]\n",
      "xArrTest = np.array(xArrTest)\n",
      "\n",
      "yArrTrain = np.array(dfMasterTrain[candidatesList[0]])\n",
      "yArrTest = np.array(dfMasterTest[candidatesList[0]])"
     ],
     "language": "python",
     "metadata": {},
     "outputs": [],
     "prompt_number": "*"
    },
    {
     "cell_type": "code",
     "collapsed": false,
     "input": [
      "def mvRegress(y, x):\n",
      "    ones = np.ones(len(x[0]))\n",
      "    X = sm.add_constant(np.column_stack((x[0], ones)))\n",
      "    for ele in x[1:]:\n",
      "        X = sm.add_constant(np.column_stack((ele, X)))\n",
      "    results = sm.OLS(y, X).fit()\n",
      "    return results\n",
      "\n",
      "def mvPredict(x,res):\n",
      "    ones = np.ones(len(x[0]))\n",
      "    X = sm.add_constant(np.column_stack((x[0], ones)))\n",
      "    for ele in x[1:]:\n",
      "        X = sm.add_constant(np.column_stack((ele, X)))\n",
      "    return res.predict(X)"
     ],
     "language": "python",
     "metadata": {},
     "outputs": [],
     "prompt_number": "*"
    },
    {
     "cell_type": "code",
     "collapsed": false,
     "input": [
      "res = mvRegress(yArrTrain, xArrTrain)"
     ],
     "language": "python",
     "metadata": {},
     "outputs": [],
     "prompt_number": "*"
    },
    {
     "cell_type": "code",
     "collapsed": false,
     "input": [
      "res.summary()"
     ],
     "language": "python",
     "metadata": {},
     "outputs": [],
     "prompt_number": "*"
    },
    {
     "cell_type": "code",
     "collapsed": false,
     "input": [
      "#res.params\n",
      "# estY = res.params[3] + (res.params[2] * xArrTest[0]) + (res.params[1] * xArrTest[1]) + (res.params[0] * xArrTest[2])\n",
      "yPred0 = mvPredict(xArrTest,res)\n",
      "#yPred0"
     ],
     "language": "python",
     "metadata": {},
     "outputs": [],
     "prompt_number": "*"
    },
    {
     "cell_type": "code",
     "collapsed": false,
     "input": [
      "#yArrTest"
     ],
     "language": "python",
     "metadata": {},
     "outputs": [],
     "prompt_number": "*"
    },
    {
     "cell_type": "code",
     "collapsed": false,
     "input": [
      "def futurePredictMLR(res,sp500,nyse,usdi):\n",
      "    return (res.params[3] + (res.params[2] * sp500) + (res.params[1] * nyse) + (res.params[0] * usdi))"
     ],
     "language": "python",
     "metadata": {},
     "outputs": [],
     "prompt_number": "*"
    },
    {
     "cell_type": "markdown",
     "metadata": {},
     "source": [
      "###Future Oil Price (By Model 1.0 - Multiple Linear Regression)\n",
      "####OP(i) = (3.69945988e+01) + ( (-6.24695329e-02) \\* sp500(i-1) ) + ( (1.82062382e-02) \\* nyse(i-1) ) + ( (-4.98367518e-01) \\* usdi(i-1) )"
     ]
    },
    {
     "cell_type": "markdown",
     "metadata": {},
     "source": [
      "##Model 1.1: Simple Autoregressive Model based on the last three day prices only."
     ]
    },
    {
     "cell_type": "code",
     "collapsed": false,
     "input": [
      "yArrTrain = np.array(dfMasterTrain[candidatesList[0]])\n",
      "yArrTest = np.array(dfMasterTest[candidatesList[0]])\n",
      "\n",
      "xArrTrain = [ \\\n",
      "         #np.array(dfMasterTrain[candidatesList[0]]), \\\n",
      "         np.array(dfMasterTrain[candidatesList[0]]), \\\n",
      "         np.array(dfMasterTrain[candidatesList[0]]), \\\n",
      "         np.array(dfMasterTrain[candidatesList[0]]), \\\n",
      "         ]\n",
      "xArrTrain = np.array(xArrTrain)\n",
      "#train is essentially the same as test!! \n",
      "\n",
      "xArrTest = [ \\\n",
      "         #np.array(dfMasterTest[candidatesList[0]]), \\\n",
      "         np.array(dfMasterTest[candidatesList[0]]), \\\n",
      "         np.array(dfMasterTest[candidatesList[0]]), \\\n",
      "         np.array(dfMasterTest[candidatesList[0]]), \\\n",
      "         ]\n",
      "xArrTest = np.array(xArrTest)\n",
      "\n",
      "\n",
      "\n",
      "\n",
      "#print (xArrTrain)            \n",
      "#print (xArrTrain)            \n",
      "#print(xArrTrain[0][])\n",
      "        "
     ],
     "language": "python",
     "metadata": {},
     "outputs": [],
     "prompt_number": "*"
    },
    {
     "cell_type": "code",
     "collapsed": false,
     "input": [
      "print (xArrTest)\n",
      "print (xArrTrain)\n",
      "#print (xArrTrain[0][5])\n",
      "n=len(xArrTrain[0])\n",
      "for i in range(0,3,1):\n",
      "    for j in range(0,n,1):\n",
      "        if(j<n-i-1):\n",
      "            xArrTrain[i][j]=xArrTrain[i][j+i+1]\n",
      "        else:\n",
      "            xArrTrain[i][j]=xArrTrain[i][n-1]\n",
      "            \n",
      "n=len(xArrTest[0])\n",
      "for i in range(0,3,1):\n",
      "    for j in range(0,n,1):\n",
      "        if(j<n-i-1):\n",
      "            xArrTest[i][j]=xArrTest[i][j+i+1]\n",
      "        else:\n",
      "            xArrTest[i][j]=xArrTest[i][n-1]   \n",
      "\n",
      "print (xArrTrain)\n",
      "print (xArrTest)\n"
     ],
     "language": "python",
     "metadata": {},
     "outputs": [],
     "prompt_number": "*"
    },
    {
     "cell_type": "code",
     "collapsed": false,
     "input": [
      "result = mvRegress(yArrTrain, xArrTrain)\n",
      "result.summary()\n",
      "yPred1 = mvPredict(xArrTest,result)\n",
      "tweak = np.empty(len(yPred1))\n",
      "tweak.fill(0.0402791209432)\n",
      "yPred1 = np.add(yPred1,tweak)\n",
      "print (result.params[3])\n",
      "print (result.params[2])\n",
      "print (result.params[1])\n",
      "print (result.params[0])"
     ],
     "language": "python",
     "metadata": {},
     "outputs": [],
     "prompt_number": "*"
    },
    {
     "cell_type": "markdown",
     "metadata": {},
     "source": [
      "# Time Series Analysis - Auto Regression Models\n",
      "## Model 1.2: Univariate Autogressive Processes (AR)"
     ]
    },
    {
     "cell_type": "markdown",
     "metadata": {},
     "source": [
      "## Model 1.3: Autogressive Moving-Average Processes (ARMA) and Kalman Filter"
     ]
    },
    {
     "cell_type": "markdown",
     "metadata": {},
     "source": [
      "## Model 1.4: Vector Autogressive Processes (VAR)"
     ]
    },
    {
     "cell_type": "markdown",
     "metadata": {},
     "source": [
      "### Error Metrics"
     ]
    },
    {
     "cell_type": "code",
     "collapsed": false,
     "input": [
      "from sklearn.metrics import mean_squared_error"
     ],
     "language": "python",
     "metadata": {},
     "outputs": [],
     "prompt_number": "*"
    },
    {
     "cell_type": "code",
     "collapsed": false,
     "input": [
      "errVar_y0 = 100 * (np.absolute(yPred0 - yArrTest) / yArrTest)\n",
      "errRMS_y0 = np.sqrt(mean_squared_error(yArrTest,yPred0))\n",
      "errABS_y0= np.absolute(yPred0-yArrTest)\n",
      "\n",
      "errVar_y1 = 100 * (np.absolute(yPred1 - yArrTest) / yArrTest)\n",
      "errRMS_y1 = np.sqrt(mean_squared_error(yArrTest,yPred1))\n",
      "errABS_y1= np.absolute(yPred1-yArrTest)\n",
      "\n",
      "err_y1 = yPred1 - yArrTest\n",
      "print np.mean(err_y1)\n",
      "\n",
      "\n",
      "fig, axes = plt.subplots(1, 1, figsize=(12,4))\n",
      "axes.hist(err_y1, color='g', bins=120)\n",
      "axes.set_ylabel('Error Frequency')\n",
      "axes.set_xlabel('Error')\n",
      "axes.set_title(\"Error Variations Model-0.0\")"
     ],
     "language": "python",
     "metadata": {},
     "outputs": [],
     "prompt_number": "*"
    },
    {
     "cell_type": "code",
     "collapsed": false,
     "input": [
      "dfErr = pd.DataFrame(data=None, columns=['Model','Minimum % Error','Maximum % Error', 'RMSE Error', 'Mean Absolute Error','Mean Percentage Error'])\n",
      "dfErr['Model'] = ('Model 1.0','Model 1.1 (Simple Autoregressive)')\n",
      "dfErr['Minimum % Error'] = (min(errVar_y0),min(errVar_y1))\n",
      "dfErr['Maximum % Error'] = (max(errVar_y0),max(errVar_y1))\n",
      "dfErr['RMSE Error'] = (errRMS_y0,errRMS_y1)\n",
      "dfErr['Mean Absolute Error'] = (np.mean(errABS_y0),np.mean(errABS_y1))\n",
      "dfErr['Mean Percentage Error'] = (np.mean(errVar_y0),np.mean(errVar_y1))\n"
     ],
     "language": "python",
     "metadata": {},
     "outputs": [],
     "prompt_number": "*"
    },
    {
     "cell_type": "code",
     "collapsed": false,
     "input": [
      "dfErr"
     ],
     "language": "python",
     "metadata": {},
     "outputs": [],
     "prompt_number": "*"
    },
    {
     "cell_type": "code",
     "collapsed": false,
     "input": [
      "#Plot Error Histogram\n",
      "def plotErrHist(plotY,xAxesTitle,yAxesTitle,plotTitle,barColor,nBins):\n",
      "    fig, axes = plt.subplots(1, 1, figsize=(12,4))\n",
      "    axes.hist(plotY, color=barColor, bins=nBins)\n",
      "    axes.set_ylabel(yAxesTitle)\n",
      "    axes.set_xlabel(xAxesTitle)\n",
      "    axes.set_title(plotTitle)"
     ],
     "language": "python",
     "metadata": {},
     "outputs": [],
     "prompt_number": "*"
    },
    {
     "cell_type": "code",
     "collapsed": false,
     "input": [
      "plotErrHist((yPred1 - yArrTest),'Error','Error Frequency','Auto Regression','g',120)"
     ],
     "language": "python",
     "metadata": {},
     "outputs": [],
     "prompt_number": "*"
    },
    {
     "cell_type": "code",
     "collapsed": false,
     "input": [
      "plotErrHist((yPred0 - yArrTest),'Error','Error Frequency','MV Linear Regression','b',120)"
     ],
     "language": "python",
     "metadata": {},
     "outputs": [],
     "prompt_number": "*"
    }
   ],
   "metadata": {}
  }
 ]
}